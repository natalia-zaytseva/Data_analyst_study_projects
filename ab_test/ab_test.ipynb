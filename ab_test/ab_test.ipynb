{
 "cells": [
  {
   "cell_type": "markdown",
   "metadata": {
    "toc": true
   },
   "source": [
    "<h1>Содержание<span class=\"tocSkip\"></span></h1>\n",
    "<div class=\"toc\"><ul class=\"toc-item\"><li><span><a href=\"#Загрузка-данных-и-подготовка-их-к-анализу\" data-toc-modified-id=\"Загрузка-данных-и-подготовка-их-к-анализу-1\">Загрузка данных и подготовка их к анализу</a></span><ul class=\"toc-item\"><li><span><a href=\"#Таблица-с-гипотезами\" data-toc-modified-id=\"Таблица-с-гипотезами-1.1\">Таблица с гипотезами</a></span></li><li><span><a href=\"#Таблица-с-заказами\" data-toc-modified-id=\"Таблица-с-заказами-1.2\">Таблица с заказами</a></span></li><li><span><a href=\"#Таблица-с-посетителями\" data-toc-modified-id=\"Таблица-с-посетителями-1.3\">Таблица с посетителями</a></span></li></ul></li><li><span><a href=\"#Часть-1.-Приоритизация-гипотез\" data-toc-modified-id=\"Часть-1.-Приоритизация-гипотез-2\">Часть 1. Приоритизация гипотез</a></span><ul class=\"toc-item\"><li><span><a href=\"#ICE-Score\" data-toc-modified-id=\"ICE-Score-2.1\">ICE Score</a></span></li><li><span><a href=\"#RICE-Score\" data-toc-modified-id=\"RICE-Score-2.2\">RICE Score</a></span><ul class=\"toc-item\"><li><ul class=\"toc-item\"><li><span><a href=\"#Вывод\" data-toc-modified-id=\"Вывод-2.2.0.1\">Вывод</a></span></li></ul></li></ul></li></ul></li><li><span><a href=\"#Часть-2.-Анализ-результатов-A/B-теста\" data-toc-modified-id=\"Часть-2.-Анализ-результатов-A/B-теста-3\">Часть 2. Анализ результатов A/B-теста</a></span><ul class=\"toc-item\"><li><span><a href=\"#Исследовательский-анализ-&quot;сырых&quot;-данных\" data-toc-modified-id=\"Исследовательский-анализ-&quot;сырых&quot;-данных-3.1\">Исследовательский анализ \"сырых\" данных</a></span><ul class=\"toc-item\"><li><span><a href=\"#Кумулятивная-выручка\" data-toc-modified-id=\"Кумулятивная-выручка-3.1.1\">Кумулятивная выручка</a></span></li><li><span><a href=\"#Кумулятивный-средний-чек\" data-toc-modified-id=\"Кумулятивный-средний-чек-3.1.2\">Кумулятивный средний чек</a></span></li><li><span><a href=\"#Относительное-изменение-кумулятивного-среднего-чека\" data-toc-modified-id=\"Относительное-изменение-кумулятивного-среднего-чека-3.1.3\">Относительное изменение кумулятивного среднего чека</a></span></li><li><span><a href=\"#Кумулятивная-конверсия\" data-toc-modified-id=\"Кумулятивная-конверсия-3.1.4\">Кумулятивная конверсия</a></span></li><li><span><a href=\"#Относительное-изменение-кумулятивной-конверсии\" data-toc-modified-id=\"Относительное-изменение-кумулятивной-конверсии-3.1.5\">Относительное изменение кумулятивной конверсии</a></span><ul class=\"toc-item\"><li><span><a href=\"#Вывод\" data-toc-modified-id=\"Вывод-3.1.5.1\">Вывод</a></span></li></ul></li></ul></li><li><span><a href=\"#Анализ-&quot;выбросов&quot;\" data-toc-modified-id=\"Анализ-&quot;выбросов&quot;-3.2\">Анализ \"выбросов\"</a></span><ul class=\"toc-item\"><li><span><a href=\"#Количество-заказов-по-пользователям\" data-toc-modified-id=\"Количество-заказов-по-пользователям-3.2.1\">Количество заказов по пользователям</a></span></li><li><span><a href=\"#Граница-аномальных-пользователей\" data-toc-modified-id=\"Граница-аномальных-пользователей-3.2.2\">Граница аномальных пользователей</a></span></li><li><span><a href=\"#Стоимость-заказов\" data-toc-modified-id=\"Стоимость-заказов-3.2.3\">Стоимость заказов</a></span></li><li><span><a href=\"#Граница-аномальных-заказов\" data-toc-modified-id=\"Граница-аномальных-заказов-3.2.4\">Граница аномальных заказов</a></span><ul class=\"toc-item\"><li><span><a href=\"#Вывод\" data-toc-modified-id=\"Вывод-3.2.4.1\">Вывод</a></span></li></ul></li></ul></li><li><span><a href=\"#Статистический-анализ-&quot;сырых&quot;-данных\" data-toc-modified-id=\"Статистический-анализ-&quot;сырых&quot;-данных-3.3\">Статистический анализ \"сырых\" данных</a></span><ul class=\"toc-item\"><li><span><a href=\"#Статистическая-значимость-различий-в-конверсии\" data-toc-modified-id=\"Статистическая-значимость-различий-в-конверсии-3.3.1\">Статистическая значимость различий в конверсии</a></span></li><li><span><a href=\"#Статистическая-значимость-различий-в-среднем-чеке\" data-toc-modified-id=\"Статистическая-значимость-различий-в-среднем-чеке-3.3.2\">Статистическая значимость различий в среднем чеке</a></span><ul class=\"toc-item\"><li><span><a href=\"#Вывод\" data-toc-modified-id=\"Вывод-3.3.2.1\">Вывод</a></span></li></ul></li></ul></li><li><span><a href=\"#Исследовательский-анализ-&quot;очищенных&quot;-данных\" data-toc-modified-id=\"Исследовательский-анализ-&quot;очищенных&quot;-данных-3.4\">Исследовательский анализ \"очищенных\" данных</a></span><ul class=\"toc-item\"><li><span><a href=\"#Кумулятивная-выручка\" data-toc-modified-id=\"Кумулятивная-выручка-3.4.1\">Кумулятивная выручка</a></span></li><li><span><a href=\"#Кумулятивный-средний-чек\" data-toc-modified-id=\"Кумулятивный-средний-чек-3.4.2\">Кумулятивный средний чек</a></span></li><li><span><a href=\"#Относительное-изменение-кумулятивного-среднего-чека\" data-toc-modified-id=\"Относительное-изменение-кумулятивного-среднего-чека-3.4.3\">Относительное изменение кумулятивного среднего чека</a></span></li><li><span><a href=\"#Кумулятивная-конверсия\" data-toc-modified-id=\"Кумулятивная-конверсия-3.4.4\">Кумулятивная конверсия</a></span></li><li><span><a href=\"#Относительное-изменение-кумулятивной-конверсии\" data-toc-modified-id=\"Относительное-изменение-кумулятивной-конверсии-3.4.5\">Относительное изменение кумулятивной конверсии</a></span><ul class=\"toc-item\"><li><span><a href=\"#Вывод\" data-toc-modified-id=\"Вывод-3.4.5.1\">Вывод</a></span></li></ul></li></ul></li><li><span><a href=\"#Статистический-анализ-&quot;очищенных&quot;-данных\" data-toc-modified-id=\"Статистический-анализ-&quot;очищенных&quot;-данных-3.5\">Статистический анализ \"очищенных\" данных</a></span><ul class=\"toc-item\"><li><span><a href=\"#Статистическая-значимость-различий-в-конверсии\" data-toc-modified-id=\"Статистическая-значимость-различий-в-конверсии-3.5.1\">Статистическая значимость различий в конверсии</a></span></li><li><span><a href=\"#Статистическая-значимость-различий-в-среднем-чеке\" data-toc-modified-id=\"Статистическая-значимость-различий-в-среднем-чеке-3.5.2\">Статистическая значимость различий в среднем чеке</a></span><ul class=\"toc-item\"><li><span><a href=\"#Вывод\" data-toc-modified-id=\"Вывод-3.5.2.1\">Вывод</a></span></li></ul></li></ul></li><li><span><a href=\"#Выводы\" data-toc-modified-id=\"Выводы-3.6\">Выводы</a></span></li></ul></li></ul></div>"
   ]
  },
  {
   "cell_type": "markdown",
   "metadata": {},
   "source": [
    "# Проект: Проведение A/B-теста в интернет-магазине"
   ]
  },
  {
   "cell_type": "markdown",
   "metadata": {},
   "source": [
    "<b> Описание проекта </b> \n",
    "\n",
    "В крупном интернет-магазине планируются маркетинговые изменения с целью увеличения выручки. Имеются данные о 9-ти предложенных гипотезах увеличения выручки, необходимо выбрать самую приоритетную из них. Также имеются данные, собранные во время проведения A/B-тестирования, необходимо их проанализировать и понять, приведёт ли данное изменение к успеху.\n",
    "\n",
    "<b> Цель проекта: </b> \n",
    "1. Выбрать наиболее приоритетную гипотезу для проведения A/B-тестирования.\n",
    "2. Провести анализ результатов A/B-теста и на основании этого принять бизнес-решение. "
   ]
  },
  {
   "cell_type": "markdown",
   "metadata": {},
   "source": [
    "## Загрузка данных и подготовка их к анализу"
   ]
  },
  {
   "cell_type": "markdown",
   "metadata": {},
   "source": [
    "Импортируем необходимые библиотеки и устаналиваем нужные опции."
   ]
  },
  {
   "cell_type": "code",
   "execution_count": 1,
   "metadata": {},
   "outputs": [],
   "source": [
    "import pandas as pd\n",
    "import numpy as np\n",
    "import matplotlib.pyplot as plt\n",
    "import datetime as dt\n",
    "from scipy import stats as st\n",
    "from scipy.stats import chi2_contingency\n",
    "\n",
    "pd.set_option('max_rows', 20)\n",
    "pd.set_option('display.max_colwidth', None)"
   ]
  },
  {
   "cell_type": "markdown",
   "metadata": {},
   "source": [
    "Загружаем файлы с данными."
   ]
  },
  {
   "cell_type": "code",
   "execution_count": 2,
   "metadata": {},
   "outputs": [],
   "source": [
    "df = pd.read_csv('C:\\\\Users\\\\Natalia\\\\Jupyter\\\\hypothesis.csv') # таблица с гипотезами\n",
    "orders = pd.read_csv('C:\\\\Users\\\\Natalia\\\\Jupyter\\\\orders.csv') \n",
    "visitors = pd.read_csv('C:\\\\Users\\\\Natalia\\\\Jupyter\\\\visitors.csv') "
   ]
  },
  {
   "cell_type": "markdown",
   "metadata": {},
   "source": [
    "Напишем функцию для первичного ознакомления с таблицами."
   ]
  },
  {
   "cell_type": "code",
   "execution_count": 3,
   "metadata": {},
   "outputs": [],
   "source": [
    "def explore(df):\n",
    "    \n",
    "    display(df.sample(5))\n",
    "    \n",
    "    # на случай, если будут заглавные буквы в названиях\n",
    "    df.columns = df.columns.str.lower() \n",
    "    print()\n",
    "    \n",
    "    print('Информация о таблице')\n",
    "    df.info()\n",
    "    \n",
    "    print()\n",
    "    print('Количество дубликатов: {}'.format(df.duplicated().sum()))"
   ]
  },
  {
   "cell_type": "markdown",
   "metadata": {},
   "source": [
    "Переходим к изучению таблиц."
   ]
  },
  {
   "cell_type": "markdown",
   "metadata": {},
   "source": [
    "### Таблица с гипотезами"
   ]
  },
  {
   "cell_type": "code",
   "execution_count": 4,
   "metadata": {},
   "outputs": [
    {
     "data": {
      "text/html": [
       "<div>\n",
       "<style scoped>\n",
       "    .dataframe tbody tr th:only-of-type {\n",
       "        vertical-align: middle;\n",
       "    }\n",
       "\n",
       "    .dataframe tbody tr th {\n",
       "        vertical-align: top;\n",
       "    }\n",
       "\n",
       "    .dataframe thead th {\n",
       "        text-align: right;\n",
       "    }\n",
       "</style>\n",
       "<table border=\"1\" class=\"dataframe\">\n",
       "  <thead>\n",
       "    <tr style=\"text-align: right;\">\n",
       "      <th></th>\n",
       "      <th>Hypothesis</th>\n",
       "      <th>Reach</th>\n",
       "      <th>Impact</th>\n",
       "      <th>Confidence</th>\n",
       "      <th>Efforts</th>\n",
       "    </tr>\n",
       "  </thead>\n",
       "  <tbody>\n",
       "    <tr>\n",
       "      <th>5</th>\n",
       "      <td>Добавить страницу отзывов клиентов о магазине, что позволит увеличить количество заказов</td>\n",
       "      <td>3</td>\n",
       "      <td>2</td>\n",
       "      <td>2</td>\n",
       "      <td>3</td>\n",
       "    </tr>\n",
       "    <tr>\n",
       "      <th>1</th>\n",
       "      <td>Запустить собственную службу доставки, что сократит срок доставки заказов</td>\n",
       "      <td>2</td>\n",
       "      <td>5</td>\n",
       "      <td>4</td>\n",
       "      <td>10</td>\n",
       "    </tr>\n",
       "    <tr>\n",
       "      <th>4</th>\n",
       "      <td>Изменить цвет фона главной страницы, чтобы увеличить вовлеченность пользователей</td>\n",
       "      <td>3</td>\n",
       "      <td>1</td>\n",
       "      <td>1</td>\n",
       "      <td>1</td>\n",
       "    </tr>\n",
       "    <tr>\n",
       "      <th>3</th>\n",
       "      <td>Изменить структура категорий, что увеличит конверсию, т.к. пользователи быстрее найдут нужный товар</td>\n",
       "      <td>8</td>\n",
       "      <td>3</td>\n",
       "      <td>3</td>\n",
       "      <td>8</td>\n",
       "    </tr>\n",
       "    <tr>\n",
       "      <th>0</th>\n",
       "      <td>Добавить два новых канала привлечения трафика, что позволит привлекать на 30% больше пользователей</td>\n",
       "      <td>3</td>\n",
       "      <td>10</td>\n",
       "      <td>8</td>\n",
       "      <td>6</td>\n",
       "    </tr>\n",
       "  </tbody>\n",
       "</table>\n",
       "</div>"
      ],
      "text/plain": [
       "                                                                                            Hypothesis  \\\n",
       "5             Добавить страницу отзывов клиентов о магазине, что позволит увеличить количество заказов   \n",
       "1                            Запустить собственную службу доставки, что сократит срок доставки заказов   \n",
       "4                     Изменить цвет фона главной страницы, чтобы увеличить вовлеченность пользователей   \n",
       "3  Изменить структура категорий, что увеличит конверсию, т.к. пользователи быстрее найдут нужный товар   \n",
       "0   Добавить два новых канала привлечения трафика, что позволит привлекать на 30% больше пользователей   \n",
       "\n",
       "   Reach  Impact  Confidence  Efforts  \n",
       "5      3       2           2        3  \n",
       "1      2       5           4       10  \n",
       "4      3       1           1        1  \n",
       "3      8       3           3        8  \n",
       "0      3      10           8        6  "
      ]
     },
     "metadata": {},
     "output_type": "display_data"
    },
    {
     "name": "stdout",
     "output_type": "stream",
     "text": [
      "\n",
      "Информация о таблице\n",
      "<class 'pandas.core.frame.DataFrame'>\n",
      "RangeIndex: 9 entries, 0 to 8\n",
      "Data columns (total 5 columns):\n",
      " #   Column      Non-Null Count  Dtype \n",
      "---  ------      --------------  ----- \n",
      " 0   hypothesis  9 non-null      object\n",
      " 1   reach       9 non-null      int64 \n",
      " 2   impact      9 non-null      int64 \n",
      " 3   confidence  9 non-null      int64 \n",
      " 4   efforts     9 non-null      int64 \n",
      "dtypes: int64(4), object(1)\n",
      "memory usage: 488.0+ bytes\n",
      "\n",
      "Количество дубликатов: 0\n"
     ]
    }
   ],
   "source": [
    "explore(df)"
   ]
  },
  {
   "cell_type": "markdown",
   "metadata": {},
   "source": [
    "Таблица `df` содержит информацию о гипотезах, которые можно было бы проверить с помощью A/B-теста, и параметрах `Reach`, `Impact`, `Confidence` и `Efforts` для каждой из них по 10-бальной шкале. Всего в таблице 9 строчек с 9-ю гипотезами. Пропусков в данных нет, дубликатов нет. Формат параметров целочисленный. Преобразования не требуются."
   ]
  },
  {
   "cell_type": "markdown",
   "metadata": {},
   "source": [
    "### Таблица с заказами"
   ]
  },
  {
   "cell_type": "code",
   "execution_count": 5,
   "metadata": {},
   "outputs": [
    {
     "data": {
      "text/html": [
       "<div>\n",
       "<style scoped>\n",
       "    .dataframe tbody tr th:only-of-type {\n",
       "        vertical-align: middle;\n",
       "    }\n",
       "\n",
       "    .dataframe tbody tr th {\n",
       "        vertical-align: top;\n",
       "    }\n",
       "\n",
       "    .dataframe thead th {\n",
       "        text-align: right;\n",
       "    }\n",
       "</style>\n",
       "<table border=\"1\" class=\"dataframe\">\n",
       "  <thead>\n",
       "    <tr style=\"text-align: right;\">\n",
       "      <th></th>\n",
       "      <th>transactionId</th>\n",
       "      <th>visitorId</th>\n",
       "      <th>date</th>\n",
       "      <th>revenue</th>\n",
       "      <th>group</th>\n",
       "    </tr>\n",
       "  </thead>\n",
       "  <tbody>\n",
       "    <tr>\n",
       "      <th>25</th>\n",
       "      <td>324018163</td>\n",
       "      <td>87885904</td>\n",
       "      <td>2019-08-15</td>\n",
       "      <td>300</td>\n",
       "      <td>A</td>\n",
       "    </tr>\n",
       "    <tr>\n",
       "      <th>673</th>\n",
       "      <td>2627773869</td>\n",
       "      <td>4231233292</td>\n",
       "      <td>2019-08-09</td>\n",
       "      <td>10160</td>\n",
       "      <td>B</td>\n",
       "    </tr>\n",
       "    <tr>\n",
       "      <th>479</th>\n",
       "      <td>1651227034</td>\n",
       "      <td>2927087541</td>\n",
       "      <td>2019-08-24</td>\n",
       "      <td>2190</td>\n",
       "      <td>B</td>\n",
       "    </tr>\n",
       "    <tr>\n",
       "      <th>994</th>\n",
       "      <td>2436452823</td>\n",
       "      <td>2710492161</td>\n",
       "      <td>2019-08-31</td>\n",
       "      <td>1460</td>\n",
       "      <td>B</td>\n",
       "    </tr>\n",
       "    <tr>\n",
       "      <th>376</th>\n",
       "      <td>1400686638</td>\n",
       "      <td>181166394</td>\n",
       "      <td>2019-08-25</td>\n",
       "      <td>4780</td>\n",
       "      <td>A</td>\n",
       "    </tr>\n",
       "  </tbody>\n",
       "</table>\n",
       "</div>"
      ],
      "text/plain": [
       "     transactionId   visitorId        date  revenue group\n",
       "25       324018163    87885904  2019-08-15      300     A\n",
       "673     2627773869  4231233292  2019-08-09    10160     B\n",
       "479     1651227034  2927087541  2019-08-24     2190     B\n",
       "994     2436452823  2710492161  2019-08-31     1460     B\n",
       "376     1400686638   181166394  2019-08-25     4780     A"
      ]
     },
     "metadata": {},
     "output_type": "display_data"
    },
    {
     "name": "stdout",
     "output_type": "stream",
     "text": [
      "\n",
      "Информация о таблице\n",
      "<class 'pandas.core.frame.DataFrame'>\n",
      "RangeIndex: 1197 entries, 0 to 1196\n",
      "Data columns (total 5 columns):\n",
      " #   Column         Non-Null Count  Dtype \n",
      "---  ------         --------------  ----- \n",
      " 0   transactionid  1197 non-null   int64 \n",
      " 1   visitorid      1197 non-null   int64 \n",
      " 2   date           1197 non-null   object\n",
      " 3   revenue        1197 non-null   int64 \n",
      " 4   group          1197 non-null   object\n",
      "dtypes: int64(3), object(2)\n",
      "memory usage: 46.9+ KB\n",
      "\n",
      "Количество дубликатов: 0\n"
     ]
    }
   ],
   "source": [
    "explore(orders)"
   ]
  },
  {
   "cell_type": "code",
   "execution_count": 6,
   "metadata": {},
   "outputs": [],
   "source": [
    "orders = orders.rename(columns={'transactionid': 'transaction_id', 'visitorid': 'visitor_id'})"
   ]
  },
  {
   "cell_type": "markdown",
   "metadata": {},
   "source": [
    "Таблица `orders` содержит информацию о заказах, совершенных пользователями интернет-магазина. Всего в таблице 1197 строк и 5 столбцов: \n",
    "- `transaction_id` - идентификационный номер заказа;\n",
    "- `visitor_id` - идентификационный номер пользователя, совершившего заказ;\n",
    "- `date` - дата совершения заказа;\n",
    "- `revenue` - стоимость заказа;\n",
    "- `group` - группа A/B-теста, в которую попал данный пользователь (\"A\" или \"B\")\n",
    "\n",
    "Дубликатов и пропущенных значений в таблице нет. Данные об id заказа, id пользователя и сумме покупки хранятся в целочисленном формате, название группы и дата - в формате `object`.\n",
    "\n",
    "Для столбца `date` необходимо поменять формат на `datetime`."
   ]
  },
  {
   "cell_type": "code",
   "execution_count": 7,
   "metadata": {},
   "outputs": [],
   "source": [
    "orders['date'] = orders['date'].map(lambda x: dt.datetime.strptime(x, '%Y-%m-%d'))"
   ]
  },
  {
   "cell_type": "code",
   "execution_count": 8,
   "metadata": {},
   "outputs": [
    {
     "data": {
      "text/plain": [
       "min   2019-08-01\n",
       "max   2019-08-31\n",
       "Name: date, dtype: datetime64[ns]"
      ]
     },
     "execution_count": 8,
     "metadata": {},
     "output_type": "execute_result"
    }
   ],
   "source": [
    "orders['date'].agg(['min', 'max'])"
   ]
  },
  {
   "cell_type": "markdown",
   "metadata": {},
   "source": [
    "Даты заказов в таблице `orders` от 1 до 31 августа 2019 года.\n",
    "\n",
    "Посмотрим на распределение сумм заказов из столбца `revenue`, а заодно проверим, нет ли в нём отрицательных или нулевых значений."
   ]
  },
  {
   "cell_type": "code",
   "execution_count": 9,
   "metadata": {},
   "outputs": [
    {
     "data": {
      "text/plain": [
       "<AxesSubplot:>"
      ]
     },
     "execution_count": 9,
     "metadata": {},
     "output_type": "execute_result"
    },
    {
     "data": {
      "image/png": "[encoded data removed]",
      "text/plain": [
       "<Figure size 432x288 with 1 Axes>"
      ]
     },
     "metadata": {
      "needs_background": "light"
     },
     "output_type": "display_data"
    }
   ],
   "source": [
    "orders['revenue'].hist(bins=30)"
   ]
  },
  {
   "cell_type": "markdown",
   "metadata": {},
   "source": [
    "Таких значений нет. Сразу видим, что большинство заказов оформлено на минимальную сумму. Есть выбросы до 1,2 миллиона у.е. \n",
    "\n",
    "Теперь посмотрим на неуникальных покупателей"
   ]
  },
  {
   "cell_type": "code",
   "execution_count": 10,
   "metadata": {},
   "outputs": [
    {
     "data": {
      "text/html": [
       "<div>\n",
       "<style scoped>\n",
       "    .dataframe tbody tr th:only-of-type {\n",
       "        vertical-align: middle;\n",
       "    }\n",
       "\n",
       "    .dataframe tbody tr th {\n",
       "        vertical-align: top;\n",
       "    }\n",
       "\n",
       "    .dataframe thead th {\n",
       "        text-align: right;\n",
       "    }\n",
       "</style>\n",
       "<table border=\"1\" class=\"dataframe\">\n",
       "  <thead>\n",
       "    <tr style=\"text-align: right;\">\n",
       "      <th></th>\n",
       "      <th>transaction_id</th>\n",
       "      <th>visitor_id</th>\n",
       "      <th>date</th>\n",
       "      <th>revenue</th>\n",
       "      <th>group</th>\n",
       "    </tr>\n",
       "  </thead>\n",
       "  <tbody>\n",
       "    <tr>\n",
       "      <th>71</th>\n",
       "      <td>3679129301</td>\n",
       "      <td>8300375</td>\n",
       "      <td>2019-08-01</td>\n",
       "      <td>10510</td>\n",
       "      <td>B</td>\n",
       "    </tr>\n",
       "    <tr>\n",
       "      <th>703</th>\n",
       "      <td>4293855558</td>\n",
       "      <td>8300375</td>\n",
       "      <td>2019-08-07</td>\n",
       "      <td>1790</td>\n",
       "      <td>A</td>\n",
       "    </tr>\n",
       "    <tr>\n",
       "      <th>1102</th>\n",
       "      <td>1941707234</td>\n",
       "      <td>199603092</td>\n",
       "      <td>2019-08-12</td>\n",
       "      <td>6438</td>\n",
       "      <td>A</td>\n",
       "    </tr>\n",
       "    <tr>\n",
       "      <th>823</th>\n",
       "      <td>2971973105</td>\n",
       "      <td>199603092</td>\n",
       "      <td>2019-08-27</td>\n",
       "      <td>2790</td>\n",
       "      <td>A</td>\n",
       "    </tr>\n",
       "    <tr>\n",
       "      <th>134</th>\n",
       "      <td>62794304</td>\n",
       "      <td>199603092</td>\n",
       "      <td>2019-08-22</td>\n",
       "      <td>6976</td>\n",
       "      <td>A</td>\n",
       "    </tr>\n",
       "    <tr>\n",
       "      <th>...</th>\n",
       "      <td>...</td>\n",
       "      <td>...</td>\n",
       "      <td>...</td>\n",
       "      <td>...</td>\n",
       "      <td>...</td>\n",
       "    </tr>\n",
       "    <tr>\n",
       "      <th>1019</th>\n",
       "      <td>453824282</td>\n",
       "      <td>4256040402</td>\n",
       "      <td>2019-08-31</td>\n",
       "      <td>1850</td>\n",
       "      <td>B</td>\n",
       "    </tr>\n",
       "    <tr>\n",
       "      <th>253</th>\n",
       "      <td>1610091760</td>\n",
       "      <td>4256040402</td>\n",
       "      <td>2019-08-23</td>\n",
       "      <td>16950</td>\n",
       "      <td>A</td>\n",
       "    </tr>\n",
       "    <tr>\n",
       "      <th>263</th>\n",
       "      <td>2575861846</td>\n",
       "      <td>4256040402</td>\n",
       "      <td>2019-08-18</td>\n",
       "      <td>10970</td>\n",
       "      <td>B</td>\n",
       "    </tr>\n",
       "    <tr>\n",
       "      <th>682</th>\n",
       "      <td>1216533772</td>\n",
       "      <td>4266935830</td>\n",
       "      <td>2019-08-29</td>\n",
       "      <td>78990</td>\n",
       "      <td>B</td>\n",
       "    </tr>\n",
       "    <tr>\n",
       "      <th>662</th>\n",
       "      <td>1811671147</td>\n",
       "      <td>4266935830</td>\n",
       "      <td>2019-08-29</td>\n",
       "      <td>78990</td>\n",
       "      <td>A</td>\n",
       "    </tr>\n",
       "  </tbody>\n",
       "</table>\n",
       "<p>260 rows × 5 columns</p>\n",
       "</div>"
      ],
      "text/plain": [
       "      transaction_id  visitor_id       date  revenue group\n",
       "71        3679129301     8300375 2019-08-01    10510     B\n",
       "703       4293855558     8300375 2019-08-07     1790     A\n",
       "1102      1941707234   199603092 2019-08-12     6438     A\n",
       "823       2971973105   199603092 2019-08-27     2790     A\n",
       "134         62794304   199603092 2019-08-22     6976     A\n",
       "...              ...         ...        ...      ...   ...\n",
       "1019       453824282  4256040402 2019-08-31     1850     B\n",
       "253       1610091760  4256040402 2019-08-23    16950     A\n",
       "263       2575861846  4256040402 2019-08-18    10970     B\n",
       "682       1216533772  4266935830 2019-08-29    78990     B\n",
       "662       1811671147  4266935830 2019-08-29    78990     A\n",
       "\n",
       "[260 rows x 5 columns]"
      ]
     },
     "execution_count": 10,
     "metadata": {},
     "output_type": "execute_result"
    }
   ],
   "source": [
    "orders[orders['visitor_id'].duplicated(keep=False)].sort_values('visitor_id')"
   ]
  },
  {
   "cell_type": "markdown",
   "metadata": {},
   "source": [
    "Видим, что в таблице `orders` некоторые пользователи попали в разные тестируемые группы в своих разных заказах (например, пользователь №8300375 или №4256040402. Такого быть не должно - по правилам A/B-теста каждый уникальный пользователь должен на протяжении всего теста быть в одной группе. Исключим их из исследования."
   ]
  },
  {
   "cell_type": "code",
   "execution_count": 11,
   "metadata": {},
   "outputs": [
    {
     "name": "stdout",
     "output_type": "stream",
     "text": [
      "[4069496402, 199603092, 3803269165, 2378935119, 237748145, 4256040402, 2038680547, 1738359350, 2458001652, 3891541246, 2716752286, 3656415546, 2686716486, 2954449915, 2927087541, 3234906277, 457167155, 2579882178, 3957174400, 1648269707, 2780786433, 818047933, 2044997962, 1959144690, 3202540741, 1333886533, 351125977, 3951559397, 393266494, 3984495233, 4120364173, 4266935830, 1230306981, 1294878855, 1614305549, 8300375, 477780734, 1668030113, 3717692402, 3766097110, 3941795274, 471551937, 1316129916, 1801183820, 1602967004, 2587333274, 2600415354, 232979603, 3972127743, 1404934699, 276558944, 3062433592, 2654030115, 3963646447, 4186807279, 2712142231, 2949041841, 963407295]\n",
      "\n",
      "Количество пользователей, попавших в разные группы:  58\n"
     ]
    }
   ],
   "source": [
    "wrong_users = [] # создаём пустой список пользователей, \n",
    "# попавших в разные группы\n",
    "\n",
    "for i in orders[orders['group'] == 'A']['visitor_id'].unique():\n",
    "    if i in (orders[orders['group'] == 'B']['visitor_id'].unique()):\n",
    "        wrong_users = wrong_users + [i] \n",
    "        \n",
    "print(wrong_users)\n",
    "print()\n",
    "print('Количество пользователей, попавших в разные группы: ', len(wrong_users))"
   ]
  },
  {
   "cell_type": "code",
   "execution_count": 12,
   "metadata": {},
   "outputs": [],
   "source": [
    "orders = orders[~orders['visitor_id'].isin(wrong_users)].reset_index(drop=True)"
   ]
  },
  {
   "cell_type": "markdown",
   "metadata": {},
   "source": [
    "Таких пользователей оказалось 58. Нужно обратиться к разработчикам, разобраться, почему пользователи попали в разные группы.\n",
    "\n",
    "Смотрим на таблицу `orders` ещё раз."
   ]
  },
  {
   "cell_type": "code",
   "execution_count": 13,
   "metadata": {},
   "outputs": [
    {
     "data": {
      "text/html": [
       "<div>\n",
       "<style scoped>\n",
       "    .dataframe tbody tr th:only-of-type {\n",
       "        vertical-align: middle;\n",
       "    }\n",
       "\n",
       "    .dataframe tbody tr th {\n",
       "        vertical-align: top;\n",
       "    }\n",
       "\n",
       "    .dataframe thead th {\n",
       "        text-align: right;\n",
       "    }\n",
       "</style>\n",
       "<table border=\"1\" class=\"dataframe\">\n",
       "  <thead>\n",
       "    <tr style=\"text-align: right;\">\n",
       "      <th></th>\n",
       "      <th>transaction_id</th>\n",
       "      <th>visitor_id</th>\n",
       "      <th>date</th>\n",
       "      <th>revenue</th>\n",
       "      <th>group</th>\n",
       "    </tr>\n",
       "  </thead>\n",
       "  <tbody>\n",
       "    <tr>\n",
       "      <th>0</th>\n",
       "      <td>3667963787</td>\n",
       "      <td>3312258926</td>\n",
       "      <td>2019-08-15</td>\n",
       "      <td>1650</td>\n",
       "      <td>B</td>\n",
       "    </tr>\n",
       "    <tr>\n",
       "      <th>1</th>\n",
       "      <td>2804400009</td>\n",
       "      <td>3642806036</td>\n",
       "      <td>2019-08-15</td>\n",
       "      <td>730</td>\n",
       "      <td>B</td>\n",
       "    </tr>\n",
       "    <tr>\n",
       "      <th>2</th>\n",
       "      <td>3797467345</td>\n",
       "      <td>1196621759</td>\n",
       "      <td>2019-08-15</td>\n",
       "      <td>9759</td>\n",
       "      <td>B</td>\n",
       "    </tr>\n",
       "    <tr>\n",
       "      <th>3</th>\n",
       "      <td>2282983706</td>\n",
       "      <td>2322279887</td>\n",
       "      <td>2019-08-15</td>\n",
       "      <td>2308</td>\n",
       "      <td>B</td>\n",
       "    </tr>\n",
       "    <tr>\n",
       "      <th>4</th>\n",
       "      <td>182168103</td>\n",
       "      <td>935554773</td>\n",
       "      <td>2019-08-15</td>\n",
       "      <td>2210</td>\n",
       "      <td>B</td>\n",
       "    </tr>\n",
       "    <tr>\n",
       "      <th>...</th>\n",
       "      <td>...</td>\n",
       "      <td>...</td>\n",
       "      <td>...</td>\n",
       "      <td>...</td>\n",
       "      <td>...</td>\n",
       "    </tr>\n",
       "    <tr>\n",
       "      <th>1011</th>\n",
       "      <td>3592955527</td>\n",
       "      <td>608641596</td>\n",
       "      <td>2019-08-14</td>\n",
       "      <td>16490</td>\n",
       "      <td>B</td>\n",
       "    </tr>\n",
       "    <tr>\n",
       "      <th>1012</th>\n",
       "      <td>2662137336</td>\n",
       "      <td>3733762160</td>\n",
       "      <td>2019-08-14</td>\n",
       "      <td>6490</td>\n",
       "      <td>B</td>\n",
       "    </tr>\n",
       "    <tr>\n",
       "      <th>1013</th>\n",
       "      <td>2203539145</td>\n",
       "      <td>370388673</td>\n",
       "      <td>2019-08-14</td>\n",
       "      <td>3190</td>\n",
       "      <td>A</td>\n",
       "    </tr>\n",
       "    <tr>\n",
       "      <th>1014</th>\n",
       "      <td>1807773912</td>\n",
       "      <td>573423106</td>\n",
       "      <td>2019-08-14</td>\n",
       "      <td>10550</td>\n",
       "      <td>A</td>\n",
       "    </tr>\n",
       "    <tr>\n",
       "      <th>1015</th>\n",
       "      <td>3936777065</td>\n",
       "      <td>2108080724</td>\n",
       "      <td>2019-08-15</td>\n",
       "      <td>202740</td>\n",
       "      <td>B</td>\n",
       "    </tr>\n",
       "  </tbody>\n",
       "</table>\n",
       "<p>1016 rows × 5 columns</p>\n",
       "</div>"
      ],
      "text/plain": [
       "      transaction_id  visitor_id       date  revenue group\n",
       "0         3667963787  3312258926 2019-08-15     1650     B\n",
       "1         2804400009  3642806036 2019-08-15      730     B\n",
       "2         3797467345  1196621759 2019-08-15     9759     B\n",
       "3         2282983706  2322279887 2019-08-15     2308     B\n",
       "4          182168103   935554773 2019-08-15     2210     B\n",
       "...              ...         ...        ...      ...   ...\n",
       "1011      3592955527   608641596 2019-08-14    16490     B\n",
       "1012      2662137336  3733762160 2019-08-14     6490     B\n",
       "1013      2203539145   370388673 2019-08-14     3190     A\n",
       "1014      1807773912   573423106 2019-08-14    10550     A\n",
       "1015      3936777065  2108080724 2019-08-15   202740     B\n",
       "\n",
       "[1016 rows x 5 columns]"
      ]
     },
     "execution_count": 13,
     "metadata": {},
     "output_type": "execute_result"
    }
   ],
   "source": [
    "orders"
   ]
  },
  {
   "cell_type": "markdown",
   "metadata": {},
   "source": [
    "<b> Вывод </b>\n",
    "\n",
    "Таблица `orders` после предобработки содержит информацию о 1016-ти покупках пользователей в интернет-магазине за период с 1 по 31 августа 2019 года. \n",
    "\n",
    "58 пользователей попали в разные группы при совершении разных заказов, данные пользователи из дальнейшего анализа исключены. \n",
    "\n",
    "Данные корректны и готовы к анализу."
   ]
  },
  {
   "cell_type": "markdown",
   "metadata": {},
   "source": [
    "### Таблица с посетителями"
   ]
  },
  {
   "cell_type": "code",
   "execution_count": 14,
   "metadata": {},
   "outputs": [
    {
     "data": {
      "text/html": [
       "<div>\n",
       "<style scoped>\n",
       "    .dataframe tbody tr th:only-of-type {\n",
       "        vertical-align: middle;\n",
       "    }\n",
       "\n",
       "    .dataframe tbody tr th {\n",
       "        vertical-align: top;\n",
       "    }\n",
       "\n",
       "    .dataframe thead th {\n",
       "        text-align: right;\n",
       "    }\n",
       "</style>\n",
       "<table border=\"1\" class=\"dataframe\">\n",
       "  <thead>\n",
       "    <tr style=\"text-align: right;\">\n",
       "      <th></th>\n",
       "      <th>date</th>\n",
       "      <th>group</th>\n",
       "      <th>visitors</th>\n",
       "    </tr>\n",
       "  </thead>\n",
       "  <tbody>\n",
       "    <tr>\n",
       "      <th>33</th>\n",
       "      <td>2019-08-03</td>\n",
       "      <td>B</td>\n",
       "      <td>509</td>\n",
       "    </tr>\n",
       "    <tr>\n",
       "      <th>0</th>\n",
       "      <td>2019-08-01</td>\n",
       "      <td>A</td>\n",
       "      <td>719</td>\n",
       "    </tr>\n",
       "    <tr>\n",
       "      <th>34</th>\n",
       "      <td>2019-08-04</td>\n",
       "      <td>B</td>\n",
       "      <td>770</td>\n",
       "    </tr>\n",
       "    <tr>\n",
       "      <th>13</th>\n",
       "      <td>2019-08-14</td>\n",
       "      <td>A</td>\n",
       "      <td>735</td>\n",
       "    </tr>\n",
       "    <tr>\n",
       "      <th>59</th>\n",
       "      <td>2019-08-29</td>\n",
       "      <td>B</td>\n",
       "      <td>531</td>\n",
       "    </tr>\n",
       "  </tbody>\n",
       "</table>\n",
       "</div>"
      ],
      "text/plain": [
       "          date group  visitors\n",
       "33  2019-08-03     B       509\n",
       "0   2019-08-01     A       719\n",
       "34  2019-08-04     B       770\n",
       "13  2019-08-14     A       735\n",
       "59  2019-08-29     B       531"
      ]
     },
     "metadata": {},
     "output_type": "display_data"
    },
    {
     "name": "stdout",
     "output_type": "stream",
     "text": [
      "\n",
      "Информация о таблице\n",
      "<class 'pandas.core.frame.DataFrame'>\n",
      "RangeIndex: 62 entries, 0 to 61\n",
      "Data columns (total 3 columns):\n",
      " #   Column    Non-Null Count  Dtype \n",
      "---  ------    --------------  ----- \n",
      " 0   date      62 non-null     object\n",
      " 1   group     62 non-null     object\n",
      " 2   visitors  62 non-null     int64 \n",
      "dtypes: int64(1), object(2)\n",
      "memory usage: 1.6+ KB\n",
      "\n",
      "Количество дубликатов: 0\n"
     ]
    }
   ],
   "source": [
    "explore(visitors)"
   ]
  },
  {
   "cell_type": "markdown",
   "metadata": {},
   "source": [
    "Таблица `visitors` содержит информацию о количестве посетителей интернет-магазина в каждой из групп теста (\"A\" и \"B\") за каждый день. Всего в таблице 62 строки (31 день * 2 группы) и 3 столбца - `date`, `group` и `visitors`.\n",
    "\n",
    "Дубликатов и пропущенных значений в таблице нет. \n",
    "\n",
    "Столбец с количеством посетителей имеет целочисленны формат, столбцы с датой и группой - формат `object`. Дату нужно преобразовать к формату `datetime`."
   ]
  },
  {
   "cell_type": "code",
   "execution_count": 15,
   "metadata": {},
   "outputs": [],
   "source": [
    "visitors['date'] = visitors['date'].map(lambda x: dt.datetime.strptime(x, '%Y-%m-%d'))"
   ]
  },
  {
   "cell_type": "code",
   "execution_count": 16,
   "metadata": {},
   "outputs": [
    {
     "data": {
      "text/plain": [
       "min   2019-08-01\n",
       "max   2019-08-31\n",
       "Name: date, dtype: datetime64[ns]"
      ]
     },
     "execution_count": 16,
     "metadata": {},
     "output_type": "execute_result"
    }
   ],
   "source": [
    "visitors['date'].agg(['min', 'max'])"
   ]
  },
  {
   "cell_type": "markdown",
   "metadata": {},
   "source": [
    "Даты в таблице `visitors` совпадают с датами из таблицы `orders` - с 1 по 31 августа 2019 года. \n",
    "\n",
    "Посмотрим на распределение количества посетителей, а заодно проверим, нет ли отрицательных и нулевых значений. "
   ]
  },
  {
   "cell_type": "code",
   "execution_count": 17,
   "metadata": {},
   "outputs": [
    {
     "data": {
      "text/plain": [
       "<AxesSubplot:>"
      ]
     },
     "execution_count": 17,
     "metadata": {},
     "output_type": "execute_result"
    },
    {
     "data": {
      "image/png": "[encoded data removed]",
      "text/plain": [
       "<Figure size 432x288 with 1 Axes>"
      ]
     },
     "metadata": {
      "needs_background": "light"
     },
     "output_type": "display_data"
    }
   ],
   "source": [
    "visitors['visitors'].hist(bins=30)"
   ]
  },
  {
   "cell_type": "markdown",
   "metadata": {},
   "source": [
    "Данные в столбце `visitors` корректны.\n",
    "\n",
    "Посмотрим, сколько человек попало в каждую группу."
   ]
  },
  {
   "cell_type": "code",
   "execution_count": 18,
   "metadata": {},
   "outputs": [
    {
     "data": {
      "text/html": [
       "<div>\n",
       "<style scoped>\n",
       "    .dataframe tbody tr th:only-of-type {\n",
       "        vertical-align: middle;\n",
       "    }\n",
       "\n",
       "    .dataframe tbody tr th {\n",
       "        vertical-align: top;\n",
       "    }\n",
       "\n",
       "    .dataframe thead th {\n",
       "        text-align: right;\n",
       "    }\n",
       "</style>\n",
       "<table border=\"1\" class=\"dataframe\">\n",
       "  <thead>\n",
       "    <tr style=\"text-align: right;\">\n",
       "      <th></th>\n",
       "      <th>visitors</th>\n",
       "    </tr>\n",
       "    <tr>\n",
       "      <th>group</th>\n",
       "      <th></th>\n",
       "    </tr>\n",
       "  </thead>\n",
       "  <tbody>\n",
       "    <tr>\n",
       "      <th>A</th>\n",
       "      <td>18736</td>\n",
       "    </tr>\n",
       "    <tr>\n",
       "      <th>B</th>\n",
       "      <td>18916</td>\n",
       "    </tr>\n",
       "  </tbody>\n",
       "</table>\n",
       "</div>"
      ],
      "text/plain": [
       "       visitors\n",
       "group          \n",
       "A         18736\n",
       "B         18916"
      ]
     },
     "execution_count": 18,
     "metadata": {},
     "output_type": "execute_result"
    }
   ],
   "source": [
    "visitors.groupby('group').agg({'visitors':'sum'})"
   ]
  },
  {
   "cell_type": "markdown",
   "metadata": {},
   "source": [
    "<b> Вывод </b> \n",
    "\n",
    "Таблица `visits` содержит информацию о количестве посетителей по группам за каждый день с 1 по 31 августа 2019 года.\n",
    "\n",
    "В группы A и B попало примерно равное количество человек - 18736 и 18916, соответственно. Разница между этими значениями менее 1%. \n",
    "\n",
    "По условию проекта неизвестно, какую относительную разницу в конверсии хотели бы достичь, поэтому делать вывод о корректности количества пользователей невозможно. \n",
    "\n",
    "Данные корректны, можно приступать к анализу."
   ]
  },
  {
   "cell_type": "markdown",
   "metadata": {},
   "source": [
    "## Часть 1. Приоритизация гипотез"
   ]
  },
  {
   "cell_type": "markdown",
   "metadata": {},
   "source": [
    "Посмотрим на таблицу df целиком"
   ]
  },
  {
   "cell_type": "code",
   "execution_count": 19,
   "metadata": {
    "scrolled": false
   },
   "outputs": [
    {
     "data": {
      "text/html": [
       "<div>\n",
       "<style scoped>\n",
       "    .dataframe tbody tr th:only-of-type {\n",
       "        vertical-align: middle;\n",
       "    }\n",
       "\n",
       "    .dataframe tbody tr th {\n",
       "        vertical-align: top;\n",
       "    }\n",
       "\n",
       "    .dataframe thead th {\n",
       "        text-align: right;\n",
       "    }\n",
       "</style>\n",
       "<table border=\"1\" class=\"dataframe\">\n",
       "  <thead>\n",
       "    <tr style=\"text-align: right;\">\n",
       "      <th></th>\n",
       "      <th>hypothesis</th>\n",
       "      <th>reach</th>\n",
       "      <th>impact</th>\n",
       "      <th>confidence</th>\n",
       "      <th>efforts</th>\n",
       "    </tr>\n",
       "  </thead>\n",
       "  <tbody>\n",
       "    <tr>\n",
       "      <th>0</th>\n",
       "      <td>Добавить два новых канала привлечения трафика, что позволит привлекать на 30% больше пользователей</td>\n",
       "      <td>3</td>\n",
       "      <td>10</td>\n",
       "      <td>8</td>\n",
       "      <td>6</td>\n",
       "    </tr>\n",
       "    <tr>\n",
       "      <th>1</th>\n",
       "      <td>Запустить собственную службу доставки, что сократит срок доставки заказов</td>\n",
       "      <td>2</td>\n",
       "      <td>5</td>\n",
       "      <td>4</td>\n",
       "      <td>10</td>\n",
       "    </tr>\n",
       "    <tr>\n",
       "      <th>2</th>\n",
       "      <td>Добавить блоки рекомендаций товаров на сайт интернет магазина, чтобы повысить конверсию и средний чек заказа</td>\n",
       "      <td>8</td>\n",
       "      <td>3</td>\n",
       "      <td>7</td>\n",
       "      <td>3</td>\n",
       "    </tr>\n",
       "    <tr>\n",
       "      <th>3</th>\n",
       "      <td>Изменить структура категорий, что увеличит конверсию, т.к. пользователи быстрее найдут нужный товар</td>\n",
       "      <td>8</td>\n",
       "      <td>3</td>\n",
       "      <td>3</td>\n",
       "      <td>8</td>\n",
       "    </tr>\n",
       "    <tr>\n",
       "      <th>4</th>\n",
       "      <td>Изменить цвет фона главной страницы, чтобы увеличить вовлеченность пользователей</td>\n",
       "      <td>3</td>\n",
       "      <td>1</td>\n",
       "      <td>1</td>\n",
       "      <td>1</td>\n",
       "    </tr>\n",
       "    <tr>\n",
       "      <th>5</th>\n",
       "      <td>Добавить страницу отзывов клиентов о магазине, что позволит увеличить количество заказов</td>\n",
       "      <td>3</td>\n",
       "      <td>2</td>\n",
       "      <td>2</td>\n",
       "      <td>3</td>\n",
       "    </tr>\n",
       "    <tr>\n",
       "      <th>6</th>\n",
       "      <td>Показать на главной странице баннеры с актуальными акциями и распродажами, чтобы увеличить конверсию</td>\n",
       "      <td>5</td>\n",
       "      <td>3</td>\n",
       "      <td>8</td>\n",
       "      <td>3</td>\n",
       "    </tr>\n",
       "    <tr>\n",
       "      <th>7</th>\n",
       "      <td>Добавить форму подписки на все основные страницы, чтобы собрать базу клиентов для email-рассылок</td>\n",
       "      <td>10</td>\n",
       "      <td>7</td>\n",
       "      <td>8</td>\n",
       "      <td>5</td>\n",
       "    </tr>\n",
       "    <tr>\n",
       "      <th>8</th>\n",
       "      <td>Запустить акцию, дающую скидку на товар в день рождения</td>\n",
       "      <td>1</td>\n",
       "      <td>9</td>\n",
       "      <td>9</td>\n",
       "      <td>5</td>\n",
       "    </tr>\n",
       "  </tbody>\n",
       "</table>\n",
       "</div>"
      ],
      "text/plain": [
       "                                                                                                     hypothesis  \\\n",
       "0            Добавить два новых канала привлечения трафика, что позволит привлекать на 30% больше пользователей   \n",
       "1                                     Запустить собственную службу доставки, что сократит срок доставки заказов   \n",
       "2  Добавить блоки рекомендаций товаров на сайт интернет магазина, чтобы повысить конверсию и средний чек заказа   \n",
       "3           Изменить структура категорий, что увеличит конверсию, т.к. пользователи быстрее найдут нужный товар   \n",
       "4                              Изменить цвет фона главной страницы, чтобы увеличить вовлеченность пользователей   \n",
       "5                      Добавить страницу отзывов клиентов о магазине, что позволит увеличить количество заказов   \n",
       "6          Показать на главной странице баннеры с актуальными акциями и распродажами, чтобы увеличить конверсию   \n",
       "7              Добавить форму подписки на все основные страницы, чтобы собрать базу клиентов для email-рассылок   \n",
       "8                                                       Запустить акцию, дающую скидку на товар в день рождения   \n",
       "\n",
       "   reach  impact  confidence  efforts  \n",
       "0      3      10           8        6  \n",
       "1      2       5           4       10  \n",
       "2      8       3           7        3  \n",
       "3      8       3           3        8  \n",
       "4      3       1           1        1  \n",
       "5      3       2           2        3  \n",
       "6      5       3           8        3  \n",
       "7     10       7           8        5  \n",
       "8      1       9           9        5  "
      ]
     },
     "execution_count": 19,
     "metadata": {},
     "output_type": "execute_result"
    }
   ],
   "source": [
    "df"
   ]
  },
  {
   "cell_type": "markdown",
   "metadata": {},
   "source": [
    "### ICE Score"
   ]
  },
  {
   "cell_type": "markdown",
   "metadata": {},
   "source": [
    "Рассчитаем приоритет каждой гипотезы с помощью формулы `ICE Score`:\n",
    "\n",
    "`ICE Score` = `Impact` * `Confidence` / `Efforts`"
   ]
  },
  {
   "cell_type": "code",
   "execution_count": 20,
   "metadata": {},
   "outputs": [],
   "source": [
    "df['ICE'] = (df['impact'] * df['confidence'] / df['efforts']).round().astype('int')"
   ]
  },
  {
   "cell_type": "code",
   "execution_count": 21,
   "metadata": {},
   "outputs": [
    {
     "data": {
      "text/html": [
       "<style type=\"text/css\">\n",
       "#T_0a144_row0_col2 {\n",
       "  background-color: #0863a7;\n",
       "  color: #f1f1f1;\n",
       "}\n",
       "#T_0a144_row0_col3, #T_0a144_row1_col2, #T_0a144_row5_col4 {\n",
       "  background-color: #084081;\n",
       "  color: #f1f1f1;\n",
       "}\n",
       "#T_0a144_row0_col4, #T_0a144_row2_col4, #T_0a144_row5_col2 {\n",
       "  background-color: #8fd4bd;\n",
       "  color: #000000;\n",
       "}\n",
       "#T_0a144_row0_col5 {\n",
       "  background-color: #000000;\n",
       "  color: #f1f1f1;\n",
       "}\n",
       "#T_0a144_row1_col3, #T_0a144_row2_col3, #T_0a144_row3_col3 {\n",
       "  background-color: #0867ab;\n",
       "  color: #f1f1f1;\n",
       "}\n",
       "#T_0a144_row1_col4 {\n",
       "  background-color: #67c1cb;\n",
       "  color: #000000;\n",
       "}\n",
       "#T_0a144_row1_col5 {\n",
       "  background-color: #333333;\n",
       "  color: #f1f1f1;\n",
       "}\n",
       "#T_0a144_row2_col2 {\n",
       "  background-color: #42a6cc;\n",
       "  color: #f1f1f1;\n",
       "}\n",
       "#T_0a144_row2_col5 {\n",
       "  background-color: #555555;\n",
       "  color: #f1f1f1;\n",
       "}\n",
       "#T_0a144_row3_col2, #T_0a144_row3_col4, #T_0a144_row4_col2, #T_0a144_row4_col4, #T_0a144_row6_col2, #T_0a144_row8_col4 {\n",
       "  background-color: #d1edca;\n",
       "  color: #000000;\n",
       "}\n",
       "#T_0a144_row3_col5 {\n",
       "  background-color: #888888;\n",
       "  color: #f1f1f1;\n",
       "}\n",
       "#T_0a144_row4_col3 {\n",
       "  background-color: #2a8bbe;\n",
       "  color: #f1f1f1;\n",
       "}\n",
       "#T_0a144_row4_col5 {\n",
       "  background-color: #999999;\n",
       "  color: #f1f1f1;\n",
       "}\n",
       "#T_0a144_row5_col3 {\n",
       "  background-color: #a7ddb5;\n",
       "  color: #000000;\n",
       "}\n",
       "#T_0a144_row5_col5 {\n",
       "  background-color: #eeeeee;\n",
       "  color: #000000;\n",
       "}\n",
       "#T_0a144_row6_col3 {\n",
       "  background-color: #ccebc5;\n",
       "  color: #000000;\n",
       "}\n",
       "#T_0a144_row6_col4 {\n",
       "  background-color: #2283ba;\n",
       "  color: #f1f1f1;\n",
       "}\n",
       "#T_0a144_row6_col5, #T_0a144_row7_col5, #T_0a144_row8_col5 {\n",
       "  background-color: #ffffff;\n",
       "  color: #000000;\n",
       "}\n",
       "#T_0a144_row7_col2, #T_0a144_row7_col3, #T_0a144_row7_col4 {\n",
       "  background-color: #f7fcf0;\n",
       "  color: #000000;\n",
       "}\n",
       "#T_0a144_row8_col2 {\n",
       "  background-color: #e3f4de;\n",
       "  color: #000000;\n",
       "}\n",
       "#T_0a144_row8_col3 {\n",
       "  background-color: #e0f3db;\n",
       "  color: #000000;\n",
       "}\n",
       "</style>\n",
       "<table id=\"T_0a144_\">\n",
       "  <thead>\n",
       "    <tr>\n",
       "      <th class=\"blank level0\" >&nbsp;</th>\n",
       "      <th class=\"col_heading level0 col0\" >hypothesis</th>\n",
       "      <th class=\"col_heading level0 col1\" >reach</th>\n",
       "      <th class=\"col_heading level0 col2\" >impact</th>\n",
       "      <th class=\"col_heading level0 col3\" >confidence</th>\n",
       "      <th class=\"col_heading level0 col4\" >efforts</th>\n",
       "      <th class=\"col_heading level0 col5\" >ICE</th>\n",
       "    </tr>\n",
       "  </thead>\n",
       "  <tbody>\n",
       "    <tr>\n",
       "      <th id=\"T_0a144_level0_row0\" class=\"row_heading level0 row0\" >8</th>\n",
       "      <td id=\"T_0a144_row0_col0\" class=\"data row0 col0\" >Запустить акцию, дающую скидку на товар в день рождения</td>\n",
       "      <td id=\"T_0a144_row0_col1\" class=\"data row0 col1\" >1</td>\n",
       "      <td id=\"T_0a144_row0_col2\" class=\"data row0 col2\" >9</td>\n",
       "      <td id=\"T_0a144_row0_col3\" class=\"data row0 col3\" >9</td>\n",
       "      <td id=\"T_0a144_row0_col4\" class=\"data row0 col4\" >5</td>\n",
       "      <td id=\"T_0a144_row0_col5\" class=\"data row0 col5\" >16</td>\n",
       "    </tr>\n",
       "    <tr>\n",
       "      <th id=\"T_0a144_level0_row1\" class=\"row_heading level0 row1\" >0</th>\n",
       "      <td id=\"T_0a144_row1_col0\" class=\"data row1 col0\" >Добавить два новых канала привлечения трафика, что позволит привлекать на 30% больше пользователей</td>\n",
       "      <td id=\"T_0a144_row1_col1\" class=\"data row1 col1\" >3</td>\n",
       "      <td id=\"T_0a144_row1_col2\" class=\"data row1 col2\" >10</td>\n",
       "      <td id=\"T_0a144_row1_col3\" class=\"data row1 col3\" >8</td>\n",
       "      <td id=\"T_0a144_row1_col4\" class=\"data row1 col4\" >6</td>\n",
       "      <td id=\"T_0a144_row1_col5\" class=\"data row1 col5\" >13</td>\n",
       "    </tr>\n",
       "    <tr>\n",
       "      <th id=\"T_0a144_level0_row2\" class=\"row_heading level0 row2\" >7</th>\n",
       "      <td id=\"T_0a144_row2_col0\" class=\"data row2 col0\" >Добавить форму подписки на все основные страницы, чтобы собрать базу клиентов для email-рассылок</td>\n",
       "      <td id=\"T_0a144_row2_col1\" class=\"data row2 col1\" >10</td>\n",
       "      <td id=\"T_0a144_row2_col2\" class=\"data row2 col2\" >7</td>\n",
       "      <td id=\"T_0a144_row2_col3\" class=\"data row2 col3\" >8</td>\n",
       "      <td id=\"T_0a144_row2_col4\" class=\"data row2 col4\" >5</td>\n",
       "      <td id=\"T_0a144_row2_col5\" class=\"data row2 col5\" >11</td>\n",
       "    </tr>\n",
       "    <tr>\n",
       "      <th id=\"T_0a144_level0_row3\" class=\"row_heading level0 row3\" >6</th>\n",
       "      <td id=\"T_0a144_row3_col0\" class=\"data row3 col0\" >Показать на главной странице баннеры с актуальными акциями и распродажами, чтобы увеличить конверсию</td>\n",
       "      <td id=\"T_0a144_row3_col1\" class=\"data row3 col1\" >5</td>\n",
       "      <td id=\"T_0a144_row3_col2\" class=\"data row3 col2\" >3</td>\n",
       "      <td id=\"T_0a144_row3_col3\" class=\"data row3 col3\" >8</td>\n",
       "      <td id=\"T_0a144_row3_col4\" class=\"data row3 col4\" >3</td>\n",
       "      <td id=\"T_0a144_row3_col5\" class=\"data row3 col5\" >8</td>\n",
       "    </tr>\n",
       "    <tr>\n",
       "      <th id=\"T_0a144_level0_row4\" class=\"row_heading level0 row4\" >2</th>\n",
       "      <td id=\"T_0a144_row4_col0\" class=\"data row4 col0\" >Добавить блоки рекомендаций товаров на сайт интернет магазина, чтобы повысить конверсию и средний чек заказа</td>\n",
       "      <td id=\"T_0a144_row4_col1\" class=\"data row4 col1\" >8</td>\n",
       "      <td id=\"T_0a144_row4_col2\" class=\"data row4 col2\" >3</td>\n",
       "      <td id=\"T_0a144_row4_col3\" class=\"data row4 col3\" >7</td>\n",
       "      <td id=\"T_0a144_row4_col4\" class=\"data row4 col4\" >3</td>\n",
       "      <td id=\"T_0a144_row4_col5\" class=\"data row4 col5\" >7</td>\n",
       "    </tr>\n",
       "    <tr>\n",
       "      <th id=\"T_0a144_level0_row5\" class=\"row_heading level0 row5\" >1</th>\n",
       "      <td id=\"T_0a144_row5_col0\" class=\"data row5 col0\" >Запустить собственную службу доставки, что сократит срок доставки заказов</td>\n",
       "      <td id=\"T_0a144_row5_col1\" class=\"data row5 col1\" >2</td>\n",
       "      <td id=\"T_0a144_row5_col2\" class=\"data row5 col2\" >5</td>\n",
       "      <td id=\"T_0a144_row5_col3\" class=\"data row5 col3\" >4</td>\n",
       "      <td id=\"T_0a144_row5_col4\" class=\"data row5 col4\" >10</td>\n",
       "      <td id=\"T_0a144_row5_col5\" class=\"data row5 col5\" >2</td>\n",
       "    </tr>\n",
       "    <tr>\n",
       "      <th id=\"T_0a144_level0_row6\" class=\"row_heading level0 row6\" >3</th>\n",
       "      <td id=\"T_0a144_row6_col0\" class=\"data row6 col0\" >Изменить структура категорий, что увеличит конверсию, т.к. пользователи быстрее найдут нужный товар</td>\n",
       "      <td id=\"T_0a144_row6_col1\" class=\"data row6 col1\" >8</td>\n",
       "      <td id=\"T_0a144_row6_col2\" class=\"data row6 col2\" >3</td>\n",
       "      <td id=\"T_0a144_row6_col3\" class=\"data row6 col3\" >3</td>\n",
       "      <td id=\"T_0a144_row6_col4\" class=\"data row6 col4\" >8</td>\n",
       "      <td id=\"T_0a144_row6_col5\" class=\"data row6 col5\" >1</td>\n",
       "    </tr>\n",
       "    <tr>\n",
       "      <th id=\"T_0a144_level0_row7\" class=\"row_heading level0 row7\" >4</th>\n",
       "      <td id=\"T_0a144_row7_col0\" class=\"data row7 col0\" >Изменить цвет фона главной страницы, чтобы увеличить вовлеченность пользователей</td>\n",
       "      <td id=\"T_0a144_row7_col1\" class=\"data row7 col1\" >3</td>\n",
       "      <td id=\"T_0a144_row7_col2\" class=\"data row7 col2\" >1</td>\n",
       "      <td id=\"T_0a144_row7_col3\" class=\"data row7 col3\" >1</td>\n",
       "      <td id=\"T_0a144_row7_col4\" class=\"data row7 col4\" >1</td>\n",
       "      <td id=\"T_0a144_row7_col5\" class=\"data row7 col5\" >1</td>\n",
       "    </tr>\n",
       "    <tr>\n",
       "      <th id=\"T_0a144_level0_row8\" class=\"row_heading level0 row8\" >5</th>\n",
       "      <td id=\"T_0a144_row8_col0\" class=\"data row8 col0\" >Добавить страницу отзывов клиентов о магазине, что позволит увеличить количество заказов</td>\n",
       "      <td id=\"T_0a144_row8_col1\" class=\"data row8 col1\" >3</td>\n",
       "      <td id=\"T_0a144_row8_col2\" class=\"data row8 col2\" >2</td>\n",
       "      <td id=\"T_0a144_row8_col3\" class=\"data row8 col3\" >2</td>\n",
       "      <td id=\"T_0a144_row8_col4\" class=\"data row8 col4\" >3</td>\n",
       "      <td id=\"T_0a144_row8_col5\" class=\"data row8 col5\" >1</td>\n",
       "    </tr>\n",
       "  </tbody>\n",
       "</table>\n"
      ],
      "text/plain": [
       "<pandas.io.formats.style.Styler at 0x1d7d3b37700>"
      ]
     },
     "execution_count": 21,
     "metadata": {},
     "output_type": "execute_result"
    }
   ],
   "source": [
    "df.sort_values(by='ICE', ascending=False).style\\\n",
    "    .background_gradient(cmap='binary', subset='ICE')\\\n",
    "    .background_gradient(cmap='GnBu', subset=['impact', 'confidence', 'efforts'])"
   ]
  },
  {
   "cell_type": "markdown",
   "metadata": {},
   "source": [
    "Видим, что при расчёте приоритетов по формуле `ICE Score` наиболее приоритетными являются гипотезы \n",
    "`8`, `0` и `7`.\n",
    "\n",
    "Гипотезами средней приоритетности являются гипотезы `6` и `2`."
   ]
  },
  {
   "cell_type": "markdown",
   "metadata": {},
   "source": [
    "### RICE Score"
   ]
  },
  {
   "cell_type": "markdown",
   "metadata": {},
   "source": [
    "Теперь применим формулу `RICE Score`\n",
    "\n",
    "`RICE Score` = `Reach` * `Impact` * `Confidence` / `Efforts`"
   ]
  },
  {
   "cell_type": "code",
   "execution_count": 22,
   "metadata": {},
   "outputs": [],
   "source": [
    "df['RICE'] = (df['reach'] * df['impact'] * df['confidence'] / df['efforts']).round().astype('int')"
   ]
  },
  {
   "cell_type": "code",
   "execution_count": 23,
   "metadata": {
    "scrolled": false
   },
   "outputs": [
    {
     "data": {
      "text/html": [
       "<style type=\"text/css\">\n",
       "#T_78781_row0_col1, #T_78781_row2_col2, #T_78781_row4_col3, #T_78781_row6_col4 {\n",
       "  background-color: #49006a;\n",
       "  color: #f1f1f1;\n",
       "}\n",
       "#T_78781_row0_col2 {\n",
       "  background-color: #cd238f;\n",
       "  color: #f1f1f1;\n",
       "}\n",
       "#T_78781_row0_col3, #T_78781_row2_col3, #T_78781_row3_col3 {\n",
       "  background-color: #790177;\n",
       "  color: #f1f1f1;\n",
       "}\n",
       "#T_78781_row0_col4, #T_78781_row3_col1, #T_78781_row4_col4, #T_78781_row6_col2 {\n",
       "  background-color: #f881aa;\n",
       "  color: #f1f1f1;\n",
       "}\n",
       "#T_78781_row0_col5 {\n",
       "  background-color: #555555;\n",
       "  color: #f1f1f1;\n",
       "}\n",
       "#T_78781_row0_col6, #T_78781_row4_col5 {\n",
       "  background-color: #000000;\n",
       "  color: #f1f1f1;\n",
       "}\n",
       "#T_78781_row1_col1, #T_78781_row5_col1, #T_78781_row5_col4 {\n",
       "  background-color: #a1017c;\n",
       "  color: #f1f1f1;\n",
       "}\n",
       "#T_78781_row1_col2, #T_78781_row1_col4, #T_78781_row2_col1, #T_78781_row3_col2, #T_78781_row3_col4, #T_78781_row5_col2, #T_78781_row7_col1, #T_78781_row7_col4, #T_78781_row8_col1 {\n",
       "  background-color: #fcccc7;\n",
       "  color: #000000;\n",
       "}\n",
       "#T_78781_row1_col3 {\n",
       "  background-color: #ad017e;\n",
       "  color: #f1f1f1;\n",
       "}\n",
       "#T_78781_row1_col5 {\n",
       "  background-color: #999999;\n",
       "  color: #f1f1f1;\n",
       "}\n",
       "#T_78781_row1_col6 {\n",
       "  background-color: #838383;\n",
       "  color: #f1f1f1;\n",
       "}\n",
       "#T_78781_row2_col4 {\n",
       "  background-color: #eb509c;\n",
       "  color: #f1f1f1;\n",
       "}\n",
       "#T_78781_row2_col5 {\n",
       "  background-color: #333333;\n",
       "  color: #f1f1f1;\n",
       "}\n",
       "#T_78781_row2_col6, #T_78781_row3_col6 {\n",
       "  background-color: #a9a9a9;\n",
       "  color: #f1f1f1;\n",
       "}\n",
       "#T_78781_row3_col5 {\n",
       "  background-color: #888888;\n",
       "  color: #f1f1f1;\n",
       "}\n",
       "#T_78781_row4_col1, #T_78781_row8_col2, #T_78781_row8_col3, #T_78781_row8_col4 {\n",
       "  background-color: #fff7f3;\n",
       "  color: #000000;\n",
       "}\n",
       "#T_78781_row4_col2 {\n",
       "  background-color: #740175;\n",
       "  color: #f1f1f1;\n",
       "}\n",
       "#T_78781_row4_col6 {\n",
       "  background-color: #e1e1e1;\n",
       "  color: #000000;\n",
       "}\n",
       "#T_78781_row5_col3 {\n",
       "  background-color: #fcc5c0;\n",
       "  color: #000000;\n",
       "}\n",
       "#T_78781_row5_col5, #T_78781_row7_col5, #T_78781_row8_col5, #T_78781_row8_col6 {\n",
       "  background-color: #ffffff;\n",
       "  color: #000000;\n",
       "}\n",
       "#T_78781_row5_col6 {\n",
       "  background-color: #f1f1f1;\n",
       "  color: #000000;\n",
       "}\n",
       "#T_78781_row6_col1, #T_78781_row7_col2 {\n",
       "  background-color: #fde3e0;\n",
       "  color: #000000;\n",
       "}\n",
       "#T_78781_row6_col3 {\n",
       "  background-color: #fa9eb5;\n",
       "  color: #000000;\n",
       "}\n",
       "#T_78781_row6_col5 {\n",
       "  background-color: #eeeeee;\n",
       "  color: #000000;\n",
       "}\n",
       "#T_78781_row6_col6, #T_78781_row7_col6 {\n",
       "  background-color: #fdfdfd;\n",
       "  color: #000000;\n",
       "}\n",
       "#T_78781_row7_col3 {\n",
       "  background-color: #fde0dd;\n",
       "  color: #000000;\n",
       "}\n",
       "</style>\n",
       "<table id=\"T_78781_\">\n",
       "  <thead>\n",
       "    <tr>\n",
       "      <th class=\"blank level0\" >&nbsp;</th>\n",
       "      <th class=\"col_heading level0 col0\" >hypothesis</th>\n",
       "      <th class=\"col_heading level0 col1\" >reach</th>\n",
       "      <th class=\"col_heading level0 col2\" >impact</th>\n",
       "      <th class=\"col_heading level0 col3\" >confidence</th>\n",
       "      <th class=\"col_heading level0 col4\" >efforts</th>\n",
       "      <th class=\"col_heading level0 col5\" >ICE</th>\n",
       "      <th class=\"col_heading level0 col6\" >RICE</th>\n",
       "    </tr>\n",
       "  </thead>\n",
       "  <tbody>\n",
       "    <tr>\n",
       "      <th id=\"T_78781_level0_row0\" class=\"row_heading level0 row0\" >7</th>\n",
       "      <td id=\"T_78781_row0_col0\" class=\"data row0 col0\" >Добавить форму подписки на все основные страницы, чтобы собрать базу клиентов для email-рассылок</td>\n",
       "      <td id=\"T_78781_row0_col1\" class=\"data row0 col1\" >10</td>\n",
       "      <td id=\"T_78781_row0_col2\" class=\"data row0 col2\" >7</td>\n",
       "      <td id=\"T_78781_row0_col3\" class=\"data row0 col3\" >8</td>\n",
       "      <td id=\"T_78781_row0_col4\" class=\"data row0 col4\" >5</td>\n",
       "      <td id=\"T_78781_row0_col5\" class=\"data row0 col5\" >11</td>\n",
       "      <td id=\"T_78781_row0_col6\" class=\"data row0 col6\" >112</td>\n",
       "    </tr>\n",
       "    <tr>\n",
       "      <th id=\"T_78781_level0_row1\" class=\"row_heading level0 row1\" >2</th>\n",
       "      <td id=\"T_78781_row1_col0\" class=\"data row1 col0\" >Добавить блоки рекомендаций товаров на сайт интернет магазина, чтобы повысить конверсию и средний чек заказа</td>\n",
       "      <td id=\"T_78781_row1_col1\" class=\"data row1 col1\" >8</td>\n",
       "      <td id=\"T_78781_row1_col2\" class=\"data row1 col2\" >3</td>\n",
       "      <td id=\"T_78781_row1_col3\" class=\"data row1 col3\" >7</td>\n",
       "      <td id=\"T_78781_row1_col4\" class=\"data row1 col4\" >3</td>\n",
       "      <td id=\"T_78781_row1_col5\" class=\"data row1 col5\" >7</td>\n",
       "      <td id=\"T_78781_row1_col6\" class=\"data row1 col6\" >56</td>\n",
       "    </tr>\n",
       "    <tr>\n",
       "      <th id=\"T_78781_level0_row2\" class=\"row_heading level0 row2\" >0</th>\n",
       "      <td id=\"T_78781_row2_col0\" class=\"data row2 col0\" >Добавить два новых канала привлечения трафика, что позволит привлекать на 30% больше пользователей</td>\n",
       "      <td id=\"T_78781_row2_col1\" class=\"data row2 col1\" >3</td>\n",
       "      <td id=\"T_78781_row2_col2\" class=\"data row2 col2\" >10</td>\n",
       "      <td id=\"T_78781_row2_col3\" class=\"data row2 col3\" >8</td>\n",
       "      <td id=\"T_78781_row2_col4\" class=\"data row2 col4\" >6</td>\n",
       "      <td id=\"T_78781_row2_col5\" class=\"data row2 col5\" >13</td>\n",
       "      <td id=\"T_78781_row2_col6\" class=\"data row2 col6\" >40</td>\n",
       "    </tr>\n",
       "    <tr>\n",
       "      <th id=\"T_78781_level0_row3\" class=\"row_heading level0 row3\" >6</th>\n",
       "      <td id=\"T_78781_row3_col0\" class=\"data row3 col0\" >Показать на главной странице баннеры с актуальными акциями и распродажами, чтобы увеличить конверсию</td>\n",
       "      <td id=\"T_78781_row3_col1\" class=\"data row3 col1\" >5</td>\n",
       "      <td id=\"T_78781_row3_col2\" class=\"data row3 col2\" >3</td>\n",
       "      <td id=\"T_78781_row3_col3\" class=\"data row3 col3\" >8</td>\n",
       "      <td id=\"T_78781_row3_col4\" class=\"data row3 col4\" >3</td>\n",
       "      <td id=\"T_78781_row3_col5\" class=\"data row3 col5\" >8</td>\n",
       "      <td id=\"T_78781_row3_col6\" class=\"data row3 col6\" >40</td>\n",
       "    </tr>\n",
       "    <tr>\n",
       "      <th id=\"T_78781_level0_row4\" class=\"row_heading level0 row4\" >8</th>\n",
       "      <td id=\"T_78781_row4_col0\" class=\"data row4 col0\" >Запустить акцию, дающую скидку на товар в день рождения</td>\n",
       "      <td id=\"T_78781_row4_col1\" class=\"data row4 col1\" >1</td>\n",
       "      <td id=\"T_78781_row4_col2\" class=\"data row4 col2\" >9</td>\n",
       "      <td id=\"T_78781_row4_col3\" class=\"data row4 col3\" >9</td>\n",
       "      <td id=\"T_78781_row4_col4\" class=\"data row4 col4\" >5</td>\n",
       "      <td id=\"T_78781_row4_col5\" class=\"data row4 col5\" >16</td>\n",
       "      <td id=\"T_78781_row4_col6\" class=\"data row4 col6\" >16</td>\n",
       "    </tr>\n",
       "    <tr>\n",
       "      <th id=\"T_78781_level0_row5\" class=\"row_heading level0 row5\" >3</th>\n",
       "      <td id=\"T_78781_row5_col0\" class=\"data row5 col0\" >Изменить структура категорий, что увеличит конверсию, т.к. пользователи быстрее найдут нужный товар</td>\n",
       "      <td id=\"T_78781_row5_col1\" class=\"data row5 col1\" >8</td>\n",
       "      <td id=\"T_78781_row5_col2\" class=\"data row5 col2\" >3</td>\n",
       "      <td id=\"T_78781_row5_col3\" class=\"data row5 col3\" >3</td>\n",
       "      <td id=\"T_78781_row5_col4\" class=\"data row5 col4\" >8</td>\n",
       "      <td id=\"T_78781_row5_col5\" class=\"data row5 col5\" >1</td>\n",
       "      <td id=\"T_78781_row5_col6\" class=\"data row5 col6\" >9</td>\n",
       "    </tr>\n",
       "    <tr>\n",
       "      <th id=\"T_78781_level0_row6\" class=\"row_heading level0 row6\" >1</th>\n",
       "      <td id=\"T_78781_row6_col0\" class=\"data row6 col0\" >Запустить собственную службу доставки, что сократит срок доставки заказов</td>\n",
       "      <td id=\"T_78781_row6_col1\" class=\"data row6 col1\" >2</td>\n",
       "      <td id=\"T_78781_row6_col2\" class=\"data row6 col2\" >5</td>\n",
       "      <td id=\"T_78781_row6_col3\" class=\"data row6 col3\" >4</td>\n",
       "      <td id=\"T_78781_row6_col4\" class=\"data row6 col4\" >10</td>\n",
       "      <td id=\"T_78781_row6_col5\" class=\"data row6 col5\" >2</td>\n",
       "      <td id=\"T_78781_row6_col6\" class=\"data row6 col6\" >4</td>\n",
       "    </tr>\n",
       "    <tr>\n",
       "      <th id=\"T_78781_level0_row7\" class=\"row_heading level0 row7\" >5</th>\n",
       "      <td id=\"T_78781_row7_col0\" class=\"data row7 col0\" >Добавить страницу отзывов клиентов о магазине, что позволит увеличить количество заказов</td>\n",
       "      <td id=\"T_78781_row7_col1\" class=\"data row7 col1\" >3</td>\n",
       "      <td id=\"T_78781_row7_col2\" class=\"data row7 col2\" >2</td>\n",
       "      <td id=\"T_78781_row7_col3\" class=\"data row7 col3\" >2</td>\n",
       "      <td id=\"T_78781_row7_col4\" class=\"data row7 col4\" >3</td>\n",
       "      <td id=\"T_78781_row7_col5\" class=\"data row7 col5\" >1</td>\n",
       "      <td id=\"T_78781_row7_col6\" class=\"data row7 col6\" >4</td>\n",
       "    </tr>\n",
       "    <tr>\n",
       "      <th id=\"T_78781_level0_row8\" class=\"row_heading level0 row8\" >4</th>\n",
       "      <td id=\"T_78781_row8_col0\" class=\"data row8 col0\" >Изменить цвет фона главной страницы, чтобы увеличить вовлеченность пользователей</td>\n",
       "      <td id=\"T_78781_row8_col1\" class=\"data row8 col1\" >3</td>\n",
       "      <td id=\"T_78781_row8_col2\" class=\"data row8 col2\" >1</td>\n",
       "      <td id=\"T_78781_row8_col3\" class=\"data row8 col3\" >1</td>\n",
       "      <td id=\"T_78781_row8_col4\" class=\"data row8 col4\" >1</td>\n",
       "      <td id=\"T_78781_row8_col5\" class=\"data row8 col5\" >1</td>\n",
       "      <td id=\"T_78781_row8_col6\" class=\"data row8 col6\" >3</td>\n",
       "    </tr>\n",
       "  </tbody>\n",
       "</table>\n"
      ],
      "text/plain": [
       "<pandas.io.formats.style.Styler at 0x1d7d3c9deb0>"
      ]
     },
     "execution_count": 23,
     "metadata": {},
     "output_type": "execute_result"
    }
   ],
   "source": [
    "df.sort_values(by=['RICE'], ascending=False).style\\\n",
    "         .background_gradient(cmap='binary', subset=['ICE', 'RICE'])\\\n",
    "         .background_gradient(cmap='RdPu', subset=['reach', 'impact', 'confidence', 'efforts'])"
   ]
  },
  {
   "cell_type": "markdown",
   "metadata": {},
   "source": [
    "При расчёте приоритетов по формуле `RICE Score` наиболее приоритетными оказались гипотезы `7`, `2`, `0` и `6`.\n",
    "\n",
    "Дело в том, что в формуле `RICE` учитывается дополнительный параметр - `Reach`, то есть \"охват\" - оценка того, какое количество пользователей будет затронуто при реализации данной гипотезы. \n",
    "\n",
    "То есть, например, гипотеза `8`, хоть и стала наиболее приоритетной по формуле `ICE`, она затронет лишь малое количество пользователей - день рождения случается 1 раз в 365 дней. Поэтому её оценка `Reach` всего 1 балл, и по формуле `RICE` эта гипотеза оказалась на 5-м месте по приоритетности. \n",
    "\n",
    "Построим график изменения приоритетов при использовании разных шкал."
   ]
  },
  {
   "cell_type": "code",
   "execution_count": 24,
   "metadata": {},
   "outputs": [
    {
     "data": {
      "image/png": "[encoded data removed]",
      "text/plain": [
       "<Figure size 864x360 with 1 Axes>"
      ]
     },
     "metadata": {
      "needs_background": "light"
     },
     "output_type": "display_data"
    }
   ],
   "source": [
    "plt.figure(figsize=(12, 5))\n",
    "\n",
    "plt.plot(df.sort_values('ICE')['ICE'], df.sort_values('ICE')['RICE'], \n",
    "         c='darkcyan', linestyle='None', marker='D', label='Номер гипотезы')\n",
    "\n",
    "plt.grid()\n",
    "plt.title('Изменение приоритетов при использовании разных шкал')\n",
    "plt.xlabel('Шкала ICE')\n",
    "plt.ylabel('Шкала RICE')\n",
    "plt.xticks(range(1, 17))\n",
    "plt.ylim(0, 125)\n",
    "\n",
    "for i in df['ICE'].unique():\n",
    "    etiqueta = df[df['ICE'] == i].index[0]\n",
    "    \n",
    "    x = df[df['ICE'] == i]['ICE'].mean()  # mean(), потому что без него получается Series, \n",
    "    y = df[df['ICE'] == i]['RICE'].mean()  # а нам нужно конкретное значение\n",
    "    \n",
    "    plt.annotate(etiqueta, (x, y), xytext=(x-0.1, y+5), fontsize=15)\n",
    "     \n",
    "plt.legend()        \n",
    "plt.show()"
   ]
  },
  {
   "cell_type": "markdown",
   "metadata": {},
   "source": [
    "Видим, что график нелинейный. У низких значений по шкале ICE также низкие значения по шкале RICE, но дальше какой-либо взаимосвязи выявить не удаётся."
   ]
  },
  {
   "cell_type": "markdown",
   "metadata": {},
   "source": [
    "##### Вывод\n",
    "\n",
    "Формулы `ICE` и `RICE` отличаются наличем параметра `Reach` во второй из них. Этот параметр указывает, какое количество пользователей будет затронуто предполагаемым изменением. Поэтому шкала приоритетности гипотез для каждой из формул получается разной.\n",
    "\n",
    "Наиболее приоритетной гипотезой можно считать гипотезу `7` - `Добавить форму подписки на все основные страницы, чтобы собрать базу клиентов для email-рассылок` - она лидирует по формуле `RICE` и на третьем месте по формуле `ICE`."
   ]
  },
  {
   "cell_type": "markdown",
   "metadata": {},
   "source": [
    "## Часть 2. Анализ результатов A/B-теста"
   ]
  },
  {
   "cell_type": "markdown",
   "metadata": {},
   "source": [
    "Переходим ко второй части проекта - анализ проведённого A/B-теста. Имеется таблица `orders` с информацией о покупках пользователями из разных групп и `visitors` с информацией о количестве пользователей ежедневно по группам. A/B-тест проводился в течение 1 месяца - с 1 по 31 августа 2019 года. "
   ]
  },
  {
   "cell_type": "markdown",
   "metadata": {},
   "source": [
    "### Исследовательский анализ \"сырых\" данных"
   ]
  },
  {
   "cell_type": "markdown",
   "metadata": {},
   "source": [
    "#### Кумулятивная выручка"
   ]
  },
  {
   "cell_type": "markdown",
   "metadata": {},
   "source": [
    "Построим таблицу с кумулятивными данными."
   ]
  },
  {
   "cell_type": "code",
   "execution_count": 25,
   "metadata": {},
   "outputs": [
    {
     "data": {
      "text/html": [
       "<div>\n",
       "<style scoped>\n",
       "    .dataframe tbody tr th:only-of-type {\n",
       "        vertical-align: middle;\n",
       "    }\n",
       "\n",
       "    .dataframe tbody tr th {\n",
       "        vertical-align: top;\n",
       "    }\n",
       "\n",
       "    .dataframe thead th {\n",
       "        text-align: right;\n",
       "    }\n",
       "</style>\n",
       "<table border=\"1\" class=\"dataframe\">\n",
       "  <thead>\n",
       "    <tr style=\"text-align: right;\">\n",
       "      <th></th>\n",
       "      <th>date</th>\n",
       "      <th>group_a</th>\n",
       "      <th>visitors_a</th>\n",
       "      <th>buyers_a</th>\n",
       "      <th>orders_a</th>\n",
       "      <th>revenue_a</th>\n",
       "      <th>group_b</th>\n",
       "      <th>visitors_b</th>\n",
       "      <th>buyers_b</th>\n",
       "      <th>orders_b</th>\n",
       "      <th>revenue_b</th>\n",
       "    </tr>\n",
       "  </thead>\n",
       "  <tbody>\n",
       "    <tr>\n",
       "      <th>0</th>\n",
       "      <td>2019-08-01</td>\n",
       "      <td>A</td>\n",
       "      <td>719</td>\n",
       "      <td>19</td>\n",
       "      <td>23</td>\n",
       "      <td>142779</td>\n",
       "      <td>B</td>\n",
       "      <td>713</td>\n",
       "      <td>17</td>\n",
       "      <td>17</td>\n",
       "      <td>59758</td>\n",
       "    </tr>\n",
       "    <tr>\n",
       "      <th>1</th>\n",
       "      <td>2019-08-02</td>\n",
       "      <td>A</td>\n",
       "      <td>1338</td>\n",
       "      <td>36</td>\n",
       "      <td>42</td>\n",
       "      <td>234381</td>\n",
       "      <td>B</td>\n",
       "      <td>1294</td>\n",
       "      <td>39</td>\n",
       "      <td>40</td>\n",
       "      <td>221801</td>\n",
       "    </tr>\n",
       "    <tr>\n",
       "      <th>2</th>\n",
       "      <td>2019-08-03</td>\n",
       "      <td>A</td>\n",
       "      <td>1845</td>\n",
       "      <td>60</td>\n",
       "      <td>66</td>\n",
       "      <td>346854</td>\n",
       "      <td>B</td>\n",
       "      <td>1803</td>\n",
       "      <td>53</td>\n",
       "      <td>54</td>\n",
       "      <td>288850</td>\n",
       "    </tr>\n",
       "    <tr>\n",
       "      <th>3</th>\n",
       "      <td>2019-08-04</td>\n",
       "      <td>A</td>\n",
       "      <td>2562</td>\n",
       "      <td>71</td>\n",
       "      <td>77</td>\n",
       "      <td>388030</td>\n",
       "      <td>B</td>\n",
       "      <td>2573</td>\n",
       "      <td>66</td>\n",
       "      <td>68</td>\n",
       "      <td>385740</td>\n",
       "    </tr>\n",
       "    <tr>\n",
       "      <th>4</th>\n",
       "      <td>2019-08-05</td>\n",
       "      <td>A</td>\n",
       "      <td>3318</td>\n",
       "      <td>92</td>\n",
       "      <td>99</td>\n",
       "      <td>474413</td>\n",
       "      <td>B</td>\n",
       "      <td>3280</td>\n",
       "      <td>87</td>\n",
       "      <td>89</td>\n",
       "      <td>475648</td>\n",
       "    </tr>\n",
       "    <tr>\n",
       "      <th>...</th>\n",
       "      <td>...</td>\n",
       "      <td>...</td>\n",
       "      <td>...</td>\n",
       "      <td>...</td>\n",
       "      <td>...</td>\n",
       "      <td>...</td>\n",
       "      <td>...</td>\n",
       "      <td>...</td>\n",
       "      <td>...</td>\n",
       "      <td>...</td>\n",
       "      <td>...</td>\n",
       "    </tr>\n",
       "    <tr>\n",
       "      <th>26</th>\n",
       "      <td>2019-08-27</td>\n",
       "      <td>A</td>\n",
       "      <td>16376</td>\n",
       "      <td>400</td>\n",
       "      <td>419</td>\n",
       "      <td>2940471</td>\n",
       "      <td>B</td>\n",
       "      <td>16523</td>\n",
       "      <td>456</td>\n",
       "      <td>473</td>\n",
       "      <td>4579312</td>\n",
       "    </tr>\n",
       "    <tr>\n",
       "      <th>27</th>\n",
       "      <td>2019-08-28</td>\n",
       "      <td>A</td>\n",
       "      <td>16970</td>\n",
       "      <td>413</td>\n",
       "      <td>434</td>\n",
       "      <td>3036933</td>\n",
       "      <td>B</td>\n",
       "      <td>17177</td>\n",
       "      <td>476</td>\n",
       "      <td>495</td>\n",
       "      <td>4640510</td>\n",
       "    </tr>\n",
       "    <tr>\n",
       "      <th>28</th>\n",
       "      <td>2019-08-29</td>\n",
       "      <td>A</td>\n",
       "      <td>17547</td>\n",
       "      <td>430</td>\n",
       "      <td>451</td>\n",
       "      <td>3233233</td>\n",
       "      <td>B</td>\n",
       "      <td>17708</td>\n",
       "      <td>490</td>\n",
       "      <td>510</td>\n",
       "      <td>4746610</td>\n",
       "    </tr>\n",
       "    <tr>\n",
       "      <th>29</th>\n",
       "      <td>2019-08-30</td>\n",
       "      <td>A</td>\n",
       "      <td>18037</td>\n",
       "      <td>437</td>\n",
       "      <td>460</td>\n",
       "      <td>3311413</td>\n",
       "      <td>B</td>\n",
       "      <td>18198</td>\n",
       "      <td>511</td>\n",
       "      <td>531</td>\n",
       "      <td>4955833</td>\n",
       "    </tr>\n",
       "    <tr>\n",
       "      <th>30</th>\n",
       "      <td>2019-08-31</td>\n",
       "      <td>A</td>\n",
       "      <td>18736</td>\n",
       "      <td>445</td>\n",
       "      <td>468</td>\n",
       "      <td>3364656</td>\n",
       "      <td>B</td>\n",
       "      <td>18916</td>\n",
       "      <td>528</td>\n",
       "      <td>548</td>\n",
       "      <td>5068972</td>\n",
       "    </tr>\n",
       "  </tbody>\n",
       "</table>\n",
       "<p>31 rows × 11 columns</p>\n",
       "</div>"
      ],
      "text/plain": [
       "         date group_a  visitors_a  buyers_a  orders_a  revenue_a group_b  \\\n",
       "0  2019-08-01       A         719        19        23     142779       B   \n",
       "1  2019-08-02       A        1338        36        42     234381       B   \n",
       "2  2019-08-03       A        1845        60        66     346854       B   \n",
       "3  2019-08-04       A        2562        71        77     388030       B   \n",
       "4  2019-08-05       A        3318        92        99     474413       B   \n",
       "..        ...     ...         ...       ...       ...        ...     ...   \n",
       "26 2019-08-27       A       16376       400       419    2940471       B   \n",
       "27 2019-08-28       A       16970       413       434    3036933       B   \n",
       "28 2019-08-29       A       17547       430       451    3233233       B   \n",
       "29 2019-08-30       A       18037       437       460    3311413       B   \n",
       "30 2019-08-31       A       18736       445       468    3364656       B   \n",
       "\n",
       "    visitors_b  buyers_b  orders_b  revenue_b  \n",
       "0          713        17        17      59758  \n",
       "1         1294        39        40     221801  \n",
       "2         1803        53        54     288850  \n",
       "3         2573        66        68     385740  \n",
       "4         3280        87        89     475648  \n",
       "..         ...       ...       ...        ...  \n",
       "26       16523       456       473    4579312  \n",
       "27       17177       476       495    4640510  \n",
       "28       17708       490       510    4746610  \n",
       "29       18198       511       531    4955833  \n",
       "30       18916       528       548    5068972  \n",
       "\n",
       "[31 rows x 11 columns]"
      ]
     },
     "execution_count": 25,
     "metadata": {},
     "output_type": "execute_result"
    }
   ],
   "source": [
    "# создадим таблицу orders_agg с кумулятивными данными по заказам, \n",
    "# покупателям и кумулятивной выручке\n",
    "orders_agg = orders[['date', 'group']].drop_duplicates().apply(\n",
    "    lambda x: orders[np.logical_and(orders['date'] <= x['date'], \\\n",
    "            orders['group'] == x['group'])]\\\n",
    "    .agg({'date':'max', 'group':'max', 'visitor_id':'nunique',\\\n",
    "            'transaction_id':'nunique', 'revenue':'sum'}), axis=1)\\\n",
    "    .sort_values(['date', 'group'])\n",
    "\n",
    "# таблица visitors_agg с кумулятивными данными по количеству посетителей\n",
    "visitors_agg = orders[['date', 'group']].drop_duplicates().apply(\n",
    "    lambda x: visitors[np.logical_and(visitors['date'] <= x['date'],\\\n",
    "            visitors['group'] == x['group'])]\\\n",
    "    .agg({'date':'max', 'group':'max', 'visitors':'sum'}), axis=1)\\\n",
    "    .sort_values(['date', 'group'])\n",
    "\n",
    "# соединим эти две таблицы\n",
    "cumulative_data = visitors_agg.merge(orders_agg, on=['date', 'group'])\n",
    "cumulative_data.columns = ['date', 'group', 'visitors', 'buyers', 'orders', 'revenue']\n",
    "\n",
    "# теперь разделим на 2 части по группам\n",
    "cumulative_data_a = cumulative_data.query('group == \"A\"')\n",
    "cumulative_data_b = cumulative_data.query('group == \"B\"')\n",
    "\n",
    "# и соединим в одну таблицу со всеми кумулятивными данными\n",
    "cumulative_data_merged = cumulative_data_a.merge(cumulative_data_b,\\\n",
    "                         on='date', suffixes=['_a', '_b'])\n",
    "cumulative_data_merged"
   ]
  },
  {
   "cell_type": "markdown",
   "metadata": {},
   "source": [
    "Построим график кумулятивной выручки по группам."
   ]
  },
  {
   "cell_type": "code",
   "execution_count": 26,
   "metadata": {},
   "outputs": [
    {
     "data": {
      "image/png": "[encoded data removed]",
      "text/plain": [
       "<Figure size 864x360 with 1 Axes>"
      ]
     },
     "metadata": {
      "needs_background": "light"
     },
     "output_type": "display_data"
    }
   ],
   "source": [
    "plt.figure(figsize=(12,5))\n",
    "\n",
    "plt.plot(cumulative_data_merged['date'], cumulative_data_merged['revenue_a'], \n",
    "         c='seagreen', lw=2, label='A')\n",
    "\n",
    "plt.plot(cumulative_data_merged['date'], cumulative_data_merged['revenue_b'], \n",
    "         c='tomato', lw=2, label='B')\n",
    "\n",
    "plt.grid()\n",
    "plt.title('Кумулятивная выручка по группам')\n",
    "plt.legend()\n",
    "plt.ticklabel_format(style='plain', axis='y')\n",
    "plt.show()"
   ]
  },
  {
   "cell_type": "markdown",
   "metadata": {},
   "source": [
    "По графику видно, что группа B в концу эксперимента значительно опережает группу A. Но выручка группы B растёт неравномерно - в середине месяца резкий подъём. Скорее всего, был крупный заказ. На основе таких данных выводы делать нельзя. "
   ]
  },
  {
   "cell_type": "markdown",
   "metadata": {},
   "source": [
    "#### Кумулятивный средний чек"
   ]
  },
  {
   "cell_type": "markdown",
   "metadata": {},
   "source": [
    "Для каждой группы рассчитаем кумулятивный средний чек - разделим кумулятивную выручку на кумулятивное количество заказов. По этим данным построим график."
   ]
  },
  {
   "cell_type": "code",
   "execution_count": 27,
   "metadata": {},
   "outputs": [],
   "source": [
    "cumulative_data_merged['avg_check_a'] = \\\n",
    "    cumulative_data_merged['revenue_a']/cumulative_data_merged['orders_a']\n",
    "cumulative_data_merged['avg_check_b'] = \\\n",
    "    cumulative_data_merged['revenue_b']/cumulative_data_merged['orders_b']"
   ]
  },
  {
   "cell_type": "code",
   "execution_count": 28,
   "metadata": {},
   "outputs": [
    {
     "data": {
      "image/png": "[encoded data removed]",
      "text/plain": [
       "<Figure size 936x360 with 1 Axes>"
      ]
     },
     "metadata": {
      "needs_background": "light"
     },
     "output_type": "display_data"
    }
   ],
   "source": [
    "plt.figure(figsize=(13,5))\n",
    "\n",
    "plt.plot(cumulative_data_merged['date'], cumulative_data_merged['avg_check_a'],\\\n",
    "         c='seagreen', lw=2, label='A')\n",
    "\n",
    "plt.plot(cumulative_data_merged['date'], cumulative_data_merged['avg_check_b'],\\\n",
    "         c='tomato', lw=2, label='B')\n",
    "\n",
    "plt.grid()\n",
    "plt.legend()\n",
    "plt.title('Кумулятивный средний чек  по группам')\n",
    "plt.ylim(0, 12000)\n",
    "plt.show()"
   ]
  },
  {
   "cell_type": "markdown",
   "metadata": {},
   "source": [
    "В кумулятивном среднем чеке та же проблема - в середине эксперимента эта метрика для группы B резко уходит вверх, а после этого начинает плавно снижаться. Группа B лидирует, но крупный заказ мог исказить данные."
   ]
  },
  {
   "cell_type": "markdown",
   "metadata": {},
   "source": [
    "#### Относительное изменение кумулятивного среднего чека"
   ]
  },
  {
   "cell_type": "markdown",
   "metadata": {},
   "source": [
    "Построим график относительного изменения кумулятивного среднего чека группы B к группе A."
   ]
  },
  {
   "cell_type": "code",
   "execution_count": 29,
   "metadata": {},
   "outputs": [
    {
     "data": {
      "image/png": "[encoded data removed]",
      "text/plain": [
       "<Figure size 936x360 with 1 Axes>"
      ]
     },
     "metadata": {
      "needs_background": "light"
     },
     "output_type": "display_data"
    }
   ],
   "source": [
    "plt.figure(figsize=(13,5))\n",
    "\n",
    "plt.plot(cumulative_data_merged['date'], \\\n",
    "         cumulative_data_merged['avg_check_b']/cumulative_data_merged['avg_check_a'] - 1,\n",
    "         c='olivedrab', lw=2)\n",
    "\n",
    "plt.grid()\n",
    "plt.title('Относительное изменение кумулятивного среднего чека группы B к группе A')\n",
    "plt.ylim(-0.7, 0.7)\n",
    "plt.axhline(0, color='k', ls='--')\n",
    "plt.axhline(0.3, color='grey', ls='--')\n",
    "plt.show()"
   ]
  },
  {
   "cell_type": "markdown",
   "metadata": {},
   "source": [
    "По графику видим, что относительное изменение кумулятивного среднего чека группы B к группе A неравномерное. К середине теста лидировала группа A, но затем группа B резко её опередила - кумулятивный средний чек стал больше на 50%. Но в оставшееся время теста средний чек в группе B плавно снижался.\n",
    "\n",
    "К концу месяца кумулятивный средний чек в группе B больше на 30%, чем в группе A.\n",
    "\n",
    "Если бы мы принимали решение на основании этих графиков об остановке или продолжении эксперимента, нужно было бы выбрать продолжение, так как из-за выбросов метрики ещё не стабилизировались и нужно накопить больше данных."
   ]
  },
  {
   "cell_type": "markdown",
   "metadata": {},
   "source": [
    "#### Кумулятивная конверсия"
   ]
  },
  {
   "cell_type": "markdown",
   "metadata": {},
   "source": [
    "Рассчитаем кумулятивную конверсию по группам - разделим кумулятивное количество покупателей на кумулятивное количество посетителей. По полученным данным построим график."
   ]
  },
  {
   "cell_type": "code",
   "execution_count": 30,
   "metadata": {},
   "outputs": [],
   "source": [
    "cumulative_data_merged['conversion_a'] = \\\n",
    "    cumulative_data_merged['buyers_a']/cumulative_data_merged['visitors_a']\n",
    "cumulative_data_merged['conversion_b'] = \\\n",
    "    cumulative_data_merged['buyers_b']/cumulative_data_merged['visitors_b']"
   ]
  },
  {
   "cell_type": "code",
   "execution_count": 31,
   "metadata": {
    "scrolled": true
   },
   "outputs": [
    {
     "data": {
      "image/png": "[encoded data removed]",
      "text/plain": [
       "<Figure size 936x360 with 1 Axes>"
      ]
     },
     "metadata": {
      "needs_background": "light"
     },
     "output_type": "display_data"
    }
   ],
   "source": [
    "plt.figure(figsize=(13,5))\n",
    "\n",
    "plt.plot(cumulative_data_merged['date'], cumulative_data_merged['conversion_a'], \\\n",
    "         c='seagreen', lw=2, label='A')\n",
    "plt.plot(cumulative_data_merged['date'], cumulative_data_merged['conversion_b'], \\\n",
    "         c='tomato', lw=2, label='B')\n",
    "\n",
    "plt.grid()\n",
    "plt.title('Кумулятивная конверсия по группам')\n",
    "plt.legend()\n",
    "plt.ylim(0.02, 0.035)\n",
    "plt.show()"
   ]
  },
  {
   "cell_type": "markdown",
   "metadata": {},
   "source": [
    "Видим, что конверсия в группе B стабильно выше, чем в группе A."
   ]
  },
  {
   "cell_type": "markdown",
   "metadata": {},
   "source": [
    "#### Относительное изменение кумулятивной конверсии"
   ]
  },
  {
   "cell_type": "markdown",
   "metadata": {},
   "source": [
    "Построим график относительного изменения кумулятивной конверсии группы B к группе A."
   ]
  },
  {
   "cell_type": "code",
   "execution_count": 32,
   "metadata": {},
   "outputs": [
    {
     "data": {
      "image/png": "[encoded data removed]",
      "text/plain": [
       "<Figure size 864x360 with 1 Axes>"
      ]
     },
     "metadata": {
      "needs_background": "light"
     },
     "output_type": "display_data"
    }
   ],
   "source": [
    "plt.figure(figsize=(12,5))\n",
    "\n",
    "plt.plot(cumulative_data_merged['date'], \\\n",
    "         cumulative_data_merged['conversion_b']/cumulative_data_merged['conversion_a'] - 1,\\\n",
    "         c='darkorchid', lw=2)\n",
    "\n",
    "plt.grid()\n",
    "plt.title('Относительное изменение кумулятивной конверсии группы B к группе A')\n",
    "plt.ylim(-0.4, 0.4)\n",
    "plt.axhline(0, c='k', ls='--')\n",
    "plt.axhline(0.15, c='grey', ls='--')\n",
    "plt.show()"
   ]
  },
  {
   "cell_type": "markdown",
   "metadata": {},
   "source": [
    "В начале эксперимента были колебания относительно нуля, затем группа B стала лидировать. К концу месяца график стабилизировался, конверсия в группе B больше, чем в группе A, примерно на 15%. "
   ]
  },
  {
   "cell_type": "markdown",
   "metadata": {},
   "source": [
    "##### Вывод\n",
    "\n",
    "Мы провели исследовательский анализ \"сырых\" результатов A/B-теста. Видим, что группа B лидирует по всем метрикам - и конверсия больше, и средний чек. Но также видим, что в данных, скорее всего, имеются выбросы, которые могут искажать результаты. "
   ]
  },
  {
   "cell_type": "markdown",
   "metadata": {},
   "source": [
    "### Анализ \"выбросов\""
   ]
  },
  {
   "cell_type": "markdown",
   "metadata": {},
   "source": [
    "#### Количество заказов по пользователям"
   ]
  },
  {
   "cell_type": "markdown",
   "metadata": {},
   "source": [
    "Построим точечный график количества заказов по пользователям. Для этого сгруппируем таблицу `orders` по каждому пользователю, а также по его группе. "
   ]
  },
  {
   "cell_type": "code",
   "execution_count": 33,
   "metadata": {},
   "outputs": [
    {
     "data": {
      "text/html": [
       "<div>\n",
       "<style scoped>\n",
       "    .dataframe tbody tr th:only-of-type {\n",
       "        vertical-align: middle;\n",
       "    }\n",
       "\n",
       "    .dataframe tbody tr th {\n",
       "        vertical-align: top;\n",
       "    }\n",
       "\n",
       "    .dataframe thead th {\n",
       "        text-align: right;\n",
       "    }\n",
       "</style>\n",
       "<table border=\"1\" class=\"dataframe\">\n",
       "  <thead>\n",
       "    <tr style=\"text-align: right;\">\n",
       "      <th></th>\n",
       "      <th>visitor_id</th>\n",
       "      <th>group</th>\n",
       "      <th>orders</th>\n",
       "    </tr>\n",
       "  </thead>\n",
       "  <tbody>\n",
       "    <tr>\n",
       "      <th>908</th>\n",
       "      <td>3967698036</td>\n",
       "      <td>A</td>\n",
       "      <td>3</td>\n",
       "    </tr>\n",
       "    <tr>\n",
       "      <th>55</th>\n",
       "      <td>249864742</td>\n",
       "      <td>B</td>\n",
       "      <td>3</td>\n",
       "    </tr>\n",
       "    <tr>\n",
       "      <th>478</th>\n",
       "      <td>2108163459</td>\n",
       "      <td>A</td>\n",
       "      <td>3</td>\n",
       "    </tr>\n",
       "    <tr>\n",
       "      <th>687</th>\n",
       "      <td>2988190573</td>\n",
       "      <td>A</td>\n",
       "      <td>3</td>\n",
       "    </tr>\n",
       "    <tr>\n",
       "      <th>890</th>\n",
       "      <td>3908431265</td>\n",
       "      <td>A</td>\n",
       "      <td>3</td>\n",
       "    </tr>\n",
       "    <tr>\n",
       "      <th>138</th>\n",
       "      <td>611059232</td>\n",
       "      <td>A</td>\n",
       "      <td>3</td>\n",
       "    </tr>\n",
       "    <tr>\n",
       "      <th>632</th>\n",
       "      <td>2742574263</td>\n",
       "      <td>B</td>\n",
       "      <td>3</td>\n",
       "    </tr>\n",
       "    <tr>\n",
       "      <th>157</th>\n",
       "      <td>678354126</td>\n",
       "      <td>A</td>\n",
       "      <td>2</td>\n",
       "    </tr>\n",
       "    <tr>\n",
       "      <th>323</th>\n",
       "      <td>1404560065</td>\n",
       "      <td>B</td>\n",
       "      <td>2</td>\n",
       "    </tr>\n",
       "    <tr>\n",
       "      <th>452</th>\n",
       "      <td>1985475298</td>\n",
       "      <td>B</td>\n",
       "      <td>2</td>\n",
       "    </tr>\n",
       "  </tbody>\n",
       "</table>\n",
       "</div>"
      ],
      "text/plain": [
       "     visitor_id group  orders\n",
       "908  3967698036     A       3\n",
       "55    249864742     B       3\n",
       "478  2108163459     A       3\n",
       "687  2988190573     A       3\n",
       "890  3908431265     A       3\n",
       "138   611059232     A       3\n",
       "632  2742574263     B       3\n",
       "157   678354126     A       2\n",
       "323  1404560065     B       2\n",
       "452  1985475298     B       2"
      ]
     },
     "execution_count": 33,
     "metadata": {},
     "output_type": "execute_result"
    }
   ],
   "source": [
    "orders_per_user = orders.groupby(['visitor_id', 'group'], as_index=False)\\\n",
    "                    .agg({'transaction_id':'nunique'})\\\n",
    "                    .rename(columns={'transaction_id':'orders'})\n",
    "\n",
    "orders_per_user.sort_values('orders', ascending=False).head(10)"
   ]
  },
  {
   "cell_type": "code",
   "execution_count": 34,
   "metadata": {
    "scrolled": true
   },
   "outputs": [
    {
     "data": {
      "image/png": "[encoded data removed]",
      "text/plain": [
       "<Figure size 1080x288 with 1 Axes>"
      ]
     },
     "metadata": {
      "needs_background": "light"
     },
     "output_type": "display_data"
    }
   ],
   "source": [
    "plt.figure(figsize=(15,4))\n",
    "plt.scatter(orders_per_user.index.values, orders_per_user['orders'], c='salmon')\n",
    "plt.grid()\n",
    "plt.title('Количество заказов по пользователям')\n",
    "plt.yticks(range(0, 6))\n",
    "plt.xlabel('Условный номер пользователя')\n",
    "plt.show()"
   ]
  },
  {
   "cell_type": "markdown",
   "metadata": {},
   "source": [
    "Видим, что подавляющее большинство покупателей сделали один заказ за месяц. Есть небольшое количество людей, сделавших 2 или 3 заказа. "
   ]
  },
  {
   "cell_type": "markdown",
   "metadata": {},
   "source": [
    "#### Граница аномальных пользователей"
   ]
  },
  {
   "cell_type": "markdown",
   "metadata": {},
   "source": [
    "Найдём 90, 95 и 99-й перцентили по количеству заказов."
   ]
  },
  {
   "cell_type": "code",
   "execution_count": 35,
   "metadata": {},
   "outputs": [
    {
     "data": {
      "text/plain": [
       "array([1., 1., 2.])"
      ]
     },
     "execution_count": 35,
     "metadata": {},
     "output_type": "execute_result"
    }
   ],
   "source": [
    "np.percentile(orders_per_user['orders'], [90, 95, 99])"
   ]
  },
  {
   "cell_type": "markdown",
   "metadata": {},
   "source": [
    "Только 5% пользователей делают более 1-го заказа, и только 1% пользователей делают более двух заказов. \n",
    "\n",
    "На самом деле, если бы на первом этапе предобработки данных мы бы не удалили пользователей, попавших в разные группы теста, то на данном этапе выявились бы клиенты, сделавшие большое количество заказов. \n",
    "\n",
    "Определим границу аномальных пользователей, как тех, кто сделал более 2-х заказов, то есть 99-й перцентиль."
   ]
  },
  {
   "cell_type": "code",
   "execution_count": 36,
   "metadata": {},
   "outputs": [],
   "source": [
    "limit_orders = 2"
   ]
  },
  {
   "cell_type": "markdown",
   "metadata": {},
   "source": [
    "#### Стоимость заказов"
   ]
  },
  {
   "cell_type": "markdown",
   "metadata": {},
   "source": [
    "Отсортируем таблицу `orders` по стоимости заказа."
   ]
  },
  {
   "cell_type": "code",
   "execution_count": 37,
   "metadata": {},
   "outputs": [
    {
     "data": {
      "text/html": [
       "<div>\n",
       "<style scoped>\n",
       "    .dataframe tbody tr th:only-of-type {\n",
       "        vertical-align: middle;\n",
       "    }\n",
       "\n",
       "    .dataframe tbody tr th {\n",
       "        vertical-align: top;\n",
       "    }\n",
       "\n",
       "    .dataframe thead th {\n",
       "        text-align: right;\n",
       "    }\n",
       "</style>\n",
       "<table border=\"1\" class=\"dataframe\">\n",
       "  <thead>\n",
       "    <tr style=\"text-align: right;\">\n",
       "      <th></th>\n",
       "      <th>transaction_id</th>\n",
       "      <th>visitor_id</th>\n",
       "      <th>date</th>\n",
       "      <th>revenue</th>\n",
       "      <th>group</th>\n",
       "    </tr>\n",
       "  </thead>\n",
       "  <tbody>\n",
       "    <tr>\n",
       "      <th>365</th>\n",
       "      <td>590470918</td>\n",
       "      <td>1920142716</td>\n",
       "      <td>2019-08-19</td>\n",
       "      <td>1294500</td>\n",
       "      <td>B</td>\n",
       "    </tr>\n",
       "    <tr>\n",
       "      <th>1015</th>\n",
       "      <td>3936777065</td>\n",
       "      <td>2108080724</td>\n",
       "      <td>2019-08-15</td>\n",
       "      <td>202740</td>\n",
       "      <td>B</td>\n",
       "    </tr>\n",
       "    <tr>\n",
       "      <th>971</th>\n",
       "      <td>666610489</td>\n",
       "      <td>1307669133</td>\n",
       "      <td>2019-08-13</td>\n",
       "      <td>92550</td>\n",
       "      <td>A</td>\n",
       "    </tr>\n",
       "    <tr>\n",
       "      <th>632</th>\n",
       "      <td>3668308183</td>\n",
       "      <td>888512513</td>\n",
       "      <td>2019-08-27</td>\n",
       "      <td>86620</td>\n",
       "      <td>B</td>\n",
       "    </tr>\n",
       "    <tr>\n",
       "      <th>631</th>\n",
       "      <td>3603576309</td>\n",
       "      <td>4133034833</td>\n",
       "      <td>2019-08-09</td>\n",
       "      <td>67990</td>\n",
       "      <td>A</td>\n",
       "    </tr>\n",
       "    <tr>\n",
       "      <th>939</th>\n",
       "      <td>1348774318</td>\n",
       "      <td>1164614297</td>\n",
       "      <td>2019-08-12</td>\n",
       "      <td>66350</td>\n",
       "      <td>A</td>\n",
       "    </tr>\n",
       "    <tr>\n",
       "      <th>937</th>\n",
       "      <td>316924019</td>\n",
       "      <td>148427295</td>\n",
       "      <td>2019-08-12</td>\n",
       "      <td>65710</td>\n",
       "      <td>A</td>\n",
       "    </tr>\n",
       "    <tr>\n",
       "      <th>811</th>\n",
       "      <td>1347999392</td>\n",
       "      <td>887908475</td>\n",
       "      <td>2019-08-21</td>\n",
       "      <td>60450</td>\n",
       "      <td>A</td>\n",
       "    </tr>\n",
       "    <tr>\n",
       "      <th>802</th>\n",
       "      <td>2420050534</td>\n",
       "      <td>4003628586</td>\n",
       "      <td>2019-08-08</td>\n",
       "      <td>58550</td>\n",
       "      <td>B</td>\n",
       "    </tr>\n",
       "    <tr>\n",
       "      <th>109</th>\n",
       "      <td>3163614039</td>\n",
       "      <td>2254586615</td>\n",
       "      <td>2019-08-22</td>\n",
       "      <td>53904</td>\n",
       "      <td>A</td>\n",
       "    </tr>\n",
       "  </tbody>\n",
       "</table>\n",
       "</div>"
      ],
      "text/plain": [
       "      transaction_id  visitor_id       date  revenue group\n",
       "365        590470918  1920142716 2019-08-19  1294500     B\n",
       "1015      3936777065  2108080724 2019-08-15   202740     B\n",
       "971        666610489  1307669133 2019-08-13    92550     A\n",
       "632       3668308183   888512513 2019-08-27    86620     B\n",
       "631       3603576309  4133034833 2019-08-09    67990     A\n",
       "939       1348774318  1164614297 2019-08-12    66350     A\n",
       "937        316924019   148427295 2019-08-12    65710     A\n",
       "811       1347999392   887908475 2019-08-21    60450     A\n",
       "802       2420050534  4003628586 2019-08-08    58550     B\n",
       "109       3163614039  2254586615 2019-08-22    53904     A"
      ]
     },
     "execution_count": 37,
     "metadata": {},
     "output_type": "execute_result"
    }
   ],
   "source": [
    "orders.sort_values(['revenue'], ascending=False).head(10)"
   ]
  },
  {
   "cell_type": "markdown",
   "metadata": {},
   "source": [
    "Видим, что самый большой заказ был почти на 1,3 миллиона у.е. - скорее всего, именно он поднял графики кумулятивной выручки и среднего чека группы B резко вверх. \n",
    "\n",
    "Построим точечный график стоимостей заказов."
   ]
  },
  {
   "cell_type": "code",
   "execution_count": 38,
   "metadata": {},
   "outputs": [
    {
     "data": {
      "image/png": "[encoded data removed]",
      "text/plain": [
       "<Figure size 864x432 with 1 Axes>"
      ]
     },
     "metadata": {
      "needs_background": "light"
     },
     "output_type": "display_data"
    }
   ],
   "source": [
    "plt.figure(figsize=(12,6))\n",
    "plt.scatter(orders.index.values, orders['revenue'], c='olive')\n",
    "plt.grid()\n",
    "plt.title('Стоимость одного заказа')\n",
    "plt.xlabel('Условный номер заказа')\n",
    "plt.ticklabel_format(style='plain', axis='y')\n",
    "plt.axhline(100000, c='k', ls='--')\n",
    "plt.show()"
   ]
  },
  {
   "cell_type": "markdown",
   "metadata": {},
   "source": [
    "Видим, что выше 100 тыс. у.е. находятся только 2 заказа. По графику приблизительно видно, что большинство заказов находится в пределах 50 тыс у.е. "
   ]
  },
  {
   "cell_type": "markdown",
   "metadata": {},
   "source": [
    "#### Граница аномальных заказов"
   ]
  },
  {
   "cell_type": "markdown",
   "metadata": {},
   "source": [
    "Найдём 90, 95 и 99-й перцентили по стоимости заказов."
   ]
  },
  {
   "cell_type": "code",
   "execution_count": 39,
   "metadata": {},
   "outputs": [
    {
     "data": {
      "text/plain": [
       "array([17990., 26785., 53904.])"
      ]
     },
     "execution_count": 39,
     "metadata": {},
     "output_type": "execute_result"
    }
   ],
   "source": [
    "np.percentile(orders['revenue'], [90, 95, 99])"
   ]
  },
  {
   "cell_type": "markdown",
   "metadata": {},
   "source": [
    "Только 5% заказов имеют стоимость более 27 тысяч, только 1% заказов имеет стоимость более 54 тысяч у.е. \n",
    "\n",
    "Определим границу аномальных заказов как более 30 тысяч у.е., то есть между 95 и 99 перцентилем."
   ]
  },
  {
   "cell_type": "code",
   "execution_count": 40,
   "metadata": {},
   "outputs": [],
   "source": [
    "limit_price = 30000"
   ]
  },
  {
   "cell_type": "markdown",
   "metadata": {},
   "source": [
    "##### Вывод\n",
    "\n",
    "Таким образом, мы проанализировали данные на предмет аномальных значений. \n",
    "\n",
    "Определили, что среди количества заказов особо аномальных значений нет (разброс от 1 до 3-х заказов), но количество заказов более 2-х будем считать аномальным. \n",
    "\n",
    "Определили, что имеются \"выбросы\" по стоимости заказов, которые могут искажать результаты, и определили границу, после которой стоимость заказа считается аномальной - более 30 тысяч у.е."
   ]
  },
  {
   "cell_type": "markdown",
   "metadata": {},
   "source": [
    "### Статистический анализ \"сырых\" данных"
   ]
  },
  {
   "cell_type": "markdown",
   "metadata": {},
   "source": [
    "#### Статистическая значимость различий в конверсии"
   ]
  },
  {
   "cell_type": "markdown",
   "metadata": {},
   "source": [
    "Приступим к статистическому анализу. \n",
    "\n",
    "Конверсия - это доля покупателей среди всех посетителей. Поскольку это доля, будем применять для анализа критерий хи-квадрат. \n",
    "\n",
    "Помним, что у нас есть таблица `cumulative_data_merged`, соединенная из двух таблиц `cumulative_data_a` и `cumulative_data_b`"
   ]
  },
  {
   "cell_type": "code",
   "execution_count": 41,
   "metadata": {},
   "outputs": [
    {
     "data": {
      "text/html": [
       "<div>\n",
       "<style scoped>\n",
       "    .dataframe tbody tr th:only-of-type {\n",
       "        vertical-align: middle;\n",
       "    }\n",
       "\n",
       "    .dataframe tbody tr th {\n",
       "        vertical-align: top;\n",
       "    }\n",
       "\n",
       "    .dataframe thead th {\n",
       "        text-align: right;\n",
       "    }\n",
       "</style>\n",
       "<table border=\"1\" class=\"dataframe\">\n",
       "  <thead>\n",
       "    <tr style=\"text-align: right;\">\n",
       "      <th></th>\n",
       "      <th>date</th>\n",
       "      <th>group_a</th>\n",
       "      <th>visitors_a</th>\n",
       "      <th>buyers_a</th>\n",
       "      <th>orders_a</th>\n",
       "      <th>revenue_a</th>\n",
       "      <th>group_b</th>\n",
       "      <th>visitors_b</th>\n",
       "      <th>buyers_b</th>\n",
       "      <th>orders_b</th>\n",
       "      <th>revenue_b</th>\n",
       "      <th>avg_check_a</th>\n",
       "      <th>avg_check_b</th>\n",
       "      <th>conversion_a</th>\n",
       "      <th>conversion_b</th>\n",
       "    </tr>\n",
       "  </thead>\n",
       "  <tbody>\n",
       "    <tr>\n",
       "      <th>26</th>\n",
       "      <td>2019-08-27</td>\n",
       "      <td>A</td>\n",
       "      <td>16376</td>\n",
       "      <td>400</td>\n",
       "      <td>419</td>\n",
       "      <td>2940471</td>\n",
       "      <td>B</td>\n",
       "      <td>16523</td>\n",
       "      <td>456</td>\n",
       "      <td>473</td>\n",
       "      <td>4579312</td>\n",
       "      <td>7017.830549</td>\n",
       "      <td>9681.420719</td>\n",
       "      <td>0.024426</td>\n",
       "      <td>0.027598</td>\n",
       "    </tr>\n",
       "    <tr>\n",
       "      <th>27</th>\n",
       "      <td>2019-08-28</td>\n",
       "      <td>A</td>\n",
       "      <td>16970</td>\n",
       "      <td>413</td>\n",
       "      <td>434</td>\n",
       "      <td>3036933</td>\n",
       "      <td>B</td>\n",
       "      <td>17177</td>\n",
       "      <td>476</td>\n",
       "      <td>495</td>\n",
       "      <td>4640510</td>\n",
       "      <td>6997.541475</td>\n",
       "      <td>9374.767677</td>\n",
       "      <td>0.024337</td>\n",
       "      <td>0.027711</td>\n",
       "    </tr>\n",
       "    <tr>\n",
       "      <th>28</th>\n",
       "      <td>2019-08-29</td>\n",
       "      <td>A</td>\n",
       "      <td>17547</td>\n",
       "      <td>430</td>\n",
       "      <td>451</td>\n",
       "      <td>3233233</td>\n",
       "      <td>B</td>\n",
       "      <td>17708</td>\n",
       "      <td>490</td>\n",
       "      <td>510</td>\n",
       "      <td>4746610</td>\n",
       "      <td>7169.031042</td>\n",
       "      <td>9307.078431</td>\n",
       "      <td>0.024506</td>\n",
       "      <td>0.027671</td>\n",
       "    </tr>\n",
       "    <tr>\n",
       "      <th>29</th>\n",
       "      <td>2019-08-30</td>\n",
       "      <td>A</td>\n",
       "      <td>18037</td>\n",
       "      <td>437</td>\n",
       "      <td>460</td>\n",
       "      <td>3311413</td>\n",
       "      <td>B</td>\n",
       "      <td>18198</td>\n",
       "      <td>511</td>\n",
       "      <td>531</td>\n",
       "      <td>4955833</td>\n",
       "      <td>7198.723913</td>\n",
       "      <td>9333.018832</td>\n",
       "      <td>0.024228</td>\n",
       "      <td>0.028080</td>\n",
       "    </tr>\n",
       "    <tr>\n",
       "      <th>30</th>\n",
       "      <td>2019-08-31</td>\n",
       "      <td>A</td>\n",
       "      <td>18736</td>\n",
       "      <td>445</td>\n",
       "      <td>468</td>\n",
       "      <td>3364656</td>\n",
       "      <td>B</td>\n",
       "      <td>18916</td>\n",
       "      <td>528</td>\n",
       "      <td>548</td>\n",
       "      <td>5068972</td>\n",
       "      <td>7189.435897</td>\n",
       "      <td>9249.948905</td>\n",
       "      <td>0.023751</td>\n",
       "      <td>0.027913</td>\n",
       "    </tr>\n",
       "  </tbody>\n",
       "</table>\n",
       "</div>"
      ],
      "text/plain": [
       "         date group_a  visitors_a  buyers_a  orders_a  revenue_a group_b  \\\n",
       "26 2019-08-27       A       16376       400       419    2940471       B   \n",
       "27 2019-08-28       A       16970       413       434    3036933       B   \n",
       "28 2019-08-29       A       17547       430       451    3233233       B   \n",
       "29 2019-08-30       A       18037       437       460    3311413       B   \n",
       "30 2019-08-31       A       18736       445       468    3364656       B   \n",
       "\n",
       "    visitors_b  buyers_b  orders_b  revenue_b  avg_check_a  avg_check_b  \\\n",
       "26       16523       456       473    4579312  7017.830549  9681.420719   \n",
       "27       17177       476       495    4640510  6997.541475  9374.767677   \n",
       "28       17708       490       510    4746610  7169.031042  9307.078431   \n",
       "29       18198       511       531    4955833  7198.723913  9333.018832   \n",
       "30       18916       528       548    5068972  7189.435897  9249.948905   \n",
       "\n",
       "    conversion_a  conversion_b  \n",
       "26      0.024426      0.027598  \n",
       "27      0.024337      0.027711  \n",
       "28      0.024506      0.027671  \n",
       "29      0.024228      0.028080  \n",
       "30      0.023751      0.027913  "
      ]
     },
     "execution_count": 41,
     "metadata": {},
     "output_type": "execute_result"
    }
   ],
   "source": [
    "cumulative_data_merged.tail()"
   ]
  },
  {
   "cell_type": "markdown",
   "metadata": {},
   "source": [
    "В этой таблице (а также в `cumulative_data_a` и `cumulative_data_b` по отдельности) последняя строка соответствует накопленным за месяц данным. То есть, в последней строке содержатся данные о месячном количестве посетителей и месячном количестве покупателей.\n",
    "\n",
    "Составим из этих строк таблицу `month_data` с данными за весь месяц."
   ]
  },
  {
   "cell_type": "code",
   "execution_count": 42,
   "metadata": {},
   "outputs": [
    {
     "data": {
      "text/html": [
       "<div>\n",
       "<style scoped>\n",
       "    .dataframe tbody tr th:only-of-type {\n",
       "        vertical-align: middle;\n",
       "    }\n",
       "\n",
       "    .dataframe tbody tr th {\n",
       "        vertical-align: top;\n",
       "    }\n",
       "\n",
       "    .dataframe thead th {\n",
       "        text-align: right;\n",
       "    }\n",
       "</style>\n",
       "<table border=\"1\" class=\"dataframe\">\n",
       "  <thead>\n",
       "    <tr style=\"text-align: right;\">\n",
       "      <th></th>\n",
       "      <th>date</th>\n",
       "      <th>group</th>\n",
       "      <th>visitors</th>\n",
       "      <th>buyers</th>\n",
       "      <th>orders</th>\n",
       "      <th>revenue</th>\n",
       "    </tr>\n",
       "  </thead>\n",
       "  <tbody>\n",
       "    <tr>\n",
       "      <th>0</th>\n",
       "      <td>2019-08-31</td>\n",
       "      <td>A</td>\n",
       "      <td>18736</td>\n",
       "      <td>445</td>\n",
       "      <td>468</td>\n",
       "      <td>3364656</td>\n",
       "    </tr>\n",
       "    <tr>\n",
       "      <th>1</th>\n",
       "      <td>2019-08-31</td>\n",
       "      <td>B</td>\n",
       "      <td>18916</td>\n",
       "      <td>528</td>\n",
       "      <td>548</td>\n",
       "      <td>5068972</td>\n",
       "    </tr>\n",
       "  </tbody>\n",
       "</table>\n",
       "</div>"
      ],
      "text/plain": [
       "        date group  visitors  buyers  orders  revenue\n",
       "0 2019-08-31     A     18736     445     468  3364656\n",
       "1 2019-08-31     B     18916     528     548  5068972"
      ]
     },
     "execution_count": 42,
     "metadata": {},
     "output_type": "execute_result"
    }
   ],
   "source": [
    "month_data = pd.concat([cumulative_data_a.query('date == \"2019-08-31\"'), \\\n",
    "                        cumulative_data_b.query('date == \"2019-08-31\"')])\n",
    "month_data.reset_index(inplace=True, drop=True)\n",
    "month_data"
   ]
  },
  {
   "cell_type": "markdown",
   "metadata": {},
   "source": [
    "Теперь на основании получившейся таблицы подготовим данные для анализа с помощью критерия хи-квадрат. "
   ]
  },
  {
   "cell_type": "code",
   "execution_count": 43,
   "metadata": {},
   "outputs": [
    {
     "data": {
      "text/html": [
       "<div>\n",
       "<style scoped>\n",
       "    .dataframe tbody tr th:only-of-type {\n",
       "        vertical-align: middle;\n",
       "    }\n",
       "\n",
       "    .dataframe tbody tr th {\n",
       "        vertical-align: top;\n",
       "    }\n",
       "\n",
       "    .dataframe thead th {\n",
       "        text-align: right;\n",
       "    }\n",
       "</style>\n",
       "<table border=\"1\" class=\"dataframe\">\n",
       "  <thead>\n",
       "    <tr style=\"text-align: right;\">\n",
       "      <th></th>\n",
       "      <th>date</th>\n",
       "      <th>group</th>\n",
       "      <th>visitors</th>\n",
       "      <th>buyers</th>\n",
       "      <th>orders</th>\n",
       "      <th>revenue</th>\n",
       "      <th>not_buyers</th>\n",
       "      <th>conversion</th>\n",
       "    </tr>\n",
       "  </thead>\n",
       "  <tbody>\n",
       "    <tr>\n",
       "      <th>0</th>\n",
       "      <td>2019-08-31</td>\n",
       "      <td>A</td>\n",
       "      <td>18736</td>\n",
       "      <td>445</td>\n",
       "      <td>468</td>\n",
       "      <td>3364656</td>\n",
       "      <td>18291</td>\n",
       "      <td>0.023751</td>\n",
       "    </tr>\n",
       "    <tr>\n",
       "      <th>1</th>\n",
       "      <td>2019-08-31</td>\n",
       "      <td>B</td>\n",
       "      <td>18916</td>\n",
       "      <td>528</td>\n",
       "      <td>548</td>\n",
       "      <td>5068972</td>\n",
       "      <td>18388</td>\n",
       "      <td>0.027913</td>\n",
       "    </tr>\n",
       "  </tbody>\n",
       "</table>\n",
       "</div>"
      ],
      "text/plain": [
       "        date group  visitors  buyers  orders  revenue  not_buyers  conversion\n",
       "0 2019-08-31     A     18736     445     468  3364656       18291    0.023751\n",
       "1 2019-08-31     B     18916     528     548  5068972       18388    0.027913"
      ]
     },
     "execution_count": 43,
     "metadata": {},
     "output_type": "execute_result"
    }
   ],
   "source": [
    "month_data['not_buyers'] = month_data['visitors'] - month_data['buyers']\n",
    "month_data['conversion'] = month_data['buyers']/month_data['visitors']\n",
    "month_data"
   ]
  },
  {
   "cell_type": "markdown",
   "metadata": {},
   "source": [
    "Видим, что конверсия в группе A составляет 2,4%, конверсия в группе B составляет 2,8%.\n",
    "\n",
    "Сохраним значения конверсии в отдельные переменные."
   ]
  },
  {
   "cell_type": "code",
   "execution_count": 44,
   "metadata": {},
   "outputs": [],
   "source": [
    "# mean(), потому что иначе это будет объект Series, а нам нужно число\n",
    "conversion_a = month_data[month_data['group'] == 'A']['conversion'].mean()\n",
    "conversion_b = month_data[month_data['group'] == 'B']['conversion'].mean()"
   ]
  },
  {
   "cell_type": "markdown",
   "metadata": {},
   "source": [
    "Таблица для анализа с помощью критерия хи-квадрат:"
   ]
  },
  {
   "cell_type": "code",
   "execution_count": 45,
   "metadata": {},
   "outputs": [
    {
     "data": {
      "text/html": [
       "<div>\n",
       "<style scoped>\n",
       "    .dataframe tbody tr th:only-of-type {\n",
       "        vertical-align: middle;\n",
       "    }\n",
       "\n",
       "    .dataframe tbody tr th {\n",
       "        vertical-align: top;\n",
       "    }\n",
       "\n",
       "    .dataframe thead th {\n",
       "        text-align: right;\n",
       "    }\n",
       "</style>\n",
       "<table border=\"1\" class=\"dataframe\">\n",
       "  <thead>\n",
       "    <tr style=\"text-align: right;\">\n",
       "      <th></th>\n",
       "      <th>not_buyers</th>\n",
       "      <th>buyers</th>\n",
       "    </tr>\n",
       "  </thead>\n",
       "  <tbody>\n",
       "    <tr>\n",
       "      <th>0</th>\n",
       "      <td>18291</td>\n",
       "      <td>445</td>\n",
       "    </tr>\n",
       "    <tr>\n",
       "      <th>1</th>\n",
       "      <td>18388</td>\n",
       "      <td>528</td>\n",
       "    </tr>\n",
       "  </tbody>\n",
       "</table>\n",
       "</div>"
      ],
      "text/plain": [
       "   not_buyers  buyers\n",
       "0       18291     445\n",
       "1       18388     528"
      ]
     },
     "execution_count": 45,
     "metadata": {},
     "output_type": "execute_result"
    }
   ],
   "source": [
    "month_data[['not_buyers', 'buyers']]"
   ]
  },
  {
   "cell_type": "markdown",
   "metadata": {},
   "source": [
    "Нулевая гипотеза: разницы между конверсиями в группах A и B нет. \n",
    "\n",
    "Альтернативная гипотеза: разница между конверсиями в группах A и B есть.\n",
    "\n",
    "Проверим гипотезу с помощью критерия хи-квадрат.\n",
    "\n",
    "Уровень значимости alpha примем за 0.05, так как он менее жесткий, чем 0.01."
   ]
  },
  {
   "cell_type": "code",
   "execution_count": 46,
   "metadata": {},
   "outputs": [
    {
     "name": "stdout",
     "output_type": "stream",
     "text": [
      "Конверсия для группы A по сырым данным: 2.4%\n",
      "Конверсия для группы B по сырым данным: 2.8%\n",
      "\n",
      "Статистическая значимость различий в конверсии между группами по сырым данным: 0.011\n",
      "\n",
      "Отвергаем нулевую гипотезу: статистическая значимость есть\n",
      "\n",
      "Относительный прирост конверсии группы B к группе A по сырым данным: 17.5%\n"
     ]
    }
   ],
   "source": [
    "alpha = 0.05\n",
    "\n",
    "print('Конверсия для группы A по сырым данным: {:.1%}'.format(\n",
    "    conversion_a))\n",
    "print('Конверсия для группы B по сырым данным: {:.1%}'.format(\n",
    "    conversion_b))\n",
    "print()\n",
    "\n",
    "p_value = chi2_contingency(month_data[['not_buyers', 'buyers']], correction=False)[1]\n",
    "\n",
    "print('Статистическая значимость различий в конверсии между группами по сырым данным: {:.3f}'\\\n",
    "      .format(p_value))\n",
    "print()\n",
    "\n",
    "if p_value < alpha:\n",
    "    print('Отвергаем нулевую гипотезу: статистическая значимость есть')\n",
    "else:\n",
    "    print('Не получилось отвергнуть нулевую гипотезу, статистической значимости нет')\n",
    "print()\n",
    "\n",
    "print('Относительный прирост конверсии группы B к группе A по сырым данным: {:.1%}'\\\n",
    "      .format(conversion_b/conversion_a - 1))"
   ]
  },
  {
   "cell_type": "markdown",
   "metadata": {},
   "source": [
    "По результату проведенного статистического анализа \"сырых\" данных отвергаем нулевую гипотезу и принимаем альтернативную: есть статистически значимая разница между конверсиями в группах A и B. А именно, конверсия в группе B больше на 17,5%, чем в группе A."
   ]
  },
  {
   "cell_type": "markdown",
   "metadata": {},
   "source": [
    "#### Статистическая значимость различий в среднем чеке"
   ]
  },
  {
   "cell_type": "markdown",
   "metadata": {},
   "source": [
    "Переходим к статистическому анализу различий в среднем чеке между группами A и B по \"сырым\" данным. Создадим отдельные переменные `avg_check_a` и `avg_check_b`, содержащие информацию о сумме каждого заказа в каждой группе."
   ]
  },
  {
   "cell_type": "code",
   "execution_count": 47,
   "metadata": {},
   "outputs": [],
   "source": [
    "avg_check_a = orders[orders['group'] == 'A']['revenue']\n",
    "avg_check_b = orders[orders['group'] == 'B']['revenue']"
   ]
  },
  {
   "cell_type": "markdown",
   "metadata": {},
   "source": [
    "Чтобы выбрать, каким способом проверять статистическую значимость между группами, нужно знать, как распределены данные - нормально или нет. \n",
    "\n",
    "Чтобы понять, как распределены данные, построим гистограммы распределений для каждой переменной. "
   ]
  },
  {
   "cell_type": "code",
   "execution_count": 48,
   "metadata": {},
   "outputs": [
    {
     "data": {
      "image/png": "[encoded data removed]",
      "text/plain": [
       "<Figure size 1008x288 with 2 Axes>"
      ]
     },
     "metadata": {
      "needs_background": "light"
     },
     "output_type": "display_data"
    }
   ],
   "source": [
    "fig, (ax1, ax2) = plt.subplots(1, 2, figsize=(14, 4))\n",
    "\n",
    "ax1.hist(avg_check_a, color='lightcoral', bins=30)\n",
    "ax1.grid()\n",
    "ax1.set_title('Распределение среднего чека в группе A')\n",
    "ax1.set_xlabel('Сумма среднего чека')\n",
    "\n",
    "ax2.hist(avg_check_b, color='goldenrod', bins=30)\n",
    "ax2.grid()\n",
    "ax2.set_title('Распределение среднего чека в группе B')\n",
    "ax2.ticklabel_format(style='plain')\n",
    "ax2.set_xlabel('Сумма среднего чека')\n",
    "\n",
    "plt.show()"
   ]
  },
  {
   "cell_type": "markdown",
   "metadata": {},
   "source": [
    "Видим, что распределения ненормальные. Тем не менее, проверим их ещё с помощью критерия Шапиро-Уилка.\n",
    "\n",
    "Alpha по-прежднему равна 0.05"
   ]
  },
  {
   "cell_type": "code",
   "execution_count": 49,
   "metadata": {},
   "outputs": [
    {
     "name": "stdout",
     "output_type": "stream",
     "text": [
      "p_value для распределения среднего чека группы A: 0.00000\n",
      "Отвергаем нулевую гипотезу: распределение не нормально\n",
      "\n",
      "p_value для распределения среднего чека группы B: 0.00000\n",
      "Отвергаем нулевую гипотезу: распределение не нормально\n"
     ]
    }
   ],
   "source": [
    "p_value = st.shapiro(avg_check_a)[1]\n",
    "\n",
    "print('p_value для распределения среднего чека группы A: {:.5f}'.format(p_value))\n",
    "\n",
    "if p_value < alpha:\n",
    "    print('Отвергаем нулевую гипотезу: распределение не нормально')\n",
    "else:\n",
    "    print('Не получилось отвергнуть нулевую гипотезу, распределение нормально')\n",
    "    \n",
    "print()    \n",
    "p_value = st.shapiro(avg_check_b)[1]\n",
    "\n",
    "print('p_value для распределения среднего чека группы B: {:.5f}'.format(p_value))\n",
    "\n",
    "if p_value < alpha:\n",
    "    print('Отвергаем нулевую гипотезу: распределение не нормально')\n",
    "else:\n",
    "    print('Не получилось отвергнуть нулевую гипотезу, распределение нормально')"
   ]
  },
  {
   "cell_type": "markdown",
   "metadata": {},
   "source": [
    "Критерием Шапиро-Уилка мы подтвердили, что распределения средних чеков в каждой группе по \"сырым\" данным ненормальны. Различие с нормальным распределнием было бы значимо даже с уровнем alpha = 0.01.\n",
    "\n",
    "Поэтому далее для сравнения будем использователь непараметрический критерий Манна-Уитни."
   ]
  },
  {
   "cell_type": "code",
   "execution_count": 50,
   "metadata": {},
   "outputs": [
    {
     "name": "stdout",
     "output_type": "stream",
     "text": [
      "Средний чек для группы A по сырым данным: 7189.4\n",
      "Средний чек для группы B по сырым данным: 9249.9\n",
      "\n",
      "Статистическая значимость различий в среднем чеке между группами по сырым данным: 0.829\n",
      "\n",
      "Не получилось отвергнуть нулевую гипотезу, статистической значимости нет\n",
      "\n",
      "Относительный прирост среднего чека группы B к группе A по сырым данным: 28.7%\n"
     ]
    }
   ],
   "source": [
    "print('Средний чек для группы A по сырым данным: {:.1f}'.format(avg_check_a.mean()))\n",
    "print('Средний чек для группы B по сырым данным: {:.1f}'.format(avg_check_b.mean()))\n",
    "print()\n",
    "\n",
    "p_value = st.mannwhitneyu(avg_check_a, avg_check_b)[1]\n",
    "\n",
    "print('Статистическая значимость различий в среднем чеке между группами по сырым данным: {:.3f}'\\\n",
    "      .format(p_value))\n",
    "print()\n",
    "\n",
    "if p_value < alpha:\n",
    "    print('Отвергаем нулевую гипотезу: статистическая значимость есть')\n",
    "else:\n",
    "    print('Не получилось отвергнуть нулевую гипотезу, статистической значимости нет')\n",
    "print()\n",
    "\n",
    "print('Относительный прирост среднего чека группы B к группе A по сырым данным: {:.1%}'\\\n",
    "      .format(avg_check_b.mean()/avg_check_a.mean() - 1))"
   ]
  },
  {
   "cell_type": "markdown",
   "metadata": {},
   "source": [
    "По результатам статистического анализа различий в среднем чеке между группами A и B нет. Средний чек в группе B больше, чем в группе A на 28,7%, но, тем не менее, эта разница не оказалась статистически значимой из-за большой вариабельности данных. "
   ]
  },
  {
   "cell_type": "markdown",
   "metadata": {},
   "source": [
    "##### Вывод\n",
    "\n",
    "Мы провели статистический анализ \"сырых\" данных. На этом этапе выявлилось статистически значимое различие в конверсиях между сравниваемыми группами - конверсия в группе B больше, чем в группе A на 17,5% с достоверностью p=0.011.\n",
    "\n",
    "Статистически значимой разницы между средними чеками в разных группах не обнаружилось, хотя и средний чек в группе B больше на 28,7%, чем в группе A."
   ]
  },
  {
   "cell_type": "markdown",
   "metadata": {},
   "source": [
    "### Исследовательский анализ \"очищенных\" данных"
   ]
  },
  {
   "cell_type": "markdown",
   "metadata": {},
   "source": [
    "Проведем исследовательский анализ \"очищенных\" данных в сравнении с \"сырыми\" данными - построим графики и посмотрим, как поменялись метрики. \n",
    "\n",
    "Сначала определим, как \"очистить\" данные. Нужно исключить из данных id пользователей, которые совершали много заказов (т.е. больше 2-х) и пользователей, которые совершали дорогие заказы (т.е. на сумму более 30 тысяч у.е.)."
   ]
  },
  {
   "cell_type": "code",
   "execution_count": 51,
   "metadata": {
    "scrolled": true
   },
   "outputs": [
    {
     "data": {
      "text/plain": [
       "55       249864742\n",
       "138      611059232\n",
       "478     2108163459\n",
       "632     2742574263\n",
       "687     2988190573\n",
       "           ...    \n",
       "939     1164614297\n",
       "971     1307669133\n",
       "972      759473111\n",
       "977     2606908679\n",
       "1015    2108080724\n",
       "Name: visitor_id, Length: 49, dtype: int64"
      ]
     },
     "execution_count": 51,
     "metadata": {},
     "output_type": "execute_result"
    }
   ],
   "source": [
    "users_many_orders = \\\n",
    "    orders_per_user[orders_per_user['orders'] > limit_orders]['visitor_id']\n",
    "users_expensive_orders = \\\n",
    "    orders[orders['revenue'] > limit_price]['visitor_id']\n",
    "\n",
    "unsuitable_users = pd.concat([users_many_orders, users_expensive_orders]).drop_duplicates()\n",
    "unsuitable_users"
   ]
  },
  {
   "cell_type": "markdown",
   "metadata": {},
   "source": [
    "Получилось 49 пользователей, id которых нужно удалить для \"очистки\" данных. Сохраним результаты в таблице `orders_filtered`."
   ]
  },
  {
   "cell_type": "code",
   "execution_count": 52,
   "metadata": {},
   "outputs": [],
   "source": [
    "orders_filtered = orders[~orders['visitor_id'].isin(unsuitable_users)]"
   ]
  },
  {
   "cell_type": "markdown",
   "metadata": {},
   "source": [
    "Теперь создадим таблицу `cumulative_data_filtered_merged` по аналогии с таблицей `cumulative_data_merged`, только вместо таблицы `orders` будем использовать таблицу `orders_filtered`."
   ]
  },
  {
   "cell_type": "code",
   "execution_count": 53,
   "metadata": {},
   "outputs": [
    {
     "data": {
      "text/html": [
       "<div>\n",
       "<style scoped>\n",
       "    .dataframe tbody tr th:only-of-type {\n",
       "        vertical-align: middle;\n",
       "    }\n",
       "\n",
       "    .dataframe tbody tr th {\n",
       "        vertical-align: top;\n",
       "    }\n",
       "\n",
       "    .dataframe thead th {\n",
       "        text-align: right;\n",
       "    }\n",
       "</style>\n",
       "<table border=\"1\" class=\"dataframe\">\n",
       "  <thead>\n",
       "    <tr style=\"text-align: right;\">\n",
       "      <th></th>\n",
       "      <th>date</th>\n",
       "      <th>group_a</th>\n",
       "      <th>visitors_a</th>\n",
       "      <th>buyers_a</th>\n",
       "      <th>orders_a</th>\n",
       "      <th>revenue_a</th>\n",
       "      <th>group_b</th>\n",
       "      <th>visitors_b</th>\n",
       "      <th>buyers_b</th>\n",
       "      <th>orders_b</th>\n",
       "      <th>revenue_b</th>\n",
       "    </tr>\n",
       "  </thead>\n",
       "  <tbody>\n",
       "    <tr>\n",
       "      <th>0</th>\n",
       "      <td>2019-08-01</td>\n",
       "      <td>A</td>\n",
       "      <td>719</td>\n",
       "      <td>17</td>\n",
       "      <td>18</td>\n",
       "      <td>112340</td>\n",
       "      <td>B</td>\n",
       "      <td>713</td>\n",
       "      <td>17</td>\n",
       "      <td>17</td>\n",
       "      <td>59758</td>\n",
       "    </tr>\n",
       "    <tr>\n",
       "      <th>1</th>\n",
       "      <td>2019-08-02</td>\n",
       "      <td>A</td>\n",
       "      <td>1338</td>\n",
       "      <td>34</td>\n",
       "      <td>36</td>\n",
       "      <td>202252</td>\n",
       "      <td>B</td>\n",
       "      <td>1294</td>\n",
       "      <td>37</td>\n",
       "      <td>38</td>\n",
       "      <td>152992</td>\n",
       "    </tr>\n",
       "    <tr>\n",
       "      <th>2</th>\n",
       "      <td>2019-08-03</td>\n",
       "      <td>A</td>\n",
       "      <td>1845</td>\n",
       "      <td>58</td>\n",
       "      <td>60</td>\n",
       "      <td>314725</td>\n",
       "      <td>B</td>\n",
       "      <td>1803</td>\n",
       "      <td>51</td>\n",
       "      <td>52</td>\n",
       "      <td>220041</td>\n",
       "    </tr>\n",
       "    <tr>\n",
       "      <th>3</th>\n",
       "      <td>2019-08-04</td>\n",
       "      <td>A</td>\n",
       "      <td>2562</td>\n",
       "      <td>69</td>\n",
       "      <td>71</td>\n",
       "      <td>355901</td>\n",
       "      <td>B</td>\n",
       "      <td>2573</td>\n",
       "      <td>63</td>\n",
       "      <td>65</td>\n",
       "      <td>285581</td>\n",
       "    </tr>\n",
       "    <tr>\n",
       "      <th>4</th>\n",
       "      <td>2019-08-05</td>\n",
       "      <td>A</td>\n",
       "      <td>3318</td>\n",
       "      <td>90</td>\n",
       "      <td>93</td>\n",
       "      <td>442284</td>\n",
       "      <td>B</td>\n",
       "      <td>3280</td>\n",
       "      <td>84</td>\n",
       "      <td>86</td>\n",
       "      <td>375489</td>\n",
       "    </tr>\n",
       "    <tr>\n",
       "      <th>...</th>\n",
       "      <td>...</td>\n",
       "      <td>...</td>\n",
       "      <td>...</td>\n",
       "      <td>...</td>\n",
       "      <td>...</td>\n",
       "      <td>...</td>\n",
       "      <td>...</td>\n",
       "      <td>...</td>\n",
       "      <td>...</td>\n",
       "      <td>...</td>\n",
       "      <td>...</td>\n",
       "    </tr>\n",
       "    <tr>\n",
       "      <th>26</th>\n",
       "      <td>2019-08-27</td>\n",
       "      <td>A</td>\n",
       "      <td>16376</td>\n",
       "      <td>378</td>\n",
       "      <td>388</td>\n",
       "      <td>1979319</td>\n",
       "      <td>B</td>\n",
       "      <td>16523</td>\n",
       "      <td>434</td>\n",
       "      <td>447</td>\n",
       "      <td>2285448</td>\n",
       "    </tr>\n",
       "    <tr>\n",
       "      <th>27</th>\n",
       "      <td>2019-08-28</td>\n",
       "      <td>A</td>\n",
       "      <td>16970</td>\n",
       "      <td>391</td>\n",
       "      <td>403</td>\n",
       "      <td>2075781</td>\n",
       "      <td>B</td>\n",
       "      <td>17177</td>\n",
       "      <td>454</td>\n",
       "      <td>469</td>\n",
       "      <td>2346646</td>\n",
       "    </tr>\n",
       "    <tr>\n",
       "      <th>28</th>\n",
       "      <td>2019-08-29</td>\n",
       "      <td>A</td>\n",
       "      <td>17547</td>\n",
       "      <td>406</td>\n",
       "      <td>418</td>\n",
       "      <td>2193856</td>\n",
       "      <td>B</td>\n",
       "      <td>17708</td>\n",
       "      <td>468</td>\n",
       "      <td>484</td>\n",
       "      <td>2452746</td>\n",
       "    </tr>\n",
       "    <tr>\n",
       "      <th>29</th>\n",
       "      <td>2019-08-30</td>\n",
       "      <td>A</td>\n",
       "      <td>18037</td>\n",
       "      <td>413</td>\n",
       "      <td>425</td>\n",
       "      <td>2226886</td>\n",
       "      <td>B</td>\n",
       "      <td>18198</td>\n",
       "      <td>486</td>\n",
       "      <td>502</td>\n",
       "      <td>2547249</td>\n",
       "    </tr>\n",
       "    <tr>\n",
       "      <th>30</th>\n",
       "      <td>2019-08-31</td>\n",
       "      <td>A</td>\n",
       "      <td>18736</td>\n",
       "      <td>421</td>\n",
       "      <td>433</td>\n",
       "      <td>2280129</td>\n",
       "      <td>B</td>\n",
       "      <td>18916</td>\n",
       "      <td>503</td>\n",
       "      <td>519</td>\n",
       "      <td>2660388</td>\n",
       "    </tr>\n",
       "  </tbody>\n",
       "</table>\n",
       "<p>31 rows × 11 columns</p>\n",
       "</div>"
      ],
      "text/plain": [
       "         date group_a  visitors_a  buyers_a  orders_a  revenue_a group_b  \\\n",
       "0  2019-08-01       A         719        17        18     112340       B   \n",
       "1  2019-08-02       A        1338        34        36     202252       B   \n",
       "2  2019-08-03       A        1845        58        60     314725       B   \n",
       "3  2019-08-04       A        2562        69        71     355901       B   \n",
       "4  2019-08-05       A        3318        90        93     442284       B   \n",
       "..        ...     ...         ...       ...       ...        ...     ...   \n",
       "26 2019-08-27       A       16376       378       388    1979319       B   \n",
       "27 2019-08-28       A       16970       391       403    2075781       B   \n",
       "28 2019-08-29       A       17547       406       418    2193856       B   \n",
       "29 2019-08-30       A       18037       413       425    2226886       B   \n",
       "30 2019-08-31       A       18736       421       433    2280129       B   \n",
       "\n",
       "    visitors_b  buyers_b  orders_b  revenue_b  \n",
       "0          713        17        17      59758  \n",
       "1         1294        37        38     152992  \n",
       "2         1803        51        52     220041  \n",
       "3         2573        63        65     285581  \n",
       "4         3280        84        86     375489  \n",
       "..         ...       ...       ...        ...  \n",
       "26       16523       434       447    2285448  \n",
       "27       17177       454       469    2346646  \n",
       "28       17708       468       484    2452746  \n",
       "29       18198       486       502    2547249  \n",
       "30       18916       503       519    2660388  \n",
       "\n",
       "[31 rows x 11 columns]"
      ]
     },
     "execution_count": 53,
     "metadata": {},
     "output_type": "execute_result"
    }
   ],
   "source": [
    "orders_filtered_agg = orders_filtered[['date', 'group']].drop_duplicates().apply(\n",
    "    lambda x: orders_filtered[\n",
    "        np.logical_and(orders_filtered['date'] <= x['date'],\\\n",
    "                    orders_filtered['group'] == x['group'])]\\\n",
    "    .agg({'date':'max', 'group':'max', 'visitor_id':'nunique', \\\n",
    "          'transaction_id':'nunique', 'revenue':'sum'}), axis=1)\\\n",
    "    .sort_values(['date', 'group'])\n",
    "\n",
    "visitors_agg = orders_filtered[['date', 'group']].drop_duplicates().apply(\n",
    "    lambda x: visitors[\n",
    "        np.logical_and(visitors['date'] <= x['date'], \\\n",
    "                       visitors['group'] == x['group'])]\\\n",
    "    .agg({'date':'max', 'group':'max', 'visitors':'sum'}), axis=1)\\\n",
    "    .sort_values(['date', 'group'])\n",
    "\n",
    "cumulative_data_filtered = visitors_agg.merge(\n",
    "        orders_filtered_agg, on=['date', 'group'])\n",
    "cumulative_data_filtered.columns = ['date', 'group', 'visitors', 'buyers', 'orders', 'revenue']\n",
    "\n",
    "cumulative_data_filtered_a = cumulative_data_filtered.query('group == \"A\"')\n",
    "cumulative_data_filtered_b = cumulative_data_filtered.query('group == \"B\"')\n",
    "\n",
    "cumulative_data_filtered_merged = cumulative_data_filtered_a.merge(\n",
    "            cumulative_data_filtered_b, on='date', suffixes=['_a', '_b'])\n",
    "\n",
    "cumulative_data_filtered_merged"
   ]
  },
  {
   "cell_type": "markdown",
   "metadata": {},
   "source": [
    "Таблица готова, можно строить графики."
   ]
  },
  {
   "cell_type": "markdown",
   "metadata": {},
   "source": [
    "#### Кумулятивная выручка"
   ]
  },
  {
   "cell_type": "code",
   "execution_count": 54,
   "metadata": {},
   "outputs": [
    {
     "data": {
      "image/png": "[encoded data removed]",
      "text/plain": [
       "<Figure size 1296x504 with 2 Axes>"
      ]
     },
     "metadata": {
      "needs_background": "light"
     },
     "output_type": "display_data"
    }
   ],
   "source": [
    "fig, (ax1, ax2) = plt.subplots(1, 2, sharey=True, figsize=(18,7))\n",
    "\n",
    "ax1.plot(cumulative_data_merged['date'], cumulative_data_merged['revenue_a'], \\\n",
    "         c='seagreen', lw=2, label='A')\n",
    "\n",
    "ax1.plot(cumulative_data_merged['date'], cumulative_data_merged['revenue_b'], \\\n",
    "         c='tomato', lw=2, label='B')\n",
    "\n",
    "ax1.tick_params(axis='x', rotation=45)\n",
    "ax1.grid()\n",
    "ax1.set_title('Кумулятивная выручка по группам (сырые данные)')\n",
    "ax1.legend()\n",
    "ax1.ticklabel_format(style='plain', axis='y')\n",
    "\n",
    "ax2.plot(cumulative_data_filtered_merged['date'], \\\n",
    "         cumulative_data_filtered_merged['revenue_a'], \\\n",
    "         c='seagreen', lw=2, label='A')\n",
    "\n",
    "ax2.plot(cumulative_data_filtered_merged['date'], \\\n",
    "         cumulative_data_filtered_merged['revenue_b'], \\\n",
    "         c='tomato', lw=2, label='B')\n",
    "\n",
    "ax2.tick_params(axis='x', rotation=45)\n",
    "ax2.grid()\n",
    "ax2.set_title('Кумулятивная выручка по группам (очищенные данные)')\n",
    "ax2.legend()\n",
    "ax2.ticklabel_format(style='plain', axis='y')\n",
    "\n",
    "plt.show()"
   ]
  },
  {
   "cell_type": "markdown",
   "metadata": {},
   "source": [
    "Видим, что после удаления \"выбросов\" линии кумулятивной выручки в группах стали равномерными, выручка равномерно растет. Группа B продолжает лидировать, что косвенно говорит о положительном результате проведенного A/B-теста. "
   ]
  },
  {
   "cell_type": "markdown",
   "metadata": {},
   "source": [
    "#### Кумулятивный средний чек"
   ]
  },
  {
   "cell_type": "markdown",
   "metadata": {},
   "source": [
    "Посчитаем кумулятивный средний чек для каждой группы по \"очищенным\" данным и построим графики."
   ]
  },
  {
   "cell_type": "code",
   "execution_count": 55,
   "metadata": {},
   "outputs": [],
   "source": [
    "cumulative_data_filtered_merged['avg_check_a'] = cumulative_data_filtered_merged['revenue_a']\\\n",
    "                                                 /cumulative_data_filtered_merged['orders_a']\n",
    "cumulative_data_filtered_merged['avg_check_b'] = cumulative_data_filtered_merged['revenue_b']\\\n",
    "                                                 /cumulative_data_filtered_merged['orders_b']"
   ]
  },
  {
   "cell_type": "code",
   "execution_count": 56,
   "metadata": {},
   "outputs": [
    {
     "data": {
      "image/png": "[encoded data removed]",
      "text/plain": [
       "<Figure size 1296x504 with 2 Axes>"
      ]
     },
     "metadata": {
      "needs_background": "light"
     },
     "output_type": "display_data"
    }
   ],
   "source": [
    "fig, (ax1, ax2) = plt.subplots(1, 2, sharey=True, figsize=(18,7))\n",
    "\n",
    "ax1.plot(cumulative_data_merged['date'], cumulative_data_merged['avg_check_a'], \n",
    "         c='seagreen', lw=2, label='A')\n",
    "\n",
    "ax1.plot(cumulative_data_merged['date'], cumulative_data_merged['avg_check_b'], \n",
    "         c='tomato', lw=2, label='B')\n",
    "\n",
    "ax1.tick_params(axis='x', rotation=45)\n",
    "ax1.grid()\n",
    "ax1.set_title('Кумулятивный средний чек по группам (сырые данные)')\n",
    "ax1.legend()\n",
    "\n",
    "ax2.plot(cumulative_data_filtered_merged['date'], \\\n",
    "         cumulative_data_filtered_merged['avg_check_a'],\\\n",
    "         c='seagreen', lw=2, label='A')\n",
    "\n",
    "ax2.plot(cumulative_data_filtered_merged['date'], \\\n",
    "         cumulative_data_filtered_merged['avg_check_b'], \\\n",
    "         c='tomato', lw=2, label='B')\n",
    "\n",
    "ax2.tick_params(axis='x', rotation=45)\n",
    "ax2.grid()\n",
    "ax2.set_title('Кумулятивный средний чек по группам (очищенные данные)')\n",
    "ax2.legend()\n",
    "ax2.axhline(5000, c='rosybrown', ls='--')\n",
    "\n",
    "plt.ylim(0, 12000)\n",
    "\n",
    "plt.show()"
   ]
  },
  {
   "cell_type": "markdown",
   "metadata": {},
   "source": [
    "Видим, что график кумулятивных средних чеков по группам по \"очищенным\" данным выглядит совершенно иначе. После удаления \"выбросов\" линии стали почти прямыми. Видим, что метрики как в группе A, так и в группе B стабилизировались около значения 5 тысяч у.е. \n",
    "\n",
    "К концу теста группа A лидирует. "
   ]
  },
  {
   "cell_type": "markdown",
   "metadata": {},
   "source": [
    "#### Относительное изменение кумулятивного среднего чека"
   ]
  },
  {
   "cell_type": "markdown",
   "metadata": {},
   "source": [
    "Построим график по \"очищенным\" данным в сравнении с \"сырыми\"."
   ]
  },
  {
   "cell_type": "code",
   "execution_count": 57,
   "metadata": {},
   "outputs": [
    {
     "data": {
      "image/png": "[encoded data removed]",
      "text/plain": [
       "<Figure size 936x360 with 1 Axes>"
      ]
     },
     "metadata": {
      "needs_background": "light"
     },
     "output_type": "display_data"
    }
   ],
   "source": [
    "plt.figure(figsize=(13,5))\n",
    "\n",
    "plt.plot(cumulative_data_merged['date'], \\\n",
    "         cumulative_data_merged['avg_check_b']/cumulative_data_merged['avg_check_a'] - 1,\\\n",
    "         c='olivedrab', lw=2, label='Сырые данные')\n",
    "\n",
    "plt.plot(cumulative_data_filtered_merged['date'], \\\n",
    "         cumulative_data_filtered_merged['avg_check_b']\\\n",
    "         /cumulative_data_filtered_merged['avg_check_a'] - 1,\n",
    "         c='r', lw=2, label='Очищенные данные')\n",
    "\n",
    "plt.grid()\n",
    "plt.legend()\n",
    "plt.title('Относительное изменение кумулятивного среднего чека группы B к группе A')\n",
    "\n",
    "plt.ylim(-0.7, 0.7)\n",
    "plt.axhline(0, color='k', ls='--')\n",
    "\n",
    "plt.show()"
   ]
  },
  {
   "cell_type": "markdown",
   "metadata": {},
   "source": [
    "Видим, что разница в кумулятивных чеках между группами по \"очищенным\" данным близка к нулю. Возможно, группа B хуже группы A, нужно проверять статистически. \n",
    "\n",
    "Если кумулятивная выручка в группе B больше, а кумулятивный средний чек приблизительно такой же, как в группе A, значит, в группе B должна быть больше конверсия."
   ]
  },
  {
   "cell_type": "markdown",
   "metadata": {},
   "source": [
    "#### Кумулятивная конверсия"
   ]
  },
  {
   "cell_type": "markdown",
   "metadata": {},
   "source": [
    "Рассчитаем кумулятивную конверсию по \"очищенным\" данным и построим графики."
   ]
  },
  {
   "cell_type": "code",
   "execution_count": 58,
   "metadata": {},
   "outputs": [],
   "source": [
    "cumulative_data_filtered_merged['conversion_a'] = \\\n",
    "        cumulative_data_filtered_merged['buyers_a']\\\n",
    "        /cumulative_data_filtered_merged['visitors_a']\n",
    "\n",
    "cumulative_data_filtered_merged['conversion_b'] = \\\n",
    "        cumulative_data_filtered_merged['buyers_b']\\\n",
    "        /cumulative_data_filtered_merged['visitors_b']"
   ]
  },
  {
   "cell_type": "code",
   "execution_count": 59,
   "metadata": {},
   "outputs": [
    {
     "data": {
      "image/png": "[encoded data removed]",
      "text/plain": [
       "<Figure size 1296x432 with 2 Axes>"
      ]
     },
     "metadata": {
      "needs_background": "light"
     },
     "output_type": "display_data"
    }
   ],
   "source": [
    "fig, (ax1, ax2) = plt.subplots(1, 2, sharey=True, figsize=(18,6))\n",
    "\n",
    "ax1.plot(cumulative_data_merged['date'], cumulative_data_merged['conversion_a'], \\\n",
    "         c='seagreen', lw=2, label='A')\n",
    "\n",
    "ax1.plot(cumulative_data_merged['date'], cumulative_data_merged['conversion_b'], \\\n",
    "         c='tomato', lw=2, label='B')\n",
    "\n",
    "ax1.tick_params(axis='x', rotation=45)\n",
    "ax1.grid()\n",
    "ax1.set_title('Кумулятивная конверсия по группам (сырые данные)')\n",
    "ax1.legend()\n",
    "\n",
    "ax2.plot(cumulative_data_filtered_merged['date'], \\\n",
    "         cumulative_data_filtered_merged['conversion_a'],\\\n",
    "         c='seagreen', lw=2, label='A')\n",
    "\n",
    "ax2.plot(cumulative_data_filtered_merged['date'], \\\n",
    "         cumulative_data_filtered_merged['conversion_b'],\\\n",
    "         c='tomato', lw=2, label='B')\n",
    "\n",
    "ax2.tick_params(axis='x', rotation=45)\n",
    "ax2.grid()\n",
    "ax2.set_title('Кумулятивная конверсия по группам (очищенные данные)')\n",
    "ax2.legend()\n",
    "\n",
    "plt.ylim(0.02, 0.035)\n",
    "\n",
    "plt.show()"
   ]
  },
  {
   "cell_type": "markdown",
   "metadata": {},
   "source": [
    "Различия в кумулятивной конверсии по \"очищенным\" данным изменились мало, и это хорошо, потому что конверсия в группе B выше.  "
   ]
  },
  {
   "cell_type": "markdown",
   "metadata": {},
   "source": [
    "#### Относительное изменение кумулятивной конверсии"
   ]
  },
  {
   "cell_type": "markdown",
   "metadata": {},
   "source": [
    "Построим графики по \"очищенным\" и \"сырым\" данным."
   ]
  },
  {
   "cell_type": "code",
   "execution_count": 60,
   "metadata": {},
   "outputs": [
    {
     "data": {
      "image/png": "[encoded data removed]",
      "text/plain": [
       "<Figure size 936x360 with 1 Axes>"
      ]
     },
     "metadata": {
      "needs_background": "light"
     },
     "output_type": "display_data"
    }
   ],
   "source": [
    "plt.figure(figsize=(13,5))\n",
    "\n",
    "plt.plot(cumulative_data_merged['date'], \\\n",
    "         cumulative_data_merged['conversion_b']\\\n",
    "         /cumulative_data_merged['conversion_a'] - 1, \\\n",
    "         c='darkorchid', lw=2, label='Сырые данные')\n",
    "\n",
    "plt.plot(cumulative_data_filtered_merged['date'], \\\n",
    "         cumulative_data_filtered_merged['conversion_b']\\\n",
    "         /cumulative_data_filtered_merged['conversion_a'] - 1,\\\n",
    "         c='r', lw=2, label='Очищенные данные')\n",
    "\n",
    "plt.grid()\n",
    "plt.title('Относительное изменение кумулятивной конверсии группы B к группе A')\n",
    "plt.legend()\n",
    "\n",
    "plt.ylim(-0.4, 0.4)\n",
    "plt.axhline(0, c='k', ls='--')\n",
    "plt.axhline(0.15, c='grey', ls='--')\n",
    "\n",
    "plt.show()"
   ]
  },
  {
   "cell_type": "markdown",
   "metadata": {},
   "source": [
    "Видим, что графики почти одинаковые с различием примерно в 1%. \n",
    "\n",
    "Конверсия в группе B стабильно выше, чем в группе A."
   ]
  },
  {
   "cell_type": "markdown",
   "metadata": {},
   "source": [
    "##### Вывод\n",
    "\n",
    "Итак, мы провели исследовательский анализ результатов A/B-теста теперь по \"очищеным\" данным. В сравнении с \"сырыми\" данными конверсия осталась практически той же, а вот разница в среднем чеке стала противоположной - группа B теперь несколько хуже, чем группа A. \n",
    "\n",
    "Но главное, что выручка в группе B и по \"сырым\", и по \"очищенным\" данным выше, чем в группе A. "
   ]
  },
  {
   "cell_type": "markdown",
   "metadata": {},
   "source": [
    "### Статистический анализ \"очищенных\" данных"
   ]
  },
  {
   "cell_type": "markdown",
   "metadata": {},
   "source": [
    "Перейдём к самому главному этапу - статистический анализ по \"очищенным\" данным. Имеено на его результатах будут основаны выводы об успехе A/B-тестирования."
   ]
  },
  {
   "cell_type": "markdown",
   "metadata": {},
   "source": [
    "#### Статистическая значимость различий в конверсии"
   ]
  },
  {
   "cell_type": "markdown",
   "metadata": {},
   "source": [
    "Построим таблицу `month_data_filtered` по аналогии с `month_data`."
   ]
  },
  {
   "cell_type": "code",
   "execution_count": 61,
   "metadata": {},
   "outputs": [
    {
     "data": {
      "text/html": [
       "<div>\n",
       "<style scoped>\n",
       "    .dataframe tbody tr th:only-of-type {\n",
       "        vertical-align: middle;\n",
       "    }\n",
       "\n",
       "    .dataframe tbody tr th {\n",
       "        vertical-align: top;\n",
       "    }\n",
       "\n",
       "    .dataframe thead th {\n",
       "        text-align: right;\n",
       "    }\n",
       "</style>\n",
       "<table border=\"1\" class=\"dataframe\">\n",
       "  <thead>\n",
       "    <tr style=\"text-align: right;\">\n",
       "      <th></th>\n",
       "      <th>date</th>\n",
       "      <th>group</th>\n",
       "      <th>visitors</th>\n",
       "      <th>buyers</th>\n",
       "      <th>orders</th>\n",
       "      <th>revenue</th>\n",
       "      <th>not_buyers</th>\n",
       "      <th>conversion</th>\n",
       "    </tr>\n",
       "  </thead>\n",
       "  <tbody>\n",
       "    <tr>\n",
       "      <th>0</th>\n",
       "      <td>2019-08-31</td>\n",
       "      <td>A</td>\n",
       "      <td>18736</td>\n",
       "      <td>421</td>\n",
       "      <td>433</td>\n",
       "      <td>2280129</td>\n",
       "      <td>18315</td>\n",
       "      <td>0.022470</td>\n",
       "    </tr>\n",
       "    <tr>\n",
       "      <th>1</th>\n",
       "      <td>2019-08-31</td>\n",
       "      <td>B</td>\n",
       "      <td>18916</td>\n",
       "      <td>503</td>\n",
       "      <td>519</td>\n",
       "      <td>2660388</td>\n",
       "      <td>18413</td>\n",
       "      <td>0.026591</td>\n",
       "    </tr>\n",
       "  </tbody>\n",
       "</table>\n",
       "</div>"
      ],
      "text/plain": [
       "        date group  visitors  buyers  orders  revenue  not_buyers  conversion\n",
       "0 2019-08-31     A     18736     421     433  2280129       18315    0.022470\n",
       "1 2019-08-31     B     18916     503     519  2660388       18413    0.026591"
      ]
     },
     "execution_count": 61,
     "metadata": {},
     "output_type": "execute_result"
    }
   ],
   "source": [
    "month_data_filtered = pd.concat([\n",
    "    cumulative_data_filtered_a.query('date == \"2019-08-31\"'), \\\n",
    "    cumulative_data_filtered_b.query('date == \"2019-08-31\"')])\n",
    "\n",
    "month_data_filtered.reset_index(inplace=True, drop=True)\n",
    "\n",
    "month_data_filtered['not_buyers'] = \\\n",
    "    month_data_filtered['visitors'] - month_data_filtered['buyers']\n",
    "\n",
    "month_data_filtered['conversion'] = \\\n",
    "    month_data_filtered['buyers']/month_data_filtered['visitors']\n",
    "\n",
    "month_data_filtered"
   ]
  },
  {
   "cell_type": "markdown",
   "metadata": {},
   "source": [
    "Конверсия несколько снизилась, потому что мы удалили часть покупателей, а количество посетителей не изменили. Будем считать, что этим можно пренебречь (потому что иначе нужно делать сложные расчеты, а к большому результату они не приведут).\n",
    "\n",
    "Сохраним данные о конверсии в отдельные переменные."
   ]
  },
  {
   "cell_type": "code",
   "execution_count": 62,
   "metadata": {},
   "outputs": [],
   "source": [
    "conversion_a_filtered = \\\n",
    "    month_data_filtered[month_data_filtered['group'] == 'A']['conversion'].mean()\n",
    "    \n",
    "conversion_b_filtered = \\\n",
    "    month_data_filtered[month_data_filtered['group'] == 'B']['conversion'].mean()"
   ]
  },
  {
   "cell_type": "markdown",
   "metadata": {},
   "source": [
    "Таблица для анализа с помощью критерия хи-квардрат:"
   ]
  },
  {
   "cell_type": "code",
   "execution_count": 63,
   "metadata": {},
   "outputs": [
    {
     "data": {
      "text/html": [
       "<div>\n",
       "<style scoped>\n",
       "    .dataframe tbody tr th:only-of-type {\n",
       "        vertical-align: middle;\n",
       "    }\n",
       "\n",
       "    .dataframe tbody tr th {\n",
       "        vertical-align: top;\n",
       "    }\n",
       "\n",
       "    .dataframe thead th {\n",
       "        text-align: right;\n",
       "    }\n",
       "</style>\n",
       "<table border=\"1\" class=\"dataframe\">\n",
       "  <thead>\n",
       "    <tr style=\"text-align: right;\">\n",
       "      <th></th>\n",
       "      <th>not_buyers</th>\n",
       "      <th>buyers</th>\n",
       "    </tr>\n",
       "  </thead>\n",
       "  <tbody>\n",
       "    <tr>\n",
       "      <th>0</th>\n",
       "      <td>18315</td>\n",
       "      <td>421</td>\n",
       "    </tr>\n",
       "    <tr>\n",
       "      <th>1</th>\n",
       "      <td>18413</td>\n",
       "      <td>503</td>\n",
       "    </tr>\n",
       "  </tbody>\n",
       "</table>\n",
       "</div>"
      ],
      "text/plain": [
       "   not_buyers  buyers\n",
       "0       18315     421\n",
       "1       18413     503"
      ]
     },
     "execution_count": 63,
     "metadata": {},
     "output_type": "execute_result"
    }
   ],
   "source": [
    "month_data_filtered[['not_buyers', 'buyers']]"
   ]
  },
  {
   "cell_type": "markdown",
   "metadata": {},
   "source": [
    "Нулевая гипотеза та же: разницы между конверсиями в группах A и B нет. \n",
    "\n",
    "Альтернативная гипотеза та же: разница между конверсиями в группах A и B есть.\n",
    "\n",
    "Проверим гипотезу с помощью критерия хи-квадрат.\n",
    "\n",
    "Уровень значимости alpha тот же: 0.05."
   ]
  },
  {
   "cell_type": "code",
   "execution_count": 64,
   "metadata": {},
   "outputs": [
    {
     "name": "stdout",
     "output_type": "stream",
     "text": [
      "Конверсия для группы A по очищенным данным: 2.2%\n",
      "Конверсия для группы B по очищенным данным: 2.7%\n",
      "\n",
      "Статистическая значимость различий в конверсии между группами по очищенным данным: 0.010\n",
      "\n",
      "Отвергаем нулевую гипотезу: статистическая значимость есть\n",
      "\n",
      "Относительный прирост конверсии группы B к группе A по очищенным данным: 18.3%\n"
     ]
    }
   ],
   "source": [
    "alpha = 0.05\n",
    "\n",
    "print('Конверсия для группы A по очищенным данным: {:.1%}'.format(\n",
    "    conversion_a_filtered))\n",
    "print('Конверсия для группы B по очищенным данным: {:.1%}'.format(\n",
    "    conversion_b_filtered))\n",
    "print()\n",
    "\n",
    "p_value = chi2_contingency(month_data_filtered[['not_buyers', 'buyers']],\\\n",
    "                           correction=False)[1]\n",
    "\n",
    "print('Статистическая значимость различий в конверсии между группами по очищенным данным: {:.3f}'\\\n",
    "      .format(p_value))\n",
    "print()\n",
    "\n",
    "if p_value < alpha:\n",
    "    print('Отвергаем нулевую гипотезу: статистическая значимость есть')\n",
    "else:\n",
    "    print('Не получилось отвергнуть нулевую гипотезу, статистической значимости нет')\n",
    "print()\n",
    "\n",
    "print('Относительный прирост конверсии группы B к группе A по очищенным данным: {:.1%}'\\\n",
    "      .format(conversion_b_filtered/conversion_a_filtered - 1))"
   ]
  },
  {
   "cell_type": "markdown",
   "metadata": {},
   "source": [
    "Статистическая значимость в различиях между конверсиями в группах A и B после \"очистки\" данных сохранилась.\n",
    "\n",
    "Конверсия в группе B больше, чем конверсия в группе A на 18%, и это очень хорошо, потому что результат A/B-теста, скорее всего, положительный. \n",
    "\n",
    "Можем сделать вывод, что данных для теста достаточно, независимо от того, какой прирост конверсии мы хотели увидеть изначально, т.к. имеющееся количество данных позволило выявить прирост конверсии в 18%, а это очень много. \n",
    "\n",
    "Осталось проверить, не пострадали ли другие метрики при улучшении конверсии. "
   ]
  },
  {
   "cell_type": "markdown",
   "metadata": {},
   "source": [
    "#### Статистическая значимость различий в среднем чеке"
   ]
  },
  {
   "cell_type": "markdown",
   "metadata": {},
   "source": [
    "Помним, что у нас есть таблица `orders_filtered`, содержащая \"очищеные\" данные о заказах.\n",
    "\n",
    "Сохраним в отдельные переменные среднюю стоимость заказа в каждой из групп теста."
   ]
  },
  {
   "cell_type": "code",
   "execution_count": 65,
   "metadata": {},
   "outputs": [],
   "source": [
    "avg_check_a_filtered = orders_filtered[orders_filtered['group'] == 'A']['revenue']\n",
    "avg_check_b_filtered = orders_filtered[orders_filtered['group'] == 'B']['revenue']"
   ]
  },
  {
   "cell_type": "markdown",
   "metadata": {},
   "source": [
    "Проверку распределений на нормальность проводить не будем, так как от удаления небольшого количества пользователей характер распределения не мог поменяться кардинально.\n",
    "\n",
    "Приступим к сравнению выборок с помощью критерия Манна-Уитни."
   ]
  },
  {
   "cell_type": "code",
   "execution_count": 66,
   "metadata": {},
   "outputs": [
    {
     "name": "stdout",
     "output_type": "stream",
     "text": [
      "Средний чек для группы A по очищенным данным: 5265.9\n",
      "Средний чек для группы B по очищенным данным: 5126.0\n",
      "\n",
      "Статистическая значимость различий в среднем чеке между группами по очищенным данным: 0.741\n",
      "\n",
      "Не получилось отвергнуть нулевую гипотезу, статистической значимости нет\n",
      "\n",
      "Относительный прирост среднего чека группы B к группе A по очищенным данным: -2.7%\n"
     ]
    }
   ],
   "source": [
    "print('Средний чек для группы A по очищенным данным: {:.1f}'.format(\n",
    "    avg_check_a_filtered.mean()))\n",
    "print('Средний чек для группы B по очищенным данным: {:.1f}'.format(\n",
    "    avg_check_b_filtered.mean()))\n",
    "print()\n",
    "\n",
    "p_value = st.mannwhitneyu(avg_check_a_filtered, avg_check_b_filtered)[1]\n",
    "\n",
    "print('Статистическая значимость различий в среднем чеке между группами по очищенным данным: {:.3f}'\\\n",
    "      .format(p_value))\n",
    "print()\n",
    "\n",
    "if p_value < alpha:\n",
    "    print('Отвергаем нулевую гипотезу: статистическая значимость есть')\n",
    "else:\n",
    "    print('Не получилось отвергнуть нулевую гипотезу, статистической значимости нет')\n",
    "print()\n",
    "\n",
    "print('Относительный прирост среднего чека группы B к группе A по очищенным данным: {:.1%}'\\\n",
    "      .format(\n",
    "    avg_check_b_filtered.mean()/avg_check_a_filtered.mean() - 1))"
   ]
  },
  {
   "cell_type": "markdown",
   "metadata": {},
   "source": [
    "После \"очистки\" данных наблюдается совсем другая картина - теперь средний чек в группе B ниже, чем в группе A. Но всего на 2,7% и эта разница статистически незначима. "
   ]
  },
  {
   "cell_type": "markdown",
   "metadata": {},
   "source": [
    "##### Вывод\n",
    "\n",
    "Мы провели статистический анализ \"очищенных\" от выбросов данных. Подтвердилось статистически значимое различие между конверсиями в разных группах - в группе B конверсия на 18% больше, чем в группе A с достоверностью p=0.01. \n",
    "\n",
    "Между среднимии чеками в разных группах статистически значимого различия нет. После исключения крупных заказов средний чек в группе B на 2,7% меньше, чем в группе A, но такой результат случаен."
   ]
  },
  {
   "cell_type": "markdown",
   "metadata": {},
   "source": [
    "### Выводы"
   ]
  },
  {
   "cell_type": "markdown",
   "metadata": {},
   "source": [
    "Проведена работа по приоритизации гипотез и анализу результатов A/B-тестирования, проводившегося с 1 по 31 августа 2019 года в интернет-магазине. На основании полученных результатов можно сделать следующие выводы:\n",
    "\n",
    "1. Баг-репорт. В таблице `orders` оказались пользователи, попавшие на протяжении одного теста в две разные группы. Этого не должно быть по правилам A/B-тестирования. Нужно выяснить, почему произошла данная ошибка и впредь её не допускать. Данные об этих пользователях пришлось исключить из исследования. \n",
    "\n",
    "\n",
    "2. С помощью формул `ICE` и `RICE` определена самая приоритетная для тестирования гипотеза - это гипотеза № `7` - `Добавить форму подписки на все основные страницы, чтобы собрать базу клиентов для email-рассылок`. Она лидирует по формуле `RICE` и на третьем месте по формуле `ICE`. Данную гипотезу нужно протестировать в первую очередь.  \n",
    "\n",
    "\n",
    "3. На основании проведенного статистического, а также визуального анализа результатов A/B-тестирования устанавливаем, что:\n",
    "- <b> есть статистически значимая разница в конверсиях между группами.</b> Относительный прирост конверсии в группе B составил 17,5% по сравнению с группой A с достоверностью p=0.01. Абсолютные значения конверсии -  2,4% в группе A и 2,8% в группе B по \"сырым\" данным;\n",
    "\n",
    "\n",
    "- <b> нет статистически значимой разницы между средними чеками в разных группах.</b> Абсолютное значение среднего чека в группе A - 5261 у.е., в группе B - 5126 у.е. по \"очищенным\" данным;\n",
    "\n",
    "\n",
    "- <b> выручка в группе B оказалась выше, чем в группе A </b> за за счёт увеличения конверсии и того, что средний чек остался на прежнем уровне. Это подтверждается визуально на графиках.\n",
    "\n",
    "\n",
    "4. Итак, конверсия в группе B выше, чем в группе A, без ущерба для вспомогательных метрик (средний чек). Данных для теста достаточно. Время проведения теста также достаточное, потому что графики метрик стабильны. \n",
    "\n",
    "<b> Подводим итог: Тест нужно остановить, зафиксировать победу группы B над группой A. </b>"
   ]
  }
 ],
 "metadata": {
  "ExecuteTimeLog": [
   {
    "duration": 386,
    "start_time": "2022-04-04T09:22:09.555Z"
   },
   {
    "duration": 16,
    "start_time": "2022-04-04T09:22:58.768Z"
   },
   {
    "duration": 15,
    "start_time": "2022-04-04T09:23:10.028Z"
   },
   {
    "duration": 59,
    "start_time": "2022-04-04T09:25:29.455Z"
   },
   {
    "duration": 2,
    "start_time": "2022-04-04T09:25:39.990Z"
   },
   {
    "duration": 16,
    "start_time": "2022-04-04T09:25:42.583Z"
   },
   {
    "duration": 8,
    "start_time": "2022-04-04T09:25:52.037Z"
   },
   {
    "duration": 2,
    "start_time": "2022-04-04T09:28:25.169Z"
   },
   {
    "duration": 26,
    "start_time": "2022-04-04T09:28:27.782Z"
   },
   {
    "duration": 8,
    "start_time": "2022-04-04T09:28:30.089Z"
   },
   {
    "duration": 10,
    "start_time": "2022-04-04T09:29:48.897Z"
   },
   {
    "duration": 45,
    "start_time": "2022-04-04T09:58:30.845Z"
   },
   {
    "duration": 12,
    "start_time": "2022-04-04T09:58:44.895Z"
   },
   {
    "duration": 47,
    "start_time": "2022-04-04T09:59:43.382Z"
   },
   {
    "duration": 9,
    "start_time": "2022-04-04T09:59:52.214Z"
   },
   {
    "duration": 11,
    "start_time": "2022-04-04T10:00:13.389Z"
   },
   {
    "duration": 10,
    "start_time": "2022-04-04T10:01:07.290Z"
   },
   {
    "duration": 3,
    "start_time": "2022-04-04T10:12:22.734Z"
   },
   {
    "duration": 15,
    "start_time": "2022-04-04T10:12:35.405Z"
   },
   {
    "duration": 3,
    "start_time": "2022-04-04T10:13:00.904Z"
   },
   {
    "duration": 14,
    "start_time": "2022-04-04T10:13:02.387Z"
   },
   {
    "duration": 4,
    "start_time": "2022-04-04T10:13:47.571Z"
   },
   {
    "duration": 17,
    "start_time": "2022-04-04T10:13:49.798Z"
   },
   {
    "duration": 3,
    "start_time": "2022-04-04T10:14:45.423Z"
   },
   {
    "duration": 16,
    "start_time": "2022-04-04T10:14:47.151Z"
   },
   {
    "duration": 3,
    "start_time": "2022-04-04T10:15:32.530Z"
   },
   {
    "duration": 17,
    "start_time": "2022-04-04T10:15:34.692Z"
   },
   {
    "duration": 401,
    "start_time": "2022-04-04T10:16:47.302Z"
   },
   {
    "duration": 62,
    "start_time": "2022-04-04T10:16:47.705Z"
   },
   {
    "duration": 4,
    "start_time": "2022-04-04T10:16:47.768Z"
   },
   {
    "duration": 25,
    "start_time": "2022-04-04T10:16:47.774Z"
   },
   {
    "duration": 3,
    "start_time": "2022-04-04T10:17:07.597Z"
   },
   {
    "duration": 16,
    "start_time": "2022-04-04T10:17:08.819Z"
   },
   {
    "duration": 18,
    "start_time": "2022-04-04T10:17:23.123Z"
   },
   {
    "duration": 16,
    "start_time": "2022-04-04T10:17:47.762Z"
   },
   {
    "duration": 12,
    "start_time": "2022-04-04T10:20:42.690Z"
   },
   {
    "duration": 3,
    "start_time": "2022-04-04T10:20:51.945Z"
   },
   {
    "duration": 12,
    "start_time": "2022-04-04T10:21:00.590Z"
   },
   {
    "duration": 705,
    "start_time": "2022-04-04T10:27:15.903Z"
   },
   {
    "duration": 2,
    "start_time": "2022-04-04T10:27:45.686Z"
   },
   {
    "duration": 636,
    "start_time": "2022-04-04T10:27:54.134Z"
   },
   {
    "duration": 16,
    "start_time": "2022-04-04T10:28:06.102Z"
   },
   {
    "duration": 11,
    "start_time": "2022-04-04T10:28:16.776Z"
   },
   {
    "duration": 766,
    "start_time": "2022-04-04T10:28:41.581Z"
   },
   {
    "duration": 671,
    "start_time": "2022-04-04T10:28:54.305Z"
   },
   {
    "duration": 14,
    "start_time": "2022-04-04T10:29:09.142Z"
   },
   {
    "duration": 666,
    "start_time": "2022-04-04T10:29:17.316Z"
   },
   {
    "duration": 14,
    "start_time": "2022-04-04T10:29:27.703Z"
   },
   {
    "duration": 11,
    "start_time": "2022-04-04T10:30:01.701Z"
   },
   {
    "duration": 6,
    "start_time": "2022-04-04T10:30:34.594Z"
   },
   {
    "duration": 649,
    "start_time": "2022-04-04T10:31:44.781Z"
   },
   {
    "duration": 17,
    "start_time": "2022-04-04T10:32:23.541Z"
   },
   {
    "duration": 8,
    "start_time": "2022-04-04T10:32:51.058Z"
   },
   {
    "duration": 163,
    "start_time": "2022-04-04T10:33:47.344Z"
   },
   {
    "duration": 132,
    "start_time": "2022-04-04T10:36:19.737Z"
   },
   {
    "duration": 10,
    "start_time": "2022-04-04T10:36:41.767Z"
   },
   {
    "duration": 162,
    "start_time": "2022-04-04T10:36:56.821Z"
   },
   {
    "duration": 147,
    "start_time": "2022-04-04T10:37:03.033Z"
   },
   {
    "duration": 11,
    "start_time": "2022-04-04T10:37:50.117Z"
   },
   {
    "duration": 7,
    "start_time": "2022-04-04T10:38:02.936Z"
   },
   {
    "duration": 5,
    "start_time": "2022-04-04T10:39:15.721Z"
   },
   {
    "duration": 12,
    "start_time": "2022-04-04T10:39:27.485Z"
   },
   {
    "duration": 13,
    "start_time": "2022-04-04T10:39:47.974Z"
   },
   {
    "duration": 8,
    "start_time": "2022-04-04T10:43:14.222Z"
   },
   {
    "duration": 4,
    "start_time": "2022-04-04T10:43:32.799Z"
   },
   {
    "duration": 11,
    "start_time": "2022-04-04T10:43:37.922Z"
   },
   {
    "duration": 14,
    "start_time": "2022-04-04T10:44:06.514Z"
   },
   {
    "duration": 4,
    "start_time": "2022-04-04T10:44:52.348Z"
   },
   {
    "duration": 15,
    "start_time": "2022-04-04T10:44:57.129Z"
   },
   {
    "duration": 11,
    "start_time": "2022-04-04T10:45:04.859Z"
   },
   {
    "duration": 7,
    "start_time": "2022-04-04T10:53:55.234Z"
   },
   {
    "duration": 4,
    "start_time": "2022-04-04T10:55:19.995Z"
   },
   {
    "duration": 9,
    "start_time": "2022-04-04T10:55:23.610Z"
   },
   {
    "duration": 4,
    "start_time": "2022-04-04T10:55:48.671Z"
   },
   {
    "duration": 9,
    "start_time": "2022-04-04T10:55:50.357Z"
   },
   {
    "duration": 4,
    "start_time": "2022-04-04T10:55:58.488Z"
   },
   {
    "duration": 8,
    "start_time": "2022-04-04T10:56:03.239Z"
   },
   {
    "duration": 4,
    "start_time": "2022-04-04T10:57:53.425Z"
   },
   {
    "duration": 8,
    "start_time": "2022-04-04T10:57:56.381Z"
   },
   {
    "duration": 3,
    "start_time": "2022-04-04T10:58:10.634Z"
   },
   {
    "duration": 8,
    "start_time": "2022-04-04T10:58:13.274Z"
   },
   {
    "duration": 4,
    "start_time": "2022-04-04T10:59:36.521Z"
   },
   {
    "duration": 8,
    "start_time": "2022-04-04T10:59:38.417Z"
   },
   {
    "duration": 9,
    "start_time": "2022-04-04T11:00:28.657Z"
   },
   {
    "duration": 6,
    "start_time": "2022-04-04T11:04:01.494Z"
   },
   {
    "duration": 14,
    "start_time": "2022-04-04T11:04:06.986Z"
   },
   {
    "duration": 9,
    "start_time": "2022-04-04T11:04:46.375Z"
   },
   {
    "duration": 4,
    "start_time": "2022-04-04T11:06:06.491Z"
   },
   {
    "duration": 10,
    "start_time": "2022-04-04T11:06:09.126Z"
   },
   {
    "duration": 58,
    "start_time": "2022-04-04T11:08:06.528Z"
   },
   {
    "duration": 21,
    "start_time": "2022-04-04T11:09:24.250Z"
   },
   {
    "duration": 21,
    "start_time": "2022-04-04T11:09:31.652Z"
   },
   {
    "duration": 22,
    "start_time": "2022-04-04T11:09:58.322Z"
   },
   {
    "duration": 10,
    "start_time": "2022-04-04T11:13:17.701Z"
   },
   {
    "duration": 14,
    "start_time": "2022-04-04T11:14:46.287Z"
   },
   {
    "duration": 21,
    "start_time": "2022-04-04T11:15:53.685Z"
   },
   {
    "duration": 21,
    "start_time": "2022-04-04T11:16:11.470Z"
   },
   {
    "duration": 21,
    "start_time": "2022-04-04T11:16:59.820Z"
   },
   {
    "duration": 21,
    "start_time": "2022-04-04T11:17:16.825Z"
   },
   {
    "duration": 22,
    "start_time": "2022-04-04T11:18:00.837Z"
   },
   {
    "duration": 22,
    "start_time": "2022-04-04T11:18:27.890Z"
   },
   {
    "duration": 22,
    "start_time": "2022-04-04T11:19:22.711Z"
   },
   {
    "duration": 22,
    "start_time": "2022-04-04T11:20:58.334Z"
   },
   {
    "duration": 6,
    "start_time": "2022-04-04T11:35:11.646Z"
   },
   {
    "duration": 2653,
    "start_time": "2022-04-04T11:37:16.597Z"
   },
   {
    "duration": 120,
    "start_time": "2022-04-04T11:37:25.307Z"
   },
   {
    "duration": 15,
    "start_time": "2022-04-04T11:44:04.042Z"
   },
   {
    "duration": 6,
    "start_time": "2022-04-04T11:44:25.917Z"
   },
   {
    "duration": 9,
    "start_time": "2022-04-04T11:44:44.398Z"
   },
   {
    "duration": 9,
    "start_time": "2022-04-04T11:45:35.585Z"
   },
   {
    "duration": 13,
    "start_time": "2022-04-04T11:46:02.082Z"
   },
   {
    "duration": 11,
    "start_time": "2022-04-04T11:46:29.979Z"
   },
   {
    "duration": 13,
    "start_time": "2022-04-04T11:48:39.152Z"
   },
   {
    "duration": 361,
    "start_time": "2022-04-04T11:52:50.932Z"
   },
   {
    "duration": 4,
    "start_time": "2022-04-04T11:57:51.824Z"
   },
   {
    "duration": 4,
    "start_time": "2022-04-04T12:25:57.785Z"
   },
   {
    "duration": 9,
    "start_time": "2022-04-04T12:30:49.801Z"
   },
   {
    "duration": 44,
    "start_time": "2022-04-04T12:34:15.433Z"
   },
   {
    "duration": 2549,
    "start_time": "2022-04-04T12:34:51.052Z"
   },
   {
    "duration": 43,
    "start_time": "2022-04-04T12:35:03.503Z"
   },
   {
    "duration": 15,
    "start_time": "2022-04-04T12:35:19.893Z"
   },
   {
    "duration": 2749,
    "start_time": "2022-04-04T12:36:59.446Z"
   },
   {
    "duration": 42,
    "start_time": "2022-04-04T12:37:03.635Z"
   },
   {
    "duration": 1996,
    "start_time": "2022-04-04T12:39:05.974Z"
   },
   {
    "duration": 9,
    "start_time": "2022-04-04T12:39:09.415Z"
   },
   {
    "duration": 33,
    "start_time": "2022-04-04T12:39:55.280Z"
   },
   {
    "duration": 1188,
    "start_time": "2022-04-04T12:41:10.109Z"
   },
   {
    "duration": 77,
    "start_time": "2022-04-04T12:41:11.299Z"
   },
   {
    "duration": 4,
    "start_time": "2022-04-04T12:41:11.381Z"
   },
   {
    "duration": 41,
    "start_time": "2022-04-04T12:41:11.386Z"
   },
   {
    "duration": 29,
    "start_time": "2022-04-04T12:41:11.429Z"
   },
   {
    "duration": 15,
    "start_time": "2022-04-04T12:41:11.460Z"
   },
   {
    "duration": 29,
    "start_time": "2022-04-04T12:41:11.476Z"
   },
   {
    "duration": 12,
    "start_time": "2022-04-04T12:41:11.507Z"
   },
   {
    "duration": 6,
    "start_time": "2022-04-04T12:41:11.522Z"
   },
   {
    "duration": 8,
    "start_time": "2022-04-04T12:41:11.529Z"
   },
   {
    "duration": 2,
    "start_time": "2022-04-04T12:41:11.539Z"
   },
   {
    "duration": 12,
    "start_time": "2022-04-04T12:41:11.543Z"
   },
   {
    "duration": 18,
    "start_time": "2022-04-04T12:41:11.556Z"
   },
   {
    "duration": 4,
    "start_time": "2022-04-04T12:41:11.601Z"
   },
   {
    "duration": 8,
    "start_time": "2022-04-04T12:41:11.607Z"
   },
   {
    "duration": 159,
    "start_time": "2022-04-04T12:41:11.617Z"
   },
   {
    "duration": 2,
    "start_time": "2022-04-04T12:41:11.778Z"
   },
   {
    "duration": 19,
    "start_time": "2022-04-04T12:41:11.781Z"
   },
   {
    "duration": 7,
    "start_time": "2022-04-04T12:41:11.802Z"
   },
   {
    "duration": 5,
    "start_time": "2022-04-04T12:41:11.811Z"
   },
   {
    "duration": 11,
    "start_time": "2022-04-04T12:41:11.817Z"
   },
   {
    "duration": 6,
    "start_time": "2022-04-04T12:41:11.830Z"
   },
   {
    "duration": 82,
    "start_time": "2022-04-04T12:41:11.837Z"
   },
   {
    "duration": 9,
    "start_time": "2022-04-04T12:41:11.921Z"
   },
   {
    "duration": 13,
    "start_time": "2022-04-04T12:41:11.931Z"
   },
   {
    "duration": 2176,
    "start_time": "2022-04-04T12:41:11.946Z"
   },
   {
    "duration": 9,
    "start_time": "2022-04-04T12:41:14.126Z"
   },
   {
    "duration": 96,
    "start_time": "2022-04-04T12:41:36.990Z"
   },
   {
    "duration": 11,
    "start_time": "2022-04-04T12:41:41.880Z"
   },
   {
    "duration": 121,
    "start_time": "2022-04-04T12:41:48.284Z"
   },
   {
    "duration": 10,
    "start_time": "2022-04-04T12:41:50.801Z"
   },
   {
    "duration": 134,
    "start_time": "2022-04-04T12:43:11.004Z"
   },
   {
    "duration": 10,
    "start_time": "2022-04-04T12:43:14.082Z"
   },
   {
    "duration": 13,
    "start_time": "2022-04-04T12:44:38.109Z"
   },
   {
    "duration": 3,
    "start_time": "2022-04-04T12:44:46.935Z"
   },
   {
    "duration": 120,
    "start_time": "2022-04-04T12:44:52.810Z"
   },
   {
    "duration": 10,
    "start_time": "2022-04-04T12:44:54.515Z"
   },
   {
    "duration": 157,
    "start_time": "2022-04-04T12:46:08.034Z"
   },
   {
    "duration": 13,
    "start_time": "2022-04-04T12:46:11.535Z"
   },
   {
    "duration": 149,
    "start_time": "2022-04-04T12:46:33.524Z"
   },
   {
    "duration": 12,
    "start_time": "2022-04-04T12:46:35.532Z"
   },
   {
    "duration": 148,
    "start_time": "2022-04-04T12:48:59.773Z"
   },
   {
    "duration": 12,
    "start_time": "2022-04-04T12:49:02.416Z"
   },
   {
    "duration": 12,
    "start_time": "2022-04-04T12:50:48.301Z"
   },
   {
    "duration": 880,
    "start_time": "2022-04-04T12:52:38.234Z"
   },
   {
    "duration": 247,
    "start_time": "2022-04-04T12:54:29.804Z"
   },
   {
    "duration": 12,
    "start_time": "2022-04-04T12:54:32.561Z"
   },
   {
    "duration": 9,
    "start_time": "2022-04-04T12:54:36.584Z"
   },
   {
    "duration": 11,
    "start_time": "2022-04-04T12:54:51.933Z"
   },
   {
    "duration": 268,
    "start_time": "2022-04-04T12:55:11.034Z"
   },
   {
    "duration": 10,
    "start_time": "2022-04-04T12:55:12.657Z"
   },
   {
    "duration": 10,
    "start_time": "2022-04-04T12:55:16.258Z"
   },
   {
    "duration": 271,
    "start_time": "2022-04-04T12:55:45.103Z"
   },
   {
    "duration": 266,
    "start_time": "2022-04-04T12:55:54.697Z"
   },
   {
    "duration": 11,
    "start_time": "2022-04-04T12:55:56.430Z"
   },
   {
    "duration": 261,
    "start_time": "2022-04-04T12:58:04.142Z"
   },
   {
    "duration": 12,
    "start_time": "2022-04-04T12:58:07.026Z"
   },
   {
    "duration": 250,
    "start_time": "2022-04-04T13:00:40.811Z"
   },
   {
    "duration": 13,
    "start_time": "2022-04-04T13:00:43.142Z"
   },
   {
    "duration": 6,
    "start_time": "2022-04-04T13:07:11.090Z"
   },
   {
    "duration": 7,
    "start_time": "2022-04-04T13:07:24.479Z"
   },
   {
    "duration": 13,
    "start_time": "2022-04-04T13:07:38.914Z"
   },
   {
    "duration": 255,
    "start_time": "2022-04-04T13:10:26.810Z"
   },
   {
    "duration": 190,
    "start_time": "2022-04-04T13:11:29.677Z"
   },
   {
    "duration": 156,
    "start_time": "2022-04-04T13:12:13.719Z"
   },
   {
    "duration": 139,
    "start_time": "2022-04-04T13:47:54.927Z"
   },
   {
    "duration": 248,
    "start_time": "2022-04-04T13:49:08.897Z"
   },
   {
    "duration": 184,
    "start_time": "2022-04-04T13:49:30.896Z"
   },
   {
    "duration": 173,
    "start_time": "2022-04-04T13:49:45.450Z"
   },
   {
    "duration": 194,
    "start_time": "2022-04-04T13:51:13.083Z"
   },
   {
    "duration": 3,
    "start_time": "2022-04-04T13:58:25.845Z"
   },
   {
    "duration": 3,
    "start_time": "2022-04-04T13:58:58.394Z"
   },
   {
    "duration": 177,
    "start_time": "2022-04-04T13:59:00.620Z"
   },
   {
    "duration": 3,
    "start_time": "2022-04-04T13:59:20.268Z"
   },
   {
    "duration": 180,
    "start_time": "2022-04-04T13:59:22.116Z"
   },
   {
    "duration": 3,
    "start_time": "2022-04-04T13:59:37.066Z"
   },
   {
    "duration": 170,
    "start_time": "2022-04-04T13:59:38.711Z"
   },
   {
    "duration": 3,
    "start_time": "2022-04-04T13:59:54.890Z"
   },
   {
    "duration": 166,
    "start_time": "2022-04-04T13:59:57.438Z"
   },
   {
    "duration": 3,
    "start_time": "2022-04-04T14:11:14.089Z"
   },
   {
    "duration": 267,
    "start_time": "2022-04-04T14:11:22.562Z"
   },
   {
    "duration": 1146,
    "start_time": "2022-04-04T14:11:31.300Z"
   },
   {
    "duration": 160,
    "start_time": "2022-04-04T14:11:32.448Z"
   },
   {
    "duration": 3,
    "start_time": "2022-04-04T14:11:32.609Z"
   },
   {
    "duration": 26,
    "start_time": "2022-04-04T14:11:32.615Z"
   },
   {
    "duration": 20,
    "start_time": "2022-04-04T14:11:32.643Z"
   },
   {
    "duration": 3,
    "start_time": "2022-04-04T14:11:32.665Z"
   },
   {
    "duration": 33,
    "start_time": "2022-04-04T14:11:32.670Z"
   },
   {
    "duration": 18,
    "start_time": "2022-04-04T14:11:32.705Z"
   },
   {
    "duration": 7,
    "start_time": "2022-04-04T14:11:32.724Z"
   },
   {
    "duration": 4,
    "start_time": "2022-04-04T14:11:32.733Z"
   },
   {
    "duration": 9,
    "start_time": "2022-04-04T14:11:32.738Z"
   },
   {
    "duration": 2,
    "start_time": "2022-04-04T14:11:32.748Z"
   },
   {
    "duration": 50,
    "start_time": "2022-04-04T14:11:32.752Z"
   },
   {
    "duration": 17,
    "start_time": "2022-04-04T14:11:32.803Z"
   },
   {
    "duration": 4,
    "start_time": "2022-04-04T14:11:32.821Z"
   },
   {
    "duration": 6,
    "start_time": "2022-04-04T14:11:32.827Z"
   },
   {
    "duration": 169,
    "start_time": "2022-04-04T14:11:32.835Z"
   },
   {
    "duration": 2,
    "start_time": "2022-04-04T14:11:33.006Z"
   },
   {
    "duration": 12,
    "start_time": "2022-04-04T14:11:33.009Z"
   },
   {
    "duration": 8,
    "start_time": "2022-04-04T14:11:33.022Z"
   },
   {
    "duration": 8,
    "start_time": "2022-04-04T14:11:33.031Z"
   },
   {
    "duration": 11,
    "start_time": "2022-04-04T14:11:33.041Z"
   },
   {
    "duration": 5,
    "start_time": "2022-04-04T14:11:33.054Z"
   },
   {
    "duration": 96,
    "start_time": "2022-04-04T14:11:33.061Z"
   },
   {
    "duration": 8,
    "start_time": "2022-04-04T14:11:33.159Z"
   },
   {
    "duration": 34,
    "start_time": "2022-04-04T14:11:33.169Z"
   },
   {
    "duration": 288,
    "start_time": "2022-04-04T14:11:33.204Z"
   },
   {
    "duration": 12,
    "start_time": "2022-04-04T14:11:33.500Z"
   },
   {
    "duration": 3,
    "start_time": "2022-04-04T14:11:33.516Z"
   },
   {
    "duration": 4,
    "start_time": "2022-04-04T14:11:33.522Z"
   },
   {
    "duration": 8,
    "start_time": "2022-04-04T14:11:33.528Z"
   },
   {
    "duration": 269,
    "start_time": "2022-04-04T14:11:33.538Z"
   },
   {
    "duration": 168,
    "start_time": "2022-04-04T14:12:41.197Z"
   },
   {
    "duration": 3,
    "start_time": "2022-04-04T14:12:47.140Z"
   },
   {
    "duration": 167,
    "start_time": "2022-04-04T14:12:53.110Z"
   },
   {
    "duration": 3,
    "start_time": "2022-04-04T14:13:20.746Z"
   },
   {
    "duration": 180,
    "start_time": "2022-04-04T14:13:25.970Z"
   },
   {
    "duration": 3,
    "start_time": "2022-04-04T14:13:44.125Z"
   },
   {
    "duration": 164,
    "start_time": "2022-04-04T14:13:47.833Z"
   },
   {
    "duration": 3,
    "start_time": "2022-04-04T14:14:10.191Z"
   },
   {
    "duration": 285,
    "start_time": "2022-04-04T14:14:13.789Z"
   },
   {
    "duration": 4,
    "start_time": "2022-04-04T14:14:34.506Z"
   },
   {
    "duration": 180,
    "start_time": "2022-04-04T14:14:37.380Z"
   },
   {
    "duration": 2,
    "start_time": "2022-04-04T14:14:49.032Z"
   },
   {
    "duration": 248,
    "start_time": "2022-04-04T14:14:52.298Z"
   },
   {
    "duration": 1171,
    "start_time": "2022-04-04T14:15:03.613Z"
   },
   {
    "duration": 96,
    "start_time": "2022-04-04T14:15:04.786Z"
   },
   {
    "duration": 4,
    "start_time": "2022-04-04T14:15:04.883Z"
   },
   {
    "duration": 27,
    "start_time": "2022-04-04T14:15:04.889Z"
   },
   {
    "duration": 18,
    "start_time": "2022-04-04T14:15:04.917Z"
   },
   {
    "duration": 4,
    "start_time": "2022-04-04T14:15:04.936Z"
   },
   {
    "duration": 15,
    "start_time": "2022-04-04T14:15:04.941Z"
   },
   {
    "duration": 13,
    "start_time": "2022-04-04T14:15:04.957Z"
   },
   {
    "duration": 34,
    "start_time": "2022-04-04T14:15:04.972Z"
   },
   {
    "duration": 4,
    "start_time": "2022-04-04T14:15:05.009Z"
   },
   {
    "duration": 12,
    "start_time": "2022-04-04T14:15:05.014Z"
   },
   {
    "duration": 3,
    "start_time": "2022-04-04T14:15:05.027Z"
   },
   {
    "duration": 15,
    "start_time": "2022-04-04T14:15:05.031Z"
   },
   {
    "duration": 20,
    "start_time": "2022-04-04T14:15:05.048Z"
   },
   {
    "duration": 32,
    "start_time": "2022-04-04T14:15:05.069Z"
   },
   {
    "duration": 13,
    "start_time": "2022-04-04T14:15:05.103Z"
   },
   {
    "duration": 147,
    "start_time": "2022-04-04T14:15:05.118Z"
   },
   {
    "duration": 2,
    "start_time": "2022-04-04T14:15:05.267Z"
   },
   {
    "duration": 15,
    "start_time": "2022-04-04T14:15:05.271Z"
   },
   {
    "duration": 18,
    "start_time": "2022-04-04T14:15:05.288Z"
   },
   {
    "duration": 6,
    "start_time": "2022-04-04T14:15:05.307Z"
   },
   {
    "duration": 11,
    "start_time": "2022-04-04T14:15:05.314Z"
   },
   {
    "duration": 6,
    "start_time": "2022-04-04T14:15:05.326Z"
   },
   {
    "duration": 75,
    "start_time": "2022-04-04T14:15:05.333Z"
   },
   {
    "duration": 8,
    "start_time": "2022-04-04T14:15:05.410Z"
   },
   {
    "duration": 13,
    "start_time": "2022-04-04T14:15:05.420Z"
   },
   {
    "duration": 287,
    "start_time": "2022-04-04T14:15:05.435Z"
   },
   {
    "duration": 12,
    "start_time": "2022-04-04T14:15:05.725Z"
   },
   {
    "duration": 9,
    "start_time": "2022-04-04T14:15:05.739Z"
   },
   {
    "duration": 4,
    "start_time": "2022-04-04T14:15:05.750Z"
   },
   {
    "duration": 9,
    "start_time": "2022-04-04T14:15:05.756Z"
   },
   {
    "duration": 273,
    "start_time": "2022-04-04T14:15:05.767Z"
   },
   {
    "duration": 1190,
    "start_time": "2022-04-04T14:15:57.244Z"
   },
   {
    "duration": 65,
    "start_time": "2022-04-04T14:15:58.436Z"
   },
   {
    "duration": 3,
    "start_time": "2022-04-04T14:15:58.503Z"
   },
   {
    "duration": 23,
    "start_time": "2022-04-04T14:15:58.508Z"
   },
   {
    "duration": 18,
    "start_time": "2022-04-04T14:15:58.532Z"
   },
   {
    "duration": 3,
    "start_time": "2022-04-04T14:15:58.552Z"
   },
   {
    "duration": 13,
    "start_time": "2022-04-04T14:15:58.557Z"
   },
   {
    "duration": 42,
    "start_time": "2022-04-04T14:15:58.571Z"
   },
   {
    "duration": 8,
    "start_time": "2022-04-04T14:15:58.615Z"
   },
   {
    "duration": 4,
    "start_time": "2022-04-04T14:15:58.626Z"
   },
   {
    "duration": 7,
    "start_time": "2022-04-04T14:15:58.632Z"
   },
   {
    "duration": 3,
    "start_time": "2022-04-04T14:15:58.640Z"
   },
   {
    "duration": 14,
    "start_time": "2022-04-04T14:15:58.645Z"
   },
   {
    "duration": 54,
    "start_time": "2022-04-04T14:15:58.661Z"
   },
   {
    "duration": 4,
    "start_time": "2022-04-04T14:15:58.717Z"
   },
   {
    "duration": 9,
    "start_time": "2022-04-04T14:15:58.723Z"
   },
   {
    "duration": 154,
    "start_time": "2022-04-04T14:15:58.733Z"
   },
   {
    "duration": 3,
    "start_time": "2022-04-04T14:15:58.889Z"
   },
   {
    "duration": 10,
    "start_time": "2022-04-04T14:15:58.901Z"
   },
   {
    "duration": 10,
    "start_time": "2022-04-04T14:15:58.913Z"
   },
   {
    "duration": 6,
    "start_time": "2022-04-04T14:15:58.924Z"
   },
   {
    "duration": 10,
    "start_time": "2022-04-04T14:15:58.931Z"
   },
   {
    "duration": 4,
    "start_time": "2022-04-04T14:15:58.943Z"
   },
   {
    "duration": 83,
    "start_time": "2022-04-04T14:15:58.949Z"
   },
   {
    "duration": 8,
    "start_time": "2022-04-04T14:15:59.033Z"
   },
   {
    "duration": 12,
    "start_time": "2022-04-04T14:15:59.042Z"
   },
   {
    "duration": 292,
    "start_time": "2022-04-04T14:15:59.056Z"
   },
   {
    "duration": 12,
    "start_time": "2022-04-04T14:15:59.351Z"
   },
   {
    "duration": 4,
    "start_time": "2022-04-04T14:15:59.364Z"
   },
   {
    "duration": 7,
    "start_time": "2022-04-04T14:15:59.369Z"
   },
   {
    "duration": 25,
    "start_time": "2022-04-04T14:15:59.378Z"
   },
   {
    "duration": 273,
    "start_time": "2022-04-04T14:15:59.404Z"
   },
   {
    "duration": 1127,
    "start_time": "2022-04-04T14:16:19.230Z"
   },
   {
    "duration": 67,
    "start_time": "2022-04-04T14:16:20.359Z"
   },
   {
    "duration": 4,
    "start_time": "2022-04-04T14:16:20.428Z"
   },
   {
    "duration": 24,
    "start_time": "2022-04-04T14:16:20.434Z"
   },
   {
    "duration": 17,
    "start_time": "2022-04-04T14:16:20.460Z"
   },
   {
    "duration": 3,
    "start_time": "2022-04-04T14:16:20.479Z"
   },
   {
    "duration": 18,
    "start_time": "2022-04-04T14:16:20.484Z"
   },
   {
    "duration": 17,
    "start_time": "2022-04-04T14:16:20.503Z"
   },
   {
    "duration": 11,
    "start_time": "2022-04-04T14:16:20.522Z"
   },
   {
    "duration": 4,
    "start_time": "2022-04-04T14:16:20.536Z"
   },
   {
    "duration": 11,
    "start_time": "2022-04-04T14:16:20.541Z"
   },
   {
    "duration": 2,
    "start_time": "2022-04-04T14:16:20.554Z"
   },
   {
    "duration": 17,
    "start_time": "2022-04-04T14:16:20.557Z"
   },
   {
    "duration": 37,
    "start_time": "2022-04-04T14:16:20.576Z"
   },
   {
    "duration": 4,
    "start_time": "2022-04-04T14:16:20.615Z"
   },
   {
    "duration": 11,
    "start_time": "2022-04-04T14:16:20.621Z"
   },
   {
    "duration": 159,
    "start_time": "2022-04-04T14:16:20.634Z"
   },
   {
    "duration": 8,
    "start_time": "2022-04-04T14:16:20.794Z"
   },
   {
    "duration": 14,
    "start_time": "2022-04-04T14:16:20.803Z"
   },
   {
    "duration": 11,
    "start_time": "2022-04-04T14:16:20.819Z"
   },
   {
    "duration": 7,
    "start_time": "2022-04-04T14:16:20.832Z"
   },
   {
    "duration": 11,
    "start_time": "2022-04-04T14:16:20.841Z"
   },
   {
    "duration": 6,
    "start_time": "2022-04-04T14:16:20.854Z"
   },
   {
    "duration": 118,
    "start_time": "2022-04-04T14:16:20.862Z"
   },
   {
    "duration": 21,
    "start_time": "2022-04-04T14:16:20.982Z"
   },
   {
    "duration": 29,
    "start_time": "2022-04-04T14:16:21.005Z"
   },
   {
    "duration": 419,
    "start_time": "2022-04-04T14:16:21.036Z"
   },
   {
    "duration": 17,
    "start_time": "2022-04-04T14:16:21.459Z"
   },
   {
    "duration": 2,
    "start_time": "2022-04-04T14:16:21.478Z"
   },
   {
    "duration": 3,
    "start_time": "2022-04-04T14:16:21.501Z"
   },
   {
    "duration": 14,
    "start_time": "2022-04-04T14:16:21.505Z"
   },
   {
    "duration": 416,
    "start_time": "2022-04-04T14:16:21.521Z"
   },
   {
    "duration": 206,
    "start_time": "2022-04-04T14:18:49.677Z"
   },
   {
    "duration": 134,
    "start_time": "2022-04-04T14:19:22.459Z"
   },
   {
    "duration": 105,
    "start_time": "2022-04-04T14:19:45.461Z"
   },
   {
    "duration": 183,
    "start_time": "2022-04-04T14:23:22.403Z"
   },
   {
    "duration": 181,
    "start_time": "2022-04-04T14:23:38.184Z"
   },
   {
    "duration": 268,
    "start_time": "2022-04-04T14:24:00.169Z"
   },
   {
    "duration": 11,
    "start_time": "2022-04-04T14:24:47.591Z"
   },
   {
    "duration": 182,
    "start_time": "2022-04-04T14:26:38.532Z"
   },
   {
    "duration": 194,
    "start_time": "2022-04-04T14:29:54.269Z"
   },
   {
    "duration": 191,
    "start_time": "2022-04-04T14:30:03.786Z"
   },
   {
    "duration": 159,
    "start_time": "2022-04-04T14:34:39.006Z"
   },
   {
    "duration": 148,
    "start_time": "2022-04-04T14:35:01.062Z"
   },
   {
    "duration": 138,
    "start_time": "2022-04-04T14:35:34.800Z"
   },
   {
    "duration": 133,
    "start_time": "2022-04-04T14:36:12.147Z"
   },
   {
    "duration": 121,
    "start_time": "2022-04-04T14:36:44.316Z"
   },
   {
    "duration": 123,
    "start_time": "2022-04-04T14:36:54.540Z"
   },
   {
    "duration": 12,
    "start_time": "2022-04-04T14:39:22.912Z"
   },
   {
    "duration": 121,
    "start_time": "2022-04-04T14:41:38.284Z"
   },
   {
    "duration": 7,
    "start_time": "2022-04-04T14:42:10.853Z"
   },
   {
    "duration": 19,
    "start_time": "2022-04-04T14:43:29.882Z"
   },
   {
    "duration": 20,
    "start_time": "2022-04-04T14:43:50.795Z"
   },
   {
    "duration": 19,
    "start_time": "2022-04-04T14:43:57.557Z"
   },
   {
    "duration": 6,
    "start_time": "2022-04-04T14:44:50.258Z"
   },
   {
    "duration": 12,
    "start_time": "2022-04-04T14:46:01.498Z"
   },
   {
    "duration": 170,
    "start_time": "2022-04-04T14:46:13.939Z"
   },
   {
    "duration": 226,
    "start_time": "2022-04-04T14:46:55.808Z"
   },
   {
    "duration": 176,
    "start_time": "2022-04-04T14:47:10.693Z"
   },
   {
    "duration": 159,
    "start_time": "2022-04-04T14:47:21.484Z"
   },
   {
    "duration": 276,
    "start_time": "2022-04-04T14:48:02.113Z"
   },
   {
    "duration": 261,
    "start_time": "2022-04-04T14:49:22.650Z"
   },
   {
    "duration": 268,
    "start_time": "2022-04-04T14:50:12.233Z"
   },
   {
    "duration": 212,
    "start_time": "2022-04-04T14:51:42.855Z"
   },
   {
    "duration": 270,
    "start_time": "2022-04-04T14:53:36.066Z"
   },
   {
    "duration": 243,
    "start_time": "2022-04-04T14:54:18.539Z"
   },
   {
    "duration": 247,
    "start_time": "2022-04-04T14:54:44.226Z"
   },
   {
    "duration": 254,
    "start_time": "2022-04-04T14:55:05.053Z"
   },
   {
    "duration": 298,
    "start_time": "2022-04-04T14:55:39.768Z"
   },
   {
    "duration": 232,
    "start_time": "2022-04-04T14:56:09.105Z"
   },
   {
    "duration": 270,
    "start_time": "2022-04-04T14:58:52.141Z"
   },
   {
    "duration": 287,
    "start_time": "2022-04-04T14:58:57.376Z"
   },
   {
    "duration": 17,
    "start_time": "2022-04-04T15:00:06.975Z"
   },
   {
    "duration": 11,
    "start_time": "2022-04-04T15:00:12.289Z"
   },
   {
    "duration": 17,
    "start_time": "2022-04-04T15:00:57.854Z"
   },
   {
    "duration": 293,
    "start_time": "2022-04-04T15:02:08.251Z"
   },
   {
    "duration": 10,
    "start_time": "2022-04-04T15:06:42.813Z"
   },
   {
    "duration": 19,
    "start_time": "2022-04-04T15:09:16.549Z"
   },
   {
    "duration": 12,
    "start_time": "2022-04-04T15:09:27.092Z"
   },
   {
    "duration": 248,
    "start_time": "2022-04-04T15:22:41.435Z"
   },
   {
    "duration": 241,
    "start_time": "2022-04-04T15:23:24.540Z"
   },
   {
    "duration": 281,
    "start_time": "2022-04-04T15:23:55.920Z"
   },
   {
    "duration": 278,
    "start_time": "2022-04-04T15:24:08.253Z"
   },
   {
    "duration": 1154,
    "start_time": "2022-04-04T15:32:11.303Z"
   },
   {
    "duration": 73,
    "start_time": "2022-04-04T15:32:12.459Z"
   },
   {
    "duration": 4,
    "start_time": "2022-04-04T15:32:12.533Z"
   },
   {
    "duration": 23,
    "start_time": "2022-04-04T15:32:12.539Z"
   },
   {
    "duration": 19,
    "start_time": "2022-04-04T15:32:12.564Z"
   },
   {
    "duration": 4,
    "start_time": "2022-04-04T15:32:12.585Z"
   },
   {
    "duration": 14,
    "start_time": "2022-04-04T15:32:12.590Z"
   },
   {
    "duration": 13,
    "start_time": "2022-04-04T15:32:12.605Z"
   },
   {
    "duration": 9,
    "start_time": "2022-04-04T15:32:12.619Z"
   },
   {
    "duration": 3,
    "start_time": "2022-04-04T15:32:12.631Z"
   },
   {
    "duration": 9,
    "start_time": "2022-04-04T15:32:12.636Z"
   },
   {
    "duration": 3,
    "start_time": "2022-04-04T15:32:12.647Z"
   },
   {
    "duration": 18,
    "start_time": "2022-04-04T15:32:12.651Z"
   },
   {
    "duration": 41,
    "start_time": "2022-04-04T15:32:12.670Z"
   },
   {
    "duration": 3,
    "start_time": "2022-04-04T15:32:12.713Z"
   },
   {
    "duration": 10,
    "start_time": "2022-04-04T15:32:12.718Z"
   },
   {
    "duration": 159,
    "start_time": "2022-04-04T15:32:12.730Z"
   },
   {
    "duration": 3,
    "start_time": "2022-04-04T15:32:12.891Z"
   },
   {
    "duration": 17,
    "start_time": "2022-04-04T15:32:12.895Z"
   },
   {
    "duration": 10,
    "start_time": "2022-04-04T15:32:12.914Z"
   },
   {
    "duration": 5,
    "start_time": "2022-04-04T15:32:12.926Z"
   },
   {
    "duration": 12,
    "start_time": "2022-04-04T15:32:12.933Z"
   },
   {
    "duration": 5,
    "start_time": "2022-04-04T15:32:12.947Z"
   },
   {
    "duration": 92,
    "start_time": "2022-04-04T15:32:12.954Z"
   },
   {
    "duration": 8,
    "start_time": "2022-04-04T15:32:13.048Z"
   },
   {
    "duration": 12,
    "start_time": "2022-04-04T15:32:13.058Z"
   },
   {
    "duration": 292,
    "start_time": "2022-04-04T15:32:13.072Z"
   },
   {
    "duration": 12,
    "start_time": "2022-04-04T15:32:13.367Z"
   },
   {
    "duration": 1,
    "start_time": "2022-04-04T15:32:13.381Z"
   },
   {
    "duration": 17,
    "start_time": "2022-04-04T15:32:13.384Z"
   },
   {
    "duration": 10,
    "start_time": "2022-04-04T15:32:13.402Z"
   },
   {
    "duration": 261,
    "start_time": "2022-04-04T15:32:13.413Z"
   },
   {
    "duration": 191,
    "start_time": "2022-04-04T15:32:13.676Z"
   },
   {
    "duration": 6,
    "start_time": "2022-04-04T15:32:13.868Z"
   },
   {
    "duration": 16,
    "start_time": "2022-04-04T15:32:13.876Z"
   },
   {
    "duration": 312,
    "start_time": "2022-04-04T15:32:13.901Z"
   },
   {
    "duration": 383,
    "start_time": "2022-04-04T15:32:37.727Z"
   },
   {
    "duration": 1249,
    "start_time": "2022-04-04T15:32:50.292Z"
   },
   {
    "duration": 60,
    "start_time": "2022-04-04T15:32:51.543Z"
   },
   {
    "duration": 4,
    "start_time": "2022-04-04T15:32:51.605Z"
   },
   {
    "duration": 22,
    "start_time": "2022-04-04T15:32:51.611Z"
   },
   {
    "duration": 17,
    "start_time": "2022-04-04T15:32:51.634Z"
   },
   {
    "duration": 3,
    "start_time": "2022-04-04T15:32:51.653Z"
   },
   {
    "duration": 12,
    "start_time": "2022-04-04T15:32:51.658Z"
   },
   {
    "duration": 11,
    "start_time": "2022-04-04T15:32:51.701Z"
   },
   {
    "duration": 9,
    "start_time": "2022-04-04T15:32:51.713Z"
   },
   {
    "duration": 4,
    "start_time": "2022-04-04T15:32:51.724Z"
   },
   {
    "duration": 7,
    "start_time": "2022-04-04T15:32:51.730Z"
   },
   {
    "duration": 2,
    "start_time": "2022-04-04T15:32:51.738Z"
   },
   {
    "duration": 16,
    "start_time": "2022-04-04T15:32:51.742Z"
   },
   {
    "duration": 43,
    "start_time": "2022-04-04T15:32:51.759Z"
   },
   {
    "duration": 5,
    "start_time": "2022-04-04T15:32:51.804Z"
   },
   {
    "duration": 10,
    "start_time": "2022-04-04T15:32:51.810Z"
   },
   {
    "duration": 156,
    "start_time": "2022-04-04T15:32:51.821Z"
   },
   {
    "duration": 3,
    "start_time": "2022-04-04T15:32:51.978Z"
   },
   {
    "duration": 20,
    "start_time": "2022-04-04T15:32:51.982Z"
   },
   {
    "duration": 9,
    "start_time": "2022-04-04T15:32:52.004Z"
   },
   {
    "duration": 5,
    "start_time": "2022-04-04T15:32:52.014Z"
   },
   {
    "duration": 10,
    "start_time": "2022-04-04T15:32:52.021Z"
   },
   {
    "duration": 7,
    "start_time": "2022-04-04T15:32:52.034Z"
   },
   {
    "duration": 88,
    "start_time": "2022-04-04T15:32:52.043Z"
   },
   {
    "duration": 9,
    "start_time": "2022-04-04T15:32:52.133Z"
   },
   {
    "duration": 12,
    "start_time": "2022-04-04T15:32:52.143Z"
   },
   {
    "duration": 291,
    "start_time": "2022-04-04T15:32:52.157Z"
   },
   {
    "duration": 13,
    "start_time": "2022-04-04T15:32:52.451Z"
   },
   {
    "duration": 4,
    "start_time": "2022-04-04T15:32:52.465Z"
   },
   {
    "duration": 5,
    "start_time": "2022-04-04T15:32:52.471Z"
   },
   {
    "duration": 25,
    "start_time": "2022-04-04T15:32:52.477Z"
   },
   {
    "duration": 254,
    "start_time": "2022-04-04T15:32:52.503Z"
   },
   {
    "duration": 186,
    "start_time": "2022-04-04T15:32:52.758Z"
   },
   {
    "duration": 6,
    "start_time": "2022-04-04T15:32:52.945Z"
   },
   {
    "duration": 14,
    "start_time": "2022-04-04T15:32:52.953Z"
   },
   {
    "duration": 427,
    "start_time": "2022-04-04T15:32:52.968Z"
   },
   {
    "duration": 85,
    "start_time": "2022-04-04T19:31:44.337Z"
   },
   {
    "duration": 1749,
    "start_time": "2022-04-04T19:31:56.085Z"
   },
   {
    "duration": 61,
    "start_time": "2022-04-04T19:31:57.837Z"
   },
   {
    "duration": 5,
    "start_time": "2022-04-04T19:31:57.900Z"
   },
   {
    "duration": 33,
    "start_time": "2022-04-04T19:31:57.908Z"
   },
   {
    "duration": 40,
    "start_time": "2022-04-04T19:31:57.944Z"
   },
   {
    "duration": 8,
    "start_time": "2022-04-04T19:31:57.986Z"
   },
   {
    "duration": 22,
    "start_time": "2022-04-04T19:31:57.997Z"
   },
   {
    "duration": 21,
    "start_time": "2022-04-04T19:31:58.022Z"
   },
   {
    "duration": 44,
    "start_time": "2022-04-04T19:31:58.045Z"
   },
   {
    "duration": 8,
    "start_time": "2022-04-04T19:31:58.092Z"
   },
   {
    "duration": 8,
    "start_time": "2022-04-04T19:31:58.102Z"
   },
   {
    "duration": 3,
    "start_time": "2022-04-04T19:31:58.112Z"
   },
   {
    "duration": 17,
    "start_time": "2022-04-04T19:31:58.117Z"
   },
   {
    "duration": 63,
    "start_time": "2022-04-04T19:31:58.140Z"
   },
   {
    "duration": 6,
    "start_time": "2022-04-04T19:31:58.205Z"
   },
   {
    "duration": 9,
    "start_time": "2022-04-04T19:31:58.213Z"
   },
   {
    "duration": 268,
    "start_time": "2022-04-04T19:31:58.224Z"
   },
   {
    "duration": 4,
    "start_time": "2022-04-04T19:31:58.494Z"
   },
   {
    "duration": 17,
    "start_time": "2022-04-04T19:31:58.500Z"
   },
   {
    "duration": 13,
    "start_time": "2022-04-04T19:31:58.519Z"
   },
   {
    "duration": 40,
    "start_time": "2022-04-04T19:31:58.535Z"
   },
   {
    "duration": 29,
    "start_time": "2022-04-04T19:31:58.578Z"
   },
   {
    "duration": 14,
    "start_time": "2022-04-04T19:31:58.609Z"
   },
   {
    "duration": 103,
    "start_time": "2022-04-04T19:31:58.625Z"
   },
   {
    "duration": 13,
    "start_time": "2022-04-04T19:31:58.731Z"
   },
   {
    "duration": 47,
    "start_time": "2022-04-04T19:31:58.747Z"
   },
   {
    "duration": 513,
    "start_time": "2022-04-04T19:31:58.797Z"
   },
   {
    "duration": 17,
    "start_time": "2022-04-04T19:31:59.312Z"
   },
   {
    "duration": 3,
    "start_time": "2022-04-04T19:31:59.331Z"
   },
   {
    "duration": 7,
    "start_time": "2022-04-04T19:31:59.336Z"
   },
   {
    "duration": 36,
    "start_time": "2022-04-04T19:31:59.345Z"
   },
   {
    "duration": 481,
    "start_time": "2022-04-04T19:31:59.384Z"
   },
   {
    "duration": 345,
    "start_time": "2022-04-04T19:31:59.869Z"
   },
   {
    "duration": 10,
    "start_time": "2022-04-04T19:32:00.216Z"
   },
   {
    "duration": 40,
    "start_time": "2022-04-04T19:32:00.228Z"
   },
   {
    "duration": 439,
    "start_time": "2022-04-04T19:32:00.270Z"
   },
   {
    "duration": 334,
    "start_time": "2022-04-04T19:33:28.242Z"
   },
   {
    "duration": 461,
    "start_time": "2022-04-04T19:34:10.542Z"
   },
   {
    "duration": 312,
    "start_time": "2022-04-04T19:34:24.398Z"
   },
   {
    "duration": 516,
    "start_time": "2022-04-04T19:35:00.466Z"
   },
   {
    "duration": 439,
    "start_time": "2022-04-04T19:36:16.848Z"
   },
   {
    "duration": 19,
    "start_time": "2022-04-04T19:42:17.737Z"
   },
   {
    "duration": 142,
    "start_time": "2022-04-04T19:42:44.381Z"
   },
   {
    "duration": 24,
    "start_time": "2022-04-04T19:42:57.303Z"
   },
   {
    "duration": 36,
    "start_time": "2022-04-04T19:45:25.320Z"
   },
   {
    "duration": 376,
    "start_time": "2022-04-04T19:46:43.686Z"
   },
   {
    "duration": 425,
    "start_time": "2022-04-04T19:46:58.445Z"
   },
   {
    "duration": 34,
    "start_time": "2022-04-04T19:47:12.543Z"
   },
   {
    "duration": 31,
    "start_time": "2022-04-04T19:50:48.868Z"
   },
   {
    "duration": 322,
    "start_time": "2022-04-04T19:52:01.341Z"
   },
   {
    "duration": 324,
    "start_time": "2022-04-04T19:52:56.678Z"
   },
   {
    "duration": 52,
    "start_time": "2022-04-04T20:24:29.680Z"
   },
   {
    "duration": 6,
    "start_time": "2022-04-04T20:24:47.680Z"
   },
   {
    "duration": 339,
    "start_time": "2022-04-04T20:25:46.877Z"
   },
   {
    "duration": 338,
    "start_time": "2022-04-04T20:26:08.002Z"
   },
   {
    "duration": 337,
    "start_time": "2022-04-04T20:34:02.908Z"
   },
   {
    "duration": 357,
    "start_time": "2022-04-04T20:34:16.560Z"
   },
   {
    "duration": 339,
    "start_time": "2022-04-04T20:34:46.784Z"
   },
   {
    "duration": 452,
    "start_time": "2022-04-04T20:35:04.082Z"
   },
   {
    "duration": 345,
    "start_time": "2022-04-04T20:35:22.053Z"
   },
   {
    "duration": 361,
    "start_time": "2022-04-04T20:35:31.997Z"
   },
   {
    "duration": 298,
    "start_time": "2022-04-04T20:37:43.004Z"
   },
   {
    "duration": 299,
    "start_time": "2022-04-04T20:38:28.977Z"
   },
   {
    "duration": 462,
    "start_time": "2022-04-04T20:38:58.588Z"
   },
   {
    "duration": 552,
    "start_time": "2022-04-04T20:40:08.492Z"
   },
   {
    "duration": 410,
    "start_time": "2022-04-04T20:40:29.709Z"
   },
   {
    "duration": 434,
    "start_time": "2022-04-04T20:40:43.317Z"
   },
   {
    "duration": 455,
    "start_time": "2022-04-04T20:41:13.824Z"
   },
   {
    "duration": 435,
    "start_time": "2022-04-04T20:41:23.343Z"
   },
   {
    "duration": 1566,
    "start_time": "2022-04-04T20:41:30.518Z"
   },
   {
    "duration": 48,
    "start_time": "2022-04-04T20:41:32.088Z"
   },
   {
    "duration": 6,
    "start_time": "2022-04-04T20:41:32.139Z"
   },
   {
    "duration": 49,
    "start_time": "2022-04-04T20:41:32.149Z"
   },
   {
    "duration": 40,
    "start_time": "2022-04-04T20:41:32.201Z"
   },
   {
    "duration": 33,
    "start_time": "2022-04-04T20:41:32.244Z"
   },
   {
    "duration": 38,
    "start_time": "2022-04-04T20:41:32.280Z"
   },
   {
    "duration": 31,
    "start_time": "2022-04-04T20:41:32.321Z"
   },
   {
    "duration": 19,
    "start_time": "2022-04-04T20:41:32.355Z"
   },
   {
    "duration": 37,
    "start_time": "2022-04-04T20:41:32.379Z"
   },
   {
    "duration": 16,
    "start_time": "2022-04-04T20:41:32.419Z"
   },
   {
    "duration": 4,
    "start_time": "2022-04-04T20:41:32.437Z"
   },
   {
    "duration": 25,
    "start_time": "2022-04-04T20:41:32.444Z"
   },
   {
    "duration": 47,
    "start_time": "2022-04-04T20:41:32.474Z"
   },
   {
    "duration": 8,
    "start_time": "2022-04-04T20:41:32.525Z"
   },
   {
    "duration": 19,
    "start_time": "2022-04-04T20:41:32.536Z"
   },
   {
    "duration": 383,
    "start_time": "2022-04-04T20:41:32.577Z"
   },
   {
    "duration": 3,
    "start_time": "2022-04-04T20:41:32.967Z"
   },
   {
    "duration": 43,
    "start_time": "2022-04-04T20:41:32.973Z"
   },
   {
    "duration": 17,
    "start_time": "2022-04-04T20:41:33.019Z"
   },
   {
    "duration": 9,
    "start_time": "2022-04-04T20:41:33.039Z"
   },
   {
    "duration": 26,
    "start_time": "2022-04-04T20:41:33.070Z"
   },
   {
    "duration": 11,
    "start_time": "2022-04-04T20:41:33.099Z"
   },
   {
    "duration": 132,
    "start_time": "2022-04-04T20:41:33.113Z"
   },
   {
    "duration": 18,
    "start_time": "2022-04-04T20:41:33.248Z"
   },
   {
    "duration": 28,
    "start_time": "2022-04-04T20:41:33.268Z"
   },
   {
    "duration": 524,
    "start_time": "2022-04-04T20:41:33.299Z"
   },
   {
    "duration": 20,
    "start_time": "2022-04-04T20:41:33.828Z"
   },
   {
    "duration": 6,
    "start_time": "2022-04-04T20:41:33.869Z"
   },
   {
    "duration": 20,
    "start_time": "2022-04-04T20:41:33.879Z"
   },
   {
    "duration": 13,
    "start_time": "2022-04-04T20:41:33.902Z"
   },
   {
    "duration": 605,
    "start_time": "2022-04-04T20:41:33.917Z"
   },
   {
    "duration": 27,
    "start_time": "2022-04-04T20:41:34.525Z"
   },
   {
    "duration": 451,
    "start_time": "2022-04-04T20:41:34.571Z"
   },
   {
    "duration": 481,
    "start_time": "2022-04-04T20:41:35.025Z"
   },
   {
    "duration": 7,
    "start_time": "2022-04-04T20:41:35.509Z"
   },
   {
    "duration": 381,
    "start_time": "2022-04-04T20:41:35.519Z"
   },
   {
    "duration": 434,
    "start_time": "2022-04-04T20:41:35.903Z"
   },
   {
    "duration": 490,
    "start_time": "2022-04-04T20:42:09.514Z"
   },
   {
    "duration": 558,
    "start_time": "2022-04-04T20:42:16.735Z"
   },
   {
    "duration": 425,
    "start_time": "2022-04-04T20:42:36.128Z"
   },
   {
    "duration": 396,
    "start_time": "2022-04-04T20:43:08.299Z"
   },
   {
    "duration": 559,
    "start_time": "2022-04-04T20:43:23.514Z"
   },
   {
    "duration": 307,
    "start_time": "2022-04-04T20:43:29.736Z"
   },
   {
    "duration": 399,
    "start_time": "2022-04-04T20:43:40.998Z"
   },
   {
    "duration": 444,
    "start_time": "2022-04-04T20:43:55.941Z"
   },
   {
    "duration": 527,
    "start_time": "2022-04-04T20:44:01.705Z"
   },
   {
    "duration": 450,
    "start_time": "2022-04-04T20:44:10.757Z"
   },
   {
    "duration": 455,
    "start_time": "2022-04-04T20:44:19.354Z"
   },
   {
    "duration": 429,
    "start_time": "2022-04-04T20:44:26.996Z"
   },
   {
    "duration": 514,
    "start_time": "2022-04-04T20:44:31.288Z"
   },
   {
    "duration": 133,
    "start_time": "2022-04-04T20:46:14.832Z"
   },
   {
    "duration": 362,
    "start_time": "2022-04-04T20:46:19.132Z"
   },
   {
    "duration": 1510,
    "start_time": "2022-04-04T20:46:31.260Z"
   },
   {
    "duration": 46,
    "start_time": "2022-04-04T20:46:32.772Z"
   },
   {
    "duration": 5,
    "start_time": "2022-04-04T20:46:32.820Z"
   },
   {
    "duration": 32,
    "start_time": "2022-04-04T20:46:32.828Z"
   },
   {
    "duration": 30,
    "start_time": "2022-04-04T20:46:32.862Z"
   },
   {
    "duration": 5,
    "start_time": "2022-04-04T20:46:32.894Z"
   },
   {
    "duration": 30,
    "start_time": "2022-04-04T20:46:32.901Z"
   },
   {
    "duration": 21,
    "start_time": "2022-04-04T20:46:32.933Z"
   },
   {
    "duration": 24,
    "start_time": "2022-04-04T20:46:32.956Z"
   },
   {
    "duration": 12,
    "start_time": "2022-04-04T20:46:32.985Z"
   },
   {
    "duration": 8,
    "start_time": "2022-04-04T20:46:33.000Z"
   },
   {
    "duration": 4,
    "start_time": "2022-04-04T20:46:33.011Z"
   },
   {
    "duration": 17,
    "start_time": "2022-04-04T20:46:33.018Z"
   },
   {
    "duration": 24,
    "start_time": "2022-04-04T20:46:33.037Z"
   },
   {
    "duration": 9,
    "start_time": "2022-04-04T20:46:33.063Z"
   },
   {
    "duration": 20,
    "start_time": "2022-04-04T20:46:33.080Z"
   },
   {
    "duration": 344,
    "start_time": "2022-04-04T20:46:33.103Z"
   },
   {
    "duration": 4,
    "start_time": "2022-04-04T20:46:33.450Z"
   },
   {
    "duration": 33,
    "start_time": "2022-04-04T20:46:33.456Z"
   },
   {
    "duration": 26,
    "start_time": "2022-04-04T20:46:33.492Z"
   },
   {
    "duration": 8,
    "start_time": "2022-04-04T20:46:33.520Z"
   },
   {
    "duration": 58,
    "start_time": "2022-04-04T20:46:33.531Z"
   },
   {
    "duration": 13,
    "start_time": "2022-04-04T20:46:33.593Z"
   },
   {
    "duration": 160,
    "start_time": "2022-04-04T20:46:33.608Z"
   },
   {
    "duration": 22,
    "start_time": "2022-04-04T20:46:33.771Z"
   },
   {
    "duration": 18,
    "start_time": "2022-04-04T20:46:33.795Z"
   },
   {
    "duration": 692,
    "start_time": "2022-04-04T20:46:33.816Z"
   },
   {
    "duration": 19,
    "start_time": "2022-04-04T20:46:34.513Z"
   },
   {
    "duration": 6,
    "start_time": "2022-04-04T20:46:34.534Z"
   },
   {
    "duration": 28,
    "start_time": "2022-04-04T20:46:34.543Z"
   },
   {
    "duration": 20,
    "start_time": "2022-04-04T20:46:34.574Z"
   },
   {
    "duration": 738,
    "start_time": "2022-04-04T20:46:34.597Z"
   },
   {
    "duration": 52,
    "start_time": "2022-04-04T20:46:35.338Z"
   },
   {
    "duration": 350,
    "start_time": "2022-04-04T20:46:35.393Z"
   },
   {
    "duration": 450,
    "start_time": "2022-04-04T20:46:35.746Z"
   },
   {
    "duration": 8,
    "start_time": "2022-04-04T20:46:36.199Z"
   },
   {
    "duration": 389,
    "start_time": "2022-04-04T20:46:36.210Z"
   },
   {
    "duration": 512,
    "start_time": "2022-04-04T20:46:36.602Z"
   },
   {
    "duration": 364,
    "start_time": "2022-04-04T20:47:29.318Z"
   },
   {
    "duration": 448,
    "start_time": "2022-04-04T20:47:58.548Z"
   },
   {
    "duration": 339,
    "start_time": "2022-04-04T20:48:25.667Z"
   },
   {
    "duration": 321,
    "start_time": "2022-04-04T20:48:44.831Z"
   },
   {
    "duration": 330,
    "start_time": "2022-04-04T20:48:55.081Z"
   },
   {
    "duration": 320,
    "start_time": "2022-04-04T20:49:45.003Z"
   },
   {
    "duration": 391,
    "start_time": "2022-04-04T20:50:37.193Z"
   },
   {
    "duration": 540,
    "start_time": "2022-04-04T20:50:51.073Z"
   },
   {
    "duration": 324,
    "start_time": "2022-04-04T20:51:47.984Z"
   },
   {
    "duration": 330,
    "start_time": "2022-04-04T20:52:31.592Z"
   },
   {
    "duration": 326,
    "start_time": "2022-04-04T20:53:04.241Z"
   },
   {
    "duration": 323,
    "start_time": "2022-04-04T20:53:23.167Z"
   },
   {
    "duration": 419,
    "start_time": "2022-04-04T20:54:57.116Z"
   },
   {
    "duration": 324,
    "start_time": "2022-04-04T20:55:25.572Z"
   },
   {
    "duration": 333,
    "start_time": "2022-04-04T20:55:53.237Z"
   },
   {
    "duration": 419,
    "start_time": "2022-04-04T20:56:23.790Z"
   },
   {
    "duration": 331,
    "start_time": "2022-04-04T20:56:56.384Z"
   },
   {
    "duration": 432,
    "start_time": "2022-04-04T20:57:41.966Z"
   },
   {
    "duration": 333,
    "start_time": "2022-04-04T21:02:21.851Z"
   },
   {
    "duration": 566,
    "start_time": "2022-04-04T21:02:35.259Z"
   },
   {
    "duration": 351,
    "start_time": "2022-04-04T21:03:38.432Z"
   },
   {
    "duration": 330,
    "start_time": "2022-04-04T21:04:57.688Z"
   },
   {
    "duration": 333,
    "start_time": "2022-04-04T21:05:34.407Z"
   },
   {
    "duration": 426,
    "start_time": "2022-04-04T21:05:41.162Z"
   },
   {
    "duration": 23,
    "start_time": "2022-04-04T21:06:40.978Z"
   },
   {
    "duration": 18,
    "start_time": "2022-04-04T21:06:53.393Z"
   },
   {
    "duration": 19,
    "start_time": "2022-04-04T21:07:32.606Z"
   },
   {
    "duration": 13,
    "start_time": "2022-04-04T21:11:08.745Z"
   },
   {
    "duration": 214,
    "start_time": "2022-04-04T21:11:27.461Z"
   },
   {
    "duration": 14,
    "start_time": "2022-04-04T21:17:53.022Z"
   },
   {
    "duration": 17,
    "start_time": "2022-04-04T21:18:06.446Z"
   },
   {
    "duration": 8,
    "start_time": "2022-04-04T21:18:32.012Z"
   },
   {
    "duration": 19,
    "start_time": "2022-04-04T21:19:52.241Z"
   },
   {
    "duration": 17,
    "start_time": "2022-04-04T21:20:03.967Z"
   },
   {
    "duration": 6,
    "start_time": "2022-04-04T21:21:13.585Z"
   },
   {
    "duration": 7,
    "start_time": "2022-04-04T21:21:24.351Z"
   },
   {
    "duration": 127,
    "start_time": "2022-04-04T21:21:57.442Z"
   },
   {
    "duration": 178,
    "start_time": "2022-04-04T21:22:03.036Z"
   },
   {
    "duration": 250,
    "start_time": "2022-04-04T21:22:46.972Z"
   },
   {
    "duration": 188,
    "start_time": "2022-04-04T21:23:06.564Z"
   },
   {
    "duration": 195,
    "start_time": "2022-04-04T21:23:50.186Z"
   },
   {
    "duration": 191,
    "start_time": "2022-04-04T21:24:03.223Z"
   },
   {
    "duration": 196,
    "start_time": "2022-04-04T21:24:11.649Z"
   },
   {
    "duration": 209,
    "start_time": "2022-04-04T21:24:26.572Z"
   },
   {
    "duration": 211,
    "start_time": "2022-04-04T21:25:05.090Z"
   },
   {
    "duration": 203,
    "start_time": "2022-04-04T21:26:46.523Z"
   },
   {
    "duration": 255,
    "start_time": "2022-04-04T21:27:46.086Z"
   },
   {
    "duration": 256,
    "start_time": "2022-04-04T21:27:57.395Z"
   },
   {
    "duration": 534,
    "start_time": "2022-04-04T21:28:12.582Z"
   },
   {
    "duration": 388,
    "start_time": "2022-04-04T21:28:21.521Z"
   },
   {
    "duration": 411,
    "start_time": "2022-04-04T21:30:10.230Z"
   },
   {
    "duration": 410,
    "start_time": "2022-04-04T21:30:22.978Z"
   },
   {
    "duration": 7,
    "start_time": "2022-04-04T21:32:41.633Z"
   },
   {
    "duration": 20,
    "start_time": "2022-04-04T21:33:49.093Z"
   },
   {
    "duration": 19,
    "start_time": "2022-04-04T21:34:48.834Z"
   },
   {
    "duration": 15,
    "start_time": "2022-04-04T21:35:03.887Z"
   },
   {
    "duration": 266,
    "start_time": "2022-04-04T21:41:03.073Z"
   },
   {
    "duration": 247,
    "start_time": "2022-04-04T21:43:00.006Z"
   },
   {
    "duration": 259,
    "start_time": "2022-04-04T21:43:53.769Z"
   },
   {
    "duration": 263,
    "start_time": "2022-04-04T21:44:40.873Z"
   },
   {
    "duration": 366,
    "start_time": "2022-04-04T21:45:52.776Z"
   },
   {
    "duration": 389,
    "start_time": "2022-04-04T21:46:30.061Z"
   },
   {
    "duration": 358,
    "start_time": "2022-04-04T21:46:40.313Z"
   },
   {
    "duration": 7,
    "start_time": "2022-04-04T21:49:29.923Z"
   },
   {
    "duration": 19,
    "start_time": "2022-04-04T21:51:41.442Z"
   },
   {
    "duration": 20,
    "start_time": "2022-04-04T22:01:00.068Z"
   },
   {
    "duration": 17,
    "start_time": "2022-04-04T22:01:27.742Z"
   },
   {
    "duration": 24,
    "start_time": "2022-04-04T22:02:20.553Z"
   },
   {
    "duration": 19,
    "start_time": "2022-04-04T22:02:38.350Z"
   },
   {
    "duration": 15,
    "start_time": "2022-04-04T22:14:52.389Z"
   },
   {
    "duration": 9,
    "start_time": "2022-04-04T22:15:05.890Z"
   },
   {
    "duration": 21,
    "start_time": "2022-04-04T22:15:28.422Z"
   },
   {
    "duration": 12,
    "start_time": "2022-04-04T22:15:52.625Z"
   },
   {
    "duration": 20,
    "start_time": "2022-04-04T22:16:08.081Z"
   },
   {
    "duration": 20,
    "start_time": "2022-04-04T22:17:39.496Z"
   },
   {
    "duration": 21,
    "start_time": "2022-04-04T22:19:43.731Z"
   },
   {
    "duration": 9,
    "start_time": "2022-04-04T22:21:54.488Z"
   },
   {
    "duration": 9,
    "start_time": "2022-04-04T22:22:07.704Z"
   },
   {
    "duration": 9,
    "start_time": "2022-04-04T22:22:19.415Z"
   },
   {
    "duration": 128,
    "start_time": "2022-04-04T22:29:20.111Z"
   },
   {
    "duration": 159,
    "start_time": "2022-04-04T22:30:01.326Z"
   },
   {
    "duration": 15,
    "start_time": "2022-04-04T22:30:11.728Z"
   },
   {
    "duration": 14,
    "start_time": "2022-04-04T22:30:39.355Z"
   },
   {
    "duration": 16,
    "start_time": "2022-04-04T22:31:16.077Z"
   },
   {
    "duration": 10,
    "start_time": "2022-04-04T22:33:35.435Z"
   },
   {
    "duration": 8,
    "start_time": "2022-04-04T22:34:18.816Z"
   },
   {
    "duration": 8,
    "start_time": "2022-04-04T22:35:14.632Z"
   },
   {
    "duration": 1440,
    "start_time": "2022-04-04T22:35:22.353Z"
   },
   {
    "duration": 8,
    "start_time": "2022-04-04T22:35:38.779Z"
   },
   {
    "duration": 11,
    "start_time": "2022-04-04T22:36:40.071Z"
   },
   {
    "duration": 157,
    "start_time": "2022-04-04T22:37:57.895Z"
   },
   {
    "duration": 24,
    "start_time": "2022-04-04T22:43:39.928Z"
   },
   {
    "duration": 13,
    "start_time": "2022-04-04T22:44:31.339Z"
   },
   {
    "duration": 61,
    "start_time": "2022-04-04T22:45:01.516Z"
   },
   {
    "duration": 70,
    "start_time": "2022-04-04T22:45:40.405Z"
   },
   {
    "duration": 70,
    "start_time": "2022-04-04T22:48:01.655Z"
   },
   {
    "duration": 76,
    "start_time": "2022-04-04T22:48:42.152Z"
   },
   {
    "duration": 52,
    "start_time": "2022-04-04T22:49:13.344Z"
   },
   {
    "duration": 52,
    "start_time": "2022-04-04T22:49:28.452Z"
   },
   {
    "duration": 126,
    "start_time": "2022-04-04T22:51:24.833Z"
   },
   {
    "duration": 20,
    "start_time": "2022-04-04T22:51:31.768Z"
   },
   {
    "duration": 1367,
    "start_time": "2022-04-04T22:53:16.605Z"
   },
   {
    "duration": 39,
    "start_time": "2022-04-04T22:53:17.975Z"
   },
   {
    "duration": 5,
    "start_time": "2022-04-04T22:53:18.016Z"
   },
   {
    "duration": 33,
    "start_time": "2022-04-04T22:53:18.024Z"
   },
   {
    "duration": 30,
    "start_time": "2022-04-04T22:53:18.059Z"
   },
   {
    "duration": 4,
    "start_time": "2022-04-04T22:53:18.092Z"
   },
   {
    "duration": 18,
    "start_time": "2022-04-04T22:53:18.098Z"
   },
   {
    "duration": 51,
    "start_time": "2022-04-04T22:53:18.118Z"
   },
   {
    "duration": 10,
    "start_time": "2022-04-04T22:53:18.171Z"
   },
   {
    "duration": 3,
    "start_time": "2022-04-04T22:53:18.185Z"
   },
   {
    "duration": 11,
    "start_time": "2022-04-04T22:53:18.191Z"
   },
   {
    "duration": 4,
    "start_time": "2022-04-04T22:53:18.204Z"
   },
   {
    "duration": 15,
    "start_time": "2022-04-04T22:53:18.210Z"
   },
   {
    "duration": 24,
    "start_time": "2022-04-04T22:53:18.267Z"
   },
   {
    "duration": 5,
    "start_time": "2022-04-04T22:53:18.293Z"
   },
   {
    "duration": 10,
    "start_time": "2022-04-04T22:53:18.300Z"
   },
   {
    "duration": 257,
    "start_time": "2022-04-04T22:53:18.312Z"
   },
   {
    "duration": 4,
    "start_time": "2022-04-04T22:53:18.571Z"
   },
   {
    "duration": 17,
    "start_time": "2022-04-04T22:53:18.576Z"
   },
   {
    "duration": 11,
    "start_time": "2022-04-04T22:53:18.595Z"
   },
   {
    "duration": 6,
    "start_time": "2022-04-04T22:53:18.609Z"
   },
   {
    "duration": 52,
    "start_time": "2022-04-04T22:53:18.617Z"
   },
   {
    "duration": 7,
    "start_time": "2022-04-04T22:53:18.672Z"
   },
   {
    "duration": 100,
    "start_time": "2022-04-04T22:53:18.681Z"
   },
   {
    "duration": 13,
    "start_time": "2022-04-04T22:53:18.783Z"
   },
   {
    "duration": 21,
    "start_time": "2022-04-04T22:53:18.798Z"
   },
   {
    "duration": 92,
    "start_time": "2022-04-04T22:53:18.821Z"
   },
   {
    "duration": 20,
    "start_time": "2022-04-04T22:53:18.920Z"
   },
   {
    "duration": 472,
    "start_time": "2022-04-04T22:53:18.943Z"
   },
   {
    "duration": 20,
    "start_time": "2022-04-04T22:53:19.417Z"
   },
   {
    "duration": 3,
    "start_time": "2022-04-04T22:53:19.440Z"
   },
   {
    "duration": 5,
    "start_time": "2022-04-04T22:53:19.466Z"
   },
   {
    "duration": 12,
    "start_time": "2022-04-04T22:53:19.474Z"
   },
   {
    "duration": 444,
    "start_time": "2022-04-04T22:53:19.489Z"
   },
   {
    "duration": 36,
    "start_time": "2022-04-04T22:53:19.936Z"
   },
   {
    "duration": 320,
    "start_time": "2022-04-04T22:53:19.975Z"
   },
   {
    "duration": 390,
    "start_time": "2022-04-04T22:53:20.298Z"
   },
   {
    "duration": 8,
    "start_time": "2022-04-04T22:53:20.691Z"
   },
   {
    "duration": 347,
    "start_time": "2022-04-04T22:53:20.702Z"
   },
   {
    "duration": 413,
    "start_time": "2022-04-04T22:53:21.052Z"
   },
   {
    "duration": 13,
    "start_time": "2022-04-04T22:53:21.468Z"
   },
   {
    "duration": 10,
    "start_time": "2022-04-04T22:53:21.484Z"
   },
   {
    "duration": 17,
    "start_time": "2022-04-04T22:53:21.496Z"
   },
   {
    "duration": 293,
    "start_time": "2022-04-04T22:53:21.515Z"
   },
   {
    "duration": 7,
    "start_time": "2022-04-04T22:53:21.810Z"
   },
   {
    "duration": 15,
    "start_time": "2022-04-04T22:53:21.819Z"
   },
   {
    "duration": 522,
    "start_time": "2022-04-04T22:53:21.836Z"
   },
   {
    "duration": 10,
    "start_time": "2022-04-04T22:53:22.361Z"
   },
   {
    "duration": 20,
    "start_time": "2022-04-04T22:53:22.374Z"
   },
   {
    "duration": 25,
    "start_time": "2022-04-04T22:54:17.615Z"
   },
   {
    "duration": 21,
    "start_time": "2022-04-04T22:54:50.462Z"
   },
   {
    "duration": 16,
    "start_time": "2022-04-04T22:56:01.878Z"
   },
   {
    "duration": 19,
    "start_time": "2022-04-04T22:56:18.619Z"
   },
   {
    "duration": 6,
    "start_time": "2022-04-04T22:56:37.661Z"
   },
   {
    "duration": 20,
    "start_time": "2022-04-04T22:56:41.721Z"
   },
   {
    "duration": 1392,
    "start_time": "2022-04-04T22:57:21.214Z"
   },
   {
    "duration": 43,
    "start_time": "2022-04-04T22:57:22.608Z"
   },
   {
    "duration": 5,
    "start_time": "2022-04-04T22:57:22.653Z"
   },
   {
    "duration": 33,
    "start_time": "2022-04-04T22:57:22.661Z"
   },
   {
    "duration": 25,
    "start_time": "2022-04-04T22:57:22.696Z"
   },
   {
    "duration": 5,
    "start_time": "2022-04-04T22:57:22.723Z"
   },
   {
    "duration": 44,
    "start_time": "2022-04-04T22:57:22.730Z"
   },
   {
    "duration": 22,
    "start_time": "2022-04-04T22:57:22.777Z"
   },
   {
    "duration": 11,
    "start_time": "2022-04-04T22:57:22.801Z"
   },
   {
    "duration": 4,
    "start_time": "2022-04-04T22:57:22.817Z"
   },
   {
    "duration": 51,
    "start_time": "2022-04-04T22:57:22.824Z"
   },
   {
    "duration": 4,
    "start_time": "2022-04-04T22:57:22.877Z"
   },
   {
    "duration": 17,
    "start_time": "2022-04-04T22:57:22.884Z"
   },
   {
    "duration": 67,
    "start_time": "2022-04-04T22:57:22.904Z"
   },
   {
    "duration": 7,
    "start_time": "2022-04-04T22:57:22.974Z"
   },
   {
    "duration": 10,
    "start_time": "2022-04-04T22:57:22.984Z"
   },
   {
    "duration": 265,
    "start_time": "2022-04-04T22:57:22.996Z"
   },
   {
    "duration": 5,
    "start_time": "2022-04-04T22:57:23.263Z"
   },
   {
    "duration": 19,
    "start_time": "2022-04-04T22:57:23.270Z"
   },
   {
    "duration": 13,
    "start_time": "2022-04-04T22:57:23.291Z"
   },
   {
    "duration": 7,
    "start_time": "2022-04-04T22:57:23.306Z"
   },
   {
    "duration": 54,
    "start_time": "2022-04-04T22:57:23.315Z"
   },
   {
    "duration": 7,
    "start_time": "2022-04-04T22:57:23.371Z"
   },
   {
    "duration": 101,
    "start_time": "2022-04-04T22:57:23.381Z"
   },
   {
    "duration": 12,
    "start_time": "2022-04-04T22:57:23.484Z"
   },
   {
    "duration": 20,
    "start_time": "2022-04-04T22:57:23.498Z"
   },
   {
    "duration": 81,
    "start_time": "2022-04-04T22:57:23.521Z"
   },
   {
    "duration": 5,
    "start_time": "2022-04-04T22:57:23.608Z"
   },
   {
    "duration": 21,
    "start_time": "2022-04-04T22:57:23.615Z"
   },
   {
    "duration": 455,
    "start_time": "2022-04-04T22:57:23.638Z"
   },
   {
    "duration": 18,
    "start_time": "2022-04-04T22:57:24.095Z"
   },
   {
    "duration": 7,
    "start_time": "2022-04-04T22:57:24.114Z"
   },
   {
    "duration": 5,
    "start_time": "2022-04-04T22:57:24.123Z"
   },
   {
    "duration": 37,
    "start_time": "2022-04-04T22:57:24.130Z"
   },
   {
    "duration": 431,
    "start_time": "2022-04-04T22:57:24.170Z"
   },
   {
    "duration": 26,
    "start_time": "2022-04-04T22:57:24.604Z"
   },
   {
    "duration": 314,
    "start_time": "2022-04-04T22:57:24.632Z"
   },
   {
    "duration": 405,
    "start_time": "2022-04-04T22:57:24.948Z"
   },
   {
    "duration": 13,
    "start_time": "2022-04-04T22:57:25.355Z"
   },
   {
    "duration": 316,
    "start_time": "2022-04-04T22:57:25.370Z"
   },
   {
    "duration": 388,
    "start_time": "2022-04-04T22:57:25.689Z"
   },
   {
    "duration": 13,
    "start_time": "2022-04-04T22:57:26.079Z"
   },
   {
    "duration": 16,
    "start_time": "2022-04-04T22:57:26.094Z"
   },
   {
    "duration": 286,
    "start_time": "2022-04-04T22:57:26.112Z"
   },
   {
    "duration": 7,
    "start_time": "2022-04-04T22:57:26.400Z"
   },
   {
    "duration": 21,
    "start_time": "2022-04-04T22:57:26.409Z"
   },
   {
    "duration": 515,
    "start_time": "2022-04-04T22:57:26.432Z"
   },
   {
    "duration": 7,
    "start_time": "2022-04-04T22:57:26.949Z"
   },
   {
    "duration": 16,
    "start_time": "2022-04-04T22:57:26.967Z"
   },
   {
    "duration": 327,
    "start_time": "2022-04-04T22:58:36.116Z"
   },
   {
    "duration": 228,
    "start_time": "2022-04-04T23:00:08.968Z"
   },
   {
    "duration": 217,
    "start_time": "2022-04-04T23:00:18.600Z"
   },
   {
    "duration": 18,
    "start_time": "2022-04-04T23:04:17.449Z"
   },
   {
    "duration": 22,
    "start_time": "2022-04-04T23:04:38.002Z"
   },
   {
    "duration": 28,
    "start_time": "2022-04-04T23:06:21.971Z"
   },
   {
    "duration": 14,
    "start_time": "2022-04-04T23:07:21.740Z"
   },
   {
    "duration": 19,
    "start_time": "2022-04-04T23:09:07.923Z"
   },
   {
    "duration": 213,
    "start_time": "2022-04-04T23:09:23.112Z"
   },
   {
    "duration": 7,
    "start_time": "2022-04-04T23:09:34.014Z"
   },
   {
    "duration": 10,
    "start_time": "2022-04-04T23:09:49.409Z"
   },
   {
    "duration": 118,
    "start_time": "2022-04-04T23:10:35.926Z"
   },
   {
    "duration": 6,
    "start_time": "2022-04-04T23:10:42.926Z"
   },
   {
    "duration": 15,
    "start_time": "2022-04-04T23:11:52.384Z"
   },
   {
    "duration": 2034,
    "start_time": "2022-04-04T23:12:42.312Z"
   },
   {
    "duration": 7,
    "start_time": "2022-04-04T23:12:57.859Z"
   },
   {
    "duration": 11,
    "start_time": "2022-04-04T23:13:01.788Z"
   },
   {
    "duration": 8,
    "start_time": "2022-04-04T23:13:11.312Z"
   },
   {
    "duration": 16,
    "start_time": "2022-04-04T23:15:11.406Z"
   },
   {
    "duration": 8,
    "start_time": "2022-04-04T23:17:55.260Z"
   },
   {
    "duration": 7,
    "start_time": "2022-04-04T23:18:35.701Z"
   },
   {
    "duration": 7,
    "start_time": "2022-04-04T23:18:41.372Z"
   },
   {
    "duration": 7,
    "start_time": "2022-04-04T23:18:44.693Z"
   },
   {
    "duration": 14,
    "start_time": "2022-04-04T23:20:17.501Z"
   },
   {
    "duration": 10,
    "start_time": "2022-04-04T23:20:33.208Z"
   },
   {
    "duration": 10,
    "start_time": "2022-04-04T23:21:20.567Z"
   },
   {
    "duration": 19,
    "start_time": "2022-04-04T23:22:57.322Z"
   },
   {
    "duration": 8,
    "start_time": "2022-04-04T23:23:23.481Z"
   },
   {
    "duration": 7,
    "start_time": "2022-04-04T23:23:35.787Z"
   },
   {
    "duration": 8,
    "start_time": "2022-04-04T23:24:09.494Z"
   },
   {
    "duration": 8,
    "start_time": "2022-04-04T23:24:11.764Z"
   },
   {
    "duration": 8,
    "start_time": "2022-04-04T23:25:21.230Z"
   },
   {
    "duration": 8,
    "start_time": "2022-04-04T23:25:23.434Z"
   },
   {
    "duration": 6,
    "start_time": "2022-04-04T23:25:32.700Z"
   },
   {
    "duration": 6,
    "start_time": "2022-04-04T23:28:02.686Z"
   },
   {
    "duration": 1447,
    "start_time": "2022-04-05T09:28:08.756Z"
   },
   {
    "duration": 47,
    "start_time": "2022-04-05T09:28:10.205Z"
   },
   {
    "duration": 4,
    "start_time": "2022-04-05T09:28:10.254Z"
   },
   {
    "duration": 29,
    "start_time": "2022-04-05T09:28:10.260Z"
   },
   {
    "duration": 17,
    "start_time": "2022-04-05T09:28:10.290Z"
   },
   {
    "duration": 3,
    "start_time": "2022-04-05T09:28:10.309Z"
   },
   {
    "duration": 22,
    "start_time": "2022-04-05T09:28:10.313Z"
   },
   {
    "duration": 24,
    "start_time": "2022-04-05T09:28:10.337Z"
   },
   {
    "duration": 9,
    "start_time": "2022-04-05T09:28:10.363Z"
   },
   {
    "duration": 4,
    "start_time": "2022-04-05T09:28:10.376Z"
   },
   {
    "duration": 11,
    "start_time": "2022-04-05T09:28:10.382Z"
   },
   {
    "duration": 3,
    "start_time": "2022-04-05T09:28:10.396Z"
   },
   {
    "duration": 34,
    "start_time": "2022-04-05T09:28:10.400Z"
   },
   {
    "duration": 28,
    "start_time": "2022-04-05T09:28:10.437Z"
   },
   {
    "duration": 4,
    "start_time": "2022-04-05T09:28:10.466Z"
   },
   {
    "duration": 8,
    "start_time": "2022-04-05T09:28:10.472Z"
   },
   {
    "duration": 166,
    "start_time": "2022-04-05T09:28:10.481Z"
   },
   {
    "duration": 2,
    "start_time": "2022-04-05T09:28:10.649Z"
   },
   {
    "duration": 18,
    "start_time": "2022-04-05T09:28:10.652Z"
   },
   {
    "duration": 10,
    "start_time": "2022-04-05T09:28:10.671Z"
   },
   {
    "duration": 6,
    "start_time": "2022-04-05T09:28:10.682Z"
   },
   {
    "duration": 20,
    "start_time": "2022-04-05T09:28:10.689Z"
   },
   {
    "duration": 6,
    "start_time": "2022-04-05T09:28:10.711Z"
   },
   {
    "duration": 77,
    "start_time": "2022-04-05T09:28:10.718Z"
   },
   {
    "duration": 9,
    "start_time": "2022-04-05T09:28:10.796Z"
   },
   {
    "duration": 31,
    "start_time": "2022-04-05T09:28:10.807Z"
   },
   {
    "duration": 32,
    "start_time": "2022-04-05T09:28:10.841Z"
   },
   {
    "duration": 4,
    "start_time": "2022-04-05T09:28:10.878Z"
   },
   {
    "duration": 15,
    "start_time": "2022-04-05T09:28:10.884Z"
   },
   {
    "duration": 301,
    "start_time": "2022-04-05T09:28:10.900Z"
   },
   {
    "duration": 12,
    "start_time": "2022-04-05T09:28:11.203Z"
   },
   {
    "duration": 17,
    "start_time": "2022-04-05T09:28:11.217Z"
   },
   {
    "duration": 18,
    "start_time": "2022-04-05T09:28:11.236Z"
   },
   {
    "duration": 13,
    "start_time": "2022-04-05T09:28:11.256Z"
   },
   {
    "duration": 265,
    "start_time": "2022-04-05T09:28:11.271Z"
   },
   {
    "duration": 21,
    "start_time": "2022-04-05T09:28:11.538Z"
   },
   {
    "duration": 218,
    "start_time": "2022-04-05T09:28:11.561Z"
   },
   {
    "duration": 304,
    "start_time": "2022-04-05T09:28:11.782Z"
   },
   {
    "duration": 5,
    "start_time": "2022-04-05T09:28:12.087Z"
   },
   {
    "duration": 7,
    "start_time": "2022-04-05T09:28:12.093Z"
   },
   {
    "duration": 218,
    "start_time": "2022-04-05T09:28:12.102Z"
   },
   {
    "duration": 330,
    "start_time": "2022-04-05T09:28:12.321Z"
   },
   {
    "duration": 8,
    "start_time": "2022-04-05T09:28:12.653Z"
   },
   {
    "duration": 20,
    "start_time": "2022-04-05T09:28:12.663Z"
   },
   {
    "duration": 117,
    "start_time": "2022-04-05T09:28:12.684Z"
   },
   {
    "duration": 0,
    "start_time": "2022-04-05T09:28:12.802Z"
   },
   {
    "duration": 0,
    "start_time": "2022-04-05T09:28:12.804Z"
   },
   {
    "duration": 0,
    "start_time": "2022-04-05T09:28:12.805Z"
   },
   {
    "duration": 0,
    "start_time": "2022-04-05T09:28:12.806Z"
   },
   {
    "duration": 0,
    "start_time": "2022-04-05T09:28:12.807Z"
   },
   {
    "duration": 0,
    "start_time": "2022-04-05T09:28:12.808Z"
   },
   {
    "duration": 0,
    "start_time": "2022-04-05T09:28:12.809Z"
   },
   {
    "duration": 0,
    "start_time": "2022-04-05T09:28:12.810Z"
   },
   {
    "duration": 219,
    "start_time": "2022-04-05T09:28:33.545Z"
   },
   {
    "duration": 125,
    "start_time": "2022-04-05T09:28:38.669Z"
   },
   {
    "duration": 4,
    "start_time": "2022-04-05T09:28:38.796Z"
   },
   {
    "duration": 15,
    "start_time": "2022-04-05T09:28:38.802Z"
   },
   {
    "duration": 295,
    "start_time": "2022-04-05T09:28:38.820Z"
   },
   {
    "duration": 5,
    "start_time": "2022-04-05T09:28:39.116Z"
   },
   {
    "duration": 21,
    "start_time": "2022-04-05T09:28:39.123Z"
   },
   {
    "duration": 10,
    "start_time": "2022-04-05T09:28:39.146Z"
   },
   {
    "duration": 6,
    "start_time": "2022-04-05T09:28:39.158Z"
   },
   {
    "duration": 5,
    "start_time": "2022-04-05T09:28:39.166Z"
   },
   {
    "duration": 23,
    "start_time": "2022-04-05T09:31:36.130Z"
   },
   {
    "duration": 11,
    "start_time": "2022-04-05T09:31:53.962Z"
   },
   {
    "duration": 8,
    "start_time": "2022-04-05T09:34:37.593Z"
   },
   {
    "duration": 8,
    "start_time": "2022-04-05T09:34:47.400Z"
   },
   {
    "duration": 4,
    "start_time": "2022-04-05T09:34:52.049Z"
   },
   {
    "duration": 6,
    "start_time": "2022-04-05T09:34:57.752Z"
   },
   {
    "duration": 5,
    "start_time": "2022-04-05T09:35:47.970Z"
   },
   {
    "duration": 126,
    "start_time": "2022-04-05T09:37:36.598Z"
   },
   {
    "duration": 12,
    "start_time": "2022-04-05T09:37:50.855Z"
   },
   {
    "duration": 111,
    "start_time": "2022-04-05T09:38:12.034Z"
   },
   {
    "duration": 11,
    "start_time": "2022-04-05T09:40:45.095Z"
   },
   {
    "duration": 4,
    "start_time": "2022-04-05T09:47:22.115Z"
   },
   {
    "duration": 5,
    "start_time": "2022-04-05T09:48:22.510Z"
   },
   {
    "duration": 7,
    "start_time": "2022-04-05T09:48:34.531Z"
   },
   {
    "duration": 7,
    "start_time": "2022-04-05T09:49:19.756Z"
   },
   {
    "duration": 7,
    "start_time": "2022-04-05T09:50:07.866Z"
   },
   {
    "duration": 10,
    "start_time": "2022-04-05T09:50:23.336Z"
   },
   {
    "duration": 9,
    "start_time": "2022-04-05T09:54:16.445Z"
   },
   {
    "duration": 28,
    "start_time": "2022-04-05T09:54:27.534Z"
   },
   {
    "duration": 3,
    "start_time": "2022-04-05T09:55:53.064Z"
   },
   {
    "duration": 4,
    "start_time": "2022-04-05T09:57:08.051Z"
   },
   {
    "duration": 4,
    "start_time": "2022-04-05T09:57:14.184Z"
   },
   {
    "duration": 5,
    "start_time": "2022-04-05T09:57:31.949Z"
   },
   {
    "duration": 5,
    "start_time": "2022-04-05T09:57:56.858Z"
   },
   {
    "duration": 23,
    "start_time": "2022-04-05T09:58:42.256Z"
   },
   {
    "duration": 24,
    "start_time": "2022-04-05T10:00:06.083Z"
   },
   {
    "duration": 23,
    "start_time": "2022-04-05T10:00:33.058Z"
   },
   {
    "duration": 24,
    "start_time": "2022-04-05T10:02:46.968Z"
   },
   {
    "duration": 24,
    "start_time": "2022-04-05T10:04:33.061Z"
   },
   {
    "duration": 23,
    "start_time": "2022-04-05T10:05:34.390Z"
   },
   {
    "duration": 23,
    "start_time": "2022-04-05T10:05:46.354Z"
   },
   {
    "duration": 24,
    "start_time": "2022-04-05T10:06:23.102Z"
   },
   {
    "duration": 318,
    "start_time": "2022-04-05T10:08:10.143Z"
   },
   {
    "duration": 19,
    "start_time": "2022-04-05T10:09:06.012Z"
   },
   {
    "duration": 137,
    "start_time": "2022-04-05T10:10:09.073Z"
   },
   {
    "duration": 19,
    "start_time": "2022-04-05T10:11:20.896Z"
   },
   {
    "duration": 12,
    "start_time": "2022-04-05T10:11:53.445Z"
   },
   {
    "duration": 297,
    "start_time": "2022-04-05T10:22:33.671Z"
   },
   {
    "duration": 186,
    "start_time": "2022-04-05T10:23:15.583Z"
   },
   {
    "duration": 379,
    "start_time": "2022-04-05T10:23:29.599Z"
   },
   {
    "duration": 147,
    "start_time": "2022-04-05T10:23:47.762Z"
   },
   {
    "duration": 1107,
    "start_time": "2022-04-05T10:24:46.492Z"
   },
   {
    "duration": 40,
    "start_time": "2022-04-05T10:24:47.601Z"
   },
   {
    "duration": 3,
    "start_time": "2022-04-05T10:24:47.643Z"
   },
   {
    "duration": 31,
    "start_time": "2022-04-05T10:24:47.650Z"
   },
   {
    "duration": 17,
    "start_time": "2022-04-05T10:24:47.683Z"
   },
   {
    "duration": 4,
    "start_time": "2022-04-05T10:24:47.701Z"
   },
   {
    "duration": 29,
    "start_time": "2022-04-05T10:24:47.706Z"
   },
   {
    "duration": 22,
    "start_time": "2022-04-05T10:24:47.738Z"
   },
   {
    "duration": 11,
    "start_time": "2022-04-05T10:24:47.762Z"
   },
   {
    "duration": 3,
    "start_time": "2022-04-05T10:24:47.776Z"
   },
   {
    "duration": 7,
    "start_time": "2022-04-05T10:24:47.781Z"
   },
   {
    "duration": 2,
    "start_time": "2022-04-05T10:24:47.790Z"
   },
   {
    "duration": 14,
    "start_time": "2022-04-05T10:24:47.793Z"
   },
   {
    "duration": 41,
    "start_time": "2022-04-05T10:24:47.808Z"
   },
   {
    "duration": 5,
    "start_time": "2022-04-05T10:24:47.851Z"
   },
   {
    "duration": 8,
    "start_time": "2022-04-05T10:24:47.857Z"
   },
   {
    "duration": 155,
    "start_time": "2022-04-05T10:24:47.866Z"
   },
   {
    "duration": 10,
    "start_time": "2022-04-05T10:24:48.023Z"
   },
   {
    "duration": 16,
    "start_time": "2022-04-05T10:24:48.035Z"
   },
   {
    "duration": 11,
    "start_time": "2022-04-05T10:24:48.052Z"
   },
   {
    "duration": 7,
    "start_time": "2022-04-05T10:24:48.065Z"
   },
   {
    "duration": 12,
    "start_time": "2022-04-05T10:24:48.073Z"
   },
   {
    "duration": 9,
    "start_time": "2022-04-05T10:24:48.087Z"
   },
   {
    "duration": 98,
    "start_time": "2022-04-05T10:24:48.098Z"
   },
   {
    "duration": 8,
    "start_time": "2022-04-05T10:24:48.198Z"
   },
   {
    "duration": 15,
    "start_time": "2022-04-05T10:24:48.207Z"
   },
   {
    "duration": 46,
    "start_time": "2022-04-05T10:24:48.223Z"
   },
   {
    "duration": 5,
    "start_time": "2022-04-05T10:24:48.273Z"
   },
   {
    "duration": 14,
    "start_time": "2022-04-05T10:24:48.279Z"
   },
   {
    "duration": 310,
    "start_time": "2022-04-05T10:24:48.296Z"
   },
   {
    "duration": 13,
    "start_time": "2022-04-05T10:24:48.608Z"
   },
   {
    "duration": 6,
    "start_time": "2022-04-05T10:24:48.622Z"
   },
   {
    "duration": 17,
    "start_time": "2022-04-05T10:24:48.633Z"
   },
   {
    "duration": 10,
    "start_time": "2022-04-05T10:24:48.651Z"
   },
   {
    "duration": 261,
    "start_time": "2022-04-05T10:24:48.662Z"
   },
   {
    "duration": 22,
    "start_time": "2022-04-05T10:24:48.933Z"
   },
   {
    "duration": 207,
    "start_time": "2022-04-05T10:24:48.956Z"
   },
   {
    "duration": 282,
    "start_time": "2022-04-05T10:24:49.165Z"
   },
   {
    "duration": 5,
    "start_time": "2022-04-05T10:24:49.448Z"
   },
   {
    "duration": 7,
    "start_time": "2022-04-05T10:24:49.455Z"
   },
   {
    "duration": 210,
    "start_time": "2022-04-05T10:24:49.464Z"
   },
   {
    "duration": 294,
    "start_time": "2022-04-05T10:24:49.675Z"
   },
   {
    "duration": 8,
    "start_time": "2022-04-05T10:24:49.971Z"
   },
   {
    "duration": 17,
    "start_time": "2022-04-05T10:24:49.981Z"
   },
   {
    "duration": 166,
    "start_time": "2022-04-05T10:24:50.000Z"
   },
   {
    "duration": 5,
    "start_time": "2022-04-05T10:24:50.168Z"
   },
   {
    "duration": 15,
    "start_time": "2022-04-05T10:24:50.174Z"
   },
   {
    "duration": 359,
    "start_time": "2022-04-05T10:24:50.190Z"
   },
   {
    "duration": 6,
    "start_time": "2022-04-05T10:24:50.550Z"
   },
   {
    "duration": 8,
    "start_time": "2022-04-05T10:24:50.558Z"
   },
   {
    "duration": 11,
    "start_time": "2022-04-05T10:24:50.568Z"
   },
   {
    "duration": 12,
    "start_time": "2022-04-05T10:24:50.581Z"
   },
   {
    "duration": 8,
    "start_time": "2022-04-05T10:24:50.594Z"
   },
   {
    "duration": 34,
    "start_time": "2022-04-05T10:24:50.604Z"
   },
   {
    "duration": 27,
    "start_time": "2022-04-05T10:24:50.640Z"
   },
   {
    "duration": 13,
    "start_time": "2022-04-05T10:24:50.670Z"
   },
   {
    "duration": 676,
    "start_time": "2022-04-05T10:24:50.685Z"
   },
   {
    "duration": 7,
    "start_time": "2022-04-05T10:25:32.207Z"
   },
   {
    "duration": 7,
    "start_time": "2022-04-05T10:26:03.968Z"
   },
   {
    "duration": 8,
    "start_time": "2022-04-05T10:27:06.669Z"
   },
   {
    "duration": 7,
    "start_time": "2022-04-05T10:28:06.193Z"
   },
   {
    "duration": 7,
    "start_time": "2022-04-05T10:30:57.877Z"
   },
   {
    "duration": 24,
    "start_time": "2022-04-05T10:31:22.264Z"
   },
   {
    "duration": 24,
    "start_time": "2022-04-05T10:33:14.402Z"
   },
   {
    "duration": 10,
    "start_time": "2022-04-05T10:35:25.374Z"
   },
   {
    "duration": 5,
    "start_time": "2022-04-05T10:35:28.397Z"
   },
   {
    "duration": 6,
    "start_time": "2022-04-05T10:35:30.568Z"
   },
   {
    "duration": 8,
    "start_time": "2022-04-05T10:39:24.973Z"
   },
   {
    "duration": 9,
    "start_time": "2022-04-05T10:39:42.509Z"
   },
   {
    "duration": 8,
    "start_time": "2022-04-05T10:41:16.753Z"
   },
   {
    "duration": 1132,
    "start_time": "2022-04-05T10:51:39.649Z"
   },
   {
    "duration": 35,
    "start_time": "2022-04-05T10:51:40.783Z"
   },
   {
    "duration": 4,
    "start_time": "2022-04-05T10:51:40.819Z"
   },
   {
    "duration": 29,
    "start_time": "2022-04-05T10:51:40.825Z"
   },
   {
    "duration": 17,
    "start_time": "2022-04-05T10:51:40.855Z"
   },
   {
    "duration": 4,
    "start_time": "2022-04-05T10:51:40.874Z"
   },
   {
    "duration": 13,
    "start_time": "2022-04-05T10:51:40.880Z"
   },
   {
    "duration": 40,
    "start_time": "2022-04-05T10:51:40.895Z"
   },
   {
    "duration": 16,
    "start_time": "2022-04-05T10:51:40.936Z"
   },
   {
    "duration": 7,
    "start_time": "2022-04-05T10:51:40.955Z"
   },
   {
    "duration": 9,
    "start_time": "2022-04-05T10:51:40.963Z"
   },
   {
    "duration": 3,
    "start_time": "2022-04-05T10:51:40.974Z"
   },
   {
    "duration": 17,
    "start_time": "2022-04-05T10:51:40.978Z"
   },
   {
    "duration": 36,
    "start_time": "2022-04-05T10:51:40.996Z"
   },
   {
    "duration": 7,
    "start_time": "2022-04-05T10:51:41.035Z"
   },
   {
    "duration": 14,
    "start_time": "2022-04-05T10:51:41.045Z"
   },
   {
    "duration": 163,
    "start_time": "2022-04-05T10:51:41.061Z"
   },
   {
    "duration": 10,
    "start_time": "2022-04-05T10:51:41.226Z"
   },
   {
    "duration": 20,
    "start_time": "2022-04-05T10:51:41.238Z"
   },
   {
    "duration": 9,
    "start_time": "2022-04-05T10:51:41.260Z"
   },
   {
    "duration": 5,
    "start_time": "2022-04-05T10:51:41.271Z"
   },
   {
    "duration": 12,
    "start_time": "2022-04-05T10:51:41.278Z"
   },
   {
    "duration": 6,
    "start_time": "2022-04-05T10:51:41.291Z"
   },
   {
    "duration": 80,
    "start_time": "2022-04-05T10:51:41.298Z"
   },
   {
    "duration": 8,
    "start_time": "2022-04-05T10:51:41.380Z"
   },
   {
    "duration": 15,
    "start_time": "2022-04-05T10:51:41.390Z"
   },
   {
    "duration": 57,
    "start_time": "2022-04-05T10:51:41.406Z"
   },
   {
    "duration": 9,
    "start_time": "2022-04-05T10:52:33.283Z"
   },
   {
    "duration": 9,
    "start_time": "2022-04-05T10:52:43.961Z"
   },
   {
    "duration": 8,
    "start_time": "2022-04-05T10:52:53.380Z"
   },
   {
    "duration": 10,
    "start_time": "2022-04-05T10:53:02.558Z"
   },
   {
    "duration": 9,
    "start_time": "2022-04-05T10:53:08.044Z"
   },
   {
    "duration": 8,
    "start_time": "2022-04-05T10:53:08.055Z"
   },
   {
    "duration": 13,
    "start_time": "2022-04-05T10:53:08.065Z"
   },
   {
    "duration": 304,
    "start_time": "2022-04-05T10:53:08.080Z"
   },
   {
    "duration": 11,
    "start_time": "2022-04-05T10:53:08.386Z"
   },
   {
    "duration": 3,
    "start_time": "2022-04-05T10:53:08.399Z"
   },
   {
    "duration": 5,
    "start_time": "2022-04-05T10:53:08.404Z"
   },
   {
    "duration": 27,
    "start_time": "2022-04-05T10:53:08.410Z"
   },
   {
    "duration": 275,
    "start_time": "2022-04-05T10:53:08.439Z"
   },
   {
    "duration": 27,
    "start_time": "2022-04-05T10:53:08.717Z"
   },
   {
    "duration": 199,
    "start_time": "2022-04-05T10:53:08.747Z"
   },
   {
    "duration": 301,
    "start_time": "2022-04-05T10:53:08.949Z"
   },
   {
    "duration": 5,
    "start_time": "2022-04-05T10:53:09.251Z"
   },
   {
    "duration": 9,
    "start_time": "2022-04-05T10:53:09.258Z"
   },
   {
    "duration": 217,
    "start_time": "2022-04-05T10:53:09.269Z"
   },
   {
    "duration": 301,
    "start_time": "2022-04-05T10:53:09.487Z"
   },
   {
    "duration": 8,
    "start_time": "2022-04-05T10:53:09.789Z"
   },
   {
    "duration": 15,
    "start_time": "2022-04-05T10:53:09.799Z"
   },
   {
    "duration": 160,
    "start_time": "2022-04-05T10:53:09.815Z"
   },
   {
    "duration": 5,
    "start_time": "2022-04-05T10:53:09.976Z"
   },
   {
    "duration": 11,
    "start_time": "2022-04-05T10:53:09.982Z"
   },
   {
    "duration": 355,
    "start_time": "2022-04-05T10:53:09.995Z"
   },
   {
    "duration": 4,
    "start_time": "2022-04-05T10:53:10.352Z"
   },
   {
    "duration": 8,
    "start_time": "2022-04-05T10:53:10.358Z"
   },
   {
    "duration": 6,
    "start_time": "2022-04-05T10:53:10.369Z"
   },
   {
    "duration": 8,
    "start_time": "2022-04-05T10:53:10.376Z"
   },
   {
    "duration": 5,
    "start_time": "2022-04-05T10:53:10.386Z"
   },
   {
    "duration": 45,
    "start_time": "2022-04-05T10:53:10.392Z"
   },
   {
    "duration": 29,
    "start_time": "2022-04-05T10:53:10.438Z"
   },
   {
    "duration": 6,
    "start_time": "2022-04-05T10:53:10.468Z"
   },
   {
    "duration": 8,
    "start_time": "2022-04-05T10:53:10.475Z"
   },
   {
    "duration": 8,
    "start_time": "2022-04-05T10:53:10.484Z"
   },
   {
    "duration": 11,
    "start_time": "2022-04-05T10:54:50.745Z"
   },
   {
    "duration": 100,
    "start_time": "2022-04-05T11:01:39.065Z"
   },
   {
    "duration": 8,
    "start_time": "2022-04-05T11:01:47.487Z"
   },
   {
    "duration": 6,
    "start_time": "2022-04-05T11:09:46.096Z"
   },
   {
    "duration": 14,
    "start_time": "2022-04-05T11:11:53.109Z"
   },
   {
    "duration": 8,
    "start_time": "2022-04-05T11:12:14.913Z"
   },
   {
    "duration": 8,
    "start_time": "2022-04-05T11:13:38.112Z"
   },
   {
    "duration": 9,
    "start_time": "2022-04-05T11:13:55.162Z"
   },
   {
    "duration": 9,
    "start_time": "2022-04-05T11:14:15.298Z"
   },
   {
    "duration": 13,
    "start_time": "2022-04-05T11:20:55.453Z"
   },
   {
    "duration": 13,
    "start_time": "2022-04-05T11:21:10.867Z"
   },
   {
    "duration": 1202,
    "start_time": "2022-04-05T12:22:26.690Z"
   },
   {
    "duration": 43,
    "start_time": "2022-04-05T12:22:27.895Z"
   },
   {
    "duration": 8,
    "start_time": "2022-04-05T12:22:27.940Z"
   },
   {
    "duration": 26,
    "start_time": "2022-04-05T12:22:27.949Z"
   },
   {
    "duration": 17,
    "start_time": "2022-04-05T12:22:27.978Z"
   },
   {
    "duration": 4,
    "start_time": "2022-04-05T12:22:27.996Z"
   },
   {
    "duration": 36,
    "start_time": "2022-04-05T12:22:28.001Z"
   },
   {
    "duration": 23,
    "start_time": "2022-04-05T12:22:28.039Z"
   },
   {
    "duration": 9,
    "start_time": "2022-04-05T12:22:28.064Z"
   },
   {
    "duration": 4,
    "start_time": "2022-04-05T12:22:28.075Z"
   },
   {
    "duration": 8,
    "start_time": "2022-04-05T12:22:28.081Z"
   },
   {
    "duration": 2,
    "start_time": "2022-04-05T12:22:28.091Z"
   },
   {
    "duration": 12,
    "start_time": "2022-04-05T12:22:28.095Z"
   },
   {
    "duration": 18,
    "start_time": "2022-04-05T12:22:28.136Z"
   },
   {
    "duration": 5,
    "start_time": "2022-04-05T12:22:28.156Z"
   },
   {
    "duration": 8,
    "start_time": "2022-04-05T12:22:28.163Z"
   },
   {
    "duration": 165,
    "start_time": "2022-04-05T12:22:28.172Z"
   },
   {
    "duration": 3,
    "start_time": "2022-04-05T12:22:28.340Z"
   },
   {
    "duration": 16,
    "start_time": "2022-04-05T12:22:28.345Z"
   },
   {
    "duration": 11,
    "start_time": "2022-04-05T12:22:28.362Z"
   },
   {
    "duration": 4,
    "start_time": "2022-04-05T12:22:28.375Z"
   },
   {
    "duration": 10,
    "start_time": "2022-04-05T12:22:28.381Z"
   },
   {
    "duration": 6,
    "start_time": "2022-04-05T12:22:28.392Z"
   },
   {
    "duration": 89,
    "start_time": "2022-04-05T12:22:28.400Z"
   },
   {
    "duration": 8,
    "start_time": "2022-04-05T12:22:28.491Z"
   },
   {
    "duration": 14,
    "start_time": "2022-04-05T12:22:28.501Z"
   },
   {
    "duration": 51,
    "start_time": "2022-04-05T12:22:28.517Z"
   },
   {
    "duration": 8,
    "start_time": "2022-04-05T12:22:28.570Z"
   },
   {
    "duration": 6,
    "start_time": "2022-04-05T12:22:28.580Z"
   },
   {
    "duration": 13,
    "start_time": "2022-04-05T12:22:28.587Z"
   },
   {
    "duration": 297,
    "start_time": "2022-04-05T12:22:28.602Z"
   },
   {
    "duration": 13,
    "start_time": "2022-04-05T12:22:28.901Z"
   },
   {
    "duration": 2,
    "start_time": "2022-04-05T12:22:28.916Z"
   },
   {
    "duration": 3,
    "start_time": "2022-04-05T12:22:28.932Z"
   },
   {
    "duration": 10,
    "start_time": "2022-04-05T12:22:28.937Z"
   },
   {
    "duration": 265,
    "start_time": "2022-04-05T12:22:28.949Z"
   },
   {
    "duration": 28,
    "start_time": "2022-04-05T12:22:29.216Z"
   },
   {
    "duration": 208,
    "start_time": "2022-04-05T12:22:29.246Z"
   },
   {
    "duration": 304,
    "start_time": "2022-04-05T12:22:29.456Z"
   },
   {
    "duration": 5,
    "start_time": "2022-04-05T12:22:29.762Z"
   },
   {
    "duration": 4,
    "start_time": "2022-04-05T12:22:29.771Z"
   },
   {
    "duration": 208,
    "start_time": "2022-04-05T12:22:29.777Z"
   },
   {
    "duration": 293,
    "start_time": "2022-04-05T12:22:29.986Z"
   },
   {
    "duration": 9,
    "start_time": "2022-04-05T12:22:30.281Z"
   },
   {
    "duration": 17,
    "start_time": "2022-04-05T12:22:30.292Z"
   },
   {
    "duration": 165,
    "start_time": "2022-04-05T12:22:30.311Z"
   },
   {
    "duration": 5,
    "start_time": "2022-04-05T12:22:30.477Z"
   },
   {
    "duration": 15,
    "start_time": "2022-04-05T12:22:30.484Z"
   },
   {
    "duration": 358,
    "start_time": "2022-04-05T12:22:30.500Z"
   },
   {
    "duration": 5,
    "start_time": "2022-04-05T12:22:30.859Z"
   },
   {
    "duration": 13,
    "start_time": "2022-04-05T12:22:30.866Z"
   },
   {
    "duration": 9,
    "start_time": "2022-04-05T12:22:30.880Z"
   },
   {
    "duration": 12,
    "start_time": "2022-04-05T12:22:30.891Z"
   },
   {
    "duration": 13,
    "start_time": "2022-04-05T12:22:30.905Z"
   },
   {
    "duration": 18,
    "start_time": "2022-04-05T12:22:30.920Z"
   },
   {
    "duration": 42,
    "start_time": "2022-04-05T12:22:30.941Z"
   },
   {
    "duration": 5,
    "start_time": "2022-04-05T12:22:30.985Z"
   },
   {
    "duration": 14,
    "start_time": "2022-04-05T12:22:30.992Z"
   },
   {
    "duration": 17,
    "start_time": "2022-04-05T12:22:31.008Z"
   },
   {
    "duration": 20,
    "start_time": "2022-04-05T12:22:31.032Z"
   },
   {
    "duration": 21,
    "start_time": "2022-04-05T12:22:31.054Z"
   },
   {
    "duration": 281,
    "start_time": "2022-04-05T12:22:31.077Z"
   },
   {
    "duration": 294,
    "start_time": "2022-04-05T12:23:51.152Z"
   },
   {
    "duration": 301,
    "start_time": "2022-04-05T12:24:12.621Z"
   },
   {
    "duration": 6,
    "start_time": "2022-04-05T12:25:10.126Z"
   },
   {
    "duration": 13,
    "start_time": "2022-04-05T12:25:28.930Z"
   },
   {
    "duration": 198,
    "start_time": "2022-04-05T12:26:01.085Z"
   },
   {
    "duration": 215,
    "start_time": "2022-04-05T12:26:21.489Z"
   },
   {
    "duration": 104,
    "start_time": "2022-04-05T12:27:18.590Z"
   },
   {
    "duration": 169,
    "start_time": "2022-04-05T12:29:10.200Z"
   },
   {
    "duration": 316,
    "start_time": "2022-04-05T12:32:57.550Z"
   },
   {
    "duration": 264,
    "start_time": "2022-04-05T12:33:41.248Z"
   },
   {
    "duration": 377,
    "start_time": "2022-04-05T12:35:55.260Z"
   },
   {
    "duration": 267,
    "start_time": "2022-04-05T12:36:35.795Z"
   },
   {
    "duration": 239,
    "start_time": "2022-04-05T12:37:04.945Z"
   },
   {
    "duration": 354,
    "start_time": "2022-04-05T12:41:48.954Z"
   },
   {
    "duration": 265,
    "start_time": "2022-04-05T12:42:26.977Z"
   },
   {
    "duration": 258,
    "start_time": "2022-04-05T12:42:38.144Z"
   },
   {
    "duration": 265,
    "start_time": "2022-04-05T12:43:13.675Z"
   },
   {
    "duration": 1146,
    "start_time": "2022-04-05T13:02:05.461Z"
   },
   {
    "duration": 46,
    "start_time": "2022-04-05T13:02:06.609Z"
   },
   {
    "duration": 4,
    "start_time": "2022-04-05T13:02:06.657Z"
   },
   {
    "duration": 23,
    "start_time": "2022-04-05T13:02:06.700Z"
   },
   {
    "duration": 23,
    "start_time": "2022-04-05T13:02:06.726Z"
   },
   {
    "duration": 9,
    "start_time": "2022-04-05T13:02:06.750Z"
   },
   {
    "duration": 15,
    "start_time": "2022-04-05T13:02:06.761Z"
   },
   {
    "duration": 13,
    "start_time": "2022-04-05T13:02:06.778Z"
   },
   {
    "duration": 9,
    "start_time": "2022-04-05T13:02:06.793Z"
   },
   {
    "duration": 5,
    "start_time": "2022-04-05T13:02:06.803Z"
   },
   {
    "duration": 11,
    "start_time": "2022-04-05T13:02:06.834Z"
   },
   {
    "duration": 9,
    "start_time": "2022-04-05T13:02:06.847Z"
   },
   {
    "duration": 19,
    "start_time": "2022-04-05T13:02:06.858Z"
   },
   {
    "duration": 21,
    "start_time": "2022-04-05T13:02:06.879Z"
   },
   {
    "duration": 4,
    "start_time": "2022-04-05T13:02:06.902Z"
   },
   {
    "duration": 27,
    "start_time": "2022-04-05T13:02:06.908Z"
   },
   {
    "duration": 166,
    "start_time": "2022-04-05T13:02:06.937Z"
   },
   {
    "duration": 3,
    "start_time": "2022-04-05T13:02:07.104Z"
   },
   {
    "duration": 34,
    "start_time": "2022-04-05T13:02:07.110Z"
   },
   {
    "duration": 13,
    "start_time": "2022-04-05T13:02:07.147Z"
   },
   {
    "duration": 5,
    "start_time": "2022-04-05T13:02:07.162Z"
   },
   {
    "duration": 11,
    "start_time": "2022-04-05T13:02:07.169Z"
   },
   {
    "duration": 7,
    "start_time": "2022-04-05T13:02:07.181Z"
   },
   {
    "duration": 93,
    "start_time": "2022-04-05T13:02:07.189Z"
   },
   {
    "duration": 9,
    "start_time": "2022-04-05T13:02:07.283Z"
   },
   {
    "duration": 15,
    "start_time": "2022-04-05T13:02:07.294Z"
   },
   {
    "duration": 36,
    "start_time": "2022-04-05T13:02:07.334Z"
   },
   {
    "duration": 9,
    "start_time": "2022-04-05T13:02:07.371Z"
   },
   {
    "duration": 6,
    "start_time": "2022-04-05T13:02:07.382Z"
   },
   {
    "duration": 46,
    "start_time": "2022-04-05T13:02:07.389Z"
   },
   {
    "duration": 302,
    "start_time": "2022-04-05T13:02:07.437Z"
   },
   {
    "duration": 15,
    "start_time": "2022-04-05T13:02:07.741Z"
   },
   {
    "duration": 2,
    "start_time": "2022-04-05T13:02:07.758Z"
   },
   {
    "duration": 4,
    "start_time": "2022-04-05T13:02:07.763Z"
   },
   {
    "duration": 10,
    "start_time": "2022-04-05T13:02:07.768Z"
   },
   {
    "duration": 308,
    "start_time": "2022-04-05T13:02:07.780Z"
   },
   {
    "duration": 19,
    "start_time": "2022-04-05T13:02:08.090Z"
   },
   {
    "duration": 225,
    "start_time": "2022-04-05T13:02:08.111Z"
   },
   {
    "duration": 301,
    "start_time": "2022-04-05T13:02:08.339Z"
   },
   {
    "duration": 7,
    "start_time": "2022-04-05T13:02:08.643Z"
   },
   {
    "duration": 8,
    "start_time": "2022-04-05T13:02:08.651Z"
   },
   {
    "duration": 213,
    "start_time": "2022-04-05T13:02:08.660Z"
   },
   {
    "duration": 302,
    "start_time": "2022-04-05T13:02:08.875Z"
   },
   {
    "duration": 10,
    "start_time": "2022-04-05T13:02:09.179Z"
   },
   {
    "duration": 16,
    "start_time": "2022-04-05T13:02:09.191Z"
   },
   {
    "duration": 163,
    "start_time": "2022-04-05T13:02:09.208Z"
   },
   {
    "duration": 5,
    "start_time": "2022-04-05T13:02:09.373Z"
   },
   {
    "duration": 14,
    "start_time": "2022-04-05T13:02:09.379Z"
   },
   {
    "duration": 374,
    "start_time": "2022-04-05T13:02:09.395Z"
   },
   {
    "duration": 5,
    "start_time": "2022-04-05T13:02:09.771Z"
   },
   {
    "duration": 11,
    "start_time": "2022-04-05T13:02:09.778Z"
   },
   {
    "duration": 7,
    "start_time": "2022-04-05T13:02:09.791Z"
   },
   {
    "duration": 9,
    "start_time": "2022-04-05T13:02:09.800Z"
   },
   {
    "duration": 29,
    "start_time": "2022-04-05T13:02:09.811Z"
   },
   {
    "duration": 14,
    "start_time": "2022-04-05T13:02:09.843Z"
   },
   {
    "duration": 25,
    "start_time": "2022-04-05T13:02:09.859Z"
   },
   {
    "duration": 5,
    "start_time": "2022-04-05T13:02:09.886Z"
   },
   {
    "duration": 8,
    "start_time": "2022-04-05T13:02:09.893Z"
   },
   {
    "duration": 12,
    "start_time": "2022-04-05T13:02:09.933Z"
   },
   {
    "duration": 18,
    "start_time": "2022-04-05T13:02:09.947Z"
   },
   {
    "duration": 5,
    "start_time": "2022-04-05T13:02:09.967Z"
   },
   {
    "duration": 308,
    "start_time": "2022-04-05T13:02:09.973Z"
   },
   {
    "duration": 9,
    "start_time": "2022-04-05T13:02:10.283Z"
   },
   {
    "duration": 285,
    "start_time": "2022-04-05T13:02:10.294Z"
   },
   {
    "duration": 105,
    "start_time": "2022-04-05T13:05:51.551Z"
   },
   {
    "duration": 168,
    "start_time": "2022-04-05T13:05:59.825Z"
   },
   {
    "duration": 359,
    "start_time": "2022-04-05T13:06:53.757Z"
   },
   {
    "duration": 273,
    "start_time": "2022-04-05T13:07:09.482Z"
   },
   {
    "duration": 272,
    "start_time": "2022-04-05T13:07:26.905Z"
   },
   {
    "duration": 276,
    "start_time": "2022-04-05T13:07:48.492Z"
   },
   {
    "duration": 282,
    "start_time": "2022-04-05T13:08:24.743Z"
   },
   {
    "duration": 293,
    "start_time": "2022-04-05T13:10:05.571Z"
   },
   {
    "duration": 391,
    "start_time": "2022-04-05T13:10:28.398Z"
   },
   {
    "duration": 249,
    "start_time": "2022-04-05T13:11:42.529Z"
   },
   {
    "duration": 294,
    "start_time": "2022-04-05T13:15:41.881Z"
   },
   {
    "duration": 271,
    "start_time": "2022-04-05T13:16:17.386Z"
   },
   {
    "duration": 260,
    "start_time": "2022-04-05T13:16:27.562Z"
   },
   {
    "duration": 285,
    "start_time": "2022-04-05T13:16:41.287Z"
   },
   {
    "duration": 310,
    "start_time": "2022-04-05T13:17:01.346Z"
   },
   {
    "duration": 418,
    "start_time": "2022-04-05T13:21:37.996Z"
   },
   {
    "duration": 356,
    "start_time": "2022-04-05T13:25:23.919Z"
   },
   {
    "duration": 21,
    "start_time": "2022-04-05T13:28:47.758Z"
   },
   {
    "duration": 21,
    "start_time": "2022-04-05T13:30:00.345Z"
   },
   {
    "duration": 18,
    "start_time": "2022-04-05T13:30:26.751Z"
   },
   {
    "duration": 421,
    "start_time": "2022-04-05T13:33:10.641Z"
   },
   {
    "duration": 340,
    "start_time": "2022-04-05T13:33:28.696Z"
   },
   {
    "duration": 17,
    "start_time": "2022-04-05T13:38:25.529Z"
   },
   {
    "duration": 333,
    "start_time": "2022-04-05T13:43:29.203Z"
   },
   {
    "duration": 462,
    "start_time": "2022-04-05T13:44:16.032Z"
   },
   {
    "duration": 339,
    "start_time": "2022-04-05T13:44:52.073Z"
   },
   {
    "duration": 312,
    "start_time": "2022-04-05T13:45:05.248Z"
   },
   {
    "duration": 325,
    "start_time": "2022-04-05T13:45:27.393Z"
   },
   {
    "duration": 339,
    "start_time": "2022-04-05T13:46:12.102Z"
   },
   {
    "duration": 564,
    "start_time": "2022-04-05T13:47:24.830Z"
   },
   {
    "duration": 449,
    "start_time": "2022-04-05T13:47:42.124Z"
   },
   {
    "duration": 430,
    "start_time": "2022-04-05T13:48:20.857Z"
   },
   {
    "duration": 310,
    "start_time": "2022-04-05T13:50:49.312Z"
   },
   {
    "duration": 295,
    "start_time": "2022-04-05T13:52:30.971Z"
   },
   {
    "duration": 327,
    "start_time": "2022-04-05T13:52:43.446Z"
   },
   {
    "duration": 306,
    "start_time": "2022-04-05T13:52:47.684Z"
   },
   {
    "duration": 27,
    "start_time": "2022-04-05T13:55:58.729Z"
   },
   {
    "duration": 5,
    "start_time": "2022-04-05T13:58:30.631Z"
   },
   {
    "duration": 367,
    "start_time": "2022-04-05T14:01:54.930Z"
   },
   {
    "duration": 420,
    "start_time": "2022-04-05T14:02:29.400Z"
   },
   {
    "duration": 261,
    "start_time": "2022-04-05T14:04:59.674Z"
   },
   {
    "duration": 314,
    "start_time": "2022-04-05T14:05:13.229Z"
   },
   {
    "duration": 303,
    "start_time": "2022-04-05T14:05:43.999Z"
   },
   {
    "duration": 160,
    "start_time": "2022-04-05T14:06:50.408Z"
   },
   {
    "duration": 347,
    "start_time": "2022-04-05T14:07:05.820Z"
   },
   {
    "duration": 9,
    "start_time": "2022-04-05T14:08:57.375Z"
   },
   {
    "duration": 11,
    "start_time": "2022-04-05T14:09:01.305Z"
   },
   {
    "duration": 1611,
    "start_time": "2022-04-05T14:09:51.310Z"
   },
   {
    "duration": 14,
    "start_time": "2022-04-05T14:10:06.745Z"
   },
   {
    "duration": 11,
    "start_time": "2022-04-05T14:10:31.981Z"
   },
   {
    "duration": 113,
    "start_time": "2022-04-05T14:12:13.544Z"
   },
   {
    "duration": 9,
    "start_time": "2022-04-05T14:12:20.348Z"
   },
   {
    "duration": 10,
    "start_time": "2022-04-05T14:12:42.080Z"
   },
   {
    "duration": 8,
    "start_time": "2022-04-05T14:13:06.524Z"
   },
   {
    "duration": 7,
    "start_time": "2022-04-05T14:13:30.057Z"
   },
   {
    "duration": 8,
    "start_time": "2022-04-05T14:13:42.184Z"
   },
   {
    "duration": 7,
    "start_time": "2022-04-05T14:18:05.194Z"
   },
   {
    "duration": 7,
    "start_time": "2022-04-05T14:19:04.368Z"
   },
   {
    "duration": 8,
    "start_time": "2022-04-05T14:19:37.301Z"
   },
   {
    "duration": 5,
    "start_time": "2022-04-05T14:21:12.802Z"
   },
   {
    "duration": 6,
    "start_time": "2022-04-05T14:22:57.911Z"
   },
   {
    "duration": 8,
    "start_time": "2022-04-05T14:23:01.490Z"
   },
   {
    "duration": 12,
    "start_time": "2022-04-05T14:23:26.051Z"
   },
   {
    "duration": 9,
    "start_time": "2022-04-05T14:23:36.694Z"
   },
   {
    "duration": 11,
    "start_time": "2022-04-05T14:24:23.096Z"
   },
   {
    "duration": 26,
    "start_time": "2022-04-05T14:27:12.694Z"
   },
   {
    "duration": 12,
    "start_time": "2022-04-05T14:28:51.748Z"
   },
   {
    "duration": 5,
    "start_time": "2022-04-05T14:29:26.604Z"
   },
   {
    "duration": 8,
    "start_time": "2022-04-05T14:31:13.063Z"
   },
   {
    "duration": 9,
    "start_time": "2022-04-05T14:32:40.474Z"
   },
   {
    "duration": 9,
    "start_time": "2022-04-05T14:33:06.617Z"
   },
   {
    "duration": 333,
    "start_time": "2022-04-05T14:40:21.245Z"
   },
   {
    "duration": 1321,
    "start_time": "2022-04-05T14:40:45.390Z"
   },
   {
    "duration": 41,
    "start_time": "2022-04-05T14:40:46.713Z"
   },
   {
    "duration": 3,
    "start_time": "2022-04-05T14:40:46.756Z"
   },
   {
    "duration": 24,
    "start_time": "2022-04-05T14:40:46.762Z"
   },
   {
    "duration": 17,
    "start_time": "2022-04-05T14:40:46.788Z"
   },
   {
    "duration": 4,
    "start_time": "2022-04-05T14:40:46.806Z"
   },
   {
    "duration": 28,
    "start_time": "2022-04-05T14:40:46.812Z"
   },
   {
    "duration": 20,
    "start_time": "2022-04-05T14:40:46.841Z"
   },
   {
    "duration": 9,
    "start_time": "2022-04-05T14:40:46.863Z"
   },
   {
    "duration": 3,
    "start_time": "2022-04-05T14:40:46.874Z"
   },
   {
    "duration": 7,
    "start_time": "2022-04-05T14:40:46.878Z"
   },
   {
    "duration": 2,
    "start_time": "2022-04-05T14:40:46.887Z"
   },
   {
    "duration": 12,
    "start_time": "2022-04-05T14:40:46.891Z"
   },
   {
    "duration": 41,
    "start_time": "2022-04-05T14:40:46.905Z"
   },
   {
    "duration": 6,
    "start_time": "2022-04-05T14:40:46.948Z"
   },
   {
    "duration": 8,
    "start_time": "2022-04-05T14:40:46.956Z"
   },
   {
    "duration": 158,
    "start_time": "2022-04-05T14:40:46.966Z"
   },
   {
    "duration": 3,
    "start_time": "2022-04-05T14:40:47.134Z"
   },
   {
    "duration": 25,
    "start_time": "2022-04-05T14:40:47.138Z"
   },
   {
    "duration": 10,
    "start_time": "2022-04-05T14:40:47.165Z"
   },
   {
    "duration": 6,
    "start_time": "2022-04-05T14:40:47.177Z"
   },
   {
    "duration": 11,
    "start_time": "2022-04-05T14:40:47.185Z"
   },
   {
    "duration": 6,
    "start_time": "2022-04-05T14:40:47.197Z"
   },
   {
    "duration": 84,
    "start_time": "2022-04-05T14:40:47.204Z"
   },
   {
    "duration": 9,
    "start_time": "2022-04-05T14:40:47.290Z"
   },
   {
    "duration": 16,
    "start_time": "2022-04-05T14:40:47.301Z"
   },
   {
    "duration": 39,
    "start_time": "2022-04-05T14:40:47.333Z"
   },
   {
    "duration": 9,
    "start_time": "2022-04-05T14:40:47.376Z"
   },
   {
    "duration": 6,
    "start_time": "2022-04-05T14:40:47.387Z"
   },
   {
    "duration": 38,
    "start_time": "2022-04-05T14:40:47.394Z"
   },
   {
    "duration": 287,
    "start_time": "2022-04-05T14:40:47.434Z"
   },
   {
    "duration": 22,
    "start_time": "2022-04-05T14:40:47.723Z"
   },
   {
    "duration": 5,
    "start_time": "2022-04-05T14:40:47.748Z"
   },
   {
    "duration": 7,
    "start_time": "2022-04-05T14:40:47.754Z"
   },
   {
    "duration": 12,
    "start_time": "2022-04-05T14:40:47.762Z"
   },
   {
    "duration": 285,
    "start_time": "2022-04-05T14:40:47.776Z"
   },
   {
    "duration": 18,
    "start_time": "2022-04-05T14:40:48.063Z"
   },
   {
    "duration": 214,
    "start_time": "2022-04-05T14:40:48.083Z"
   },
   {
    "duration": 308,
    "start_time": "2022-04-05T14:40:48.299Z"
   },
   {
    "duration": 5,
    "start_time": "2022-04-05T14:40:48.609Z"
   },
   {
    "duration": 19,
    "start_time": "2022-04-05T14:40:48.615Z"
   },
   {
    "duration": 201,
    "start_time": "2022-04-05T14:40:48.637Z"
   },
   {
    "duration": 315,
    "start_time": "2022-04-05T14:40:48.841Z"
   },
   {
    "duration": 9,
    "start_time": "2022-04-05T14:40:49.158Z"
   },
   {
    "duration": 18,
    "start_time": "2022-04-05T14:40:49.168Z"
   },
   {
    "duration": 156,
    "start_time": "2022-04-05T14:40:49.188Z"
   },
   {
    "duration": 5,
    "start_time": "2022-04-05T14:40:49.346Z"
   },
   {
    "duration": 12,
    "start_time": "2022-04-05T14:40:49.352Z"
   },
   {
    "duration": 367,
    "start_time": "2022-04-05T14:40:49.366Z"
   },
   {
    "duration": 7,
    "start_time": "2022-04-05T14:40:49.736Z"
   },
   {
    "duration": 14,
    "start_time": "2022-04-05T14:40:49.745Z"
   },
   {
    "duration": 8,
    "start_time": "2022-04-05T14:40:49.761Z"
   },
   {
    "duration": 10,
    "start_time": "2022-04-05T14:40:49.770Z"
   },
   {
    "duration": 8,
    "start_time": "2022-04-05T14:40:49.781Z"
   },
   {
    "duration": 9,
    "start_time": "2022-04-05T14:40:49.790Z"
   },
   {
    "duration": 62,
    "start_time": "2022-04-05T14:40:49.800Z"
   },
   {
    "duration": 5,
    "start_time": "2022-04-05T14:40:49.864Z"
   },
   {
    "duration": 7,
    "start_time": "2022-04-05T14:40:49.871Z"
   },
   {
    "duration": 9,
    "start_time": "2022-04-05T14:40:49.879Z"
   },
   {
    "duration": 49,
    "start_time": "2022-04-05T14:40:49.890Z"
   },
   {
    "duration": 13,
    "start_time": "2022-04-05T14:40:49.941Z"
   },
   {
    "duration": 297,
    "start_time": "2022-04-05T14:40:49.955Z"
   },
   {
    "duration": 7,
    "start_time": "2022-04-05T14:40:50.254Z"
   },
   {
    "duration": 344,
    "start_time": "2022-04-05T14:40:50.263Z"
   },
   {
    "duration": 29,
    "start_time": "2022-04-05T14:40:50.609Z"
   },
   {
    "duration": 455,
    "start_time": "2022-04-05T14:40:50.639Z"
   },
   {
    "duration": 352,
    "start_time": "2022-04-05T14:40:51.096Z"
   },
   {
    "duration": 5,
    "start_time": "2022-04-05T14:40:51.450Z"
   },
   {
    "duration": 370,
    "start_time": "2022-04-05T14:40:51.456Z"
   },
   {
    "duration": 342,
    "start_time": "2022-04-05T14:40:51.827Z"
   },
   {
    "duration": 8,
    "start_time": "2022-04-05T14:40:52.171Z"
   },
   {
    "duration": 9,
    "start_time": "2022-04-05T14:40:52.180Z"
   },
   {
    "duration": 48,
    "start_time": "2022-04-05T14:40:52.191Z"
   },
   {
    "duration": 17,
    "start_time": "2022-04-05T14:40:52.241Z"
   },
   {
    "duration": 7,
    "start_time": "2022-04-05T14:40:52.259Z"
   },
   {
    "duration": 10,
    "start_time": "2022-04-05T14:40:52.267Z"
   },
   {
    "duration": 14,
    "start_time": "2022-04-05T15:24:41.981Z"
   },
   {
    "duration": 1176,
    "start_time": "2022-04-05T15:25:05.003Z"
   },
   {
    "duration": 41,
    "start_time": "2022-04-05T15:25:06.181Z"
   },
   {
    "duration": 3,
    "start_time": "2022-04-05T15:25:06.223Z"
   },
   {
    "duration": 29,
    "start_time": "2022-04-05T15:25:06.229Z"
   },
   {
    "duration": 17,
    "start_time": "2022-04-05T15:25:06.260Z"
   },
   {
    "duration": 4,
    "start_time": "2022-04-05T15:25:06.278Z"
   },
   {
    "duration": 20,
    "start_time": "2022-04-05T15:25:06.283Z"
   },
   {
    "duration": 30,
    "start_time": "2022-04-05T15:25:06.305Z"
   },
   {
    "duration": 18,
    "start_time": "2022-04-05T15:25:06.337Z"
   },
   {
    "duration": 20,
    "start_time": "2022-04-05T15:25:11.034Z"
   },
   {
    "duration": 16,
    "start_time": "2022-04-05T15:25:26.987Z"
   },
   {
    "duration": 335,
    "start_time": "2022-04-05T15:33:57.379Z"
   },
   {
    "duration": 310,
    "start_time": "2022-04-05T15:34:06.185Z"
   },
   {
    "duration": 6,
    "start_time": "2022-04-05T15:35:27.845Z"
   },
   {
    "duration": 9,
    "start_time": "2022-04-05T15:35:55.617Z"
   },
   {
    "duration": 13,
    "start_time": "2022-04-05T15:41:43.045Z"
   },
   {
    "duration": 6,
    "start_time": "2022-04-05T15:59:19.583Z"
   },
   {
    "duration": 132,
    "start_time": "2022-04-05T15:59:29.834Z"
   },
   {
    "duration": 124,
    "start_time": "2022-04-05T15:59:43.361Z"
   },
   {
    "duration": 138,
    "start_time": "2022-04-05T15:59:48.169Z"
   },
   {
    "duration": 169,
    "start_time": "2022-04-05T16:08:11.681Z"
   },
   {
    "duration": 9,
    "start_time": "2022-04-05T16:11:04.312Z"
   },
   {
    "duration": 182,
    "start_time": "2022-04-05T16:27:55.257Z"
   },
   {
    "duration": 101,
    "start_time": "2022-04-05T16:28:03.959Z"
   },
   {
    "duration": 3,
    "start_time": "2022-04-05T16:28:21.230Z"
   },
   {
    "duration": 46,
    "start_time": "2022-04-05T16:28:21.239Z"
   },
   {
    "duration": 4,
    "start_time": "2022-04-05T16:28:21.287Z"
   },
   {
    "duration": 20,
    "start_time": "2022-04-05T16:28:21.292Z"
   },
   {
    "duration": 17,
    "start_time": "2022-04-05T16:28:21.314Z"
   },
   {
    "duration": 3,
    "start_time": "2022-04-05T16:28:21.333Z"
   },
   {
    "duration": 14,
    "start_time": "2022-04-05T16:28:21.337Z"
   },
   {
    "duration": 7,
    "start_time": "2022-04-05T16:28:21.353Z"
   },
   {
    "duration": 162,
    "start_time": "2022-04-05T16:28:21.362Z"
   },
   {
    "duration": 15,
    "start_time": "2022-04-05T16:28:21.535Z"
   },
   {
    "duration": 382,
    "start_time": "2022-04-05T16:28:21.552Z"
   },
   {
    "duration": 5,
    "start_time": "2022-04-05T16:28:21.936Z"
   },
   {
    "duration": 19,
    "start_time": "2022-04-05T16:28:21.943Z"
   },
   {
    "duration": 17,
    "start_time": "2022-04-05T16:28:21.964Z"
   },
   {
    "duration": 4,
    "start_time": "2022-04-05T16:28:21.983Z"
   },
   {
    "duration": 8,
    "start_time": "2022-04-05T16:28:21.989Z"
   },
   {
    "duration": 198,
    "start_time": "2022-04-05T16:28:21.999Z"
   },
   {
    "duration": 8,
    "start_time": "2022-04-05T16:28:22.199Z"
   },
   {
    "duration": 9,
    "start_time": "2022-04-05T16:28:22.209Z"
   },
   {
    "duration": 4,
    "start_time": "2022-04-05T16:28:22.233Z"
   },
   {
    "duration": 4,
    "start_time": "2022-04-05T16:28:26.966Z"
   },
   {
    "duration": 53,
    "start_time": "2022-04-05T16:28:28.864Z"
   },
   {
    "duration": 19,
    "start_time": "2022-04-05T16:29:27.929Z"
   },
   {
    "duration": 13,
    "start_time": "2022-04-05T16:33:34.463Z"
   },
   {
    "duration": 5,
    "start_time": "2022-04-05T16:33:37.481Z"
   },
   {
    "duration": 22,
    "start_time": "2022-04-05T16:33:39.244Z"
   },
   {
    "duration": 27,
    "start_time": "2022-04-05T16:34:25.720Z"
   },
   {
    "duration": 275,
    "start_time": "2022-04-05T18:33:10.766Z"
   },
   {
    "duration": 257,
    "start_time": "2022-04-05T18:35:53.351Z"
   },
   {
    "duration": 219,
    "start_time": "2022-04-05T18:36:49.548Z"
   },
   {
    "duration": 5,
    "start_time": "2022-04-05T18:46:00.382Z"
   },
   {
    "duration": 192,
    "start_time": "2022-04-05T18:47:03.187Z"
   },
   {
    "duration": 269,
    "start_time": "2022-04-05T18:55:24.643Z"
   },
   {
    "duration": 1277,
    "start_time": "2022-04-05T19:28:42.223Z"
   },
   {
    "duration": 4,
    "start_time": "2022-04-05T19:28:56.954Z"
   },
   {
    "duration": 37,
    "start_time": "2022-04-05T19:28:56.963Z"
   },
   {
    "duration": 4,
    "start_time": "2022-04-05T19:28:57.002Z"
   },
   {
    "duration": 21,
    "start_time": "2022-04-05T19:28:57.008Z"
   },
   {
    "duration": 19,
    "start_time": "2022-04-05T19:28:57.032Z"
   },
   {
    "duration": 4,
    "start_time": "2022-04-05T19:28:57.053Z"
   },
   {
    "duration": 13,
    "start_time": "2022-04-05T19:28:57.059Z"
   },
   {
    "duration": 8,
    "start_time": "2022-04-05T19:28:57.074Z"
   },
   {
    "duration": 187,
    "start_time": "2022-04-05T19:28:57.085Z"
   },
   {
    "duration": 14,
    "start_time": "2022-04-05T19:28:57.273Z"
   },
   {
    "duration": 312,
    "start_time": "2022-04-05T19:28:57.288Z"
   },
   {
    "duration": 4,
    "start_time": "2022-04-05T19:28:57.602Z"
   },
   {
    "duration": 28,
    "start_time": "2022-04-05T19:28:57.608Z"
   },
   {
    "duration": 15,
    "start_time": "2022-04-05T19:28:57.638Z"
   },
   {
    "duration": 4,
    "start_time": "2022-04-05T19:28:57.655Z"
   },
   {
    "duration": 8,
    "start_time": "2022-04-05T19:28:57.661Z"
   },
   {
    "duration": 185,
    "start_time": "2022-04-05T19:28:57.670Z"
   },
   {
    "duration": 9,
    "start_time": "2022-04-05T19:28:57.857Z"
   },
   {
    "duration": 10,
    "start_time": "2022-04-05T19:28:57.867Z"
   },
   {
    "duration": 6,
    "start_time": "2022-04-05T19:28:57.879Z"
   },
   {
    "duration": 22,
    "start_time": "2022-04-05T19:28:57.887Z"
   },
   {
    "duration": 27,
    "start_time": "2022-04-05T19:28:57.910Z"
   },
   {
    "duration": 23,
    "start_time": "2022-04-05T19:28:57.939Z"
   },
   {
    "duration": 298,
    "start_time": "2022-04-05T19:28:57.965Z"
   },
   {
    "duration": 205,
    "start_time": "2022-04-05T19:28:58.265Z"
   },
   {
    "duration": 5,
    "start_time": "2022-04-05T19:28:58.472Z"
   },
   {
    "duration": 292,
    "start_time": "2022-04-05T19:28:58.478Z"
   },
   {
    "duration": 290,
    "start_time": "2022-04-05T19:28:58.771Z"
   },
   {
    "duration": 5,
    "start_time": "2022-04-05T19:28:59.062Z"
   },
   {
    "duration": 201,
    "start_time": "2022-04-05T19:28:59.069Z"
   },
   {
    "duration": 282,
    "start_time": "2022-04-05T19:29:02.570Z"
   },
   {
    "duration": 3,
    "start_time": "2022-04-05T19:52:14.826Z"
   },
   {
    "duration": 256,
    "start_time": "2022-04-05T19:57:52.690Z"
   },
   {
    "duration": 3,
    "start_time": "2022-04-05T20:04:21.806Z"
   },
   {
    "duration": 12,
    "start_time": "2022-04-05T20:37:46.848Z"
   },
   {
    "duration": 12,
    "start_time": "2022-04-05T20:37:55.219Z"
   },
   {
    "duration": 5,
    "start_time": "2022-04-05T20:38:00.860Z"
   },
   {
    "duration": 57,
    "start_time": "2022-04-05T20:38:00.868Z"
   },
   {
    "duration": 5,
    "start_time": "2022-04-05T20:38:00.927Z"
   },
   {
    "duration": 27,
    "start_time": "2022-04-05T20:38:00.934Z"
   },
   {
    "duration": 22,
    "start_time": "2022-04-05T20:38:00.964Z"
   },
   {
    "duration": 4,
    "start_time": "2022-04-05T20:38:00.988Z"
   },
   {
    "duration": 46,
    "start_time": "2022-04-05T20:38:00.993Z"
   },
   {
    "duration": 15,
    "start_time": "2022-04-05T20:38:01.041Z"
   },
   {
    "duration": 205,
    "start_time": "2022-04-05T20:38:01.058Z"
   },
   {
    "duration": 21,
    "start_time": "2022-04-05T20:38:01.266Z"
   },
   {
    "duration": 375,
    "start_time": "2022-04-05T20:38:01.292Z"
   },
   {
    "duration": 6,
    "start_time": "2022-04-05T20:38:01.670Z"
   },
   {
    "duration": 28,
    "start_time": "2022-04-05T20:38:01.677Z"
   },
   {
    "duration": 31,
    "start_time": "2022-04-05T20:38:01.708Z"
   },
   {
    "duration": 5,
    "start_time": "2022-04-05T20:38:01.741Z"
   },
   {
    "duration": 14,
    "start_time": "2022-04-05T20:38:01.747Z"
   },
   {
    "duration": 173,
    "start_time": "2022-04-05T20:38:01.763Z"
   },
   {
    "duration": 9,
    "start_time": "2022-04-05T20:38:01.938Z"
   },
   {
    "duration": 11,
    "start_time": "2022-04-05T20:38:01.948Z"
   },
   {
    "duration": 10,
    "start_time": "2022-04-05T20:38:01.961Z"
   },
   {
    "duration": 34,
    "start_time": "2022-04-05T20:38:01.974Z"
   },
   {
    "duration": 6,
    "start_time": "2022-04-05T20:38:02.009Z"
   },
   {
    "duration": 22,
    "start_time": "2022-04-05T20:38:02.033Z"
   },
   {
    "duration": 325,
    "start_time": "2022-04-05T20:38:02.057Z"
   },
   {
    "duration": 205,
    "start_time": "2022-04-05T20:38:02.385Z"
   },
   {
    "duration": 7,
    "start_time": "2022-04-05T20:38:02.592Z"
   },
   {
    "duration": 198,
    "start_time": "2022-04-05T20:38:02.601Z"
   },
   {
    "duration": 348,
    "start_time": "2022-04-05T20:38:02.800Z"
   },
   {
    "duration": 6,
    "start_time": "2022-04-05T20:38:03.151Z"
   },
   {
    "duration": 232,
    "start_time": "2022-04-05T20:38:03.158Z"
   },
   {
    "duration": 324,
    "start_time": "2022-04-05T20:38:03.392Z"
   },
   {
    "duration": 24,
    "start_time": "2022-04-05T20:38:03.718Z"
   },
   {
    "duration": 146,
    "start_time": "2022-04-05T20:38:03.744Z"
   },
   {
    "duration": 5,
    "start_time": "2022-04-05T20:38:03.892Z"
   },
   {
    "duration": 5,
    "start_time": "2022-04-05T20:38:03.898Z"
   },
   {
    "duration": 12,
    "start_time": "2022-04-05T20:38:03.904Z"
   },
   {
    "duration": 385,
    "start_time": "2022-04-05T20:38:03.933Z"
   },
   {
    "duration": 5,
    "start_time": "2022-04-05T20:38:04.319Z"
   },
   {
    "duration": 8,
    "start_time": "2022-04-05T20:38:04.325Z"
   },
   {
    "duration": 10,
    "start_time": "2022-04-05T20:38:04.335Z"
   },
   {
    "duration": 6,
    "start_time": "2022-04-05T20:38:04.347Z"
   },
   {
    "duration": 10,
    "start_time": "2022-04-05T20:38:04.355Z"
   },
   {
    "duration": 7,
    "start_time": "2022-04-05T20:38:08.605Z"
   },
   {
    "duration": 9,
    "start_time": "2022-04-05T20:38:38.508Z"
   },
   {
    "duration": 10,
    "start_time": "2022-04-05T20:38:44.180Z"
   },
   {
    "duration": 10,
    "start_time": "2022-04-05T20:45:56.096Z"
   },
   {
    "duration": 9,
    "start_time": "2022-04-05T20:46:25.800Z"
   },
   {
    "duration": 3,
    "start_time": "2022-04-05T21:01:56.989Z"
   },
   {
    "duration": 13,
    "start_time": "2022-04-05T21:21:48.738Z"
   },
   {
    "duration": 21,
    "start_time": "2022-04-05T21:22:49.164Z"
   },
   {
    "duration": 12,
    "start_time": "2022-04-05T21:24:03.438Z"
   },
   {
    "duration": 11,
    "start_time": "2022-04-05T21:24:46.121Z"
   },
   {
    "duration": 13,
    "start_time": "2022-04-05T21:26:36.559Z"
   },
   {
    "duration": 4,
    "start_time": "2022-04-05T21:27:57.381Z"
   },
   {
    "duration": 12,
    "start_time": "2022-04-05T21:28:39.766Z"
   },
   {
    "duration": 1250,
    "start_time": "2022-04-05T21:28:48.449Z"
   },
   {
    "duration": 13,
    "start_time": "2022-04-05T21:29:09.146Z"
   },
   {
    "duration": 10,
    "start_time": "2022-04-05T21:29:32.008Z"
   },
   {
    "duration": 14,
    "start_time": "2022-04-05T21:30:15.479Z"
   },
   {
    "duration": 9,
    "start_time": "2022-04-05T21:30:17.393Z"
   },
   {
    "duration": 2,
    "start_time": "2022-04-05T21:30:39.947Z"
   },
   {
    "duration": 5,
    "start_time": "2022-04-05T21:31:58.746Z"
   },
   {
    "duration": 30,
    "start_time": "2022-04-05T21:32:26.784Z"
   },
   {
    "duration": 4,
    "start_time": "2022-04-05T21:32:33.094Z"
   },
   {
    "duration": 34,
    "start_time": "2022-04-05T21:32:33.112Z"
   },
   {
    "duration": 3,
    "start_time": "2022-04-05T21:32:33.149Z"
   },
   {
    "duration": 18,
    "start_time": "2022-04-05T21:32:33.154Z"
   },
   {
    "duration": 16,
    "start_time": "2022-04-05T21:32:33.174Z"
   },
   {
    "duration": 3,
    "start_time": "2022-04-05T21:32:33.192Z"
   },
   {
    "duration": 12,
    "start_time": "2022-04-05T21:32:33.197Z"
   },
   {
    "duration": 7,
    "start_time": "2022-04-05T21:32:33.232Z"
   },
   {
    "duration": 164,
    "start_time": "2022-04-05T21:32:33.241Z"
   },
   {
    "duration": 26,
    "start_time": "2022-04-05T21:32:33.408Z"
   },
   {
    "duration": 318,
    "start_time": "2022-04-05T21:32:33.436Z"
   },
   {
    "duration": 4,
    "start_time": "2022-04-05T21:32:33.755Z"
   },
   {
    "duration": 13,
    "start_time": "2022-04-05T21:32:33.761Z"
   },
   {
    "duration": 17,
    "start_time": "2022-04-05T21:32:33.777Z"
   },
   {
    "duration": 5,
    "start_time": "2022-04-05T21:32:33.796Z"
   },
   {
    "duration": 7,
    "start_time": "2022-04-05T21:32:33.832Z"
   },
   {
    "duration": 178,
    "start_time": "2022-04-05T21:32:33.841Z"
   },
   {
    "duration": 14,
    "start_time": "2022-04-05T21:32:34.020Z"
   },
   {
    "duration": 8,
    "start_time": "2022-04-05T21:32:34.035Z"
   },
   {
    "duration": 5,
    "start_time": "2022-04-05T21:32:34.044Z"
   },
   {
    "duration": 21,
    "start_time": "2022-04-05T21:32:34.051Z"
   },
   {
    "duration": 5,
    "start_time": "2022-04-05T21:32:34.073Z"
   },
   {
    "duration": 21,
    "start_time": "2022-04-05T21:32:34.080Z"
   },
   {
    "duration": 284,
    "start_time": "2022-04-05T21:32:34.134Z"
   },
   {
    "duration": 190,
    "start_time": "2022-04-05T21:32:34.420Z"
   },
   {
    "duration": 5,
    "start_time": "2022-04-05T21:32:34.612Z"
   },
   {
    "duration": 192,
    "start_time": "2022-04-05T21:32:34.618Z"
   },
   {
    "duration": 306,
    "start_time": "2022-04-05T21:32:34.812Z"
   },
   {
    "duration": 15,
    "start_time": "2022-04-05T21:32:35.119Z"
   },
   {
    "duration": 198,
    "start_time": "2022-04-05T21:32:35.135Z"
   },
   {
    "duration": 291,
    "start_time": "2022-04-05T21:32:35.335Z"
   },
   {
    "duration": 15,
    "start_time": "2022-04-05T21:32:35.633Z"
   },
   {
    "duration": 168,
    "start_time": "2022-04-05T21:32:35.650Z"
   },
   {
    "duration": 13,
    "start_time": "2022-04-05T21:32:35.820Z"
   },
   {
    "duration": 3,
    "start_time": "2022-04-05T21:32:35.834Z"
   },
   {
    "duration": 12,
    "start_time": "2022-04-05T21:32:35.839Z"
   },
   {
    "duration": 280,
    "start_time": "2022-04-05T21:32:35.853Z"
   },
   {
    "duration": 6,
    "start_time": "2022-04-05T21:32:36.134Z"
   },
   {
    "duration": 4,
    "start_time": "2022-04-05T21:32:36.141Z"
   },
   {
    "duration": 5,
    "start_time": "2022-04-05T21:32:36.147Z"
   },
   {
    "duration": 16,
    "start_time": "2022-04-05T21:32:36.154Z"
   },
   {
    "duration": 10,
    "start_time": "2022-04-05T21:32:36.171Z"
   },
   {
    "duration": 6,
    "start_time": "2022-04-05T21:32:36.182Z"
   },
   {
    "duration": 11,
    "start_time": "2022-04-05T21:32:36.190Z"
   },
   {
    "duration": 8,
    "start_time": "2022-04-05T21:32:36.233Z"
   },
   {
    "duration": 12,
    "start_time": "2022-04-05T21:32:36.242Z"
   },
   {
    "duration": 10,
    "start_time": "2022-04-05T21:32:36.256Z"
   },
   {
    "duration": 7,
    "start_time": "2022-04-05T21:32:36.268Z"
   },
   {
    "duration": 24,
    "start_time": "2022-04-05T21:32:44.603Z"
   },
   {
    "duration": 4,
    "start_time": "2022-04-05T21:33:56.672Z"
   },
   {
    "duration": 13,
    "start_time": "2022-04-05T21:36:42.269Z"
   },
   {
    "duration": 5,
    "start_time": "2022-04-05T21:39:26.351Z"
   },
   {
    "duration": 9,
    "start_time": "2022-04-05T21:45:35.801Z"
   },
   {
    "duration": 13,
    "start_time": "2022-04-05T21:45:39.220Z"
   },
   {
    "duration": 11,
    "start_time": "2022-04-05T21:45:41.844Z"
   },
   {
    "duration": 8,
    "start_time": "2022-04-05T21:47:06.497Z"
   },
   {
    "duration": 9,
    "start_time": "2022-04-05T21:47:48.832Z"
   },
   {
    "duration": 15,
    "start_time": "2022-04-05T21:47:57.304Z"
   },
   {
    "duration": 14,
    "start_time": "2022-04-05T21:48:09.985Z"
   },
   {
    "duration": 14,
    "start_time": "2022-04-05T21:48:13.567Z"
   },
   {
    "duration": 12,
    "start_time": "2022-04-05T21:48:21.048Z"
   },
   {
    "duration": 8,
    "start_time": "2022-04-05T21:48:27.525Z"
   },
   {
    "duration": 13,
    "start_time": "2022-04-05T22:12:18.357Z"
   },
   {
    "duration": 6,
    "start_time": "2022-04-05T22:13:04.013Z"
   },
   {
    "duration": 11,
    "start_time": "2022-04-05T22:13:28.719Z"
   },
   {
    "duration": 7,
    "start_time": "2022-04-05T22:13:32.633Z"
   },
   {
    "duration": 6,
    "start_time": "2022-04-05T22:13:49.054Z"
   },
   {
    "duration": 5,
    "start_time": "2022-04-05T22:18:24.134Z"
   },
   {
    "duration": 4,
    "start_time": "2022-04-05T22:18:31.846Z"
   },
   {
    "duration": 4,
    "start_time": "2022-04-05T22:19:45.638Z"
   },
   {
    "duration": 5,
    "start_time": "2022-04-05T22:20:03.002Z"
   },
   {
    "duration": 118,
    "start_time": "2022-04-05T22:21:20.430Z"
   },
   {
    "duration": 5,
    "start_time": "2022-04-05T22:21:42.049Z"
   },
   {
    "duration": 7,
    "start_time": "2022-04-05T22:21:47.651Z"
   },
   {
    "duration": 79,
    "start_time": "2022-04-05T22:22:10.062Z"
   },
   {
    "duration": 82,
    "start_time": "2022-04-05T22:22:31.764Z"
   },
   {
    "duration": 87,
    "start_time": "2022-04-05T22:22:53.143Z"
   },
   {
    "duration": 72,
    "start_time": "2022-04-05T22:23:29.361Z"
   },
   {
    "duration": 85,
    "start_time": "2022-04-05T22:24:02.417Z"
   },
   {
    "duration": 83,
    "start_time": "2022-04-05T22:25:15.224Z"
   },
   {
    "duration": 91,
    "start_time": "2022-04-05T22:25:29.842Z"
   },
   {
    "duration": 87,
    "start_time": "2022-04-05T22:25:50.357Z"
   },
   {
    "duration": 76,
    "start_time": "2022-04-05T22:26:18.913Z"
   },
   {
    "duration": 83,
    "start_time": "2022-04-05T22:26:52.278Z"
   },
   {
    "duration": 5,
    "start_time": "2022-04-05T22:27:33.719Z"
   },
   {
    "duration": 6,
    "start_time": "2022-04-05T22:27:58.889Z"
   },
   {
    "duration": 6,
    "start_time": "2022-04-05T22:33:34.390Z"
   },
   {
    "duration": 5,
    "start_time": "2022-04-05T22:39:03.221Z"
   },
   {
    "duration": 112,
    "start_time": "2022-04-05T22:39:12.793Z"
   },
   {
    "duration": 193,
    "start_time": "2022-04-05T22:41:18.167Z"
   },
   {
    "duration": 199,
    "start_time": "2022-04-05T22:41:27.418Z"
   },
   {
    "duration": 312,
    "start_time": "2022-04-05T22:41:39.928Z"
   },
   {
    "duration": 219,
    "start_time": "2022-04-05T22:42:01.696Z"
   },
   {
    "duration": 190,
    "start_time": "2022-04-05T22:42:33.990Z"
   },
   {
    "duration": 198,
    "start_time": "2022-04-05T22:43:04.150Z"
   },
   {
    "duration": 200,
    "start_time": "2022-04-05T22:43:35.453Z"
   },
   {
    "duration": 209,
    "start_time": "2022-04-05T22:44:25.965Z"
   },
   {
    "duration": 206,
    "start_time": "2022-04-05T22:44:36.150Z"
   },
   {
    "duration": 228,
    "start_time": "2022-04-05T22:45:22.407Z"
   },
   {
    "duration": 234,
    "start_time": "2022-04-05T22:46:00.009Z"
   },
   {
    "duration": 371,
    "start_time": "2022-04-05T22:46:32.377Z"
   },
   {
    "duration": 231,
    "start_time": "2022-04-05T22:46:47.633Z"
   },
   {
    "duration": 228,
    "start_time": "2022-04-05T22:47:05.499Z"
   },
   {
    "duration": 69,
    "start_time": "2022-04-05T22:47:55.858Z"
   },
   {
    "duration": 214,
    "start_time": "2022-04-05T22:48:02.513Z"
   },
   {
    "duration": 226,
    "start_time": "2022-04-05T22:48:21.382Z"
   },
   {
    "duration": 231,
    "start_time": "2022-04-05T22:48:50.057Z"
   },
   {
    "duration": 228,
    "start_time": "2022-04-05T22:49:24.949Z"
   },
   {
    "duration": 235,
    "start_time": "2022-04-05T22:49:45.490Z"
   },
   {
    "duration": 420,
    "start_time": "2022-04-05T22:49:57.438Z"
   },
   {
    "duration": 263,
    "start_time": "2022-04-05T22:50:15.172Z"
   },
   {
    "duration": 6,
    "start_time": "2022-04-05T22:54:45.240Z"
   },
   {
    "duration": 8,
    "start_time": "2022-04-05T22:57:15.557Z"
   },
   {
    "duration": 10,
    "start_time": "2022-04-05T23:14:18.753Z"
   },
   {
    "duration": 5,
    "start_time": "2022-04-05T23:15:23.221Z"
   },
   {
    "duration": 279,
    "start_time": "2022-04-05T23:22:05.749Z"
   },
   {
    "duration": 318,
    "start_time": "2022-04-05T23:25:28.480Z"
   },
   {
    "duration": 5,
    "start_time": "2022-04-05T23:29:49.261Z"
   },
   {
    "duration": 176,
    "start_time": "2022-04-05T23:31:34.285Z"
   },
   {
    "duration": 431,
    "start_time": "2022-04-05T23:32:36.870Z"
   },
   {
    "duration": 291,
    "start_time": "2022-04-05T23:39:04.180Z"
   },
   {
    "duration": 6,
    "start_time": "2022-04-05T23:43:23.304Z"
   },
   {
    "duration": 343,
    "start_time": "2022-04-05T23:44:15.207Z"
   },
   {
    "duration": 300,
    "start_time": "2022-04-05T23:46:42.376Z"
   },
   {
    "duration": 17,
    "start_time": "2022-04-05T23:54:53.999Z"
   },
   {
    "duration": 78,
    "start_time": "2022-04-05T23:55:39.579Z"
   },
   {
    "duration": 5,
    "start_time": "2022-04-05T23:55:47.183Z"
   },
   {
    "duration": 5,
    "start_time": "2022-04-06T00:00:02.767Z"
   },
   {
    "duration": 7,
    "start_time": "2022-04-06T00:00:42.496Z"
   },
   {
    "duration": 6,
    "start_time": "2022-04-06T00:03:58.038Z"
   },
   {
    "duration": 1169,
    "start_time": "2022-04-06T00:04:02.914Z"
   },
   {
    "duration": 39,
    "start_time": "2022-04-06T00:04:04.085Z"
   },
   {
    "duration": 4,
    "start_time": "2022-04-06T00:04:04.126Z"
   },
   {
    "duration": 25,
    "start_time": "2022-04-06T00:04:04.132Z"
   },
   {
    "duration": 19,
    "start_time": "2022-04-06T00:04:04.159Z"
   },
   {
    "duration": 3,
    "start_time": "2022-04-06T00:04:04.180Z"
   },
   {
    "duration": 18,
    "start_time": "2022-04-06T00:04:04.185Z"
   },
   {
    "duration": 33,
    "start_time": "2022-04-06T00:04:04.204Z"
   },
   {
    "duration": 170,
    "start_time": "2022-04-06T00:04:04.239Z"
   },
   {
    "duration": 23,
    "start_time": "2022-04-06T00:04:04.413Z"
   },
   {
    "duration": 303,
    "start_time": "2022-04-06T00:04:04.438Z"
   },
   {
    "duration": 5,
    "start_time": "2022-04-06T00:04:04.743Z"
   },
   {
    "duration": 16,
    "start_time": "2022-04-06T00:04:04.750Z"
   },
   {
    "duration": 22,
    "start_time": "2022-04-06T00:04:04.768Z"
   },
   {
    "duration": 5,
    "start_time": "2022-04-06T00:04:04.792Z"
   },
   {
    "duration": 36,
    "start_time": "2022-04-06T00:04:04.799Z"
   },
   {
    "duration": 156,
    "start_time": "2022-04-06T00:04:04.837Z"
   },
   {
    "duration": 10,
    "start_time": "2022-04-06T00:04:04.995Z"
   },
   {
    "duration": 11,
    "start_time": "2022-04-06T00:04:05.006Z"
   },
   {
    "duration": 7,
    "start_time": "2022-04-06T00:04:05.033Z"
   },
   {
    "duration": 56,
    "start_time": "2022-04-06T00:04:05.042Z"
   },
   {
    "duration": 5,
    "start_time": "2022-04-06T00:04:05.100Z"
   },
   {
    "duration": 42,
    "start_time": "2022-04-06T00:04:05.106Z"
   },
   {
    "duration": 289,
    "start_time": "2022-04-06T00:04:05.150Z"
   },
   {
    "duration": 358,
    "start_time": "2022-04-06T00:04:05.441Z"
   },
   {
    "duration": 5,
    "start_time": "2022-04-06T00:04:05.802Z"
   },
   {
    "duration": 198,
    "start_time": "2022-04-06T00:04:05.809Z"
   },
   {
    "duration": 328,
    "start_time": "2022-04-06T00:04:06.013Z"
   },
   {
    "duration": 5,
    "start_time": "2022-04-06T00:04:06.343Z"
   },
   {
    "duration": 195,
    "start_time": "2022-04-06T00:04:06.349Z"
   },
   {
    "duration": 402,
    "start_time": "2022-04-06T00:04:06.545Z"
   },
   {
    "duration": 14,
    "start_time": "2022-04-06T00:04:06.948Z"
   },
   {
    "duration": 134,
    "start_time": "2022-04-06T00:04:06.963Z"
   },
   {
    "duration": 5,
    "start_time": "2022-04-06T00:04:07.099Z"
   },
   {
    "duration": 7,
    "start_time": "2022-04-06T00:04:07.105Z"
   },
   {
    "duration": 25,
    "start_time": "2022-04-06T00:04:07.114Z"
   },
   {
    "duration": 271,
    "start_time": "2022-04-06T00:04:07.141Z"
   },
   {
    "duration": 4,
    "start_time": "2022-04-06T00:04:07.414Z"
   },
   {
    "duration": 14,
    "start_time": "2022-04-06T00:04:07.419Z"
   },
   {
    "duration": 15,
    "start_time": "2022-04-06T00:04:07.435Z"
   },
   {
    "duration": 15,
    "start_time": "2022-04-06T00:04:07.451Z"
   },
   {
    "duration": 14,
    "start_time": "2022-04-06T00:04:07.467Z"
   },
   {
    "duration": 7,
    "start_time": "2022-04-06T00:04:07.483Z"
   },
   {
    "duration": 8,
    "start_time": "2022-04-06T00:04:07.492Z"
   },
   {
    "duration": 122,
    "start_time": "2022-04-06T00:04:07.502Z"
   },
   {
    "duration": 0,
    "start_time": "2022-04-06T00:04:07.633Z"
   },
   {
    "duration": 0,
    "start_time": "2022-04-06T00:04:07.634Z"
   },
   {
    "duration": 0,
    "start_time": "2022-04-06T00:04:07.635Z"
   },
   {
    "duration": 0,
    "start_time": "2022-04-06T00:04:07.636Z"
   },
   {
    "duration": 0,
    "start_time": "2022-04-06T00:04:07.637Z"
   },
   {
    "duration": 0,
    "start_time": "2022-04-06T00:04:07.638Z"
   },
   {
    "duration": 0,
    "start_time": "2022-04-06T00:04:07.639Z"
   },
   {
    "duration": 0,
    "start_time": "2022-04-06T00:04:07.640Z"
   },
   {
    "duration": 0,
    "start_time": "2022-04-06T00:04:07.641Z"
   },
   {
    "duration": 0,
    "start_time": "2022-04-06T00:04:07.642Z"
   },
   {
    "duration": 0,
    "start_time": "2022-04-06T00:04:07.644Z"
   },
   {
    "duration": 0,
    "start_time": "2022-04-06T00:04:07.644Z"
   },
   {
    "duration": 0,
    "start_time": "2022-04-06T00:04:07.645Z"
   },
   {
    "duration": 0,
    "start_time": "2022-04-06T00:04:07.647Z"
   },
   {
    "duration": 0,
    "start_time": "2022-04-06T00:04:07.647Z"
   },
   {
    "duration": 0,
    "start_time": "2022-04-06T00:04:07.649Z"
   },
   {
    "duration": 0,
    "start_time": "2022-04-06T00:04:07.650Z"
   },
   {
    "duration": 0,
    "start_time": "2022-04-06T00:04:07.650Z"
   },
   {
    "duration": 0,
    "start_time": "2022-04-06T00:04:07.651Z"
   },
   {
    "duration": 0,
    "start_time": "2022-04-06T00:04:07.652Z"
   },
   {
    "duration": 0,
    "start_time": "2022-04-06T00:04:07.653Z"
   },
   {
    "duration": 0,
    "start_time": "2022-04-06T00:04:07.654Z"
   },
   {
    "duration": 0,
    "start_time": "2022-04-06T00:04:07.655Z"
   },
   {
    "duration": 0,
    "start_time": "2022-04-06T00:04:07.657Z"
   },
   {
    "duration": 17,
    "start_time": "2022-04-06T00:04:30.135Z"
   },
   {
    "duration": 12,
    "start_time": "2022-04-06T00:05:12.820Z"
   },
   {
    "duration": 1117,
    "start_time": "2022-04-06T00:05:45.662Z"
   },
   {
    "duration": 37,
    "start_time": "2022-04-06T00:05:46.781Z"
   },
   {
    "duration": 4,
    "start_time": "2022-04-06T00:05:46.819Z"
   },
   {
    "duration": 27,
    "start_time": "2022-04-06T00:05:46.825Z"
   },
   {
    "duration": 16,
    "start_time": "2022-04-06T00:05:46.853Z"
   },
   {
    "duration": 3,
    "start_time": "2022-04-06T00:05:46.871Z"
   },
   {
    "duration": 16,
    "start_time": "2022-04-06T00:05:46.876Z"
   },
   {
    "duration": 8,
    "start_time": "2022-04-06T00:05:46.893Z"
   },
   {
    "duration": 184,
    "start_time": "2022-04-06T00:05:46.903Z"
   },
   {
    "duration": 14,
    "start_time": "2022-04-06T00:05:47.090Z"
   },
   {
    "duration": 302,
    "start_time": "2022-04-06T00:05:47.106Z"
   },
   {
    "duration": 4,
    "start_time": "2022-04-06T00:05:47.409Z"
   },
   {
    "duration": 26,
    "start_time": "2022-04-06T00:05:47.414Z"
   },
   {
    "duration": 21,
    "start_time": "2022-04-06T00:05:47.442Z"
   },
   {
    "duration": 3,
    "start_time": "2022-04-06T00:05:47.465Z"
   },
   {
    "duration": 8,
    "start_time": "2022-04-06T00:05:47.470Z"
   },
   {
    "duration": 163,
    "start_time": "2022-04-06T00:05:47.479Z"
   },
   {
    "duration": 9,
    "start_time": "2022-04-06T00:05:47.643Z"
   },
   {
    "duration": 10,
    "start_time": "2022-04-06T00:05:47.653Z"
   },
   {
    "duration": 8,
    "start_time": "2022-04-06T00:05:47.665Z"
   },
   {
    "duration": 68,
    "start_time": "2022-04-06T00:05:47.674Z"
   },
   {
    "duration": 4,
    "start_time": "2022-04-06T00:05:47.744Z"
   },
   {
    "duration": 24,
    "start_time": "2022-04-06T00:05:47.750Z"
   },
   {
    "duration": 291,
    "start_time": "2022-04-06T00:05:47.776Z"
   },
   {
    "duration": 255,
    "start_time": "2022-04-06T00:05:48.068Z"
   },
   {
    "duration": 4,
    "start_time": "2022-04-06T00:05:48.333Z"
   },
   {
    "duration": 186,
    "start_time": "2022-04-06T00:05:48.339Z"
   },
   {
    "duration": 284,
    "start_time": "2022-04-06T00:05:48.534Z"
   },
   {
    "duration": 13,
    "start_time": "2022-04-06T00:05:48.820Z"
   },
   {
    "duration": 191,
    "start_time": "2022-04-06T00:05:48.834Z"
   },
   {
    "duration": 387,
    "start_time": "2022-04-06T00:05:49.027Z"
   },
   {
    "duration": 21,
    "start_time": "2022-04-06T00:05:49.416Z"
   },
   {
    "duration": 130,
    "start_time": "2022-04-06T00:05:49.439Z"
   },
   {
    "duration": 4,
    "start_time": "2022-04-06T00:05:49.571Z"
   },
   {
    "duration": 6,
    "start_time": "2022-04-06T00:05:49.577Z"
   },
   {
    "duration": 11,
    "start_time": "2022-04-06T00:05:49.585Z"
   },
   {
    "duration": 286,
    "start_time": "2022-04-06T00:05:49.597Z"
   },
   {
    "duration": 5,
    "start_time": "2022-04-06T00:05:49.884Z"
   },
   {
    "duration": 5,
    "start_time": "2022-04-06T00:05:49.890Z"
   },
   {
    "duration": 14,
    "start_time": "2022-04-06T00:05:49.896Z"
   },
   {
    "duration": 33,
    "start_time": "2022-04-06T00:05:49.912Z"
   },
   {
    "duration": 11,
    "start_time": "2022-04-06T00:05:49.946Z"
   },
   {
    "duration": 6,
    "start_time": "2022-04-06T00:05:49.959Z"
   },
   {
    "duration": 10,
    "start_time": "2022-04-06T00:05:49.967Z"
   },
   {
    "duration": 121,
    "start_time": "2022-04-06T00:05:49.979Z"
   },
   {
    "duration": 0,
    "start_time": "2022-04-06T00:05:50.102Z"
   },
   {
    "duration": 0,
    "start_time": "2022-04-06T00:05:50.103Z"
   },
   {
    "duration": 0,
    "start_time": "2022-04-06T00:05:50.104Z"
   },
   {
    "duration": 0,
    "start_time": "2022-04-06T00:05:50.105Z"
   },
   {
    "duration": 0,
    "start_time": "2022-04-06T00:05:50.106Z"
   },
   {
    "duration": 0,
    "start_time": "2022-04-06T00:05:50.107Z"
   },
   {
    "duration": 0,
    "start_time": "2022-04-06T00:05:50.108Z"
   },
   {
    "duration": 0,
    "start_time": "2022-04-06T00:05:50.108Z"
   },
   {
    "duration": 0,
    "start_time": "2022-04-06T00:05:50.109Z"
   },
   {
    "duration": 0,
    "start_time": "2022-04-06T00:05:50.110Z"
   },
   {
    "duration": 0,
    "start_time": "2022-04-06T00:05:50.111Z"
   },
   {
    "duration": 0,
    "start_time": "2022-04-06T00:05:50.112Z"
   },
   {
    "duration": 0,
    "start_time": "2022-04-06T00:05:50.133Z"
   },
   {
    "duration": 0,
    "start_time": "2022-04-06T00:05:50.134Z"
   },
   {
    "duration": 0,
    "start_time": "2022-04-06T00:05:50.135Z"
   },
   {
    "duration": 1,
    "start_time": "2022-04-06T00:05:50.135Z"
   },
   {
    "duration": 0,
    "start_time": "2022-04-06T00:05:50.136Z"
   },
   {
    "duration": 0,
    "start_time": "2022-04-06T00:05:50.137Z"
   },
   {
    "duration": 0,
    "start_time": "2022-04-06T00:05:50.138Z"
   },
   {
    "duration": 0,
    "start_time": "2022-04-06T00:05:50.139Z"
   },
   {
    "duration": 0,
    "start_time": "2022-04-06T00:05:50.140Z"
   },
   {
    "duration": 0,
    "start_time": "2022-04-06T00:05:50.141Z"
   },
   {
    "duration": 0,
    "start_time": "2022-04-06T00:05:50.142Z"
   },
   {
    "duration": 0,
    "start_time": "2022-04-06T00:05:50.143Z"
   },
   {
    "duration": 13,
    "start_time": "2022-04-06T00:06:36.063Z"
   },
   {
    "duration": 13,
    "start_time": "2022-04-06T00:06:51.961Z"
   },
   {
    "duration": 6,
    "start_time": "2022-04-06T00:07:22.491Z"
   },
   {
    "duration": 11,
    "start_time": "2022-04-06T00:08:13.191Z"
   },
   {
    "duration": 8,
    "start_time": "2022-04-06T00:08:23.094Z"
   },
   {
    "duration": 3,
    "start_time": "2022-04-06T00:08:44.833Z"
   },
   {
    "duration": 35,
    "start_time": "2022-04-06T00:08:44.843Z"
   },
   {
    "duration": 3,
    "start_time": "2022-04-06T00:08:44.880Z"
   },
   {
    "duration": 17,
    "start_time": "2022-04-06T00:08:44.885Z"
   },
   {
    "duration": 17,
    "start_time": "2022-04-06T00:08:44.904Z"
   },
   {
    "duration": 3,
    "start_time": "2022-04-06T00:08:44.923Z"
   },
   {
    "duration": 12,
    "start_time": "2022-04-06T00:08:45.083Z"
   },
   {
    "duration": 11,
    "start_time": "2022-04-06T00:08:45.097Z"
   },
   {
    "duration": 156,
    "start_time": "2022-04-06T00:08:45.110Z"
   },
   {
    "duration": 13,
    "start_time": "2022-04-06T00:08:45.268Z"
   },
   {
    "duration": 332,
    "start_time": "2022-04-06T00:08:45.283Z"
   },
   {
    "duration": 19,
    "start_time": "2022-04-06T00:08:45.616Z"
   },
   {
    "duration": 15,
    "start_time": "2022-04-06T00:08:45.637Z"
   },
   {
    "duration": 17,
    "start_time": "2022-04-06T00:08:45.654Z"
   },
   {
    "duration": 5,
    "start_time": "2022-04-06T00:08:45.672Z"
   },
   {
    "duration": 9,
    "start_time": "2022-04-06T00:08:45.678Z"
   },
   {
    "duration": 184,
    "start_time": "2022-04-06T00:08:45.689Z"
   },
   {
    "duration": 9,
    "start_time": "2022-04-06T00:08:45.875Z"
   },
   {
    "duration": 10,
    "start_time": "2022-04-06T00:08:45.885Z"
   },
   {
    "duration": 4,
    "start_time": "2022-04-06T00:08:45.899Z"
   },
   {
    "duration": 40,
    "start_time": "2022-04-06T00:08:45.905Z"
   },
   {
    "duration": 5,
    "start_time": "2022-04-06T00:08:45.946Z"
   },
   {
    "duration": 20,
    "start_time": "2022-04-06T00:08:45.953Z"
   },
   {
    "duration": 297,
    "start_time": "2022-04-06T00:08:45.975Z"
   },
   {
    "duration": 181,
    "start_time": "2022-04-06T00:08:46.273Z"
   },
   {
    "duration": 5,
    "start_time": "2022-04-06T00:08:46.456Z"
   },
   {
    "duration": 187,
    "start_time": "2022-04-06T00:08:46.463Z"
   },
   {
    "duration": 275,
    "start_time": "2022-04-06T00:08:46.652Z"
   },
   {
    "duration": 5,
    "start_time": "2022-04-06T00:08:46.933Z"
   },
   {
    "duration": 194,
    "start_time": "2022-04-06T00:08:46.939Z"
   },
   {
    "duration": 287,
    "start_time": "2022-04-06T00:08:47.134Z"
   },
   {
    "duration": 20,
    "start_time": "2022-04-06T00:08:47.423Z"
   },
   {
    "duration": 231,
    "start_time": "2022-04-06T00:08:47.445Z"
   },
   {
    "duration": 5,
    "start_time": "2022-04-06T00:08:47.677Z"
   },
   {
    "duration": 10,
    "start_time": "2022-04-06T00:08:47.683Z"
   },
   {
    "duration": 14,
    "start_time": "2022-04-06T00:08:47.695Z"
   },
   {
    "duration": 277,
    "start_time": "2022-04-06T00:08:47.711Z"
   },
   {
    "duration": 5,
    "start_time": "2022-04-06T00:08:47.989Z"
   },
   {
    "duration": 5,
    "start_time": "2022-04-06T00:08:47.996Z"
   },
   {
    "duration": 32,
    "start_time": "2022-04-06T00:08:48.002Z"
   },
   {
    "duration": 14,
    "start_time": "2022-04-06T00:08:48.036Z"
   },
   {
    "duration": 12,
    "start_time": "2022-04-06T00:08:48.052Z"
   },
   {
    "duration": 9,
    "start_time": "2022-04-06T00:08:48.065Z"
   },
   {
    "duration": 11,
    "start_time": "2022-04-06T00:08:48.075Z"
   },
   {
    "duration": 8,
    "start_time": "2022-04-06T00:08:48.088Z"
   },
   {
    "duration": 35,
    "start_time": "2022-04-06T00:08:48.098Z"
   },
   {
    "duration": 264,
    "start_time": "2022-04-06T00:08:48.138Z"
   },
   {
    "duration": 6,
    "start_time": "2022-04-06T00:08:48.403Z"
   },
   {
    "duration": 23,
    "start_time": "2022-04-06T00:08:48.410Z"
   },
   {
    "duration": 8,
    "start_time": "2022-04-06T00:08:48.435Z"
   },
   {
    "duration": 10,
    "start_time": "2022-04-06T00:08:48.444Z"
   },
   {
    "duration": 283,
    "start_time": "2022-04-06T00:08:48.456Z"
   },
   {
    "duration": 321,
    "start_time": "2022-04-06T00:08:48.741Z"
   },
   {
    "duration": 5,
    "start_time": "2022-04-06T00:08:49.064Z"
   },
   {
    "duration": 417,
    "start_time": "2022-04-06T00:08:49.071Z"
   },
   {
    "duration": 294,
    "start_time": "2022-04-06T00:08:49.490Z"
   },
   {
    "duration": 5,
    "start_time": "2022-04-06T00:08:49.785Z"
   },
   {
    "duration": 346,
    "start_time": "2022-04-06T00:08:49.792Z"
   },
   {
    "duration": 406,
    "start_time": "2022-04-06T00:08:50.140Z"
   },
   {
    "duration": 18,
    "start_time": "2022-04-06T00:08:50.548Z"
   },
   {
    "duration": 7,
    "start_time": "2022-04-06T00:08:50.568Z"
   },
   {
    "duration": 8,
    "start_time": "2022-04-06T00:08:50.577Z"
   },
   {
    "duration": 7,
    "start_time": "2022-04-06T00:10:10.363Z"
   },
   {
    "duration": 5,
    "start_time": "2022-04-06T00:15:38.334Z"
   },
   {
    "duration": 8,
    "start_time": "2022-04-06T00:18:15.298Z"
   },
   {
    "duration": 1173,
    "start_time": "2022-04-06T00:21:21.404Z"
   },
   {
    "duration": 36,
    "start_time": "2022-04-06T00:21:22.579Z"
   },
   {
    "duration": 4,
    "start_time": "2022-04-06T00:21:22.616Z"
   },
   {
    "duration": 22,
    "start_time": "2022-04-06T00:21:22.622Z"
   },
   {
    "duration": 17,
    "start_time": "2022-04-06T00:21:22.645Z"
   },
   {
    "duration": 3,
    "start_time": "2022-04-06T00:21:22.664Z"
   },
   {
    "duration": 16,
    "start_time": "2022-04-06T00:21:22.669Z"
   },
   {
    "duration": 8,
    "start_time": "2022-04-06T00:21:22.687Z"
   },
   {
    "duration": 184,
    "start_time": "2022-04-06T00:21:22.696Z"
   },
   {
    "duration": 14,
    "start_time": "2022-04-06T00:21:22.883Z"
   },
   {
    "duration": 318,
    "start_time": "2022-04-06T00:21:22.898Z"
   },
   {
    "duration": 5,
    "start_time": "2022-04-06T00:21:23.218Z"
   },
   {
    "duration": 13,
    "start_time": "2022-04-06T00:21:23.233Z"
   },
   {
    "duration": 21,
    "start_time": "2022-04-06T00:21:23.248Z"
   },
   {
    "duration": 4,
    "start_time": "2022-04-06T00:21:23.271Z"
   },
   {
    "duration": 9,
    "start_time": "2022-04-06T00:21:23.277Z"
   },
   {
    "duration": 175,
    "start_time": "2022-04-06T00:21:23.288Z"
   },
   {
    "duration": 9,
    "start_time": "2022-04-06T00:21:23.465Z"
   },
   {
    "duration": 9,
    "start_time": "2022-04-06T00:21:23.476Z"
   },
   {
    "duration": 6,
    "start_time": "2022-04-06T00:21:23.487Z"
   },
   {
    "duration": 72,
    "start_time": "2022-04-06T00:21:23.495Z"
   },
   {
    "duration": 5,
    "start_time": "2022-04-06T00:21:23.569Z"
   },
   {
    "duration": 22,
    "start_time": "2022-04-06T00:21:23.575Z"
   },
   {
    "duration": 292,
    "start_time": "2022-04-06T00:21:23.599Z"
   },
   {
    "duration": 248,
    "start_time": "2022-04-06T00:21:23.893Z"
   },
   {
    "duration": 4,
    "start_time": "2022-04-06T00:21:24.143Z"
   },
   {
    "duration": 190,
    "start_time": "2022-04-06T00:21:24.148Z"
   },
   {
    "duration": 280,
    "start_time": "2022-04-06T00:21:24.342Z"
   },
   {
    "duration": 12,
    "start_time": "2022-04-06T00:21:24.623Z"
   },
   {
    "duration": 185,
    "start_time": "2022-04-06T00:21:24.637Z"
   },
   {
    "duration": 406,
    "start_time": "2022-04-06T00:21:24.823Z"
   },
   {
    "duration": 14,
    "start_time": "2022-04-06T00:21:25.232Z"
   },
   {
    "duration": 137,
    "start_time": "2022-04-06T00:21:25.247Z"
   },
   {
    "duration": 5,
    "start_time": "2022-04-06T00:21:25.386Z"
   },
   {
    "duration": 4,
    "start_time": "2022-04-06T00:21:25.392Z"
   },
   {
    "duration": 16,
    "start_time": "2022-04-06T00:21:25.398Z"
   },
   {
    "duration": 297,
    "start_time": "2022-04-06T00:21:25.416Z"
   },
   {
    "duration": 5,
    "start_time": "2022-04-06T00:21:25.715Z"
   },
   {
    "duration": 2,
    "start_time": "2022-04-06T00:21:25.733Z"
   },
   {
    "duration": 15,
    "start_time": "2022-04-06T00:21:25.737Z"
   },
   {
    "duration": 14,
    "start_time": "2022-04-06T00:21:25.753Z"
   },
   {
    "duration": 11,
    "start_time": "2022-04-06T00:21:25.768Z"
   },
   {
    "duration": 6,
    "start_time": "2022-04-06T00:21:25.781Z"
   },
   {
    "duration": 8,
    "start_time": "2022-04-06T00:21:25.788Z"
   },
   {
    "duration": 39,
    "start_time": "2022-04-06T00:21:25.798Z"
   },
   {
    "duration": 6,
    "start_time": "2022-04-06T00:21:25.839Z"
   },
   {
    "duration": 274,
    "start_time": "2022-04-06T00:21:25.847Z"
   },
   {
    "duration": 10,
    "start_time": "2022-04-06T00:21:26.122Z"
   },
   {
    "duration": 9,
    "start_time": "2022-04-06T00:21:26.134Z"
   },
   {
    "duration": 9,
    "start_time": "2022-04-06T00:21:26.144Z"
   },
   {
    "duration": 7,
    "start_time": "2022-04-06T00:21:26.154Z"
   },
   {
    "duration": 295,
    "start_time": "2022-04-06T00:21:26.163Z"
   },
   {
    "duration": 326,
    "start_time": "2022-04-06T00:21:26.460Z"
   },
   {
    "duration": 5,
    "start_time": "2022-04-06T00:21:26.788Z"
   },
   {
    "duration": 458,
    "start_time": "2022-04-06T00:21:26.795Z"
   },
   {
    "duration": 297,
    "start_time": "2022-04-06T00:21:27.255Z"
   },
   {
    "duration": 6,
    "start_time": "2022-04-06T00:21:27.554Z"
   },
   {
    "duration": 355,
    "start_time": "2022-04-06T00:21:27.562Z"
   },
   {
    "duration": 425,
    "start_time": "2022-04-06T00:21:27.920Z"
   },
   {
    "duration": 17,
    "start_time": "2022-04-06T00:21:28.348Z"
   },
   {
    "duration": 6,
    "start_time": "2022-04-06T00:21:28.367Z"
   },
   {
    "duration": 8,
    "start_time": "2022-04-06T00:21:28.375Z"
   },
   {
    "duration": 10,
    "start_time": "2022-04-06T00:21:28.385Z"
   },
   {
    "duration": 38,
    "start_time": "2022-04-06T00:21:28.396Z"
   },
   {
    "duration": 13,
    "start_time": "2022-04-06T00:21:28.436Z"
   },
   {
    "duration": 1205,
    "start_time": "2022-04-06T08:31:38.541Z"
   },
   {
    "duration": 39,
    "start_time": "2022-04-06T08:31:39.749Z"
   },
   {
    "duration": 3,
    "start_time": "2022-04-06T08:31:39.789Z"
   },
   {
    "duration": 22,
    "start_time": "2022-04-06T08:31:39.794Z"
   },
   {
    "duration": 15,
    "start_time": "2022-04-06T08:31:39.817Z"
   },
   {
    "duration": 3,
    "start_time": "2022-04-06T08:31:39.834Z"
   },
   {
    "duration": 13,
    "start_time": "2022-04-06T08:31:39.838Z"
   },
   {
    "duration": 10,
    "start_time": "2022-04-06T08:31:39.853Z"
   },
   {
    "duration": 143,
    "start_time": "2022-04-06T08:31:39.864Z"
   },
   {
    "duration": 21,
    "start_time": "2022-04-06T08:31:40.009Z"
   },
   {
    "duration": 277,
    "start_time": "2022-04-06T08:31:40.032Z"
   },
   {
    "duration": 4,
    "start_time": "2022-04-06T08:31:40.311Z"
   },
   {
    "duration": 21,
    "start_time": "2022-04-06T08:31:40.317Z"
   },
   {
    "duration": 15,
    "start_time": "2022-04-06T08:31:40.340Z"
   },
   {
    "duration": 4,
    "start_time": "2022-04-06T08:31:40.357Z"
   },
   {
    "duration": 10,
    "start_time": "2022-04-06T08:31:40.363Z"
   },
   {
    "duration": 148,
    "start_time": "2022-04-06T08:31:40.374Z"
   },
   {
    "duration": 8,
    "start_time": "2022-04-06T08:31:40.529Z"
   },
   {
    "duration": 8,
    "start_time": "2022-04-06T08:31:40.539Z"
   },
   {
    "duration": 7,
    "start_time": "2022-04-06T08:31:40.549Z"
   },
   {
    "duration": 48,
    "start_time": "2022-04-06T08:31:40.557Z"
   },
   {
    "duration": 23,
    "start_time": "2022-04-06T08:31:40.607Z"
   },
   {
    "duration": 26,
    "start_time": "2022-04-06T08:31:40.632Z"
   },
   {
    "duration": 363,
    "start_time": "2022-04-06T08:31:40.659Z"
   },
   {
    "duration": 231,
    "start_time": "2022-04-06T08:31:41.024Z"
   },
   {
    "duration": 4,
    "start_time": "2022-04-06T08:31:41.256Z"
   },
   {
    "duration": 176,
    "start_time": "2022-04-06T08:31:41.262Z"
   },
   {
    "duration": 313,
    "start_time": "2022-04-06T08:31:41.442Z"
   },
   {
    "duration": 5,
    "start_time": "2022-04-06T08:31:41.756Z"
   },
   {
    "duration": 169,
    "start_time": "2022-04-06T08:31:41.762Z"
   },
   {
    "duration": 331,
    "start_time": "2022-04-06T08:31:41.933Z"
   },
   {
    "duration": 12,
    "start_time": "2022-04-06T08:31:42.266Z"
   },
   {
    "duration": 130,
    "start_time": "2022-04-06T08:31:42.279Z"
   },
   {
    "duration": 5,
    "start_time": "2022-04-06T08:31:42.411Z"
   },
   {
    "duration": 19,
    "start_time": "2022-04-06T08:31:42.417Z"
   },
   {
    "duration": 16,
    "start_time": "2022-04-06T08:31:42.437Z"
   },
   {
    "duration": 239,
    "start_time": "2022-04-06T08:31:42.454Z"
   },
   {
    "duration": 4,
    "start_time": "2022-04-06T08:31:42.695Z"
   },
   {
    "duration": 4,
    "start_time": "2022-04-06T08:31:42.700Z"
   },
   {
    "duration": 25,
    "start_time": "2022-04-06T08:31:42.706Z"
   },
   {
    "duration": 12,
    "start_time": "2022-04-06T08:31:42.733Z"
   },
   {
    "duration": 9,
    "start_time": "2022-04-06T08:31:42.747Z"
   },
   {
    "duration": 6,
    "start_time": "2022-04-06T08:31:42.757Z"
   },
   {
    "duration": 8,
    "start_time": "2022-04-06T08:31:42.764Z"
   },
   {
    "duration": 7,
    "start_time": "2022-04-06T08:31:42.774Z"
   },
   {
    "duration": 9,
    "start_time": "2022-04-06T08:31:42.782Z"
   },
   {
    "duration": 263,
    "start_time": "2022-04-06T08:31:42.792Z"
   },
   {
    "duration": 5,
    "start_time": "2022-04-06T08:31:43.057Z"
   },
   {
    "duration": 18,
    "start_time": "2022-04-06T08:31:43.064Z"
   },
   {
    "duration": 8,
    "start_time": "2022-04-06T08:31:43.084Z"
   },
   {
    "duration": 6,
    "start_time": "2022-04-06T08:31:43.093Z"
   },
   {
    "duration": 279,
    "start_time": "2022-04-06T08:31:43.101Z"
   },
   {
    "duration": 303,
    "start_time": "2022-04-06T08:31:43.382Z"
   },
   {
    "duration": 4,
    "start_time": "2022-04-06T08:31:43.687Z"
   },
   {
    "duration": 460,
    "start_time": "2022-04-06T08:31:43.693Z"
   },
   {
    "duration": 293,
    "start_time": "2022-04-06T08:31:44.155Z"
   },
   {
    "duration": 5,
    "start_time": "2022-04-06T08:31:44.450Z"
   },
   {
    "duration": 345,
    "start_time": "2022-04-06T08:31:44.457Z"
   },
   {
    "duration": 359,
    "start_time": "2022-04-06T08:31:44.804Z"
   },
   {
    "duration": 17,
    "start_time": "2022-04-06T08:31:45.165Z"
   },
   {
    "duration": 5,
    "start_time": "2022-04-06T08:31:45.184Z"
   },
   {
    "duration": 7,
    "start_time": "2022-04-06T08:31:45.191Z"
   },
   {
    "duration": 7,
    "start_time": "2022-04-06T08:31:45.200Z"
   },
   {
    "duration": 6,
    "start_time": "2022-04-06T08:31:45.230Z"
   },
   {
    "duration": 8,
    "start_time": "2022-04-06T08:31:45.238Z"
   },
   {
    "duration": 9,
    "start_time": "2022-04-06T09:59:54.529Z"
   },
   {
    "duration": 452,
    "start_time": "2022-04-06T09:59:57.267Z"
   },
   {
    "duration": 534,
    "start_time": "2022-04-06T10:03:00.359Z"
   },
   {
    "duration": 1041,
    "start_time": "2022-04-06T10:59:52.406Z"
   },
   {
    "duration": 33,
    "start_time": "2022-04-06T10:59:53.449Z"
   },
   {
    "duration": 3,
    "start_time": "2022-04-06T10:59:53.484Z"
   },
   {
    "duration": 23,
    "start_time": "2022-04-06T10:59:53.489Z"
   },
   {
    "duration": 16,
    "start_time": "2022-04-06T10:59:53.513Z"
   },
   {
    "duration": 3,
    "start_time": "2022-04-06T10:59:53.530Z"
   },
   {
    "duration": 13,
    "start_time": "2022-04-06T10:59:53.534Z"
   },
   {
    "duration": 5,
    "start_time": "2022-04-06T10:59:53.548Z"
   },
   {
    "duration": 148,
    "start_time": "2022-04-06T10:59:53.555Z"
   },
   {
    "duration": 12,
    "start_time": "2022-04-06T10:59:53.706Z"
   },
   {
    "duration": 286,
    "start_time": "2022-04-06T10:59:53.720Z"
   },
   {
    "duration": 4,
    "start_time": "2022-04-06T10:59:54.007Z"
   },
   {
    "duration": 18,
    "start_time": "2022-04-06T10:59:54.012Z"
   },
   {
    "duration": 14,
    "start_time": "2022-04-06T10:59:54.031Z"
   },
   {
    "duration": 3,
    "start_time": "2022-04-06T10:59:54.046Z"
   },
   {
    "duration": 7,
    "start_time": "2022-04-06T10:59:54.051Z"
   },
   {
    "duration": 152,
    "start_time": "2022-04-06T10:59:54.059Z"
   },
   {
    "duration": 8,
    "start_time": "2022-04-06T10:59:54.213Z"
   },
   {
    "duration": 6,
    "start_time": "2022-04-06T10:59:54.230Z"
   },
   {
    "duration": 6,
    "start_time": "2022-04-06T10:59:54.238Z"
   },
   {
    "duration": 47,
    "start_time": "2022-04-06T10:59:54.245Z"
   },
   {
    "duration": 4,
    "start_time": "2022-04-06T10:59:54.294Z"
   },
   {
    "duration": 46,
    "start_time": "2022-04-06T10:59:54.299Z"
   },
   {
    "duration": 270,
    "start_time": "2022-04-06T10:59:54.347Z"
   },
   {
    "duration": 232,
    "start_time": "2022-04-06T10:59:54.619Z"
   },
   {
    "duration": 5,
    "start_time": "2022-04-06T10:59:54.852Z"
   },
   {
    "duration": 164,
    "start_time": "2022-04-06T10:59:54.858Z"
   },
   {
    "duration": 282,
    "start_time": "2022-04-06T10:59:55.030Z"
   },
   {
    "duration": 5,
    "start_time": "2022-04-06T10:59:55.313Z"
   },
   {
    "duration": 175,
    "start_time": "2022-04-06T10:59:55.319Z"
   },
   {
    "duration": 336,
    "start_time": "2022-04-06T10:59:55.496Z"
   },
   {
    "duration": 14,
    "start_time": "2022-04-06T10:59:55.834Z"
   },
   {
    "duration": 125,
    "start_time": "2022-04-06T10:59:55.849Z"
   },
   {
    "duration": 5,
    "start_time": "2022-04-06T10:59:55.975Z"
   },
   {
    "duration": 6,
    "start_time": "2022-04-06T10:59:55.981Z"
   },
   {
    "duration": 17,
    "start_time": "2022-04-06T10:59:55.989Z"
   },
   {
    "duration": 273,
    "start_time": "2022-04-06T10:59:56.008Z"
   },
   {
    "duration": 4,
    "start_time": "2022-04-06T10:59:56.283Z"
   },
   {
    "duration": 6,
    "start_time": "2022-04-06T10:59:56.289Z"
   },
   {
    "duration": 16,
    "start_time": "2022-04-06T10:59:56.296Z"
   },
   {
    "duration": 28,
    "start_time": "2022-04-06T10:59:56.314Z"
   },
   {
    "duration": 14,
    "start_time": "2022-04-06T10:59:56.343Z"
   },
   {
    "duration": 9,
    "start_time": "2022-04-06T10:59:56.359Z"
   },
   {
    "duration": 11,
    "start_time": "2022-04-06T10:59:56.369Z"
   },
   {
    "duration": 8,
    "start_time": "2022-04-06T10:59:56.381Z"
   },
   {
    "duration": 8,
    "start_time": "2022-04-06T10:59:56.391Z"
   },
   {
    "duration": 320,
    "start_time": "2022-04-06T10:59:56.401Z"
   },
   {
    "duration": 9,
    "start_time": "2022-04-06T10:59:56.723Z"
   },
   {
    "duration": 16,
    "start_time": "2022-04-06T10:59:56.734Z"
   },
   {
    "duration": 11,
    "start_time": "2022-04-06T10:59:56.751Z"
   },
   {
    "duration": 11,
    "start_time": "2022-04-06T10:59:56.763Z"
   },
   {
    "duration": 271,
    "start_time": "2022-04-06T10:59:56.775Z"
   },
   {
    "duration": 306,
    "start_time": "2022-04-06T10:59:57.048Z"
   },
   {
    "duration": 4,
    "start_time": "2022-04-06T10:59:57.356Z"
   },
   {
    "duration": 414,
    "start_time": "2022-04-06T10:59:57.362Z"
   },
   {
    "duration": 293,
    "start_time": "2022-04-06T10:59:57.777Z"
   },
   {
    "duration": 5,
    "start_time": "2022-04-06T10:59:58.071Z"
   },
   {
    "duration": 336,
    "start_time": "2022-04-06T10:59:58.078Z"
   },
   {
    "duration": 387,
    "start_time": "2022-04-06T10:59:58.415Z"
   },
   {
    "duration": 14,
    "start_time": "2022-04-06T10:59:58.804Z"
   },
   {
    "duration": 13,
    "start_time": "2022-04-06T10:59:58.820Z"
   },
   {
    "duration": 8,
    "start_time": "2022-04-06T10:59:58.835Z"
   },
   {
    "duration": 8,
    "start_time": "2022-04-06T10:59:58.844Z"
   },
   {
    "duration": 12,
    "start_time": "2022-04-06T10:59:58.853Z"
   },
   {
    "duration": 12,
    "start_time": "2022-04-06T10:59:58.866Z"
   },
   {
    "duration": 1075,
    "start_time": "2022-04-07T05:43:53.650Z"
   },
   {
    "duration": 65,
    "start_time": "2022-04-07T05:43:54.727Z"
   },
   {
    "duration": 3,
    "start_time": "2022-04-07T05:43:54.794Z"
   },
   {
    "duration": 26,
    "start_time": "2022-04-07T05:43:54.799Z"
   },
   {
    "duration": 18,
    "start_time": "2022-04-07T05:43:54.826Z"
   },
   {
    "duration": 4,
    "start_time": "2022-04-07T05:43:54.845Z"
   },
   {
    "duration": 15,
    "start_time": "2022-04-07T05:43:54.850Z"
   },
   {
    "duration": 7,
    "start_time": "2022-04-07T05:43:54.866Z"
   },
   {
    "duration": 171,
    "start_time": "2022-04-07T05:43:54.874Z"
   },
   {
    "duration": 14,
    "start_time": "2022-04-07T05:43:55.047Z"
   },
   {
    "duration": 303,
    "start_time": "2022-04-07T05:43:55.062Z"
   },
   {
    "duration": 5,
    "start_time": "2022-04-07T05:43:55.367Z"
   },
   {
    "duration": 13,
    "start_time": "2022-04-07T05:43:55.373Z"
   },
   {
    "duration": 30,
    "start_time": "2022-04-07T05:43:55.387Z"
   },
   {
    "duration": 5,
    "start_time": "2022-04-07T05:43:55.419Z"
   },
   {
    "duration": 7,
    "start_time": "2022-04-07T05:43:55.426Z"
   },
   {
    "duration": 177,
    "start_time": "2022-04-07T05:43:55.435Z"
   },
   {
    "duration": 10,
    "start_time": "2022-04-07T05:43:55.614Z"
   },
   {
    "duration": 9,
    "start_time": "2022-04-07T05:43:55.626Z"
   },
   {
    "duration": 9,
    "start_time": "2022-04-07T05:43:55.637Z"
   },
   {
    "duration": 73,
    "start_time": "2022-04-07T05:43:55.647Z"
   },
   {
    "duration": 5,
    "start_time": "2022-04-07T05:43:55.722Z"
   },
   {
    "duration": 21,
    "start_time": "2022-04-07T05:43:55.729Z"
   },
   {
    "duration": 295,
    "start_time": "2022-04-07T05:43:55.752Z"
   },
   {
    "duration": 248,
    "start_time": "2022-04-07T05:43:56.049Z"
   },
   {
    "duration": 4,
    "start_time": "2022-04-07T05:43:56.299Z"
   },
   {
    "duration": 182,
    "start_time": "2022-04-07T05:43:56.305Z"
   },
   {
    "duration": 295,
    "start_time": "2022-04-07T05:43:56.493Z"
   },
   {
    "duration": 14,
    "start_time": "2022-04-07T05:43:56.790Z"
   },
   {
    "duration": 192,
    "start_time": "2022-04-07T05:43:56.806Z"
   },
   {
    "duration": 354,
    "start_time": "2022-04-07T05:43:56.999Z"
   },
   {
    "duration": 14,
    "start_time": "2022-04-07T05:43:57.354Z"
   },
   {
    "duration": 139,
    "start_time": "2022-04-07T05:43:57.369Z"
   },
   {
    "duration": 5,
    "start_time": "2022-04-07T05:43:57.509Z"
   },
   {
    "duration": 4,
    "start_time": "2022-04-07T05:43:57.516Z"
   },
   {
    "duration": 12,
    "start_time": "2022-04-07T05:43:57.521Z"
   },
   {
    "duration": 244,
    "start_time": "2022-04-07T05:43:57.535Z"
   },
   {
    "duration": 5,
    "start_time": "2022-04-07T05:43:57.781Z"
   },
   {
    "duration": 2,
    "start_time": "2022-04-07T05:43:57.801Z"
   },
   {
    "duration": 14,
    "start_time": "2022-04-07T05:43:57.805Z"
   },
   {
    "duration": 15,
    "start_time": "2022-04-07T05:43:57.821Z"
   },
   {
    "duration": 10,
    "start_time": "2022-04-07T05:43:57.837Z"
   },
   {
    "duration": 7,
    "start_time": "2022-04-07T05:43:57.849Z"
   },
   {
    "duration": 13,
    "start_time": "2022-04-07T05:43:57.857Z"
   },
   {
    "duration": 33,
    "start_time": "2022-04-07T05:43:57.871Z"
   },
   {
    "duration": 7,
    "start_time": "2022-04-07T05:43:57.906Z"
   },
   {
    "duration": 278,
    "start_time": "2022-04-07T05:43:57.914Z"
   },
   {
    "duration": 10,
    "start_time": "2022-04-07T05:43:58.194Z"
   },
   {
    "duration": 10,
    "start_time": "2022-04-07T05:43:58.206Z"
   },
   {
    "duration": 10,
    "start_time": "2022-04-07T05:43:58.218Z"
   },
   {
    "duration": 6,
    "start_time": "2022-04-07T05:43:58.230Z"
   },
   {
    "duration": 301,
    "start_time": "2022-04-07T05:43:58.237Z"
   },
   {
    "duration": 331,
    "start_time": "2022-04-07T05:43:58.540Z"
   },
   {
    "duration": 5,
    "start_time": "2022-04-07T05:43:58.873Z"
   },
   {
    "duration": 467,
    "start_time": "2022-04-07T05:43:58.879Z"
   },
   {
    "duration": 302,
    "start_time": "2022-04-07T05:43:59.348Z"
   },
   {
    "duration": 5,
    "start_time": "2022-04-07T05:43:59.652Z"
   },
   {
    "duration": 430,
    "start_time": "2022-04-07T05:43:59.658Z"
   },
   {
    "duration": 421,
    "start_time": "2022-04-07T05:44:00.090Z"
   },
   {
    "duration": 19,
    "start_time": "2022-04-07T05:44:00.513Z"
   },
   {
    "duration": 7,
    "start_time": "2022-04-07T05:44:00.534Z"
   },
   {
    "duration": 12,
    "start_time": "2022-04-07T05:44:00.543Z"
   },
   {
    "duration": 9,
    "start_time": "2022-04-07T05:44:00.557Z"
   },
   {
    "duration": 36,
    "start_time": "2022-04-07T05:44:00.568Z"
   },
   {
    "duration": 10,
    "start_time": "2022-04-07T05:44:00.606Z"
   },
   {
    "duration": 1369,
    "start_time": "2022-04-08T11:23:10.596Z"
   },
   {
    "duration": 68,
    "start_time": "2022-04-08T11:23:11.967Z"
   },
   {
    "duration": 3,
    "start_time": "2022-04-08T11:23:12.037Z"
   },
   {
    "duration": 33,
    "start_time": "2022-04-08T11:23:12.042Z"
   },
   {
    "duration": 18,
    "start_time": "2022-04-08T11:23:12.077Z"
   },
   {
    "duration": 9,
    "start_time": "2022-04-08T11:23:12.097Z"
   },
   {
    "duration": 24,
    "start_time": "2022-04-08T11:23:12.108Z"
   },
   {
    "duration": 20,
    "start_time": "2022-04-08T11:23:12.134Z"
   },
   {
    "duration": 166,
    "start_time": "2022-04-08T11:23:12.155Z"
   },
   {
    "duration": 15,
    "start_time": "2022-04-08T11:23:12.324Z"
   },
   {
    "duration": 325,
    "start_time": "2022-04-08T11:23:12.340Z"
   },
   {
    "duration": 5,
    "start_time": "2022-04-08T11:23:12.666Z"
   },
   {
    "duration": 28,
    "start_time": "2022-04-08T11:23:12.673Z"
   },
   {
    "duration": 16,
    "start_time": "2022-04-08T11:23:12.703Z"
   },
   {
    "duration": 5,
    "start_time": "2022-04-08T11:23:12.721Z"
   },
   {
    "duration": 8,
    "start_time": "2022-04-08T11:23:12.727Z"
   },
   {
    "duration": 182,
    "start_time": "2022-04-08T11:23:12.736Z"
   },
   {
    "duration": 10,
    "start_time": "2022-04-08T11:23:12.919Z"
   },
   {
    "duration": 13,
    "start_time": "2022-04-08T11:23:12.931Z"
   },
   {
    "duration": 10,
    "start_time": "2022-04-08T11:23:12.945Z"
   },
   {
    "duration": 75,
    "start_time": "2022-04-08T11:23:12.957Z"
   },
   {
    "duration": 4,
    "start_time": "2022-04-08T11:23:13.034Z"
   },
   {
    "duration": 24,
    "start_time": "2022-04-08T11:23:13.040Z"
   },
   {
    "duration": 309,
    "start_time": "2022-04-08T11:23:13.066Z"
   },
   {
    "duration": 371,
    "start_time": "2022-04-08T11:23:13.377Z"
   },
   {
    "duration": 6,
    "start_time": "2022-04-08T11:23:13.750Z"
   },
   {
    "duration": 305,
    "start_time": "2022-04-08T11:23:13.758Z"
   },
   {
    "duration": 365,
    "start_time": "2022-04-08T11:23:14.067Z"
   },
   {
    "duration": 5,
    "start_time": "2022-04-08T11:23:14.433Z"
   },
   {
    "duration": 201,
    "start_time": "2022-04-08T11:23:14.440Z"
   },
   {
    "duration": 366,
    "start_time": "2022-04-08T11:23:14.643Z"
   },
   {
    "duration": 15,
    "start_time": "2022-04-08T11:23:15.011Z"
   },
   {
    "duration": 141,
    "start_time": "2022-04-08T11:23:15.027Z"
   },
   {
    "duration": 5,
    "start_time": "2022-04-08T11:23:15.170Z"
   },
   {
    "duration": 4,
    "start_time": "2022-04-08T11:23:15.176Z"
   },
   {
    "duration": 21,
    "start_time": "2022-04-08T11:23:15.182Z"
   },
   {
    "duration": 260,
    "start_time": "2022-04-08T11:23:15.204Z"
   },
   {
    "duration": 5,
    "start_time": "2022-04-08T11:23:15.466Z"
   },
   {
    "duration": 3,
    "start_time": "2022-04-08T11:23:15.473Z"
   },
   {
    "duration": 32,
    "start_time": "2022-04-08T11:23:15.478Z"
   },
   {
    "duration": 14,
    "start_time": "2022-04-08T11:23:15.512Z"
   },
   {
    "duration": 10,
    "start_time": "2022-04-08T11:23:15.528Z"
   },
   {
    "duration": 7,
    "start_time": "2022-04-08T11:23:15.539Z"
   },
   {
    "duration": 11,
    "start_time": "2022-04-08T11:23:15.547Z"
   },
   {
    "duration": 12,
    "start_time": "2022-04-08T11:23:15.559Z"
   },
   {
    "duration": 28,
    "start_time": "2022-04-08T11:23:15.573Z"
   },
   {
    "duration": 288,
    "start_time": "2022-04-08T11:23:15.604Z"
   },
   {
    "duration": 10,
    "start_time": "2022-04-08T11:23:15.893Z"
   },
   {
    "duration": 15,
    "start_time": "2022-04-08T11:23:15.905Z"
   },
   {
    "duration": 8,
    "start_time": "2022-04-08T11:23:15.922Z"
   },
   {
    "duration": 15,
    "start_time": "2022-04-08T11:23:15.932Z"
   },
   {
    "duration": 296,
    "start_time": "2022-04-08T11:23:15.949Z"
   },
   {
    "duration": 364,
    "start_time": "2022-04-08T11:23:16.247Z"
   },
   {
    "duration": 5,
    "start_time": "2022-04-08T11:23:16.612Z"
   },
   {
    "duration": 444,
    "start_time": "2022-04-08T11:23:16.619Z"
   },
   {
    "duration": 349,
    "start_time": "2022-04-08T11:23:17.065Z"
   },
   {
    "duration": 5,
    "start_time": "2022-04-08T11:23:17.416Z"
   },
   {
    "duration": 371,
    "start_time": "2022-04-08T11:23:17.423Z"
   },
   {
    "duration": 421,
    "start_time": "2022-04-08T11:23:17.796Z"
   },
   {
    "duration": 17,
    "start_time": "2022-04-08T11:23:18.219Z"
   },
   {
    "duration": 7,
    "start_time": "2022-04-08T11:23:18.238Z"
   },
   {
    "duration": 8,
    "start_time": "2022-04-08T11:23:18.247Z"
   },
   {
    "duration": 7,
    "start_time": "2022-04-08T11:23:18.256Z"
   },
   {
    "duration": 7,
    "start_time": "2022-04-08T11:23:18.265Z"
   },
   {
    "duration": 8,
    "start_time": "2022-04-08T11:23:18.301Z"
   },
   {
    "duration": 181,
    "start_time": "2022-04-08T11:24:34.007Z"
   },
   {
    "duration": 98,
    "start_time": "2022-04-08T11:24:56.387Z"
   },
   {
    "duration": 138,
    "start_time": "2022-04-08T11:30:44.271Z"
   },
   {
    "duration": 105,
    "start_time": "2022-04-08T11:30:58.375Z"
   },
   {
    "duration": 1183,
    "start_time": "2022-04-08T13:46:55.470Z"
   },
   {
    "duration": 38,
    "start_time": "2022-04-08T13:46:56.655Z"
   },
   {
    "duration": 3,
    "start_time": "2022-04-08T13:46:56.694Z"
   },
   {
    "duration": 22,
    "start_time": "2022-04-08T13:46:56.699Z"
   },
   {
    "duration": 15,
    "start_time": "2022-04-08T13:46:56.722Z"
   },
   {
    "duration": 3,
    "start_time": "2022-04-08T13:46:56.739Z"
   },
   {
    "duration": 13,
    "start_time": "2022-04-08T13:46:56.743Z"
   },
   {
    "duration": 7,
    "start_time": "2022-04-08T13:46:56.757Z"
   },
   {
    "duration": 186,
    "start_time": "2022-04-08T13:46:56.765Z"
   },
   {
    "duration": 13,
    "start_time": "2022-04-08T13:46:56.954Z"
   },
   {
    "duration": 303,
    "start_time": "2022-04-08T13:46:56.968Z"
   },
   {
    "duration": 4,
    "start_time": "2022-04-08T13:46:57.273Z"
   },
   {
    "duration": 26,
    "start_time": "2022-04-08T13:46:57.278Z"
   },
   {
    "duration": 27,
    "start_time": "2022-04-08T13:46:57.306Z"
   },
   {
    "duration": 4,
    "start_time": "2022-04-08T13:46:57.335Z"
   },
   {
    "duration": 9,
    "start_time": "2022-04-08T13:46:57.340Z"
   },
   {
    "duration": 169,
    "start_time": "2022-04-08T13:46:57.350Z"
   },
   {
    "duration": 8,
    "start_time": "2022-04-08T13:46:57.520Z"
   },
   {
    "duration": 9,
    "start_time": "2022-04-08T13:46:57.529Z"
   },
   {
    "duration": 6,
    "start_time": "2022-04-08T13:46:57.540Z"
   },
   {
    "duration": 70,
    "start_time": "2022-04-08T13:46:57.547Z"
   },
   {
    "duration": 4,
    "start_time": "2022-04-08T13:46:57.619Z"
   },
   {
    "duration": 22,
    "start_time": "2022-04-08T13:46:57.624Z"
   },
   {
    "duration": 134,
    "start_time": "2022-04-08T13:46:57.647Z"
   },
   {
    "duration": 277,
    "start_time": "2022-04-08T13:46:57.783Z"
   },
   {
    "duration": 268,
    "start_time": "2022-04-08T13:46:58.062Z"
   },
   {
    "duration": 4,
    "start_time": "2022-04-08T13:46:58.332Z"
   },
   {
    "duration": 204,
    "start_time": "2022-04-08T13:46:58.340Z"
   },
   {
    "duration": 319,
    "start_time": "2022-04-08T13:46:58.546Z"
   },
   {
    "duration": 5,
    "start_time": "2022-04-08T13:46:58.866Z"
   },
   {
    "duration": 266,
    "start_time": "2022-04-08T13:46:58.872Z"
   },
   {
    "duration": 278,
    "start_time": "2022-04-08T13:46:59.140Z"
   },
   {
    "duration": 13,
    "start_time": "2022-04-08T13:46:59.420Z"
   },
   {
    "duration": 141,
    "start_time": "2022-04-08T13:46:59.434Z"
   },
   {
    "duration": 5,
    "start_time": "2022-04-08T13:46:59.577Z"
   },
   {
    "duration": 4,
    "start_time": "2022-04-08T13:46:59.583Z"
   },
   {
    "duration": 21,
    "start_time": "2022-04-08T13:46:59.589Z"
   },
   {
    "duration": 263,
    "start_time": "2022-04-08T13:46:59.611Z"
   },
   {
    "duration": 6,
    "start_time": "2022-04-08T13:46:59.875Z"
   },
   {
    "duration": 4,
    "start_time": "2022-04-08T13:46:59.882Z"
   },
   {
    "duration": 32,
    "start_time": "2022-04-08T13:46:59.887Z"
   },
   {
    "duration": 13,
    "start_time": "2022-04-08T13:46:59.920Z"
   },
   {
    "duration": 11,
    "start_time": "2022-04-08T13:46:59.934Z"
   },
   {
    "duration": 7,
    "start_time": "2022-04-08T13:46:59.947Z"
   },
   {
    "duration": 11,
    "start_time": "2022-04-08T13:46:59.955Z"
   },
   {
    "duration": 8,
    "start_time": "2022-04-08T13:46:59.967Z"
   },
   {
    "duration": 5,
    "start_time": "2022-04-08T13:46:59.977Z"
   },
   {
    "duration": 284,
    "start_time": "2022-04-08T13:47:00.008Z"
   },
   {
    "duration": 5,
    "start_time": "2022-04-08T13:47:00.294Z"
   },
   {
    "duration": 23,
    "start_time": "2022-04-08T13:47:00.308Z"
   },
   {
    "duration": 16,
    "start_time": "2022-04-08T13:47:00.333Z"
   },
   {
    "duration": 26,
    "start_time": "2022-04-08T13:47:00.350Z"
   },
   {
    "duration": 281,
    "start_time": "2022-04-08T13:47:00.377Z"
   },
   {
    "duration": 352,
    "start_time": "2022-04-08T13:47:00.660Z"
   },
   {
    "duration": 5,
    "start_time": "2022-04-08T13:47:01.013Z"
   },
   {
    "duration": 458,
    "start_time": "2022-04-08T13:47:01.020Z"
   },
   {
    "duration": 355,
    "start_time": "2022-04-08T13:47:01.480Z"
   },
   {
    "duration": 5,
    "start_time": "2022-04-08T13:47:01.837Z"
   },
   {
    "duration": 393,
    "start_time": "2022-04-08T13:47:01.844Z"
   },
   {
    "duration": 397,
    "start_time": "2022-04-08T13:47:02.239Z"
   },
   {
    "duration": 18,
    "start_time": "2022-04-08T13:47:02.638Z"
   },
   {
    "duration": 11,
    "start_time": "2022-04-08T13:47:02.658Z"
   },
   {
    "duration": 10,
    "start_time": "2022-04-08T13:47:02.671Z"
   },
   {
    "duration": 30,
    "start_time": "2022-04-08T13:47:02.682Z"
   },
   {
    "duration": 21,
    "start_time": "2022-04-08T13:47:02.714Z"
   },
   {
    "duration": 21,
    "start_time": "2022-04-08T13:47:02.737Z"
   },
   {
    "duration": 104,
    "start_time": "2022-04-08T13:48:03.076Z"
   },
   {
    "duration": 133,
    "start_time": "2022-04-08T13:48:13.708Z"
   },
   {
    "duration": 130,
    "start_time": "2022-04-08T14:00:45.589Z"
   },
   {
    "duration": 139,
    "start_time": "2022-04-08T14:01:02.891Z"
   },
   {
    "duration": 132,
    "start_time": "2022-04-08T14:01:06.200Z"
   },
   {
    "duration": 152,
    "start_time": "2022-04-08T14:01:30.129Z"
   },
   {
    "duration": 155,
    "start_time": "2022-04-08T14:02:19.066Z"
   },
   {
    "duration": 150,
    "start_time": "2022-04-08T14:03:03.008Z"
   },
   {
    "duration": 212,
    "start_time": "2022-04-08T14:03:38.107Z"
   },
   {
    "duration": 121,
    "start_time": "2022-04-08T14:03:52.928Z"
   },
   {
    "duration": 142,
    "start_time": "2022-04-08T14:04:14.229Z"
   },
   {
    "duration": 153,
    "start_time": "2022-04-08T14:04:42.216Z"
   },
   {
    "duration": 235,
    "start_time": "2022-04-08T14:04:49.104Z"
   },
   {
    "duration": 161,
    "start_time": "2022-04-08T14:05:19.063Z"
   },
   {
    "duration": 157,
    "start_time": "2022-04-08T14:05:29.821Z"
   },
   {
    "duration": 161,
    "start_time": "2022-04-08T14:05:52.071Z"
   },
   {
    "duration": 165,
    "start_time": "2022-04-08T14:06:12.744Z"
   },
   {
    "duration": 161,
    "start_time": "2022-04-08T14:07:36.194Z"
   },
   {
    "duration": 163,
    "start_time": "2022-04-08T14:08:12.939Z"
   },
   {
    "duration": 157,
    "start_time": "2022-04-08T14:08:33.735Z"
   },
   {
    "duration": 160,
    "start_time": "2022-04-08T14:08:45.444Z"
   },
   {
    "duration": 155,
    "start_time": "2022-04-08T14:09:06.998Z"
   },
   {
    "duration": 158,
    "start_time": "2022-04-08T14:09:26.118Z"
   },
   {
    "duration": 165,
    "start_time": "2022-04-08T14:10:25.733Z"
   },
   {
    "duration": 195,
    "start_time": "2022-04-08T14:10:38.423Z"
   },
   {
    "duration": 277,
    "start_time": "2022-04-08T14:11:11.112Z"
   },
   {
    "duration": 140,
    "start_time": "2022-04-08T14:11:24.314Z"
   },
   {
    "duration": 169,
    "start_time": "2022-04-08T14:11:33.050Z"
   },
   {
    "duration": 178,
    "start_time": "2022-04-08T14:12:49.046Z"
   },
   {
    "duration": 91,
    "start_time": "2022-04-08T14:23:47.475Z"
   },
   {
    "duration": 181,
    "start_time": "2022-04-08T14:24:00.904Z"
   },
   {
    "duration": 209,
    "start_time": "2022-04-08T14:24:57.759Z"
   },
   {
    "duration": 178,
    "start_time": "2022-04-08T14:25:40.806Z"
   },
   {
    "duration": 170,
    "start_time": "2022-04-08T14:25:50.256Z"
   },
   {
    "duration": 3,
    "start_time": "2022-04-08T15:44:42.206Z"
   },
   {
    "duration": 37,
    "start_time": "2022-04-08T15:44:42.215Z"
   },
   {
    "duration": 4,
    "start_time": "2022-04-08T15:44:42.254Z"
   },
   {
    "duration": 20,
    "start_time": "2022-04-08T15:44:42.259Z"
   },
   {
    "duration": 16,
    "start_time": "2022-04-08T15:44:42.281Z"
   },
   {
    "duration": 3,
    "start_time": "2022-04-08T15:44:42.298Z"
   },
   {
    "duration": 16,
    "start_time": "2022-04-08T15:44:42.302Z"
   },
   {
    "duration": 7,
    "start_time": "2022-04-08T15:44:42.320Z"
   },
   {
    "duration": 180,
    "start_time": "2022-04-08T15:44:42.329Z"
   },
   {
    "duration": 13,
    "start_time": "2022-04-08T15:44:42.510Z"
   },
   {
    "duration": 332,
    "start_time": "2022-04-08T15:44:42.524Z"
   },
   {
    "duration": 4,
    "start_time": "2022-04-08T15:44:42.858Z"
   },
   {
    "duration": 25,
    "start_time": "2022-04-08T15:44:42.864Z"
   },
   {
    "duration": 30,
    "start_time": "2022-04-08T15:44:42.891Z"
   },
   {
    "duration": 4,
    "start_time": "2022-04-08T15:44:42.923Z"
   },
   {
    "duration": 13,
    "start_time": "2022-04-08T15:44:42.929Z"
   },
   {
    "duration": 190,
    "start_time": "2022-04-08T15:44:42.943Z"
   },
   {
    "duration": 10,
    "start_time": "2022-04-08T15:44:43.135Z"
   },
   {
    "duration": 10,
    "start_time": "2022-04-08T15:44:43.146Z"
   },
   {
    "duration": 6,
    "start_time": "2022-04-08T15:44:43.158Z"
   },
   {
    "duration": 18,
    "start_time": "2022-04-08T15:44:43.166Z"
   },
   {
    "duration": 26,
    "start_time": "2022-04-08T15:44:43.185Z"
   },
   {
    "duration": 22,
    "start_time": "2022-04-08T15:44:43.213Z"
   },
   {
    "duration": 200,
    "start_time": "2022-04-08T15:44:43.238Z"
   },
   {
    "duration": 0,
    "start_time": "2022-04-08T15:44:43.440Z"
   },
   {
    "duration": 0,
    "start_time": "2022-04-08T15:44:43.441Z"
   },
   {
    "duration": 0,
    "start_time": "2022-04-08T15:44:43.442Z"
   },
   {
    "duration": 0,
    "start_time": "2022-04-08T15:44:43.443Z"
   },
   {
    "duration": 0,
    "start_time": "2022-04-08T15:44:43.444Z"
   },
   {
    "duration": 0,
    "start_time": "2022-04-08T15:44:43.445Z"
   },
   {
    "duration": 0,
    "start_time": "2022-04-08T15:44:43.446Z"
   },
   {
    "duration": 0,
    "start_time": "2022-04-08T15:44:43.447Z"
   },
   {
    "duration": 0,
    "start_time": "2022-04-08T15:44:43.448Z"
   },
   {
    "duration": 0,
    "start_time": "2022-04-08T15:44:43.450Z"
   },
   {
    "duration": 0,
    "start_time": "2022-04-08T15:44:43.451Z"
   },
   {
    "duration": 0,
    "start_time": "2022-04-08T15:44:43.452Z"
   },
   {
    "duration": 0,
    "start_time": "2022-04-08T15:44:43.453Z"
   },
   {
    "duration": 0,
    "start_time": "2022-04-08T15:44:43.454Z"
   },
   {
    "duration": 0,
    "start_time": "2022-04-08T15:44:43.454Z"
   },
   {
    "duration": 0,
    "start_time": "2022-04-08T15:44:43.455Z"
   },
   {
    "duration": 0,
    "start_time": "2022-04-08T15:44:43.456Z"
   },
   {
    "duration": 0,
    "start_time": "2022-04-08T15:44:43.457Z"
   },
   {
    "duration": 0,
    "start_time": "2022-04-08T15:44:43.458Z"
   },
   {
    "duration": 0,
    "start_time": "2022-04-08T15:44:43.459Z"
   },
   {
    "duration": 0,
    "start_time": "2022-04-08T15:44:43.460Z"
   },
   {
    "duration": 0,
    "start_time": "2022-04-08T15:44:43.461Z"
   },
   {
    "duration": 0,
    "start_time": "2022-04-08T15:44:43.593Z"
   },
   {
    "duration": 0,
    "start_time": "2022-04-08T15:44:43.609Z"
   },
   {
    "duration": 0,
    "start_time": "2022-04-08T15:44:43.610Z"
   },
   {
    "duration": 0,
    "start_time": "2022-04-08T15:44:43.611Z"
   },
   {
    "duration": 0,
    "start_time": "2022-04-08T15:44:43.612Z"
   },
   {
    "duration": 0,
    "start_time": "2022-04-08T15:44:43.613Z"
   },
   {
    "duration": 0,
    "start_time": "2022-04-08T15:44:43.614Z"
   },
   {
    "duration": 0,
    "start_time": "2022-04-08T15:44:43.615Z"
   },
   {
    "duration": 0,
    "start_time": "2022-04-08T15:44:43.616Z"
   },
   {
    "duration": 0,
    "start_time": "2022-04-08T15:44:43.616Z"
   },
   {
    "duration": 0,
    "start_time": "2022-04-08T15:44:43.617Z"
   },
   {
    "duration": 0,
    "start_time": "2022-04-08T15:44:43.618Z"
   },
   {
    "duration": 0,
    "start_time": "2022-04-08T15:44:43.619Z"
   },
   {
    "duration": 0,
    "start_time": "2022-04-08T15:44:43.620Z"
   },
   {
    "duration": 0,
    "start_time": "2022-04-08T15:44:43.621Z"
   },
   {
    "duration": 0,
    "start_time": "2022-04-08T15:44:43.622Z"
   },
   {
    "duration": 0,
    "start_time": "2022-04-08T15:44:43.623Z"
   },
   {
    "duration": 0,
    "start_time": "2022-04-08T15:44:43.623Z"
   },
   {
    "duration": 0,
    "start_time": "2022-04-08T15:44:43.625Z"
   },
   {
    "duration": 1,
    "start_time": "2022-04-08T15:44:43.625Z"
   },
   {
    "duration": 183,
    "start_time": "2022-04-08T15:46:08.924Z"
   },
   {
    "duration": 186,
    "start_time": "2022-04-08T15:46:27.213Z"
   },
   {
    "duration": 186,
    "start_time": "2022-04-08T15:52:10.588Z"
   },
   {
    "duration": 207,
    "start_time": "2022-04-08T15:52:22.111Z"
   },
   {
    "duration": 186,
    "start_time": "2022-04-08T15:52:30.884Z"
   },
   {
    "duration": 5,
    "start_time": "2022-04-08T15:53:47.398Z"
   },
   {
    "duration": 7,
    "start_time": "2022-04-08T15:55:12.050Z"
   },
   {
    "duration": 5,
    "start_time": "2022-04-08T15:55:27.572Z"
   },
   {
    "duration": 103,
    "start_time": "2022-04-08T15:56:42.844Z"
   },
   {
    "duration": 5,
    "start_time": "2022-04-08T15:56:47.001Z"
   },
   {
    "duration": 10,
    "start_time": "2022-04-08T15:56:55.143Z"
   },
   {
    "duration": 4,
    "start_time": "2022-04-08T15:57:00.671Z"
   },
   {
    "duration": 9,
    "start_time": "2022-04-08T15:57:14.701Z"
   },
   {
    "duration": 8,
    "start_time": "2022-04-08T15:57:58.144Z"
   },
   {
    "duration": 5,
    "start_time": "2022-04-08T15:58:57.737Z"
   },
   {
    "duration": 4,
    "start_time": "2022-04-08T15:59:09.754Z"
   },
   {
    "duration": 4,
    "start_time": "2022-04-08T15:59:21.110Z"
   },
   {
    "duration": 5,
    "start_time": "2022-04-08T15:59:44.966Z"
   },
   {
    "duration": 207,
    "start_time": "2022-04-08T16:01:19.870Z"
   },
   {
    "duration": 201,
    "start_time": "2022-04-08T16:02:08.155Z"
   },
   {
    "duration": 98,
    "start_time": "2022-04-08T16:04:26.348Z"
   },
   {
    "duration": 5,
    "start_time": "2022-04-08T16:04:54.192Z"
   },
   {
    "duration": 1492,
    "start_time": "2022-04-08T16:05:00.792Z"
   },
   {
    "duration": 16,
    "start_time": "2022-04-08T16:05:14.570Z"
   },
   {
    "duration": 6,
    "start_time": "2022-04-08T16:05:20.034Z"
   },
   {
    "duration": 200,
    "start_time": "2022-04-08T16:05:40.024Z"
   },
   {
    "duration": 196,
    "start_time": "2022-04-08T16:06:39.977Z"
   },
   {
    "duration": 206,
    "start_time": "2022-04-08T16:09:21.980Z"
   },
   {
    "duration": 198,
    "start_time": "2022-04-08T16:09:41.963Z"
   },
   {
    "duration": 223,
    "start_time": "2022-04-08T16:10:08.701Z"
   },
   {
    "duration": 311,
    "start_time": "2022-04-08T16:10:22.620Z"
   },
   {
    "duration": 331,
    "start_time": "2022-04-08T16:12:22.783Z"
   },
   {
    "duration": 209,
    "start_time": "2022-04-08T16:13:02.766Z"
   },
   {
    "duration": 220,
    "start_time": "2022-04-08T16:13:23.457Z"
   },
   {
    "duration": 206,
    "start_time": "2022-04-08T16:14:02.257Z"
   },
   {
    "duration": 212,
    "start_time": "2022-04-08T16:14:20.216Z"
   },
   {
    "duration": 196,
    "start_time": "2022-04-08T16:14:26.373Z"
   },
   {
    "duration": 201,
    "start_time": "2022-04-08T16:14:54.383Z"
   },
   {
    "duration": 205,
    "start_time": "2022-04-08T16:15:16.845Z"
   },
   {
    "duration": 203,
    "start_time": "2022-04-08T16:15:49.655Z"
   },
   {
    "duration": 211,
    "start_time": "2022-04-08T16:16:55.800Z"
   },
   {
    "duration": 208,
    "start_time": "2022-04-08T16:17:22.324Z"
   },
   {
    "duration": 296,
    "start_time": "2022-04-08T16:17:32.118Z"
   },
   {
    "duration": 207,
    "start_time": "2022-04-08T16:21:08.391Z"
   },
   {
    "duration": 217,
    "start_time": "2022-04-08T16:21:14.508Z"
   },
   {
    "duration": 210,
    "start_time": "2022-04-08T16:21:20.325Z"
   },
   {
    "duration": 217,
    "start_time": "2022-04-08T16:21:26.652Z"
   },
   {
    "duration": 214,
    "start_time": "2022-04-08T16:27:38.448Z"
   },
   {
    "duration": 217,
    "start_time": "2022-04-08T16:27:45.973Z"
   },
   {
    "duration": 220,
    "start_time": "2022-04-08T16:28:07.344Z"
   },
   {
    "duration": 208,
    "start_time": "2022-04-08T16:28:32.019Z"
   },
   {
    "duration": 209,
    "start_time": "2022-04-08T16:28:42.407Z"
   },
   {
    "duration": 211,
    "start_time": "2022-04-08T16:28:54.766Z"
   },
   {
    "duration": 222,
    "start_time": "2022-04-08T16:29:07.100Z"
   },
   {
    "duration": 318,
    "start_time": "2022-04-08T16:31:31.779Z"
   },
   {
    "duration": 213,
    "start_time": "2022-04-08T16:31:52.660Z"
   },
   {
    "duration": 1103,
    "start_time": "2022-04-08T16:37:51.094Z"
   },
   {
    "duration": 36,
    "start_time": "2022-04-08T16:37:52.199Z"
   },
   {
    "duration": 3,
    "start_time": "2022-04-08T16:37:52.237Z"
   },
   {
    "duration": 20,
    "start_time": "2022-04-08T16:37:52.242Z"
   },
   {
    "duration": 16,
    "start_time": "2022-04-08T16:37:52.263Z"
   },
   {
    "duration": 3,
    "start_time": "2022-04-08T16:37:52.281Z"
   },
   {
    "duration": 22,
    "start_time": "2022-04-08T16:37:52.286Z"
   },
   {
    "duration": 5,
    "start_time": "2022-04-08T16:37:52.310Z"
   },
   {
    "duration": 168,
    "start_time": "2022-04-08T16:37:52.317Z"
   },
   {
    "duration": 20,
    "start_time": "2022-04-08T16:37:52.488Z"
   },
   {
    "duration": 314,
    "start_time": "2022-04-08T16:37:52.510Z"
   },
   {
    "duration": 4,
    "start_time": "2022-04-08T16:37:52.825Z"
   },
   {
    "duration": 12,
    "start_time": "2022-04-08T16:37:52.831Z"
   },
   {
    "duration": 15,
    "start_time": "2022-04-08T16:37:52.844Z"
   },
   {
    "duration": 4,
    "start_time": "2022-04-08T16:37:52.860Z"
   },
   {
    "duration": 7,
    "start_time": "2022-04-08T16:37:52.866Z"
   },
   {
    "duration": 186,
    "start_time": "2022-04-08T16:37:52.875Z"
   },
   {
    "duration": 8,
    "start_time": "2022-04-08T16:37:53.062Z"
   },
   {
    "duration": 10,
    "start_time": "2022-04-08T16:37:53.072Z"
   },
   {
    "duration": 25,
    "start_time": "2022-04-08T16:37:53.084Z"
   },
   {
    "duration": 50,
    "start_time": "2022-04-08T16:37:53.110Z"
   },
   {
    "duration": 4,
    "start_time": "2022-04-08T16:37:53.162Z"
   },
   {
    "duration": 20,
    "start_time": "2022-04-08T16:37:53.167Z"
   },
   {
    "duration": 240,
    "start_time": "2022-04-08T16:37:53.189Z"
   },
   {
    "duration": 280,
    "start_time": "2022-04-08T16:37:53.430Z"
   },
   {
    "duration": 267,
    "start_time": "2022-04-08T16:37:53.711Z"
   },
   {
    "duration": 5,
    "start_time": "2022-04-08T16:37:53.979Z"
   },
   {
    "duration": 201,
    "start_time": "2022-04-08T16:37:53.988Z"
   },
   {
    "duration": 307,
    "start_time": "2022-04-08T16:37:54.190Z"
   },
   {
    "duration": 11,
    "start_time": "2022-04-08T16:37:54.499Z"
   },
   {
    "duration": 272,
    "start_time": "2022-04-08T16:37:54.512Z"
   },
   {
    "duration": 308,
    "start_time": "2022-04-08T16:37:54.786Z"
   },
   {
    "duration": 17,
    "start_time": "2022-04-08T16:37:55.096Z"
   },
   {
    "duration": 139,
    "start_time": "2022-04-08T16:37:55.115Z"
   },
   {
    "duration": 5,
    "start_time": "2022-04-08T16:37:55.255Z"
   },
   {
    "duration": 4,
    "start_time": "2022-04-08T16:37:55.261Z"
   },
   {
    "duration": 10,
    "start_time": "2022-04-08T16:37:55.267Z"
   },
   {
    "duration": 287,
    "start_time": "2022-04-08T16:37:55.278Z"
   },
   {
    "duration": 5,
    "start_time": "2022-04-08T16:37:55.566Z"
   },
   {
    "duration": 4,
    "start_time": "2022-04-08T16:37:55.572Z"
   },
   {
    "duration": 32,
    "start_time": "2022-04-08T16:37:55.577Z"
   },
   {
    "duration": 12,
    "start_time": "2022-04-08T16:37:55.611Z"
   },
   {
    "duration": 10,
    "start_time": "2022-04-08T16:37:55.624Z"
   },
   {
    "duration": 5,
    "start_time": "2022-04-08T16:37:55.636Z"
   },
   {
    "duration": 12,
    "start_time": "2022-04-08T16:37:55.642Z"
   },
   {
    "duration": 7,
    "start_time": "2022-04-08T16:37:55.655Z"
   },
   {
    "duration": 4,
    "start_time": "2022-04-08T16:37:55.664Z"
   },
   {
    "duration": 303,
    "start_time": "2022-04-08T16:37:55.670Z"
   },
   {
    "duration": 5,
    "start_time": "2022-04-08T16:37:55.974Z"
   },
   {
    "duration": 9,
    "start_time": "2022-04-08T16:37:55.981Z"
   },
   {
    "duration": 7,
    "start_time": "2022-04-08T16:37:56.009Z"
   },
   {
    "duration": 6,
    "start_time": "2022-04-08T16:37:56.018Z"
   },
   {
    "duration": 280,
    "start_time": "2022-04-08T16:37:56.025Z"
   },
   {
    "duration": 335,
    "start_time": "2022-04-08T16:37:56.308Z"
   },
   {
    "duration": 4,
    "start_time": "2022-04-08T16:37:56.645Z"
   },
   {
    "duration": 485,
    "start_time": "2022-04-08T16:37:56.651Z"
   },
   {
    "duration": 301,
    "start_time": "2022-04-08T16:37:57.138Z"
   },
   {
    "duration": 6,
    "start_time": "2022-04-08T16:37:57.441Z"
   },
   {
    "duration": 369,
    "start_time": "2022-04-08T16:37:57.448Z"
   },
   {
    "duration": 414,
    "start_time": "2022-04-08T16:37:57.818Z"
   },
   {
    "duration": 19,
    "start_time": "2022-04-08T16:37:58.233Z"
   },
   {
    "duration": 6,
    "start_time": "2022-04-08T16:37:58.254Z"
   },
   {
    "duration": 8,
    "start_time": "2022-04-08T16:37:58.262Z"
   },
   {
    "duration": 7,
    "start_time": "2022-04-08T16:37:58.272Z"
   },
   {
    "duration": 6,
    "start_time": "2022-04-08T16:37:58.310Z"
   },
   {
    "duration": 16,
    "start_time": "2022-04-08T16:37:58.318Z"
   },
   {
    "duration": 1171,
    "start_time": "2022-04-09T04:59:03.951Z"
   },
   {
    "duration": 40,
    "start_time": "2022-04-09T04:59:05.124Z"
   },
   {
    "duration": 4,
    "start_time": "2022-04-09T04:59:05.166Z"
   },
   {
    "duration": 31,
    "start_time": "2022-04-09T04:59:05.172Z"
   },
   {
    "duration": 18,
    "start_time": "2022-04-09T04:59:05.205Z"
   },
   {
    "duration": 3,
    "start_time": "2022-04-09T04:59:05.225Z"
   },
   {
    "duration": 21,
    "start_time": "2022-04-09T04:59:05.230Z"
   },
   {
    "duration": 13,
    "start_time": "2022-04-09T04:59:05.253Z"
   },
   {
    "duration": 175,
    "start_time": "2022-04-09T04:59:05.267Z"
   },
   {
    "duration": 15,
    "start_time": "2022-04-09T04:59:05.445Z"
   },
   {
    "duration": 327,
    "start_time": "2022-04-09T04:59:05.462Z"
   },
   {
    "duration": 5,
    "start_time": "2022-04-09T04:59:05.791Z"
   },
   {
    "duration": 20,
    "start_time": "2022-04-09T04:59:05.797Z"
   },
   {
    "duration": 33,
    "start_time": "2022-04-09T04:59:05.819Z"
   },
   {
    "duration": 5,
    "start_time": "2022-04-09T04:59:05.854Z"
   },
   {
    "duration": 20,
    "start_time": "2022-04-09T04:59:05.861Z"
   },
   {
    "duration": 188,
    "start_time": "2022-04-09T04:59:05.883Z"
   },
   {
    "duration": 11,
    "start_time": "2022-04-09T04:59:06.073Z"
   },
   {
    "duration": 13,
    "start_time": "2022-04-09T04:59:06.086Z"
   },
   {
    "duration": 14,
    "start_time": "2022-04-09T04:59:06.102Z"
   },
   {
    "duration": 77,
    "start_time": "2022-04-09T04:59:06.119Z"
   },
   {
    "duration": 6,
    "start_time": "2022-04-09T04:59:06.199Z"
   },
   {
    "duration": 48,
    "start_time": "2022-04-09T04:59:06.207Z"
   },
   {
    "duration": 253,
    "start_time": "2022-04-09T04:59:06.257Z"
   },
   {
    "duration": 322,
    "start_time": "2022-04-09T04:59:06.512Z"
   },
   {
    "duration": 269,
    "start_time": "2022-04-09T04:59:06.836Z"
   },
   {
    "duration": 5,
    "start_time": "2022-04-09T04:59:07.107Z"
   },
   {
    "duration": 215,
    "start_time": "2022-04-09T04:59:07.116Z"
   },
   {
    "duration": 326,
    "start_time": "2022-04-09T04:59:07.333Z"
   },
   {
    "duration": 5,
    "start_time": "2022-04-09T04:59:07.661Z"
   },
   {
    "duration": 284,
    "start_time": "2022-04-09T04:59:07.668Z"
   },
   {
    "duration": 301,
    "start_time": "2022-04-09T04:59:07.954Z"
   },
   {
    "duration": 15,
    "start_time": "2022-04-09T04:59:08.257Z"
   },
   {
    "duration": 154,
    "start_time": "2022-04-09T04:59:08.274Z"
   },
   {
    "duration": 7,
    "start_time": "2022-04-09T04:59:08.438Z"
   },
   {
    "duration": 11,
    "start_time": "2022-04-09T04:59:08.447Z"
   },
   {
    "duration": 19,
    "start_time": "2022-04-09T04:59:08.460Z"
   },
   {
    "duration": 239,
    "start_time": "2022-04-09T04:59:08.481Z"
   },
   {
    "duration": 20,
    "start_time": "2022-04-09T04:59:08.722Z"
   },
   {
    "duration": 7,
    "start_time": "2022-04-09T04:59:08.744Z"
   },
   {
    "duration": 20,
    "start_time": "2022-04-09T04:59:08.753Z"
   },
   {
    "duration": 18,
    "start_time": "2022-04-09T04:59:08.775Z"
   },
   {
    "duration": 16,
    "start_time": "2022-04-09T04:59:08.795Z"
   },
   {
    "duration": 26,
    "start_time": "2022-04-09T04:59:08.813Z"
   },
   {
    "duration": 15,
    "start_time": "2022-04-09T04:59:08.841Z"
   },
   {
    "duration": 12,
    "start_time": "2022-04-09T04:59:08.858Z"
   },
   {
    "duration": 10,
    "start_time": "2022-04-09T04:59:08.872Z"
   },
   {
    "duration": 279,
    "start_time": "2022-04-09T04:59:08.884Z"
   },
   {
    "duration": 7,
    "start_time": "2022-04-09T04:59:09.164Z"
   },
   {
    "duration": 20,
    "start_time": "2022-04-09T04:59:09.172Z"
   },
   {
    "duration": 11,
    "start_time": "2022-04-09T04:59:09.195Z"
   },
   {
    "duration": 12,
    "start_time": "2022-04-09T04:59:09.208Z"
   },
   {
    "duration": 317,
    "start_time": "2022-04-09T04:59:09.223Z"
   },
   {
    "duration": 354,
    "start_time": "2022-04-09T04:59:09.542Z"
   },
   {
    "duration": 7,
    "start_time": "2022-04-09T04:59:09.897Z"
   },
   {
    "duration": 500,
    "start_time": "2022-04-09T04:59:09.906Z"
   },
   {
    "duration": 380,
    "start_time": "2022-04-09T04:59:10.408Z"
   },
   {
    "duration": 6,
    "start_time": "2022-04-09T04:59:10.790Z"
   },
   {
    "duration": 377,
    "start_time": "2022-04-09T04:59:10.798Z"
   },
   {
    "duration": 443,
    "start_time": "2022-04-09T04:59:11.177Z"
   },
   {
    "duration": 27,
    "start_time": "2022-04-09T04:59:11.622Z"
   },
   {
    "duration": 6,
    "start_time": "2022-04-09T04:59:11.651Z"
   },
   {
    "duration": 15,
    "start_time": "2022-04-09T04:59:11.659Z"
   },
   {
    "duration": 12,
    "start_time": "2022-04-09T04:59:11.676Z"
   },
   {
    "duration": 13,
    "start_time": "2022-04-09T04:59:11.690Z"
   },
   {
    "duration": 13,
    "start_time": "2022-04-09T04:59:11.705Z"
   }
  ],
  "kernelspec": {
   "display_name": "Python 3 (ipykernel)",
   "language": "python",
   "name": "python3"
  },
  "language_info": {
   "codemirror_mode": {
    "name": "ipython",
    "version": 3
   },
   "file_extension": ".py",
   "mimetype": "text/x-python",
   "name": "python",
   "nbconvert_exporter": "python",
   "pygments_lexer": "ipython3",
   "version": "3.9.7"
  },
  "toc": {
   "base_numbering": 1,
   "nav_menu": {},
   "number_sections": false,
   "sideBar": true,
   "skip_h1_title": true,
   "title_cell": "Содержание",
   "title_sidebar": "Contents",
   "toc_cell": true,
   "toc_position": {
    "height": "calc(100% - 180px)",
    "left": "10px",
    "top": "150px",
    "width": "255.6px"
   },
   "toc_section_display": true,
   "toc_window_display": false
  }
 },
 "nbformat": 4,
 "nbformat_minor": 2
}
