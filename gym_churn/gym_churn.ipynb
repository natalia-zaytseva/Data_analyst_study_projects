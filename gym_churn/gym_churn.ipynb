{
 "cells": [
  {
   "cell_type": "markdown",
   "metadata": {
    "toc": true
   },
   "source": [
    "<h1>Table of Contents<span class=\"tocSkip\"></span></h1>\n",
    "<div class=\"toc\"><ul class=\"toc-item\"><li><span><a href=\"#Загрузка-библиотек-и-предобработка-данных\" data-toc-modified-id=\"Загрузка-библиотек-и-предобработка-данных-1\">Загрузка библиотек и предобработка данных</a></span><ul class=\"toc-item\"><li><ul class=\"toc-item\"><li><ul class=\"toc-item\"><li><span><a href=\"#Вывод\" data-toc-modified-id=\"Вывод-1.0.0.1\">Вывод</a></span></li></ul></li></ul></li></ul></li><li><span><a href=\"#Исследовательский-анализ-данных\" data-toc-modified-id=\"Исследовательский-анализ-данных-2\">Исследовательский анализ данных</a></span><ul class=\"toc-item\"><li><span><a href=\"#Средние-значения-признаков-для-всех-клиентов\" data-toc-modified-id=\"Средние-значения-признаков-для-всех-клиентов-2.1\">Средние значения признаков для всех клиентов</a></span></li><li><span><a href=\"#Средние-значения-признаков-в-группах\" data-toc-modified-id=\"Средние-значения-признаков-в-группах-2.2\">Средние значения признаков в группах</a></span></li><li><span><a href=\"#Распределение-признаков-в-группах\" data-toc-modified-id=\"Распределение-признаков-в-группах-2.3\">Распределение признаков в группах</a></span></li><li><span><a href=\"#Матрица-корреляций-между-признаками\" data-toc-modified-id=\"Матрица-корреляций-между-признаками-2.4\">Матрица корреляций между признаками</a></span><ul class=\"toc-item\"><li><ul class=\"toc-item\"><li><span><a href=\"#Вывод\" data-toc-modified-id=\"Вывод-2.4.0.1\">Вывод</a></span></li></ul></li></ul></li></ul></li><li><span><a href=\"#Построение-модели-прогнозирования-оттока-клиентов\" data-toc-modified-id=\"Построение-модели-прогнозирования-оттока-клиентов-3\">Построение модели прогнозирования оттока клиентов</a></span><ul class=\"toc-item\"><li><span><a href=\"#Обучающая-и-валидационная-выборка\" data-toc-modified-id=\"Обучающая-и-валидационная-выборка-3.1\">Обучающая и валидационная выборка</a></span></li><li><span><a href=\"#Построение-моделей-методом-LogisticRegression-и-RandomForestClassifier-и-оценка-метрик\" data-toc-modified-id=\"Построение-моделей-методом-LogisticRegression-и-RandomForestClassifier-и-оценка-метрик-3.2\">Построение моделей методом LogisticRegression и RandomForestClassifier и оценка метрик</a></span><ul class=\"toc-item\"><li><ul class=\"toc-item\"><li><span><a href=\"#Вывод\" data-toc-modified-id=\"Вывод-3.2.0.1\">Вывод</a></span></li></ul></li></ul></li></ul></li><li><span><a href=\"#Кластеризация-клиентов\" data-toc-modified-id=\"Кластеризация-клиентов-4\">Кластеризация клиентов</a></span><ul class=\"toc-item\"><li><span><a href=\"#Стандартизация-данных\" data-toc-modified-id=\"Стандартизация-данных-4.1\">Стандартизация данных</a></span></li><li><span><a href=\"#Матрица-расстояний-между-наблюдениями\" data-toc-modified-id=\"Матрица-расстояний-между-наблюдениями-4.2\">Матрица расстояний между наблюдениями</a></span></li><li><span><a href=\"#Кластеризация-наблюдений-алгоритмом-KMeans\" data-toc-modified-id=\"Кластеризация-наблюдений-алгоритмом-KMeans-4.3\">Кластеризация наблюдений алгоритмом KMeans</a></span><ul class=\"toc-item\"><li><span><a href=\"#Средние-значения-признаков-в-кластерах\" data-toc-modified-id=\"Средние-значения-признаков-в-кластерах-4.3.1\">Средние значения признаков в кластерах</a></span></li><li><span><a href=\"#Распределение-признаков-в-кластерах\" data-toc-modified-id=\"Распределение-признаков-в-кластерах-4.3.2\">Распределение признаков в кластерах</a></span></li><li><span><a href=\"#Доля-оттока-для-каждого-кластера\" data-toc-modified-id=\"Доля-оттока-для-каждого-кластера-4.3.3\">Доля оттока для каждого кластера</a></span></li><li><span><a href=\"#Качество-кластеризации\" data-toc-modified-id=\"Качество-кластеризации-4.3.4\">Качество кластеризации</a></span><ul class=\"toc-item\"><li><span><a href=\"#Выводы\" data-toc-modified-id=\"Выводы-4.3.4.1\">Выводы</a></span></li></ul></li></ul></li></ul></li><li><span><a href=\"#Выводы\" data-toc-modified-id=\"Выводы-5\">Выводы</a></span></li></ul></div>"
   ]
  },
  {
   "cell_type": "markdown",
   "metadata": {},
   "source": [
    "# Проект: Прогнозирование оттока клиентов фитнес-клуба"
   ]
  },
  {
   "cell_type": "markdown",
   "metadata": {},
   "source": [
    "<b>Описание проекта:</b> заказчиком является фитнес-клуб, который хотел бы уменьшить долю оттока клиентов. Для этого нужно понять, какими характеристиками обладают клиенты, которые чаще уходят, чтобы вовремя направить на них удерживающие мероприятия. Фитнес-клуб подготовил данные - наблюдения о клиентах, включающие описательные признаки каждого клиента и целевой признак (факт оттока) на текущий месяц. Необходимо научиться прогнозировать факт оттока клиента на основании этих данных.\n",
    "\n",
    "<b>Цель проекта:</b> \n",
    "1. Составить модель прогнозирования оттока клиентов фитнес-клуба в зависимости от значения определенных признаков.\n",
    "2. С помощью кластеризации составить портреты клиентов фитнес-клуба."
   ]
  },
  {
   "cell_type": "markdown",
   "metadata": {},
   "source": [
    "## Загрузка библиотек и предобработка данных"
   ]
  },
  {
   "cell_type": "markdown",
   "metadata": {},
   "source": [
    "Импортируем необходимые библиотеки и устанавливаем настройки."
   ]
  },
  {
   "cell_type": "code",
   "execution_count": 1,
   "metadata": {},
   "outputs": [],
   "source": [
    "import pandas as pd\n",
    "import numpy as np\n",
    "import matplotlib.pyplot as plt\n",
    "import seaborn as sns\n",
    "from sklearn.model_selection import train_test_split\n",
    "from sklearn.preprocessing import StandardScaler\n",
    "from sklearn.linear_model import LogisticRegression\n",
    "from sklearn.ensemble import RandomForestClassifier\n",
    "from sklearn.metrics import accuracy_score, precision_score, recall_score, f1_score, roc_auc_score, silhouette_score\n",
    "from scipy.cluster.hierarchy import dendrogram, linkage\n",
    "from sklearn.cluster import KMeans\n",
    "\n",
    "pd.options.display.float_format = '{:,.2f}'.format"
   ]
  },
  {
   "cell_type": "markdown",
   "metadata": {},
   "source": [
    "Загружаем файл, сохраняем его в переменной `df`, изучаем размеры и выводим 5 первых строк."
   ]
  },
  {
   "cell_type": "code",
   "execution_count": 2,
   "metadata": {},
   "outputs": [],
   "source": [
    "df = pd.read_csv('gym_churn.csv')"
   ]
  },
  {
   "cell_type": "code",
   "execution_count": 3,
   "metadata": {},
   "outputs": [
    {
     "name": "stdout",
     "output_type": "stream",
     "text": [
      "Количество строк: 4000, количество столбцов: 14\n"
     ]
    },
    {
     "data": {
      "text/html": [
       "<div>\n",
       "<style scoped>\n",
       "    .dataframe tbody tr th:only-of-type {\n",
       "        vertical-align: middle;\n",
       "    }\n",
       "\n",
       "    .dataframe tbody tr th {\n",
       "        vertical-align: top;\n",
       "    }\n",
       "\n",
       "    .dataframe thead th {\n",
       "        text-align: right;\n",
       "    }\n",
       "</style>\n",
       "<table border=\"1\" class=\"dataframe\">\n",
       "  <thead>\n",
       "    <tr style=\"text-align: right;\">\n",
       "      <th></th>\n",
       "      <th>gender</th>\n",
       "      <th>Near_Location</th>\n",
       "      <th>Partner</th>\n",
       "      <th>Promo_friends</th>\n",
       "      <th>Phone</th>\n",
       "      <th>Contract_period</th>\n",
       "      <th>Group_visits</th>\n",
       "      <th>Age</th>\n",
       "      <th>Avg_additional_charges_total</th>\n",
       "      <th>Month_to_end_contract</th>\n",
       "      <th>Lifetime</th>\n",
       "      <th>Avg_class_frequency_total</th>\n",
       "      <th>Avg_class_frequency_current_month</th>\n",
       "      <th>Churn</th>\n",
       "    </tr>\n",
       "  </thead>\n",
       "  <tbody>\n",
       "    <tr>\n",
       "      <th>0</th>\n",
       "      <td>1</td>\n",
       "      <td>1</td>\n",
       "      <td>1</td>\n",
       "      <td>1</td>\n",
       "      <td>0</td>\n",
       "      <td>6</td>\n",
       "      <td>1</td>\n",
       "      <td>29</td>\n",
       "      <td>14.23</td>\n",
       "      <td>5.00</td>\n",
       "      <td>3</td>\n",
       "      <td>0.02</td>\n",
       "      <td>0.00</td>\n",
       "      <td>0</td>\n",
       "    </tr>\n",
       "    <tr>\n",
       "      <th>1</th>\n",
       "      <td>0</td>\n",
       "      <td>1</td>\n",
       "      <td>0</td>\n",
       "      <td>0</td>\n",
       "      <td>1</td>\n",
       "      <td>12</td>\n",
       "      <td>1</td>\n",
       "      <td>31</td>\n",
       "      <td>113.20</td>\n",
       "      <td>12.00</td>\n",
       "      <td>7</td>\n",
       "      <td>1.92</td>\n",
       "      <td>1.91</td>\n",
       "      <td>0</td>\n",
       "    </tr>\n",
       "    <tr>\n",
       "      <th>2</th>\n",
       "      <td>0</td>\n",
       "      <td>1</td>\n",
       "      <td>1</td>\n",
       "      <td>0</td>\n",
       "      <td>1</td>\n",
       "      <td>1</td>\n",
       "      <td>0</td>\n",
       "      <td>28</td>\n",
       "      <td>129.45</td>\n",
       "      <td>1.00</td>\n",
       "      <td>2</td>\n",
       "      <td>1.86</td>\n",
       "      <td>1.74</td>\n",
       "      <td>0</td>\n",
       "    </tr>\n",
       "    <tr>\n",
       "      <th>3</th>\n",
       "      <td>0</td>\n",
       "      <td>1</td>\n",
       "      <td>1</td>\n",
       "      <td>1</td>\n",
       "      <td>1</td>\n",
       "      <td>12</td>\n",
       "      <td>1</td>\n",
       "      <td>33</td>\n",
       "      <td>62.67</td>\n",
       "      <td>12.00</td>\n",
       "      <td>2</td>\n",
       "      <td>3.21</td>\n",
       "      <td>3.36</td>\n",
       "      <td>0</td>\n",
       "    </tr>\n",
       "    <tr>\n",
       "      <th>4</th>\n",
       "      <td>1</td>\n",
       "      <td>1</td>\n",
       "      <td>1</td>\n",
       "      <td>1</td>\n",
       "      <td>1</td>\n",
       "      <td>1</td>\n",
       "      <td>0</td>\n",
       "      <td>26</td>\n",
       "      <td>198.36</td>\n",
       "      <td>1.00</td>\n",
       "      <td>3</td>\n",
       "      <td>1.11</td>\n",
       "      <td>1.12</td>\n",
       "      <td>0</td>\n",
       "    </tr>\n",
       "  </tbody>\n",
       "</table>\n",
       "</div>"
      ],
      "text/plain": [
       "   gender  Near_Location  Partner  Promo_friends  Phone  Contract_period  \\\n",
       "0       1              1        1              1      0                6   \n",
       "1       0              1        0              0      1               12   \n",
       "2       0              1        1              0      1                1   \n",
       "3       0              1        1              1      1               12   \n",
       "4       1              1        1              1      1                1   \n",
       "\n",
       "   Group_visits  Age  Avg_additional_charges_total  Month_to_end_contract  \\\n",
       "0             1   29                         14.23                   5.00   \n",
       "1             1   31                        113.20                  12.00   \n",
       "2             0   28                        129.45                   1.00   \n",
       "3             1   33                         62.67                  12.00   \n",
       "4             0   26                        198.36                   1.00   \n",
       "\n",
       "   Lifetime  Avg_class_frequency_total  Avg_class_frequency_current_month  \\\n",
       "0         3                       0.02                               0.00   \n",
       "1         7                       1.92                               1.91   \n",
       "2         2                       1.86                               1.74   \n",
       "3         2                       3.21                               3.36   \n",
       "4         3                       1.11                               1.12   \n",
       "\n",
       "   Churn  \n",
       "0      0  \n",
       "1      0  \n",
       "2      0  \n",
       "3      0  \n",
       "4      0  "
      ]
     },
     "execution_count": 3,
     "metadata": {},
     "output_type": "execute_result"
    }
   ],
   "source": [
    "print('Количество строк: {}, количество столбцов: {}'.format(df.shape[0], df.shape[1]))\n",
    "df.head()"
   ]
  },
  {
   "cell_type": "markdown",
   "metadata": {},
   "source": [
    "Сразу для удобства приведем названия столбцов к нижнему регистру и изучим информацию о файле: тип переменных, количество пропущенных значений и дубликатов."
   ]
  },
  {
   "cell_type": "code",
   "execution_count": 4,
   "metadata": {},
   "outputs": [],
   "source": [
    "df.columns = df.columns.str.lower()"
   ]
  },
  {
   "cell_type": "code",
   "execution_count": 5,
   "metadata": {},
   "outputs": [
    {
     "name": "stdout",
     "output_type": "stream",
     "text": [
      "<class 'pandas.core.frame.DataFrame'>\n",
      "RangeIndex: 4000 entries, 0 to 3999\n",
      "Data columns (total 14 columns):\n",
      " #   Column                             Non-Null Count  Dtype  \n",
      "---  ------                             --------------  -----  \n",
      " 0   gender                             4000 non-null   int64  \n",
      " 1   near_location                      4000 non-null   int64  \n",
      " 2   partner                            4000 non-null   int64  \n",
      " 3   promo_friends                      4000 non-null   int64  \n",
      " 4   phone                              4000 non-null   int64  \n",
      " 5   contract_period                    4000 non-null   int64  \n",
      " 6   group_visits                       4000 non-null   int64  \n",
      " 7   age                                4000 non-null   int64  \n",
      " 8   avg_additional_charges_total       4000 non-null   float64\n",
      " 9   month_to_end_contract              4000 non-null   float64\n",
      " 10  lifetime                           4000 non-null   int64  \n",
      " 11  avg_class_frequency_total          4000 non-null   float64\n",
      " 12  avg_class_frequency_current_month  4000 non-null   float64\n",
      " 13  churn                              4000 non-null   int64  \n",
      "dtypes: float64(4), int64(10)\n",
      "memory usage: 437.6 KB\n"
     ]
    }
   ],
   "source": [
    "df.info()"
   ]
  },
  {
   "cell_type": "code",
   "execution_count": 6,
   "metadata": {
    "scrolled": false
   },
   "outputs": [
    {
     "name": "stdout",
     "output_type": "stream",
     "text": [
      "Количество дубликатов: 0\n"
     ]
    }
   ],
   "source": [
    "print('Количество дубликатов: {}'.format(df.duplicated().sum()))"
   ]
  },
  {
   "cell_type": "markdown",
   "metadata": {},
   "source": [
    "Итак, датафрейм `df` состоит из 4000 строк и 14 столбцов:\n",
    "- `gender` - пол клиента (будем считать, что 0 - мужчина, 1 - женщина);\n",
    "- `near_location` - расположение фитнеса рядом с домом (здесь и далее 0 = нет, 1 = да);\n",
    "- `partner` - является ли клиент сотрудником компании, которой фитнес-клуб предоставляет скидки на абонемент;\n",
    "- `promo_friends` - клиент пришёл в фитнес-клуб в рамках акции \"приведи друга\";\n",
    "- `phone` - оставлял ли клиент свой номер телефона;\n",
    "- `contract_period` - длительность текущего абонемента в месяцах;\n",
    "- `group_visits` - посещал ли клиент групповые занятия;\n",
    "- `age` - возраст клиента;\n",
    "- `avg_additional_charges_total` - суммарная выручка от клиента за счёт продажи дополнительных услуг фитнес-клуба;\n",
    "- `month_to_end_contract` - время до окончания текущего абонемента в месяцах;\n",
    "- `lifetime` - время с момента первого обращения в фитнес-клуб в месяцах;\n",
    "- `avg_class_frequency_total` - средняя частота посещения фитнес-клуба в неделю за весь период;\n",
    "- `avg_class_frequency_current_month` - средняя частота посещения фитнес-клуба в неделю за предудыщий месяц;\n",
    "- `churn` - факт оттока клиента в текущем месяце (0 - посещает, 1 - не посещает фитнес-клуб).\n",
    "\n",
    "Пропущенных значений и дубликатов нет. На первый взгляд все данные в нужных форматах, кроме переменной `month_to_end_contract` - ее тип данных может быть целочисленным. "
   ]
  },
  {
   "cell_type": "markdown",
   "metadata": {},
   "source": [
    "Смотрим, нет ли скрытых пропущенных значений (нет ли в категориальных данных какого-то третьего значения)."
   ]
  },
  {
   "cell_type": "code",
   "execution_count": 7,
   "metadata": {
    "scrolled": false
   },
   "outputs": [
    {
     "data": {
      "text/html": [
       "<div>\n",
       "<style scoped>\n",
       "    .dataframe tbody tr th:only-of-type {\n",
       "        vertical-align: middle;\n",
       "    }\n",
       "\n",
       "    .dataframe tbody tr th {\n",
       "        vertical-align: top;\n",
       "    }\n",
       "\n",
       "    .dataframe thead th {\n",
       "        text-align: right;\n",
       "    }\n",
       "</style>\n",
       "<table border=\"1\" class=\"dataframe\">\n",
       "  <thead>\n",
       "    <tr style=\"text-align: right;\">\n",
       "      <th></th>\n",
       "      <th>count</th>\n",
       "      <th>mean</th>\n",
       "      <th>std</th>\n",
       "      <th>min</th>\n",
       "      <th>25%</th>\n",
       "      <th>50%</th>\n",
       "      <th>75%</th>\n",
       "      <th>max</th>\n",
       "    </tr>\n",
       "  </thead>\n",
       "  <tbody>\n",
       "    <tr>\n",
       "      <th>gender</th>\n",
       "      <td>4,000.00</td>\n",
       "      <td>0.51</td>\n",
       "      <td>0.50</td>\n",
       "      <td>0.00</td>\n",
       "      <td>0.00</td>\n",
       "      <td>1.00</td>\n",
       "      <td>1.00</td>\n",
       "      <td>1.00</td>\n",
       "    </tr>\n",
       "    <tr>\n",
       "      <th>near_location</th>\n",
       "      <td>4,000.00</td>\n",
       "      <td>0.85</td>\n",
       "      <td>0.36</td>\n",
       "      <td>0.00</td>\n",
       "      <td>1.00</td>\n",
       "      <td>1.00</td>\n",
       "      <td>1.00</td>\n",
       "      <td>1.00</td>\n",
       "    </tr>\n",
       "    <tr>\n",
       "      <th>partner</th>\n",
       "      <td>4,000.00</td>\n",
       "      <td>0.49</td>\n",
       "      <td>0.50</td>\n",
       "      <td>0.00</td>\n",
       "      <td>0.00</td>\n",
       "      <td>0.00</td>\n",
       "      <td>1.00</td>\n",
       "      <td>1.00</td>\n",
       "    </tr>\n",
       "    <tr>\n",
       "      <th>promo_friends</th>\n",
       "      <td>4,000.00</td>\n",
       "      <td>0.31</td>\n",
       "      <td>0.46</td>\n",
       "      <td>0.00</td>\n",
       "      <td>0.00</td>\n",
       "      <td>0.00</td>\n",
       "      <td>1.00</td>\n",
       "      <td>1.00</td>\n",
       "    </tr>\n",
       "    <tr>\n",
       "      <th>phone</th>\n",
       "      <td>4,000.00</td>\n",
       "      <td>0.90</td>\n",
       "      <td>0.30</td>\n",
       "      <td>0.00</td>\n",
       "      <td>1.00</td>\n",
       "      <td>1.00</td>\n",
       "      <td>1.00</td>\n",
       "      <td>1.00</td>\n",
       "    </tr>\n",
       "    <tr>\n",
       "      <th>contract_period</th>\n",
       "      <td>4,000.00</td>\n",
       "      <td>4.68</td>\n",
       "      <td>4.55</td>\n",
       "      <td>1.00</td>\n",
       "      <td>1.00</td>\n",
       "      <td>1.00</td>\n",
       "      <td>6.00</td>\n",
       "      <td>12.00</td>\n",
       "    </tr>\n",
       "    <tr>\n",
       "      <th>group_visits</th>\n",
       "      <td>4,000.00</td>\n",
       "      <td>0.41</td>\n",
       "      <td>0.49</td>\n",
       "      <td>0.00</td>\n",
       "      <td>0.00</td>\n",
       "      <td>0.00</td>\n",
       "      <td>1.00</td>\n",
       "      <td>1.00</td>\n",
       "    </tr>\n",
       "    <tr>\n",
       "      <th>age</th>\n",
       "      <td>4,000.00</td>\n",
       "      <td>29.18</td>\n",
       "      <td>3.26</td>\n",
       "      <td>18.00</td>\n",
       "      <td>27.00</td>\n",
       "      <td>29.00</td>\n",
       "      <td>31.00</td>\n",
       "      <td>41.00</td>\n",
       "    </tr>\n",
       "    <tr>\n",
       "      <th>avg_additional_charges_total</th>\n",
       "      <td>4,000.00</td>\n",
       "      <td>146.94</td>\n",
       "      <td>96.36</td>\n",
       "      <td>0.15</td>\n",
       "      <td>68.87</td>\n",
       "      <td>136.22</td>\n",
       "      <td>210.95</td>\n",
       "      <td>552.59</td>\n",
       "    </tr>\n",
       "    <tr>\n",
       "      <th>month_to_end_contract</th>\n",
       "      <td>4,000.00</td>\n",
       "      <td>4.32</td>\n",
       "      <td>4.19</td>\n",
       "      <td>1.00</td>\n",
       "      <td>1.00</td>\n",
       "      <td>1.00</td>\n",
       "      <td>6.00</td>\n",
       "      <td>12.00</td>\n",
       "    </tr>\n",
       "    <tr>\n",
       "      <th>lifetime</th>\n",
       "      <td>4,000.00</td>\n",
       "      <td>3.72</td>\n",
       "      <td>3.75</td>\n",
       "      <td>0.00</td>\n",
       "      <td>1.00</td>\n",
       "      <td>3.00</td>\n",
       "      <td>5.00</td>\n",
       "      <td>31.00</td>\n",
       "    </tr>\n",
       "    <tr>\n",
       "      <th>avg_class_frequency_total</th>\n",
       "      <td>4,000.00</td>\n",
       "      <td>1.88</td>\n",
       "      <td>0.97</td>\n",
       "      <td>0.00</td>\n",
       "      <td>1.18</td>\n",
       "      <td>1.83</td>\n",
       "      <td>2.54</td>\n",
       "      <td>6.02</td>\n",
       "    </tr>\n",
       "    <tr>\n",
       "      <th>avg_class_frequency_current_month</th>\n",
       "      <td>4,000.00</td>\n",
       "      <td>1.77</td>\n",
       "      <td>1.05</td>\n",
       "      <td>0.00</td>\n",
       "      <td>0.96</td>\n",
       "      <td>1.72</td>\n",
       "      <td>2.51</td>\n",
       "      <td>6.15</td>\n",
       "    </tr>\n",
       "    <tr>\n",
       "      <th>churn</th>\n",
       "      <td>4,000.00</td>\n",
       "      <td>0.27</td>\n",
       "      <td>0.44</td>\n",
       "      <td>0.00</td>\n",
       "      <td>0.00</td>\n",
       "      <td>0.00</td>\n",
       "      <td>1.00</td>\n",
       "      <td>1.00</td>\n",
       "    </tr>\n",
       "  </tbody>\n",
       "</table>\n",
       "</div>"
      ],
      "text/plain": [
       "                                     count   mean   std   min   25%    50%  \\\n",
       "gender                            4,000.00   0.51  0.50  0.00  0.00   1.00   \n",
       "near_location                     4,000.00   0.85  0.36  0.00  1.00   1.00   \n",
       "partner                           4,000.00   0.49  0.50  0.00  0.00   0.00   \n",
       "promo_friends                     4,000.00   0.31  0.46  0.00  0.00   0.00   \n",
       "phone                             4,000.00   0.90  0.30  0.00  1.00   1.00   \n",
       "contract_period                   4,000.00   4.68  4.55  1.00  1.00   1.00   \n",
       "group_visits                      4,000.00   0.41  0.49  0.00  0.00   0.00   \n",
       "age                               4,000.00  29.18  3.26 18.00 27.00  29.00   \n",
       "avg_additional_charges_total      4,000.00 146.94 96.36  0.15 68.87 136.22   \n",
       "month_to_end_contract             4,000.00   4.32  4.19  1.00  1.00   1.00   \n",
       "lifetime                          4,000.00   3.72  3.75  0.00  1.00   3.00   \n",
       "avg_class_frequency_total         4,000.00   1.88  0.97  0.00  1.18   1.83   \n",
       "avg_class_frequency_current_month 4,000.00   1.77  1.05  0.00  0.96   1.72   \n",
       "churn                             4,000.00   0.27  0.44  0.00  0.00   0.00   \n",
       "\n",
       "                                     75%    max  \n",
       "gender                              1.00   1.00  \n",
       "near_location                       1.00   1.00  \n",
       "partner                             1.00   1.00  \n",
       "promo_friends                       1.00   1.00  \n",
       "phone                               1.00   1.00  \n",
       "contract_period                     6.00  12.00  \n",
       "group_visits                        1.00   1.00  \n",
       "age                                31.00  41.00  \n",
       "avg_additional_charges_total      210.95 552.59  \n",
       "month_to_end_contract               6.00  12.00  \n",
       "lifetime                            5.00  31.00  \n",
       "avg_class_frequency_total           2.54   6.02  \n",
       "avg_class_frequency_current_month   2.51   6.15  \n",
       "churn                               1.00   1.00  "
      ]
     },
     "execution_count": 7,
     "metadata": {},
     "output_type": "execute_result"
    }
   ],
   "source": [
    "df.describe().T"
   ]
  },
  {
   "cell_type": "markdown",
   "metadata": {},
   "source": [
    "Скрытых пропущенных значений нет. Смотрим на уникальные значения из столбца `month_to_end_contract` - нужно определить, все ли значения в нем целочисленные."
   ]
  },
  {
   "cell_type": "code",
   "execution_count": 8,
   "metadata": {},
   "outputs": [
    {
     "data": {
      "text/plain": [
       "1.00     2207\n",
       "6.00      645\n",
       "12.00     524\n",
       "11.00     181\n",
       "5.00      130\n",
       "10.00      82\n",
       "9.00       73\n",
       "4.00       58\n",
       "8.00       38\n",
       "7.00       25\n",
       "3.00       23\n",
       "2.00       14\n",
       "Name: month_to_end_contract, dtype: int64"
      ]
     },
     "execution_count": 8,
     "metadata": {},
     "output_type": "execute_result"
    }
   ],
   "source": [
    "df['month_to_end_contract'].value_counts()"
   ]
  },
  {
   "cell_type": "markdown",
   "metadata": {},
   "source": [
    "Все значения целочисленные, можно поменять формат данных в столбце."
   ]
  },
  {
   "cell_type": "code",
   "execution_count": 9,
   "metadata": {},
   "outputs": [],
   "source": [
    "df['month_to_end_contract'] = df['month_to_end_contract'].astype(int)"
   ]
  },
  {
   "cell_type": "markdown",
   "metadata": {},
   "source": [
    "##### Вывод\n",
    "Таким образом, на данном этапе загружены необходимые библиотеки, загружен файл, изучен его состав и произведена первичная предобработка. Данные готовы к дальнейшему анализу. "
   ]
  },
  {
   "cell_type": "markdown",
   "metadata": {},
   "source": [
    "## Исследовательский анализ данных"
   ]
  },
  {
   "cell_type": "markdown",
   "metadata": {},
   "source": [
    "### Средние значения признаков для всех клиентов"
   ]
  },
  {
   "cell_type": "markdown",
   "metadata": {},
   "source": [
    "Изучаем средние значения и стандартные отклонения признаков, а также максимальные, минимальные значения и квартили некатегориальных признаков. Вновь вызовем метод describe()."
   ]
  },
  {
   "cell_type": "code",
   "execution_count": 10,
   "metadata": {},
   "outputs": [
    {
     "data": {
      "text/html": [
       "<div>\n",
       "<style scoped>\n",
       "    .dataframe tbody tr th:only-of-type {\n",
       "        vertical-align: middle;\n",
       "    }\n",
       "\n",
       "    .dataframe tbody tr th {\n",
       "        vertical-align: top;\n",
       "    }\n",
       "\n",
       "    .dataframe thead th {\n",
       "        text-align: right;\n",
       "    }\n",
       "</style>\n",
       "<table border=\"1\" class=\"dataframe\">\n",
       "  <thead>\n",
       "    <tr style=\"text-align: right;\">\n",
       "      <th></th>\n",
       "      <th>count</th>\n",
       "      <th>mean</th>\n",
       "      <th>std</th>\n",
       "      <th>min</th>\n",
       "      <th>25%</th>\n",
       "      <th>50%</th>\n",
       "      <th>75%</th>\n",
       "      <th>max</th>\n",
       "    </tr>\n",
       "  </thead>\n",
       "  <tbody>\n",
       "    <tr>\n",
       "      <th>gender</th>\n",
       "      <td>4,000.00</td>\n",
       "      <td>0.51</td>\n",
       "      <td>0.50</td>\n",
       "      <td>0.00</td>\n",
       "      <td>0.00</td>\n",
       "      <td>1.00</td>\n",
       "      <td>1.00</td>\n",
       "      <td>1.00</td>\n",
       "    </tr>\n",
       "    <tr>\n",
       "      <th>near_location</th>\n",
       "      <td>4,000.00</td>\n",
       "      <td>0.85</td>\n",
       "      <td>0.36</td>\n",
       "      <td>0.00</td>\n",
       "      <td>1.00</td>\n",
       "      <td>1.00</td>\n",
       "      <td>1.00</td>\n",
       "      <td>1.00</td>\n",
       "    </tr>\n",
       "    <tr>\n",
       "      <th>partner</th>\n",
       "      <td>4,000.00</td>\n",
       "      <td>0.49</td>\n",
       "      <td>0.50</td>\n",
       "      <td>0.00</td>\n",
       "      <td>0.00</td>\n",
       "      <td>0.00</td>\n",
       "      <td>1.00</td>\n",
       "      <td>1.00</td>\n",
       "    </tr>\n",
       "    <tr>\n",
       "      <th>promo_friends</th>\n",
       "      <td>4,000.00</td>\n",
       "      <td>0.31</td>\n",
       "      <td>0.46</td>\n",
       "      <td>0.00</td>\n",
       "      <td>0.00</td>\n",
       "      <td>0.00</td>\n",
       "      <td>1.00</td>\n",
       "      <td>1.00</td>\n",
       "    </tr>\n",
       "    <tr>\n",
       "      <th>phone</th>\n",
       "      <td>4,000.00</td>\n",
       "      <td>0.90</td>\n",
       "      <td>0.30</td>\n",
       "      <td>0.00</td>\n",
       "      <td>1.00</td>\n",
       "      <td>1.00</td>\n",
       "      <td>1.00</td>\n",
       "      <td>1.00</td>\n",
       "    </tr>\n",
       "    <tr>\n",
       "      <th>contract_period</th>\n",
       "      <td>4,000.00</td>\n",
       "      <td>4.68</td>\n",
       "      <td>4.55</td>\n",
       "      <td>1.00</td>\n",
       "      <td>1.00</td>\n",
       "      <td>1.00</td>\n",
       "      <td>6.00</td>\n",
       "      <td>12.00</td>\n",
       "    </tr>\n",
       "    <tr>\n",
       "      <th>group_visits</th>\n",
       "      <td>4,000.00</td>\n",
       "      <td>0.41</td>\n",
       "      <td>0.49</td>\n",
       "      <td>0.00</td>\n",
       "      <td>0.00</td>\n",
       "      <td>0.00</td>\n",
       "      <td>1.00</td>\n",
       "      <td>1.00</td>\n",
       "    </tr>\n",
       "    <tr>\n",
       "      <th>age</th>\n",
       "      <td>4,000.00</td>\n",
       "      <td>29.18</td>\n",
       "      <td>3.26</td>\n",
       "      <td>18.00</td>\n",
       "      <td>27.00</td>\n",
       "      <td>29.00</td>\n",
       "      <td>31.00</td>\n",
       "      <td>41.00</td>\n",
       "    </tr>\n",
       "    <tr>\n",
       "      <th>avg_additional_charges_total</th>\n",
       "      <td>4,000.00</td>\n",
       "      <td>146.94</td>\n",
       "      <td>96.36</td>\n",
       "      <td>0.15</td>\n",
       "      <td>68.87</td>\n",
       "      <td>136.22</td>\n",
       "      <td>210.95</td>\n",
       "      <td>552.59</td>\n",
       "    </tr>\n",
       "    <tr>\n",
       "      <th>month_to_end_contract</th>\n",
       "      <td>4,000.00</td>\n",
       "      <td>4.32</td>\n",
       "      <td>4.19</td>\n",
       "      <td>1.00</td>\n",
       "      <td>1.00</td>\n",
       "      <td>1.00</td>\n",
       "      <td>6.00</td>\n",
       "      <td>12.00</td>\n",
       "    </tr>\n",
       "    <tr>\n",
       "      <th>lifetime</th>\n",
       "      <td>4,000.00</td>\n",
       "      <td>3.72</td>\n",
       "      <td>3.75</td>\n",
       "      <td>0.00</td>\n",
       "      <td>1.00</td>\n",
       "      <td>3.00</td>\n",
       "      <td>5.00</td>\n",
       "      <td>31.00</td>\n",
       "    </tr>\n",
       "    <tr>\n",
       "      <th>avg_class_frequency_total</th>\n",
       "      <td>4,000.00</td>\n",
       "      <td>1.88</td>\n",
       "      <td>0.97</td>\n",
       "      <td>0.00</td>\n",
       "      <td>1.18</td>\n",
       "      <td>1.83</td>\n",
       "      <td>2.54</td>\n",
       "      <td>6.02</td>\n",
       "    </tr>\n",
       "    <tr>\n",
       "      <th>avg_class_frequency_current_month</th>\n",
       "      <td>4,000.00</td>\n",
       "      <td>1.77</td>\n",
       "      <td>1.05</td>\n",
       "      <td>0.00</td>\n",
       "      <td>0.96</td>\n",
       "      <td>1.72</td>\n",
       "      <td>2.51</td>\n",
       "      <td>6.15</td>\n",
       "    </tr>\n",
       "    <tr>\n",
       "      <th>churn</th>\n",
       "      <td>4,000.00</td>\n",
       "      <td>0.27</td>\n",
       "      <td>0.44</td>\n",
       "      <td>0.00</td>\n",
       "      <td>0.00</td>\n",
       "      <td>0.00</td>\n",
       "      <td>1.00</td>\n",
       "      <td>1.00</td>\n",
       "    </tr>\n",
       "  </tbody>\n",
       "</table>\n",
       "</div>"
      ],
      "text/plain": [
       "                                     count   mean   std   min   25%    50%  \\\n",
       "gender                            4,000.00   0.51  0.50  0.00  0.00   1.00   \n",
       "near_location                     4,000.00   0.85  0.36  0.00  1.00   1.00   \n",
       "partner                           4,000.00   0.49  0.50  0.00  0.00   0.00   \n",
       "promo_friends                     4,000.00   0.31  0.46  0.00  0.00   0.00   \n",
       "phone                             4,000.00   0.90  0.30  0.00  1.00   1.00   \n",
       "contract_period                   4,000.00   4.68  4.55  1.00  1.00   1.00   \n",
       "group_visits                      4,000.00   0.41  0.49  0.00  0.00   0.00   \n",
       "age                               4,000.00  29.18  3.26 18.00 27.00  29.00   \n",
       "avg_additional_charges_total      4,000.00 146.94 96.36  0.15 68.87 136.22   \n",
       "month_to_end_contract             4,000.00   4.32  4.19  1.00  1.00   1.00   \n",
       "lifetime                          4,000.00   3.72  3.75  0.00  1.00   3.00   \n",
       "avg_class_frequency_total         4,000.00   1.88  0.97  0.00  1.18   1.83   \n",
       "avg_class_frequency_current_month 4,000.00   1.77  1.05  0.00  0.96   1.72   \n",
       "churn                             4,000.00   0.27  0.44  0.00  0.00   0.00   \n",
       "\n",
       "                                     75%    max  \n",
       "gender                              1.00   1.00  \n",
       "near_location                       1.00   1.00  \n",
       "partner                             1.00   1.00  \n",
       "promo_friends                       1.00   1.00  \n",
       "phone                               1.00   1.00  \n",
       "contract_period                     6.00  12.00  \n",
       "group_visits                        1.00   1.00  \n",
       "age                                31.00  41.00  \n",
       "avg_additional_charges_total      210.95 552.59  \n",
       "month_to_end_contract               6.00  12.00  \n",
       "lifetime                            5.00  31.00  \n",
       "avg_class_frequency_total           2.54   6.02  \n",
       "avg_class_frequency_current_month   2.51   6.15  \n",
       "churn                               1.00   1.00  "
      ]
     },
     "execution_count": 10,
     "metadata": {},
     "output_type": "execute_result"
    }
   ],
   "source": [
    "df.describe().T"
   ]
  },
  {
   "cell_type": "markdown",
   "metadata": {},
   "source": [
    "Видим, что среди посетителей:\n",
    "- примерно одинаковое количество мужчин и женщин;\n",
    "- 85% живут или работают в этом районе;\n",
    "- половина клиентов имеет скидку на абонемент за счет работодателя;\n",
    "- по акции \"приведи друга\" пришло 31% клиентов;\n",
    "- номер телефона оставили 90%;\n",
    "- в среднем длительность абонемента 4,7 мес +- 4,6 мес (всего градации - 1, 6 и 12 месяцев);\n",
    "- групповые занятия посещают 41% клиентов;\n",
    "- средний возраст - 29,2 +- 3,3 года;\n",
    "- в среднем клиент потратил 147 +- 96 у.е. на доп.услуги;\n",
    "- на текущий месяц до окончания срока абонемента осталось в средем 4,3 +- 4 мес;\n",
    "- текущий месяц является в среднем 3,7 по счету, хотя есть клиенты, которые посещают фитнес-клуб уже 31 месяц;\n",
    "- в среднем еженедельно клиент посещает клуб 1,9 +- 1,0 раз, хотя есть усердные клиенты, которые занимаются 6 раз в неделю;\n",
    "- <b>на текущий месяц произошёл отток 27% клиентов</b>. "
   ]
  },
  {
   "cell_type": "markdown",
   "metadata": {},
   "source": [
    "### Средние значения признаков в группах "
   ]
  },
  {
   "cell_type": "markdown",
   "metadata": {},
   "source": [
    "Теперь посмотрим на средние значения признаков для разных групп клиентов - тех, кто ушел, и тех, кто остался на текущий месяц."
   ]
  },
  {
   "cell_type": "code",
   "execution_count": 11,
   "metadata": {
    "scrolled": false
   },
   "outputs": [
    {
     "data": {
      "text/html": [
       "<style type=\"text/css\">\n",
       "</style>\n",
       "<table id=\"T_1de74_\">\n",
       "  <thead>\n",
       "    <tr>\n",
       "      <th class=\"index_name level0\" >churn</th>\n",
       "      <th class=\"col_heading level0 col0\" >0</th>\n",
       "      <th class=\"col_heading level0 col1\" >1</th>\n",
       "      <th class=\"col_heading level0 col2\" >%_diff</th>\n",
       "    </tr>\n",
       "  </thead>\n",
       "  <tbody>\n",
       "    <tr>\n",
       "      <th id=\"T_1de74_level0_row0\" class=\"row_heading level0 row0\" >lifetime</th>\n",
       "      <td id=\"T_1de74_row0_col0\" class=\"data row0 col0\" >4.71</td>\n",
       "      <td id=\"T_1de74_row0_col1\" class=\"data row0 col1\" >0.99</td>\n",
       "      <td id=\"T_1de74_row0_col2\" class=\"data row0 col2\" >-79%</td>\n",
       "    </tr>\n",
       "    <tr>\n",
       "      <th id=\"T_1de74_level0_row1\" class=\"row_heading level0 row1\" >contract_period</th>\n",
       "      <td id=\"T_1de74_row1_col0\" class=\"data row1 col0\" >5.75</td>\n",
       "      <td id=\"T_1de74_row1_col1\" class=\"data row1 col1\" >1.73</td>\n",
       "      <td id=\"T_1de74_row1_col2\" class=\"data row1 col2\" >-70%</td>\n",
       "    </tr>\n",
       "    <tr>\n",
       "      <th id=\"T_1de74_level0_row2\" class=\"row_heading level0 row2\" >month_to_end_contract</th>\n",
       "      <td id=\"T_1de74_row2_col0\" class=\"data row2 col0\" >5.28</td>\n",
       "      <td id=\"T_1de74_row2_col1\" class=\"data row2 col1\" >1.66</td>\n",
       "      <td id=\"T_1de74_row2_col2\" class=\"data row2 col2\" >-69%</td>\n",
       "    </tr>\n",
       "    <tr>\n",
       "      <th id=\"T_1de74_level0_row3\" class=\"row_heading level0 row3\" >avg_class_frequency_current_month</th>\n",
       "      <td id=\"T_1de74_row3_col0\" class=\"data row3 col0\" >2.03</td>\n",
       "      <td id=\"T_1de74_row3_col1\" class=\"data row3 col1\" >1.04</td>\n",
       "      <td id=\"T_1de74_row3_col2\" class=\"data row3 col2\" >-48%</td>\n",
       "    </tr>\n",
       "    <tr>\n",
       "      <th id=\"T_1de74_level0_row4\" class=\"row_heading level0 row4\" >promo_friends</th>\n",
       "      <td id=\"T_1de74_row4_col0\" class=\"data row4 col0\" >0.35</td>\n",
       "      <td id=\"T_1de74_row4_col1\" class=\"data row4 col1\" >0.18</td>\n",
       "      <td id=\"T_1de74_row4_col2\" class=\"data row4 col2\" >-48%</td>\n",
       "    </tr>\n",
       "    <tr>\n",
       "      <th id=\"T_1de74_level0_row5\" class=\"row_heading level0 row5\" >group_visits</th>\n",
       "      <td id=\"T_1de74_row5_col0\" class=\"data row5 col0\" >0.46</td>\n",
       "      <td id=\"T_1de74_row5_col1\" class=\"data row5 col1\" >0.27</td>\n",
       "      <td id=\"T_1de74_row5_col2\" class=\"data row5 col2\" >-42%</td>\n",
       "    </tr>\n",
       "    <tr>\n",
       "      <th id=\"T_1de74_level0_row6\" class=\"row_heading level0 row6\" >partner</th>\n",
       "      <td id=\"T_1de74_row6_col0\" class=\"data row6 col0\" >0.53</td>\n",
       "      <td id=\"T_1de74_row6_col1\" class=\"data row6 col1\" >0.36</td>\n",
       "      <td id=\"T_1de74_row6_col2\" class=\"data row6 col2\" >-33%</td>\n",
       "    </tr>\n",
       "    <tr>\n",
       "      <th id=\"T_1de74_level0_row7\" class=\"row_heading level0 row7\" >avg_additional_charges_total</th>\n",
       "      <td id=\"T_1de74_row7_col0\" class=\"data row7 col0\" >158.45</td>\n",
       "      <td id=\"T_1de74_row7_col1\" class=\"data row7 col1\" >115.08</td>\n",
       "      <td id=\"T_1de74_row7_col2\" class=\"data row7 col2\" >-27%</td>\n",
       "    </tr>\n",
       "    <tr>\n",
       "      <th id=\"T_1de74_level0_row8\" class=\"row_heading level0 row8\" >avg_class_frequency_total</th>\n",
       "      <td id=\"T_1de74_row8_col0\" class=\"data row8 col0\" >2.02</td>\n",
       "      <td id=\"T_1de74_row8_col1\" class=\"data row8 col1\" >1.47</td>\n",
       "      <td id=\"T_1de74_row8_col2\" class=\"data row8 col2\" >-27%</td>\n",
       "    </tr>\n",
       "    <tr>\n",
       "      <th id=\"T_1de74_level0_row9\" class=\"row_heading level0 row9\" >near_location</th>\n",
       "      <td id=\"T_1de74_row9_col0\" class=\"data row9 col0\" >0.87</td>\n",
       "      <td id=\"T_1de74_row9_col1\" class=\"data row9 col1\" >0.77</td>\n",
       "      <td id=\"T_1de74_row9_col2\" class=\"data row9 col2\" >-12%</td>\n",
       "    </tr>\n",
       "    <tr>\n",
       "      <th id=\"T_1de74_level0_row10\" class=\"row_heading level0 row10\" >age</th>\n",
       "      <td id=\"T_1de74_row10_col0\" class=\"data row10 col0\" >29.98</td>\n",
       "      <td id=\"T_1de74_row10_col1\" class=\"data row10 col1\" >26.99</td>\n",
       "      <td id=\"T_1de74_row10_col2\" class=\"data row10 col2\" >-10%</td>\n",
       "    </tr>\n",
       "    <tr>\n",
       "      <th id=\"T_1de74_level0_row11\" class=\"row_heading level0 row11\" >phone</th>\n",
       "      <td id=\"T_1de74_row11_col0\" class=\"data row11 col0\" >0.90</td>\n",
       "      <td id=\"T_1de74_row11_col1\" class=\"data row11 col1\" >0.90</td>\n",
       "      <td id=\"T_1de74_row11_col2\" class=\"data row11 col2\" >-0%</td>\n",
       "    </tr>\n",
       "    <tr>\n",
       "      <th id=\"T_1de74_level0_row12\" class=\"row_heading level0 row12\" >gender</th>\n",
       "      <td id=\"T_1de74_row12_col0\" class=\"data row12 col0\" >0.51</td>\n",
       "      <td id=\"T_1de74_row12_col1\" class=\"data row12 col1\" >0.51</td>\n",
       "      <td id=\"T_1de74_row12_col2\" class=\"data row12 col2\" >0%</td>\n",
       "    </tr>\n",
       "  </tbody>\n",
       "</table>\n"
      ],
      "text/plain": [
       "<pandas.io.formats.style.Styler at 0x21d53697b80>"
      ]
     },
     "execution_count": 11,
     "metadata": {},
     "output_type": "execute_result"
    }
   ],
   "source": [
    "df_grouped = df.groupby('churn').mean().T\n",
    "df_grouped['%_diff'] = (df_grouped[1] - df_grouped[0]) / df_grouped[0]\n",
    "df_grouped.sort_values('%_diff').style.format('{:.0%}', subset=['%_diff']).format('{:.2f}', subset=[0,1])"
   ]
  },
  {
   "cell_type": "markdown",
   "metadata": {},
   "source": [
    "Видим, что:\n",
    "- <b>различий по полу и факту оставления своего контактного номера</b> между группами в средних значениях <b>нет</b>;\n",
    "- <b>средний лайфтайм ушедшего клиента</b> всего <b>1 месяц</b> - скорее всего, это клиенты, купившие абонемент на 1 месяц и больше не продлившие его;\n",
    "- <b>ушедшие клиенты в среднем реже посещали фитнес-клуб</b> - на четверть реже за весь период и почти в 2 раза реже за предыдущий месяц по сравнению с неушедшими;\n",
    "- те, кто пришел <b>по акции \"приведи друга\" в среднем в 2 раза реже уходят в отток</b> (то есть, возможно, влиет тот факт, что если клиент ходит в зал один, без друга, то у него меньше мотивация);\n",
    "- среди ушедших клиентов в среднем почти <b>в 2 раза меньше</b> доля тех, кто хоть раз посетил <b>групповые занятия</b>;\n",
    "- ушедшие клиенты в среднем <b>на 27% реже имеют скидку на абонемент от работодателя</b>;\n",
    "- <b>ушедшие клиенты потратили денег</b> на доп.услуги фитнеса в среднем <b>меньше на 27%</b>;\n",
    "- <b>средний возраст</b> ушедших на <b>2 года меньше</b>;\n",
    "- ушедшие <b>на 12% реже живут/работают в данном районе</b>."
   ]
  },
  {
   "cell_type": "markdown",
   "metadata": {},
   "source": [
    "### Распределение признаков в группах"
   ]
  },
  {
   "cell_type": "markdown",
   "metadata": {},
   "source": [
    "Построим гистограммы распределения признаков в группе оттока и в группе тех, кто остался, и сравним их."
   ]
  },
  {
   "cell_type": "code",
   "execution_count": 12,
   "metadata": {},
   "outputs": [
    {
     "data": {
      "image/png": "[encoded data removed]",
      "text/plain": [
       "<Figure size 1224x1152 with 16 Axes>"
      ]
     },
     "metadata": {
      "needs_background": "light"
     },
     "output_type": "display_data"
    }
   ],
   "source": [
    "i=0\n",
    "j=0\n",
    "\n",
    "figure, axs = plt.subplots(4,4, figsize=(17, 16))\n",
    "\n",
    "for column in df.drop('churn', axis=1).columns.values:\n",
    "    \n",
    "    axs[j, i].hist(df.query('churn == 0')[column], label='no churn', color='olive')\n",
    "    axs[j, i].hist(df.query('churn == 1')[column], label='churn', color='salmon')\n",
    "    axs[j, i].legend()\n",
    "    axs[j, i].set_title(column)\n",
    "    axs[j, i].grid(alpha=0.4) \n",
    "    \n",
    "    i = i+1\n",
    "    if i == 4: \n",
    "        i=0\n",
    "        j= j+1\n",
    "        \n",
    "axs[3,1].axis('off')\n",
    "axs[3,2].axis('off')\n",
    "axs[3,3].axis('off')\n",
    "plt.show()    "
   ]
  },
  {
   "cell_type": "markdown",
   "metadata": {},
   "source": [
    "По гистограммам распределения видим всё те же закономерности:\n",
    "- пол и факт оставления контактного телефона примерно одинаковые в разных группах;\n",
    "- те, кто ушли, реже живут/работают рядом;\n",
    "- ушедшие реже имеют скидку от работодателя и реже пришли по программе \"приведи друга\";\n",
    "- среди ушедших намного чаще клиенты имели абонементы сроком всего на 1 месяц;\n",
    "- ушедшие клиенты реже посещали групповые занятия и в целом реже посещали фитнес-клуб;\n",
    "- в отток, как правило, не уходили клиенты с длительным лайфтаймом (более 6-7 месяцев)."
   ]
  },
  {
   "cell_type": "markdown",
   "metadata": {},
   "source": [
    "### Матрица корреляций между признаками"
   ]
  },
  {
   "cell_type": "markdown",
   "metadata": {},
   "source": [
    "Рассчитаем коэффициенты корреляции между попарными признаками (включая целевую переменную) и отобразим их на графике."
   ]
  },
  {
   "cell_type": "code",
   "execution_count": 13,
   "metadata": {},
   "outputs": [
    {
     "data": {
      "image/png": "[encoded data removed]",
      "text/plain": [
       "<Figure size 720x720 with 2 Axes>"
      ]
     },
     "metadata": {
      "needs_background": "light"
     },
     "output_type": "display_data"
    }
   ],
   "source": [
    "corr_total = df.corr()\n",
    "\n",
    "plt.figure(figsize=(10,10))\n",
    "sns.heatmap(corr_total, annot=True, fmt='.2f', square=True, cmap='rainbow')\n",
    "plt.title('Матрица корреляций между признаками', fontsize=16)\n",
    "plt.show()"
   ]
  },
  {
   "cell_type": "markdown",
   "metadata": {},
   "source": [
    "По матрице корреляций видим, что в нашем датафрейме <b>есть признаки, сильно коррелирующие между собой</b>, это:\n",
    "- длительность текущего абонемента в месяцах и количество месяцев, оставшихся до окончания абонемента. Очевидно, что у клиентов с длинным абонементом на текущий момент может оставаться большее число месяцев, чем, например, у клиентов с длительностью абонемента 1 месяц;\n",
    "- средняя частота посещений в неделю за всё время и на прошедший месяц. Скорее всего, клиенты, которые в целом ходят не очень часто, также и не очень часто занимались в последний месяц.\n",
    "\n",
    "Наличие сильно коррелирующих между собой признаков может отрицательно повлиять на правильность прогноза, но в данном случае в решении этой проблемы будем полагаться на модель.\n",
    "\n",
    "Также по матрице корреляций видим <b>наличие отрицателньой связи средней силы между целевой переменной</b> и некоторыми признаками, такими как <b>длительность абонемента, возраст, время до окончания абонемента, лайфтайм, средняя частота посещения фитнес-клуба в неделю</b>. Скорее всего, именно эти признаки дают наибольший вклад в предсказании того, уйдет клиент или останется. "
   ]
  },
  {
   "cell_type": "markdown",
   "metadata": {},
   "source": [
    "##### Вывод\n",
    "Таким образом, мы провели исследовательский анализ данных, с помощью которого выявили некоторые закономерности и предположили, какие признаки могут влиять на отток клиентов. Краткое резюме:\n",
    "1. Доля оттока - 27%.\n",
    "2. Пол не влияет на факт оттока, а вот возраст ушедших в среднем меньше на 2 года.\n",
    "3. Важно, чтобы фитнес располагался в районе проживания/работы клиента.\n",
    "4. Скидка от работодателя и наличие друзей в фитнес-клубе положительно сказываются на удержании клиента.\n",
    "5. Клиенты, которые купили абонемент на 1 месяц, часто не продлевают его.\n",
    "6. Клиенты, чаще посещающие фитнес-клуб в целом, а также групповые занятия в нем, более склонны к продолжению тренировок."
   ]
  },
  {
   "cell_type": "markdown",
   "metadata": {},
   "source": [
    "## Построение модели прогнозирования оттока клиентов"
   ]
  },
  {
   "cell_type": "markdown",
   "metadata": {},
   "source": [
    "В нашем случае целевой признак - факт оттока клиентов - является бинарным, поэтому прогнозирование этого признака является задачей бинарной классификации. В данном проекте воспользуемся моделями логистической регрессии и случайного леса и сравним  их качество. "
   ]
  },
  {
   "cell_type": "markdown",
   "metadata": {},
   "source": [
    "### Обучающая и валидационная выборка"
   ]
  },
  {
   "cell_type": "markdown",
   "metadata": {},
   "source": [
    "Сначала разобьем нашу выборку на обучающую и валидационную в соотношении 4:1. То есть, обучим модель на обучающих данных, а затем на валидационных данных (целевая переменная которых известна) проверим правильность предсказаний моделью. \n",
    "\n",
    "Сохраним в переменных `X` и `y` значения нецелевых (всех, кроме `churn`) и целевого (`churn`) признака, соответственно. "
   ]
  },
  {
   "cell_type": "code",
   "execution_count": 14,
   "metadata": {},
   "outputs": [],
   "source": [
    "X = df.drop('churn', axis=1)\n",
    "y = df['churn']"
   ]
  },
  {
   "cell_type": "markdown",
   "metadata": {},
   "source": [
    "Методом `train_test_split` из библиотеки `sklearn` разобьем выборку на обучающую и валидационную."
   ]
  },
  {
   "cell_type": "code",
   "execution_count": 15,
   "metadata": {},
   "outputs": [],
   "source": [
    "X_train, X_test, y_train, y_test = train_test_split(X, y, test_size=0.2, random_state=0)"
   ]
  },
  {
   "cell_type": "markdown",
   "metadata": {},
   "source": [
    "### Построение моделей методом LogisticRegression и RandomForestClassifier и оценка метрик"
   ]
  },
  {
   "cell_type": "markdown",
   "metadata": {},
   "source": [
    "Напишем функцию `make_predict`, которая будет строить модель на основании обучающей выборки и делать предсказание для валидационной выборки, после чего выведет метрики для этой модели. "
   ]
  },
  {
   "cell_type": "code",
   "execution_count": 16,
   "metadata": {},
   "outputs": [],
   "source": [
    "def make_predict(m, X_train, X_test, y_train, y_test):\n",
    "    \n",
    "    if m == LogisticRegression:\n",
    "        model = m(solver='liblinear', random_state=0)\n",
    "    else: model = m(random_state=0)\n",
    "    \n",
    "    model.fit(X_train, y_train)\n",
    "    y_pred = model.predict(X_test)\n",
    "    y_prob = model.predict_proba(X_test)[:,1]\n",
    "    \n",
    "    print('Model: {}'.format(m()))\n",
    "    print('Accuracy: {:.2f}'.format(accuracy_score(y_test, y_pred)))\n",
    "    print('Precision: {:.2f}'.format(precision_score(y_test, y_pred)))\n",
    "    print('Recall: {:.2f}'.format(recall_score(y_test, y_pred)))\n",
    "    print('F1: {:.2f}'.format(f1_score(y_test, y_pred)))\n",
    "    print('ROC_AUC: {:.2f}'.format(roc_auc_score(y_test, y_prob)))"
   ]
  },
  {
   "cell_type": "markdown",
   "metadata": {},
   "source": [
    "Функция готова, воспользуемся ей для построения прогноза моделью <b>LogicticRegression</b>."
   ]
  },
  {
   "cell_type": "code",
   "execution_count": 17,
   "metadata": {
    "scrolled": false
   },
   "outputs": [
    {
     "name": "stdout",
     "output_type": "stream",
     "text": [
      "Model: LogisticRegression()\n",
      "Accuracy: 0.93\n",
      "Precision: 0.86\n",
      "Recall: 0.83\n",
      "F1: 0.85\n",
      "ROC_AUC: 0.97\n"
     ]
    }
   ],
   "source": [
    "make_predict(LogisticRegression, X_train, X_test, y_train, y_test)"
   ]
  },
  {
   "cell_type": "markdown",
   "metadata": {},
   "source": [
    "И построим прогноз моделью <b>RandomForestClassifier</b>."
   ]
  },
  {
   "cell_type": "code",
   "execution_count": 18,
   "metadata": {
    "scrolled": false
   },
   "outputs": [
    {
     "name": "stdout",
     "output_type": "stream",
     "text": [
      "Model: RandomForestClassifier()\n",
      "Accuracy: 0.92\n",
      "Precision: 0.84\n",
      "Recall: 0.82\n",
      "F1: 0.83\n",
      "ROC_AUC: 0.97\n"
     ]
    }
   ],
   "source": [
    "make_predict(RandomForestClassifier, X_train, X_test, y_train, y_test)"
   ]
  },
  {
   "cell_type": "markdown",
   "metadata": {},
   "source": [
    "Прогнозы готовы, можем оценить их правильность с помощью выведенных метрик. В нашем случае нам <b>наиболее важна</b> такая метрика, как <b>полнота (recall)</b> - она показывает, насколько хорошо модель не дает ложноотрицательных предсказаний. То есть, если модель спрогнозирует, что клиент уёдет в отток, а на самом деле это не так (ложноположительный результат), это не очень страшно - фитнес-клуб направит на такого клиента привлекающие действия (фитнес на это потратит небольшие деньги, но это не так страшно, как потерять клиента). А вот если клиент на самом деле в отток уёдет, а модель предскажет, что нет (ложноотрицательный результат), то это страшно - фитнес вовремя не предложит клиенту заманчивые акции и точно потеряет клиента.\n",
    "\n",
    "Видим, что <b>модель логистической регрессии</b> в нашем случае получилась <b>более качественная</b> - как по метрике полнота (0,83 против 0,82 для случайного леса), так и по остальным метрикам (доля правильных ответов, точность, f1-оценка и площадь под кривой ошибок)."
   ]
  },
  {
   "cell_type": "markdown",
   "metadata": {},
   "source": [
    "##### Вывод\n",
    "При сравнении качества прогноза моделями LogisticRegression и RandomForestClassifier модель логистической регресси показала себя лучше как по метрике полнота (наиболее важной для нас), так и по остальным основным метрикам. Поэтому <b>для прогноза оттока клиентов в фитнес-клубе предпочтение отдаем модели логистической регрессии</b>. "
   ]
  },
  {
   "cell_type": "markdown",
   "metadata": {},
   "source": [
    "## Кластеризация клиентов"
   ]
  },
  {
   "cell_type": "markdown",
   "metadata": {},
   "source": [
    "На данном этапе произведем наиболее оптимальное деление всех клиентов фитнес-клуба на группы (кластеры) на основании нецелевых признаков. Это нужно для того, чтобы выявить характерные группы клиентов, отличающиеся своими особенностями, и для этих групп формировать маркетинговые предложения (а не для каждого клиента персонально)."
   ]
  },
  {
   "cell_type": "markdown",
   "metadata": {},
   "source": [
    "### Стандартизация данных "
   ]
  },
  {
   "cell_type": "markdown",
   "metadata": {},
   "source": [
    "Стандартизируем данные (приведем все значения к распределению, где средним является 0, а стандартным отклонением - 1), это нужно для того, чтобы признаки не имели разного веса только в зависимости от своей размерности. Воспользуемся методом `StandardScaler` из библиотеки `sklearn`."
   ]
  },
  {
   "cell_type": "code",
   "execution_count": 19,
   "metadata": {},
   "outputs": [],
   "source": [
    "scaler = StandardScaler()\n",
    "X_st = scaler.fit_transform(X)"
   ]
  },
  {
   "cell_type": "markdown",
   "metadata": {},
   "source": [
    "### Матрица расстояний между наблюдениями"
   ]
  },
  {
   "cell_type": "markdown",
   "metadata": {},
   "source": [
    "Теперь построим матрицу расстояний между наблюдениями функцией `linkage()` и на ее основе простроим дендрограмму, где функция сама предложит разделение всех наблюдений на оптимальные кластеры."
   ]
  },
  {
   "cell_type": "code",
   "execution_count": 20,
   "metadata": {},
   "outputs": [],
   "source": [
    "linked = linkage(X_st, method='ward')"
   ]
  },
  {
   "cell_type": "code",
   "execution_count": 21,
   "metadata": {},
   "outputs": [
    {
     "data": {
      "image/png": "[encoded data removed]",
      "text/plain": [
       "<Figure size 1080x720 with 1 Axes>"
      ]
     },
     "metadata": {
      "needs_background": "light"
     },
     "output_type": "display_data"
    }
   ],
   "source": [
    "plt.figure(figsize=(15, 10))\n",
    "dendrogram(linked, orientation='top')\n",
    "plt.title('Иерархия кластеров наблюдений', fontsize=16)\n",
    "plt.xticks([])\n",
    "plt.show()"
   ]
  },
  {
   "cell_type": "markdown",
   "metadata": {},
   "source": [
    "Видим, что программа предложила оптимальное число кластеров - 4, но, так как последний кластер слишком большой, разделим его ещё на 2 и получим 5 кластеров в итоге. "
   ]
  },
  {
   "cell_type": "markdown",
   "metadata": {},
   "source": [
    "### Кластеризация наблюдений алгоритмом KMeans"
   ]
  },
  {
   "cell_type": "markdown",
   "metadata": {},
   "source": [
    "Алгоритмом `KMeans` разделим все наблюдения на 5 кластеров и добавим информацию о принадлежности к определенному кластеру в датафрейм."
   ]
  },
  {
   "cell_type": "code",
   "execution_count": 22,
   "metadata": {},
   "outputs": [],
   "source": [
    "km = KMeans(n_clusters=5, random_state=0)\n",
    "labels = km.fit_predict(X_st)"
   ]
  },
  {
   "cell_type": "code",
   "execution_count": 23,
   "metadata": {},
   "outputs": [],
   "source": [
    "df['cluster'] = labels"
   ]
  },
  {
   "cell_type": "markdown",
   "metadata": {},
   "source": [
    "#### Средние значения признаков в кластерах"
   ]
  },
  {
   "cell_type": "markdown",
   "metadata": {},
   "source": [
    "Посмотрим на средние значения признаков для каждого кластера."
   ]
  },
  {
   "cell_type": "code",
   "execution_count": 24,
   "metadata": {
    "scrolled": false
   },
   "outputs": [
    {
     "data": {
      "text/html": [
       "<style type=\"text/css\">\n",
       "#T_52a90_row0_col0 {\n",
       "  background-color: #d4d4e8;\n",
       "  color: #000000;\n",
       "}\n",
       "#T_52a90_row0_col1 {\n",
       "  background-color: #78abd0;\n",
       "  color: #f1f1f1;\n",
       "}\n",
       "#T_52a90_row0_col2, #T_52a90_row8_col2 {\n",
       "  background-color: #ece7f2;\n",
       "  color: #000000;\n",
       "}\n",
       "#T_52a90_row0_col3, #T_52a90_row1_col2, #T_52a90_row2_col3, #T_52a90_row3_col2, #T_52a90_row4_col1, #T_52a90_row5_col3, #T_52a90_row6_col2, #T_52a90_row7_col3, #T_52a90_row8_col3, #T_52a90_row9_col3, #T_52a90_row10_col3, #T_52a90_row11_col3, #T_52a90_row12_col3 {\n",
       "  background-color: #fff7fb;\n",
       "  color: #000000;\n",
       "}\n",
       "#T_52a90_row0_col4, #T_52a90_row1_col3, #T_52a90_row2_col0, #T_52a90_row3_col0, #T_52a90_row4_col0, #T_52a90_row4_col2, #T_52a90_row4_col3, #T_52a90_row4_col4, #T_52a90_row5_col0, #T_52a90_row6_col0, #T_52a90_row7_col4, #T_52a90_row8_col4, #T_52a90_row9_col0, #T_52a90_row10_col4, #T_52a90_row11_col4, #T_52a90_row12_col4 {\n",
       "  background-color: #023858;\n",
       "  color: #f1f1f1;\n",
       "}\n",
       "#T_52a90_row1_col0 {\n",
       "  background-color: #034369;\n",
       "  color: #f1f1f1;\n",
       "}\n",
       "#T_52a90_row1_col1 {\n",
       "  background-color: #045c90;\n",
       "  color: #f1f1f1;\n",
       "}\n",
       "#T_52a90_row1_col4 {\n",
       "  background-color: #023e62;\n",
       "  color: #f1f1f1;\n",
       "}\n",
       "#T_52a90_row2_col1 {\n",
       "  background-color: #c8cde4;\n",
       "  color: #000000;\n",
       "}\n",
       "#T_52a90_row2_col2 {\n",
       "  background-color: #cdd0e5;\n",
       "  color: #000000;\n",
       "}\n",
       "#T_52a90_row2_col4 {\n",
       "  background-color: #fdf5fa;\n",
       "  color: #000000;\n",
       "}\n",
       "#T_52a90_row3_col1, #T_52a90_row11_col0 {\n",
       "  background-color: #84b0d3;\n",
       "  color: #f1f1f1;\n",
       "}\n",
       "#T_52a90_row3_col3 {\n",
       "  background-color: #b7c5df;\n",
       "  color: #000000;\n",
       "}\n",
       "#T_52a90_row3_col4 {\n",
       "  background-color: #bdc8e1;\n",
       "  color: #000000;\n",
       "}\n",
       "#T_52a90_row5_col1 {\n",
       "  background-color: #b9c6e0;\n",
       "  color: #000000;\n",
       "}\n",
       "#T_52a90_row5_col2 {\n",
       "  background-color: #f8f1f8;\n",
       "  color: #000000;\n",
       "}\n",
       "#T_52a90_row5_col4 {\n",
       "  background-color: #f3edf5;\n",
       "  color: #000000;\n",
       "}\n",
       "#T_52a90_row6_col1 {\n",
       "  background-color: #2f8bbe;\n",
       "  color: #f1f1f1;\n",
       "}\n",
       "#T_52a90_row6_col3, #T_52a90_row12_col1 {\n",
       "  background-color: #a2bcda;\n",
       "  color: #000000;\n",
       "}\n",
       "#T_52a90_row6_col4 {\n",
       "  background-color: #0569a4;\n",
       "  color: #f1f1f1;\n",
       "}\n",
       "#T_52a90_row7_col0 {\n",
       "  background-color: #034b76;\n",
       "  color: #f1f1f1;\n",
       "}\n",
       "#T_52a90_row7_col1 {\n",
       "  background-color: #4c99c5;\n",
       "  color: #f1f1f1;\n",
       "}\n",
       "#T_52a90_row7_col2 {\n",
       "  background-color: #e5e1ef;\n",
       "  color: #000000;\n",
       "}\n",
       "#T_52a90_row8_col0 {\n",
       "  background-color: #023f64;\n",
       "  color: #f1f1f1;\n",
       "}\n",
       "#T_52a90_row8_col1 {\n",
       "  background-color: #97b7d7;\n",
       "  color: #000000;\n",
       "}\n",
       "#T_52a90_row9_col1 {\n",
       "  background-color: #b8c6e0;\n",
       "  color: #000000;\n",
       "}\n",
       "#T_52a90_row9_col2 {\n",
       "  background-color: #f9f2f8;\n",
       "  color: #000000;\n",
       "}\n",
       "#T_52a90_row9_col4 {\n",
       "  background-color: #f4edf6;\n",
       "  color: #000000;\n",
       "}\n",
       "#T_52a90_row10_col0 {\n",
       "  background-color: #034973;\n",
       "  color: #f1f1f1;\n",
       "}\n",
       "#T_52a90_row10_col1 {\n",
       "  background-color: #4094c3;\n",
       "  color: #f1f1f1;\n",
       "}\n",
       "#T_52a90_row10_col2 {\n",
       "  background-color: #e7e3f0;\n",
       "  color: #000000;\n",
       "}\n",
       "#T_52a90_row11_col1 {\n",
       "  background-color: #a7bddb;\n",
       "  color: #000000;\n",
       "}\n",
       "#T_52a90_row11_col2 {\n",
       "  background-color: #ced0e6;\n",
       "  color: #000000;\n",
       "}\n",
       "#T_52a90_row12_col0 {\n",
       "  background-color: #67a4cc;\n",
       "  color: #f1f1f1;\n",
       "}\n",
       "#T_52a90_row12_col2 {\n",
       "  background-color: #d0d1e6;\n",
       "  color: #000000;\n",
       "}\n",
       "</style>\n",
       "<table id=\"T_52a90_\">\n",
       "  <thead>\n",
       "    <tr>\n",
       "      <th class=\"index_name level0\" >cluster</th>\n",
       "      <th class=\"col_heading level0 col0\" >0</th>\n",
       "      <th class=\"col_heading level0 col1\" >1</th>\n",
       "      <th class=\"col_heading level0 col2\" >2</th>\n",
       "      <th class=\"col_heading level0 col3\" >3</th>\n",
       "      <th class=\"col_heading level0 col4\" >4</th>\n",
       "    </tr>\n",
       "  </thead>\n",
       "  <tbody>\n",
       "    <tr>\n",
       "      <th id=\"T_52a90_level0_row0\" class=\"row_heading level0 row0\" >gender</th>\n",
       "      <td id=\"T_52a90_row0_col0\" class=\"data row0 col0\" >0.50</td>\n",
       "      <td id=\"T_52a90_row0_col1\" class=\"data row0 col1\" >0.52</td>\n",
       "      <td id=\"T_52a90_row0_col2\" class=\"data row0 col2\" >0.50</td>\n",
       "      <td id=\"T_52a90_row0_col3\" class=\"data row0 col3\" >0.49</td>\n",
       "      <td id=\"T_52a90_row0_col4\" class=\"data row0 col4\" >0.56</td>\n",
       "    </tr>\n",
       "    <tr>\n",
       "      <th id=\"T_52a90_level0_row1\" class=\"row_heading level0 row1\" >near_location</th>\n",
       "      <td id=\"T_52a90_row1_col0\" class=\"data row1 col0\" >0.96</td>\n",
       "      <td id=\"T_52a90_row1_col1\" class=\"data row1 col1\" >0.86</td>\n",
       "      <td id=\"T_52a90_row1_col2\" class=\"data row1 col2\" >0.00</td>\n",
       "      <td id=\"T_52a90_row1_col3\" class=\"data row1 col3\" >1.00</td>\n",
       "      <td id=\"T_52a90_row1_col4\" class=\"data row1 col4\" >0.98</td>\n",
       "    </tr>\n",
       "    <tr>\n",
       "      <th id=\"T_52a90_level0_row2\" class=\"row_heading level0 row2\" >partner</th>\n",
       "      <td id=\"T_52a90_row2_col0\" class=\"data row2 col0\" >0.78</td>\n",
       "      <td id=\"T_52a90_row2_col1\" class=\"data row2 col1\" >0.47</td>\n",
       "      <td id=\"T_52a90_row2_col2\" class=\"data row2 col2\" >0.46</td>\n",
       "      <td id=\"T_52a90_row2_col3\" class=\"data row2 col3\" >0.35</td>\n",
       "      <td id=\"T_52a90_row2_col4\" class=\"data row2 col4\" >0.36</td>\n",
       "    </tr>\n",
       "    <tr>\n",
       "      <th id=\"T_52a90_level0_row3\" class=\"row_heading level0 row3\" >promo_friends</th>\n",
       "      <td id=\"T_52a90_row3_col0\" class=\"data row3 col0\" >0.57</td>\n",
       "      <td id=\"T_52a90_row3_col1\" class=\"data row3 col1\" >0.31</td>\n",
       "      <td id=\"T_52a90_row3_col2\" class=\"data row3 col2\" >0.08</td>\n",
       "      <td id=\"T_52a90_row3_col3\" class=\"data row3 col3\" >0.24</td>\n",
       "      <td id=\"T_52a90_row3_col4\" class=\"data row3 col4\" >0.23</td>\n",
       "    </tr>\n",
       "    <tr>\n",
       "      <th id=\"T_52a90_level0_row4\" class=\"row_heading level0 row4\" >phone</th>\n",
       "      <td id=\"T_52a90_row4_col0\" class=\"data row4 col0\" >1.00</td>\n",
       "      <td id=\"T_52a90_row4_col1\" class=\"data row4 col1\" >0.00</td>\n",
       "      <td id=\"T_52a90_row4_col2\" class=\"data row4 col2\" >1.00</td>\n",
       "      <td id=\"T_52a90_row4_col3\" class=\"data row4 col3\" >1.00</td>\n",
       "      <td id=\"T_52a90_row4_col4\" class=\"data row4 col4\" >1.00</td>\n",
       "    </tr>\n",
       "    <tr>\n",
       "      <th id=\"T_52a90_level0_row5\" class=\"row_heading level0 row5\" >contract_period</th>\n",
       "      <td id=\"T_52a90_row5_col0\" class=\"data row5 col0\" >10.89</td>\n",
       "      <td id=\"T_52a90_row5_col1\" class=\"data row5 col1\" >4.79</td>\n",
       "      <td id=\"T_52a90_row5_col2\" class=\"data row5 col2\" >2.35</td>\n",
       "      <td id=\"T_52a90_row5_col3\" class=\"data row5 col3\" >1.95</td>\n",
       "      <td id=\"T_52a90_row5_col4\" class=\"data row5 col4\" >2.67</td>\n",
       "    </tr>\n",
       "    <tr>\n",
       "      <th id=\"T_52a90_level0_row6\" class=\"row_heading level0 row6\" >group_visits</th>\n",
       "      <td id=\"T_52a90_row6_col0\" class=\"data row6 col0\" >0.54</td>\n",
       "      <td id=\"T_52a90_row6_col1\" class=\"data row6 col1\" >0.43</td>\n",
       "      <td id=\"T_52a90_row6_col2\" class=\"data row6 col2\" >0.22</td>\n",
       "      <td id=\"T_52a90_row6_col3\" class=\"data row6 col3\" >0.34</td>\n",
       "      <td id=\"T_52a90_row6_col4\" class=\"data row6 col4\" >0.47</td>\n",
       "    </tr>\n",
       "    <tr>\n",
       "      <th id=\"T_52a90_level0_row7\" class=\"row_heading level0 row7\" >age</th>\n",
       "      <td id=\"T_52a90_row7_col0\" class=\"data row7 col0\" >29.98</td>\n",
       "      <td id=\"T_52a90_row7_col1\" class=\"data row7 col1\" >29.30</td>\n",
       "      <td id=\"T_52a90_row7_col2\" class=\"data row7 col2\" >28.48</td>\n",
       "      <td id=\"T_52a90_row7_col3\" class=\"data row7 col3\" >28.17</td>\n",
       "      <td id=\"T_52a90_row7_col4\" class=\"data row7 col4\" >30.13</td>\n",
       "    </tr>\n",
       "    <tr>\n",
       "      <th id=\"T_52a90_level0_row8\" class=\"row_heading level0 row8\" >avg_additional_charges_total</th>\n",
       "      <td id=\"T_52a90_row8_col0\" class=\"data row8 col0\" >160.76</td>\n",
       "      <td id=\"T_52a90_row8_col1\" class=\"data row8 col1\" >143.96</td>\n",
       "      <td id=\"T_52a90_row8_col2\" class=\"data row8 col2\" >135.46</td>\n",
       "      <td id=\"T_52a90_row8_col3\" class=\"data row8 col3\" >131.62</td>\n",
       "      <td id=\"T_52a90_row8_col4\" class=\"data row8 col4\" >161.66</td>\n",
       "    </tr>\n",
       "    <tr>\n",
       "      <th id=\"T_52a90_level0_row9\" class=\"row_heading level0 row9\" >month_to_end_contract</th>\n",
       "      <td id=\"T_52a90_row9_col0\" class=\"data row9 col0\" >9.95</td>\n",
       "      <td id=\"T_52a90_row9_col1\" class=\"data row9 col1\" >4.48</td>\n",
       "      <td id=\"T_52a90_row9_col2\" class=\"data row9 col2\" >2.20</td>\n",
       "      <td id=\"T_52a90_row9_col3\" class=\"data row9 col3\" >1.86</td>\n",
       "      <td id=\"T_52a90_row9_col4\" class=\"data row9 col4\" >2.46</td>\n",
       "    </tr>\n",
       "    <tr>\n",
       "      <th id=\"T_52a90_level0_row10\" class=\"row_heading level0 row10\" >lifetime</th>\n",
       "      <td id=\"T_52a90_row10_col0\" class=\"data row10 col0\" >4.74</td>\n",
       "      <td id=\"T_52a90_row10_col1\" class=\"data row10 col1\" >3.92</td>\n",
       "      <td id=\"T_52a90_row10_col2\" class=\"data row10 col2\" >2.81</td>\n",
       "      <td id=\"T_52a90_row10_col3\" class=\"data row10 col3\" >2.44</td>\n",
       "      <td id=\"T_52a90_row10_col4\" class=\"data row10 col4\" >4.90</td>\n",
       "    </tr>\n",
       "    <tr>\n",
       "      <th id=\"T_52a90_level0_row11\" class=\"row_heading level0 row11\" >avg_class_frequency_total</th>\n",
       "      <td id=\"T_52a90_row11_col0\" class=\"data row11 col0\" >1.98</td>\n",
       "      <td id=\"T_52a90_row11_col1\" class=\"data row11 col1\" >1.85</td>\n",
       "      <td id=\"T_52a90_row11_col2\" class=\"data row11 col2\" >1.66</td>\n",
       "      <td id=\"T_52a90_row11_col3\" class=\"data row11 col3\" >1.25</td>\n",
       "      <td id=\"T_52a90_row11_col4\" class=\"data row11 col4\" >2.85</td>\n",
       "    </tr>\n",
       "    <tr>\n",
       "      <th id=\"T_52a90_level0_row12\" class=\"row_heading level0 row12\" >avg_class_frequency_current_month</th>\n",
       "      <td id=\"T_52a90_row12_col0\" class=\"data row12 col0\" >1.97</td>\n",
       "      <td id=\"T_52a90_row12_col1\" class=\"data row12 col1\" >1.72</td>\n",
       "      <td id=\"T_52a90_row12_col2\" class=\"data row12 col2\" >1.48</td>\n",
       "      <td id=\"T_52a90_row12_col3\" class=\"data row12 col3\" >1.01</td>\n",
       "      <td id=\"T_52a90_row12_col4\" class=\"data row12 col4\" >2.85</td>\n",
       "    </tr>\n",
       "  </tbody>\n",
       "</table>\n"
      ],
      "text/plain": [
       "<pandas.io.formats.style.Styler at 0x21d53c09520>"
      ]
     },
     "execution_count": 24,
     "metadata": {},
     "output_type": "execute_result"
    }
   ],
   "source": [
    "df.drop('churn', axis=1).groupby('cluster').mean().T.style.background_gradient(axis=1).format('{:.2f}')"
   ]
  },
  {
   "cell_type": "markdown",
   "metadata": {},
   "source": [
    "Видим, что для <b>кластера \"0\" и кластера \"4\" характерна бОльшая доля заинтересованных клиентов</b> - они чаще посещают фитнес и, в частности, групповые тренировки, живут рядом, старше, потратили на доп.услуги фитнеса больше денег и имеют больший лайфтайм, чем остальные клиенты. Отличаются эти кластеры по нескольким признакам - в кластере \"0\" клиенты чаще имеют скидку от работодателя, ходят в клуб с друзьями, у них длительность абонемента в среднем ближе к 12 месяцам (в кластере \"4\" длительность абонемента ближе к 1 месяцу).\n",
    "\n",
    "Клиенты в <b>кластерах \"2\" и \"3\" наименее заинтересованные:</b> реже посещают клуб и групповые занятия, имеют короткий абонемент (чаще на 1 месяц), их лайфтайм в среднем 2,4-2,8 месяцев. Отличаются эти кластеры, в основном, по признаку расположения фитнеса - для группы \"2\" клуб расположен не в районе проживания/работы. \n",
    "\n",
    "Кластер \"1\" является промежуточным между \"0\", \"4\" и \"2\", \"3\". Однако, в этом кластере клиенты не оставляют свой номер телефона. "
   ]
  },
  {
   "cell_type": "markdown",
   "metadata": {},
   "source": [
    "#### Распределение признаков в кластерах"
   ]
  },
  {
   "cell_type": "markdown",
   "metadata": {},
   "source": [
    "Теперь построим гистограммы распределения признаков в разных кластерах. "
   ]
  },
  {
   "cell_type": "code",
   "execution_count": 25,
   "metadata": {
    "scrolled": false
   },
   "outputs": [
    {
     "data": {
      "image/png": "[encoded data removed]",
      "text/plain": [
       "<Figure size 1800x360 with 5 Axes>"
      ]
     },
     "metadata": {},
     "output_type": "display_data"
    },
    {
     "data": {
      "image/png": "[encoded data removed]",
      "text/plain": [
       "<Figure size 1800x360 with 5 Axes>"
      ]
     },
     "metadata": {},
     "output_type": "display_data"
    },
    {
     "data": {
      "image/png": "[encoded data removed]",
      "text/plain": [
       "<Figure size 1800x360 with 5 Axes>"
      ]
     },
     "metadata": {},
     "output_type": "display_data"
    },
    {
     "data": {
      "image/png": "[encoded data removed]",
      "text/plain": [
       "<Figure size 1800x360 with 5 Axes>"
      ]
     },
     "metadata": {},
     "output_type": "display_data"
    },
    {
     "data": {
      "image/png": "[encoded data removed]",
      "text/plain": [
       "<Figure size 1800x360 with 5 Axes>"
      ]
     },
     "metadata": {},
     "output_type": "display_data"
    },
    {
     "data": {
      "image/png": "[encoded data removed]",
      "text/plain": [
       "<Figure size 1800x360 with 5 Axes>"
      ]
     },
     "metadata": {},
     "output_type": "display_data"
    },
    {
     "data": {
      "image/png": "[encoded data removed]",
      "text/plain": [
       "<Figure size 1800x360 with 5 Axes>"
      ]
     },
     "metadata": {},
     "output_type": "display_data"
    },
    {
     "data": {
      "image/png": "[encoded data removed]",
      "text/plain": [
       "<Figure size 1800x360 with 5 Axes>"
      ]
     },
     "metadata": {},
     "output_type": "display_data"
    },
    {
     "data": {
      "image/png": "[encoded data removed]",
      "text/plain": [
       "<Figure size 1800x360 with 5 Axes>"
      ]
     },
     "metadata": {},
     "output_type": "display_data"
    },
    {
     "data": {
      "image/png": "[encoded data removed]",
      "text/plain": [
       "<Figure size 1800x360 with 5 Axes>"
      ]
     },
     "metadata": {},
     "output_type": "display_data"
    },
    {
     "data": {
      "image/png": "[encoded data removed]",
      "text/plain": [
       "<Figure size 1800x360 with 5 Axes>"
      ]
     },
     "metadata": {},
     "output_type": "display_data"
    },
    {
     "data": {
      "image/png": "[encoded data removed]",
      "text/plain": [
       "<Figure size 1800x360 with 5 Axes>"
      ]
     },
     "metadata": {},
     "output_type": "display_data"
    },
    {
     "data": {
      "image/png": "[encoded data removed]",
      "text/plain": [
       "<Figure size 1800x360 with 5 Axes>"
      ]
     },
     "metadata": {},
     "output_type": "display_data"
    }
   ],
   "source": [
    "with sns.axes_style('whitegrid'), sns.plotting_context('notebook', font_scale=2):\n",
    "    for column in df.drop(['churn', 'cluster'], axis=1).columns.values:\n",
    "        ax = sns.displot(data=df, x=column, col='cluster')\n",
    "        ax.set(xlabel=None)\n",
    "        ax.fig.subplots_adjust(top=.8)\n",
    "        ax.fig.suptitle(column)\n",
    "        plt.show()"
   ]
  },
  {
   "cell_type": "markdown",
   "metadata": {},
   "source": [
    "По графикам распределений прослеживаются те же закономерности, что и по средним значениям в группах. Дополнительно видим, что:\n",
    "- в кластере \"0\" совсем нет абонементов длительностью в 1 месяц;\n",
    "- в кластере \"2\" и \"3\" до конца абонемента остается, в основном, 1 месяц. "
   ]
  },
  {
   "cell_type": "markdown",
   "metadata": {},
   "source": [
    "#### Доля оттока для каждого кластера"
   ]
  },
  {
   "cell_type": "markdown",
   "metadata": {},
   "source": [
    "Теперь посчитаем, какой процент ушедших клиентов есть в каждом из кластеров. "
   ]
  },
  {
   "cell_type": "code",
   "execution_count": 26,
   "metadata": {},
   "outputs": [
    {
     "name": "stdout",
     "output_type": "stream",
     "text": [
      "Доля оттока для разных кластерных групп:\n"
     ]
    },
    {
     "data": {
      "text/html": [
       "<style type=\"text/css\">\n",
       "#T_bfd77_row0_col0 {\n",
       "  background-color: #ffffe5;\n",
       "  color: #000000;\n",
       "}\n",
       "#T_bfd77_row1_col0 {\n",
       "  background-color: #fe9b2b;\n",
       "  color: #000000;\n",
       "}\n",
       "#T_bfd77_row2_col0 {\n",
       "  background-color: #a13804;\n",
       "  color: #f1f1f1;\n",
       "}\n",
       "#T_bfd77_row3_col0 {\n",
       "  background-color: #662506;\n",
       "  color: #f1f1f1;\n",
       "}\n",
       "#T_bfd77_row4_col0 {\n",
       "  background-color: #fffaca;\n",
       "  color: #000000;\n",
       "}\n",
       "</style>\n",
       "<table id=\"T_bfd77_\">\n",
       "  <thead>\n",
       "    <tr>\n",
       "      <th class=\"blank level0\" >&nbsp;</th>\n",
       "      <th class=\"col_heading level0 col0\" >churn</th>\n",
       "    </tr>\n",
       "    <tr>\n",
       "      <th class=\"index_name level0\" >cluster</th>\n",
       "      <th class=\"blank col0\" >&nbsp;</th>\n",
       "    </tr>\n",
       "  </thead>\n",
       "  <tbody>\n",
       "    <tr>\n",
       "      <th id=\"T_bfd77_level0_row0\" class=\"row_heading level0 row0\" >0</th>\n",
       "      <td id=\"T_bfd77_row0_col0\" class=\"data row0 col0\" >2.8%</td>\n",
       "    </tr>\n",
       "    <tr>\n",
       "      <th id=\"T_bfd77_level0_row1\" class=\"row_heading level0 row1\" >1</th>\n",
       "      <td id=\"T_bfd77_row1_col0\" class=\"data row1 col0\" >26.8%</td>\n",
       "    </tr>\n",
       "    <tr>\n",
       "      <th id=\"T_bfd77_level0_row2\" class=\"row_heading level0 row2\" >2</th>\n",
       "      <td id=\"T_bfd77_row2_col0\" class=\"data row2 col0\" >44.4%</td>\n",
       "    </tr>\n",
       "    <tr>\n",
       "      <th id=\"T_bfd77_level0_row3\" class=\"row_heading level0 row3\" >3</th>\n",
       "      <td id=\"T_bfd77_row3_col0\" class=\"data row3 col0\" >51.4%</td>\n",
       "    </tr>\n",
       "    <tr>\n",
       "      <th id=\"T_bfd77_level0_row4\" class=\"row_heading level0 row4\" >4</th>\n",
       "      <td id=\"T_bfd77_row4_col0\" class=\"data row4 col0\" >6.8%</td>\n",
       "    </tr>\n",
       "  </tbody>\n",
       "</table>\n"
      ],
      "text/plain": [
       "<pandas.io.formats.style.Styler at 0x21d582012b0>"
      ]
     },
     "execution_count": 26,
     "metadata": {},
     "output_type": "execute_result"
    }
   ],
   "source": [
    "print('Доля оттока для разных кластерных групп:')\n",
    "df.groupby('cluster').agg({'churn':'mean'}).style.background_gradient(cmap='YlOrBr').format('{:.1%}')"
   ]
  },
  {
   "cell_type": "markdown",
   "metadata": {},
   "source": [
    "Видим, что <b>самым удерживаемым является кластер \"0\"</b> - процент оттока всего 2,8% - это тот самый класс, где пользователи в среднем имеют длительные абонементы, часто занимаются, имеют скидки от работодателя и приходят в зал в друзьями. \n",
    "\n",
    "Также <b>неплохо удерживаемым является кластер \"4\"</b> - в нем доля оттока 6,8%. В этом кластере тоже заинтереснованные в занятиях  клиенты, но они реже имеют скидку от работодателя и друзей в клубе, у них в среднем короткий абонемент. \n",
    "\n",
    "Кластером со <b>средним удержанием - 27% - является группа \"1\"</b> - это клиенты, обладающими в среднем промежуточными характеристиками по каждому из признаков. Также это только те клиенты, которые не оставляет фитнесу свой номер телефона. \n",
    "\n",
    "<b>Большим процентом оттока характеризуется кластер \"2\"</b> - 44%. Это клиенты, которые живут/работают далеко от фитнеса и относительно редко его посещают. Также в этой группе, в основном, короткие абонементы, наименьший процент посещений групповых занятий, зато чаще есть скидка от работодателя. \n",
    "\n",
    "И <b>наибольший процент оттока в кластере \"3\"</b> - 51%, то есть более половины клиентов с такими характеристиками в следующем месяце не возвращаются. В этой группе клиенты наименее заинтересованы - редко занимаются, имеют короткий абонемент. Но фитнес-клуб расположен в их районе проживания/работы, так что не всё потеряно и на эту группу можно влиять. "
   ]
  },
  {
   "cell_type": "markdown",
   "metadata": {},
   "source": [
    "#### Качество кластеризации"
   ]
  },
  {
   "cell_type": "markdown",
   "metadata": {},
   "source": [
    "Оценим качество разбиения на кластеры метрикой `silhouette_score` из библиотеки `sklearn`."
   ]
  },
  {
   "cell_type": "code",
   "execution_count": 27,
   "metadata": {
    "scrolled": true
   },
   "outputs": [
    {
     "name": "stdout",
     "output_type": "stream",
     "text": [
      "Silhouette_score для кластеризации методом KMeans: 0.14\n"
     ]
    }
   ],
   "source": [
    "print('Silhouette_score для кластеризации методом KMeans: {:.2f}'.format(silhouette_score(X_st, labels)))"
   ]
  },
  {
   "cell_type": "markdown",
   "metadata": {},
   "source": [
    "Значение метрики может быть от -1 до 1, в нашем случае оценка выше среднего, но далека от идеала. Значит, разбиение на кластеры в нашем случае далеко не совершенно. В дальнейшем можно попробовать подобрать более качественный алгоритм. "
   ]
  },
  {
   "cell_type": "markdown",
   "metadata": {},
   "source": [
    "##### Выводы\n",
    "Таким образом, на данном этапе произведена кластеризация наблюдений. Сформировано 5 групп наблюдений, в каждой из которых клиенты обладают похожими характеристиками. Выявлено, что <b>клиенты из кластеров \"2\" и \"3\" наиболее склонны к оттоку, а клиенты из кластеров \"0\" и \"4\" наиболее надежны.</b> "
   ]
  },
  {
   "cell_type": "markdown",
   "metadata": {},
   "source": [
    "## Выводы"
   ]
  },
  {
   "cell_type": "markdown",
   "metadata": {},
   "source": [
    "Произведена работа по анализу и прогнозированию оттока клиентов в фитнес-клубе. Анализ производился на основании 4 тысяч наблюдений о поведении клиентов фитнес-клуба, каждое из которых характеризовалось 13-ю описательными признаками и целевым признаком - фактом оттока. Стояла задача научиться предсказывать на основании имеющихся характерных признаков на текущий месяц, уйдет ли клиент в следующем месяце или нет. В бизнесе это нужно, чтобы вовремя направить действия на удержание уходящего клиента. \n",
    "\n",
    "<b>Выявлены следующие закономерности:</b>\n",
    "1. В среднем доля оттока - 27%.\n",
    "2. Факт оттока не зависит от пола клиентов, а также от факта оставления клиентом своего контактного номера. \n",
    "3. Факт оттока имеет отрицательную корреляционную связь средней силы со следующими признаками:\n",
    "    - длительность абонемента (чем дольше, тем менее вероятен отток);\n",
    "    - возраст (старшие клиенты более надежны);\n",
    "    - количество месяцев до конца абонемента (чем меньше, тем более вероятен отток);\n",
    "    - лайфтайм (чем дольше клиент в клубе, тем с меньшей вероятностью он уйдет);\n",
    "    - среднее количество посещений в неделю за прошедший месяц (чем реже клиент ходит в фитнес, тем более вероятно, что он больше не придет).\n",
    "\n",
    "<b>Произведено обучение двух моделей бинарной классификации: LogisticRegression и RandomForestClassifier</b>, после чего произведено сравнение качества прогноза для каждой модели. Выявлено, что модель логистической регрессии имеет более высокие значения метрик по сравнению с моделью случайного леса. В частности, метрика полноты (чем выше, тем меньше доля ложноотрицательных прогнозов) для LogisticRegression равна 0,83, а для RandomForestClassifier - 0,82. Следовательно, <b>для финального прогноза оттока клиентов в фитнес-клубе следует использовать модель LogisticRegression.</b>\n",
    "\n",
    "<b>Произведена кластеризация наблюдений алгоритмом KMeans на 5 основных групп.</b> Для каждой группы выявлены характерные особенности, а также определена средняя доля оттока. На основании чего можно дать <b>следующие рекомендации для стратегии взаимодействия с клиентами из разных групп:</b>\n",
    "1. Группа \"0\" - активные пользователели с наименьшей долей оттока - 2,8%. Можно не тратить дополнительные ресурсы на удержание таких пользователей.\n",
    "2. Группа \"4\" - пользователи с небольшим процентом оттока - 6,8%. В данном кластере клиенты активно занимаются, но длительность их абонемента короткая и они реже имеют скидку от работодателя на услуги фитнес-клуба. Поэтому можно предложить данной категории клиентов более выгодные условия покупки абонемента на длительный срок. \n",
    "3. Группа \"1\" - пользователи со средней долей оттока - 27%. Данные пользователи имеют средние показатели по большинству признаков. Но также они не оставили свой контактный номер телефона. Можно для начала попросить клиентов оставить свой контактный телефон, ведь именно по телефону удобнее всего предлагать различные акции. \n",
    "4. Группа \"2\" и группа \"3\" - пользователи с высокой долей оттока - 44% и 51% ушедших, соответственно. Именно на этих пользователей должны быть направлены дополнительные маркетинговые акции. Клиенты из этих групп, как правило, имеют короткий абонемент и реже приходят заниматься. Можно заинтересновать их скидками на покупку длительного абонемента, а также рассылкой об интересных событиях, проводимых в клубе (празднование нового года, новая групповая тренировка и т.д.) - возможно, это замотивирует клиентов чаще приходить в фитнес. В данном случае наиболее перспективен для привлечения кластер \"3\", так как клиенты, принадлежашие к нему живут/работают в районе фитнес-клуба, в отличие от кластера \"2\".\n",
    "\n",
    "Что касается в целом для всех наблюдений - <b>нужно мотивировать клиентов покупать абонемент на более длительный срок</b> (скидки, специальные предложения), <b>мотивировать приводить друзей</b> (это влияет на факт оттока) специальными акциями, <b>мотивировать чаще приходить в клуб путем организации различных мероприятий/новых групповых тренировок.</b>\n",
    "    "
   ]
  }
 ],
 "metadata": {
  "ExecuteTimeLog": [
   {
    "duration": 460,
    "start_time": "2022-05-26T22:40:46.683Z"
   },
   {
    "duration": 97,
    "start_time": "2022-05-26T22:40:58.413Z"
   },
   {
    "duration": 37,
    "start_time": "2022-05-26T22:41:01.801Z"
   },
   {
    "duration": 95,
    "start_time": "2022-05-26T22:41:26.019Z"
   },
   {
    "duration": 14,
    "start_time": "2022-05-26T22:41:28.443Z"
   },
   {
    "duration": 17,
    "start_time": "2022-05-26T22:41:35.240Z"
   },
   {
    "duration": 13,
    "start_time": "2022-05-26T22:42:45.227Z"
   },
   {
    "duration": 8,
    "start_time": "2022-05-26T22:43:15.210Z"
   },
   {
    "duration": 42,
    "start_time": "2022-05-26T22:47:38.582Z"
   },
   {
    "duration": 42,
    "start_time": "2022-05-26T22:47:50.261Z"
   },
   {
    "duration": 6,
    "start_time": "2022-05-26T22:51:40.355Z"
   },
   {
    "duration": 10,
    "start_time": "2022-05-26T22:51:46.943Z"
   },
   {
    "duration": 43,
    "start_time": "2022-05-26T22:51:48.760Z"
   },
   {
    "duration": 253,
    "start_time": "2022-05-26T22:52:18.971Z"
   },
   {
    "duration": 8,
    "start_time": "2022-05-26T22:52:46.699Z"
   },
   {
    "duration": 24,
    "start_time": "2022-05-26T22:57:16.637Z"
   },
   {
    "duration": 11,
    "start_time": "2022-05-26T22:57:23.173Z"
   },
   {
    "duration": 9,
    "start_time": "2022-05-26T22:57:37.188Z"
   },
   {
    "duration": 15,
    "start_time": "2022-05-26T22:57:56.203Z"
   },
   {
    "duration": 8,
    "start_time": "2022-05-26T22:58:00.514Z"
   },
   {
    "duration": 10,
    "start_time": "2022-05-26T22:58:33.898Z"
   },
   {
    "duration": 3,
    "start_time": "2022-05-26T22:58:50.059Z"
   },
   {
    "duration": 11,
    "start_time": "2022-05-26T22:58:54.556Z"
   },
   {
    "duration": 3,
    "start_time": "2022-05-26T22:58:59.810Z"
   },
   {
    "duration": 12,
    "start_time": "2022-05-26T22:59:01.818Z"
   },
   {
    "duration": 62,
    "start_time": "2022-05-26T22:59:15.727Z"
   },
   {
    "duration": 6,
    "start_time": "2022-05-26T23:00:04.456Z"
   },
   {
    "duration": 29,
    "start_time": "2022-05-26T23:00:32.927Z"
   },
   {
    "duration": 7,
    "start_time": "2022-05-26T23:00:44.594Z"
   },
   {
    "duration": 4,
    "start_time": "2022-05-26T23:01:21.345Z"
   },
   {
    "duration": 6,
    "start_time": "2022-05-26T23:01:33.997Z"
   },
   {
    "duration": 21,
    "start_time": "2022-05-26T23:02:49.296Z"
   },
   {
    "duration": 10,
    "start_time": "2022-05-26T23:03:12.958Z"
   },
   {
    "duration": 7,
    "start_time": "2022-05-26T23:06:18.691Z"
   },
   {
    "duration": 6,
    "start_time": "2022-05-26T23:06:28.898Z"
   },
   {
    "duration": 8,
    "start_time": "2022-05-26T23:06:32.139Z"
   },
   {
    "duration": 7,
    "start_time": "2022-05-26T23:06:41.454Z"
   },
   {
    "duration": 482,
    "start_time": "2022-05-27T07:39:55.586Z"
   },
   {
    "duration": 155,
    "start_time": "2022-05-27T07:39:56.070Z"
   },
   {
    "duration": 23,
    "start_time": "2022-05-27T07:39:56.228Z"
   },
   {
    "duration": 38,
    "start_time": "2022-05-27T07:39:56.254Z"
   },
   {
    "duration": 31,
    "start_time": "2022-05-27T07:39:56.294Z"
   },
   {
    "duration": 13,
    "start_time": "2022-05-27T07:39:56.327Z"
   },
   {
    "duration": 65,
    "start_time": "2022-05-27T07:39:56.341Z"
   },
   {
    "duration": 9,
    "start_time": "2022-05-27T07:39:56.408Z"
   },
   {
    "duration": 17,
    "start_time": "2022-05-27T07:39:56.419Z"
   },
   {
    "duration": 11,
    "start_time": "2022-05-27T07:39:56.439Z"
   },
   {
    "duration": 21,
    "start_time": "2022-05-27T07:39:56.451Z"
   },
   {
    "duration": 11,
    "start_time": "2022-05-27T07:39:56.473Z"
   },
   {
    "duration": 6,
    "start_time": "2022-05-27T07:41:04.105Z"
   },
   {
    "duration": 9,
    "start_time": "2022-05-27T07:41:12.217Z"
   },
   {
    "duration": 474,
    "start_time": "2022-05-27T07:42:02.315Z"
   },
   {
    "duration": 5,
    "start_time": "2022-05-27T07:43:25.782Z"
   },
   {
    "duration": 1018,
    "start_time": "2022-05-27T07:44:44.759Z"
   },
   {
    "duration": 171,
    "start_time": "2022-05-27T07:45:10.697Z"
   },
   {
    "duration": 3,
    "start_time": "2022-05-27T07:45:28.953Z"
   },
   {
    "duration": 1759,
    "start_time": "2022-05-27T07:45:33.307Z"
   },
   {
    "duration": 5,
    "start_time": "2022-05-27T07:47:33.544Z"
   },
   {
    "duration": 6,
    "start_time": "2022-05-27T07:47:44.258Z"
   },
   {
    "duration": 4,
    "start_time": "2022-05-27T07:47:58.241Z"
   },
   {
    "duration": 709,
    "start_time": "2022-05-27T07:53:04.429Z"
   },
   {
    "duration": 32,
    "start_time": "2022-05-27T07:53:05.140Z"
   },
   {
    "duration": 30,
    "start_time": "2022-05-27T07:53:05.173Z"
   },
   {
    "duration": 12,
    "start_time": "2022-05-27T07:53:05.205Z"
   },
   {
    "duration": 9,
    "start_time": "2022-05-27T07:53:05.219Z"
   },
   {
    "duration": 3,
    "start_time": "2022-05-27T07:53:05.229Z"
   },
   {
    "duration": 64,
    "start_time": "2022-05-27T07:53:05.234Z"
   },
   {
    "duration": 10,
    "start_time": "2022-05-27T07:53:05.300Z"
   },
   {
    "duration": 6,
    "start_time": "2022-05-27T07:53:05.311Z"
   },
   {
    "duration": 6,
    "start_time": "2022-05-27T07:53:05.319Z"
   },
   {
    "duration": 17,
    "start_time": "2022-05-27T07:53:05.327Z"
   },
   {
    "duration": 31,
    "start_time": "2022-05-27T07:53:05.346Z"
   },
   {
    "duration": 19298,
    "start_time": "2022-05-27T07:53:05.381Z"
   },
   {
    "duration": 4,
    "start_time": "2022-05-27T07:53:24.681Z"
   },
   {
    "duration": 745,
    "start_time": "2022-05-27T07:53:27.205Z"
   },
   {
    "duration": 41,
    "start_time": "2022-05-27T07:53:27.952Z"
   },
   {
    "duration": 18,
    "start_time": "2022-05-27T07:53:27.994Z"
   },
   {
    "duration": 15,
    "start_time": "2022-05-27T07:53:28.013Z"
   },
   {
    "duration": 9,
    "start_time": "2022-05-27T07:53:28.031Z"
   },
   {
    "duration": 5,
    "start_time": "2022-05-27T07:53:28.042Z"
   },
   {
    "duration": 62,
    "start_time": "2022-05-27T07:53:28.048Z"
   },
   {
    "duration": 10,
    "start_time": "2022-05-27T07:53:28.112Z"
   },
   {
    "duration": 13,
    "start_time": "2022-05-27T07:53:28.124Z"
   },
   {
    "duration": 10,
    "start_time": "2022-05-27T07:53:28.139Z"
   },
   {
    "duration": 41,
    "start_time": "2022-05-27T07:53:28.150Z"
   },
   {
    "duration": 34,
    "start_time": "2022-05-27T07:53:28.194Z"
   },
   {
    "duration": 7,
    "start_time": "2022-05-27T07:53:28.229Z"
   },
   {
    "duration": 8,
    "start_time": "2022-05-27T07:53:28.239Z"
   },
   {
    "duration": 580,
    "start_time": "2022-05-27T07:54:13.585Z"
   },
   {
    "duration": 164,
    "start_time": "2022-05-27T07:54:56.003Z"
   },
   {
    "duration": 5764,
    "start_time": "2022-05-27T07:58:06.795Z"
   },
   {
    "duration": 564,
    "start_time": "2022-05-27T07:58:31.215Z"
   },
   {
    "duration": 1220,
    "start_time": "2022-05-27T08:00:00.972Z"
   },
   {
    "duration": 35,
    "start_time": "2022-05-27T08:00:02.197Z"
   },
   {
    "duration": 17,
    "start_time": "2022-05-27T08:00:02.234Z"
   },
   {
    "duration": 28,
    "start_time": "2022-05-27T08:00:02.254Z"
   },
   {
    "duration": 41,
    "start_time": "2022-05-27T08:00:02.284Z"
   },
   {
    "duration": 32,
    "start_time": "2022-05-27T08:00:02.326Z"
   },
   {
    "duration": 92,
    "start_time": "2022-05-27T08:00:02.361Z"
   },
   {
    "duration": 10,
    "start_time": "2022-05-27T08:00:02.455Z"
   },
   {
    "duration": 61,
    "start_time": "2022-05-27T08:00:02.466Z"
   },
   {
    "duration": 64,
    "start_time": "2022-05-27T08:00:02.530Z"
   },
   {
    "duration": 38,
    "start_time": "2022-05-27T08:00:02.596Z"
   },
   {
    "duration": 63,
    "start_time": "2022-05-27T08:00:02.636Z"
   },
   {
    "duration": 8,
    "start_time": "2022-05-27T08:00:02.701Z"
   },
   {
    "duration": 289,
    "start_time": "2022-05-27T08:00:02.711Z"
   },
   {
    "duration": 6,
    "start_time": "2022-05-27T08:00:03.006Z"
   },
   {
    "duration": 189,
    "start_time": "2022-05-27T08:01:37.413Z"
   },
   {
    "duration": 200,
    "start_time": "2022-05-27T08:01:58.594Z"
   },
   {
    "duration": 239,
    "start_time": "2022-05-27T08:02:19.666Z"
   },
   {
    "duration": 1435,
    "start_time": "2022-05-27T08:04:02.971Z"
   },
   {
    "duration": 7,
    "start_time": "2022-05-27T08:05:08.064Z"
   },
   {
    "duration": 7,
    "start_time": "2022-05-27T08:05:42.846Z"
   },
   {
    "duration": 1987,
    "start_time": "2022-05-27T08:06:27.361Z"
   },
   {
    "duration": 2024,
    "start_time": "2022-05-27T08:07:32.269Z"
   },
   {
    "duration": 2014,
    "start_time": "2022-05-27T08:07:59.785Z"
   },
   {
    "duration": 6,
    "start_time": "2022-05-27T08:09:21.288Z"
   },
   {
    "duration": 393,
    "start_time": "2022-05-27T08:13:50.268Z"
   },
   {
    "duration": 343,
    "start_time": "2022-05-27T08:13:58.793Z"
   },
   {
    "duration": 695,
    "start_time": "2022-05-27T08:14:29.922Z"
   },
   {
    "duration": 589,
    "start_time": "2022-05-27T08:14:41.862Z"
   },
   {
    "duration": 6306,
    "start_time": "2022-05-27T08:15:36.045Z"
   },
   {
    "duration": 4660,
    "start_time": "2022-05-27T08:15:49.688Z"
   },
   {
    "duration": 5433,
    "start_time": "2022-05-27T08:16:27.864Z"
   },
   {
    "duration": 5501,
    "start_time": "2022-05-27T08:17:59.609Z"
   },
   {
    "duration": 5,
    "start_time": "2022-05-27T08:18:27.423Z"
   },
   {
    "duration": 118,
    "start_time": "2022-05-27T08:18:31.823Z"
   },
   {
    "duration": 5,
    "start_time": "2022-05-27T08:18:38.731Z"
   },
   {
    "duration": 5,
    "start_time": "2022-05-27T08:18:48.406Z"
   },
   {
    "duration": 4855,
    "start_time": "2022-05-27T08:19:05.736Z"
   },
   {
    "duration": 1331,
    "start_time": "2022-05-27T13:05:12.888Z"
   },
   {
    "duration": 75,
    "start_time": "2022-05-27T13:05:14.221Z"
   },
   {
    "duration": 15,
    "start_time": "2022-05-27T13:05:14.298Z"
   },
   {
    "duration": 13,
    "start_time": "2022-05-27T13:05:14.315Z"
   },
   {
    "duration": 8,
    "start_time": "2022-05-27T13:05:14.332Z"
   },
   {
    "duration": 15,
    "start_time": "2022-05-27T13:05:14.344Z"
   },
   {
    "duration": 47,
    "start_time": "2022-05-27T13:05:14.361Z"
   },
   {
    "duration": 8,
    "start_time": "2022-05-27T13:05:14.410Z"
   },
   {
    "duration": 8,
    "start_time": "2022-05-27T13:05:14.419Z"
   },
   {
    "duration": 22,
    "start_time": "2022-05-27T13:05:14.428Z"
   },
   {
    "duration": 15,
    "start_time": "2022-05-27T13:05:14.452Z"
   },
   {
    "duration": 7,
    "start_time": "2022-05-27T13:05:14.469Z"
   },
   {
    "duration": 6,
    "start_time": "2022-05-27T13:05:14.477Z"
   },
   {
    "duration": 679,
    "start_time": "2022-05-27T13:05:14.486Z"
   },
   {
    "duration": 15612,
    "start_time": "2022-05-27T13:05:15.166Z"
   },
   {
    "duration": 7,
    "start_time": "2022-05-27T13:05:30.780Z"
   },
   {
    "duration": 24,
    "start_time": "2022-05-27T13:05:30.789Z"
   },
   {
    "duration": 6541,
    "start_time": "2022-05-27T13:09:05.024Z"
   },
   {
    "duration": 72,
    "start_time": "2022-05-27T13:18:50.182Z"
   },
   {
    "duration": 5729,
    "start_time": "2022-05-27T13:18:56.256Z"
   },
   {
    "duration": 8130,
    "start_time": "2022-05-27T13:23:28.027Z"
   },
   {
    "duration": 1543,
    "start_time": "2022-05-27T13:26:57.477Z"
   },
   {
    "duration": 2030,
    "start_time": "2022-05-27T13:27:44.153Z"
   },
   {
    "duration": 1293,
    "start_time": "2022-05-27T13:33:06.282Z"
   },
   {
    "duration": 883,
    "start_time": "2022-05-27T13:33:18.384Z"
   },
   {
    "duration": 79,
    "start_time": "2022-05-27T13:39:00.214Z"
   },
   {
    "duration": 84,
    "start_time": "2022-05-27T13:39:27.060Z"
   },
   {
    "duration": 192,
    "start_time": "2022-05-27T13:40:26.782Z"
   },
   {
    "duration": 1127,
    "start_time": "2022-05-27T13:41:48.424Z"
   },
   {
    "duration": 1357,
    "start_time": "2022-05-27T13:42:35.562Z"
   },
   {
    "duration": 5778,
    "start_time": "2022-05-27T13:44:33.556Z"
   },
   {
    "duration": 636,
    "start_time": "2022-05-27T13:45:05.411Z"
   },
   {
    "duration": 593,
    "start_time": "2022-05-27T13:45:16.759Z"
   },
   {
    "duration": 21,
    "start_time": "2022-05-27T13:45:29.459Z"
   },
   {
    "duration": 130,
    "start_time": "2022-05-27T13:45:32.941Z"
   },
   {
    "duration": 1104,
    "start_time": "2022-05-27T13:45:46.685Z"
   },
   {
    "duration": 31,
    "start_time": "2022-05-27T13:46:15.520Z"
   },
   {
    "duration": 33,
    "start_time": "2022-05-27T13:46:43.030Z"
   },
   {
    "duration": 2422,
    "start_time": "2022-05-27T13:46:49.883Z"
   },
   {
    "duration": 1394,
    "start_time": "2022-05-27T13:51:29.460Z"
   },
   {
    "duration": 1103,
    "start_time": "2022-05-27T13:52:12.804Z"
   },
   {
    "duration": 1368,
    "start_time": "2022-05-27T13:52:34.510Z"
   },
   {
    "duration": 1081,
    "start_time": "2022-05-27T13:53:22.808Z"
   },
   {
    "duration": 1283,
    "start_time": "2022-05-27T13:53:52.932Z"
   },
   {
    "duration": 43,
    "start_time": "2022-05-27T13:55:30.167Z"
   },
   {
    "duration": 1280,
    "start_time": "2022-05-27T13:55:34.856Z"
   },
   {
    "duration": 1499,
    "start_time": "2022-05-27T13:55:58.557Z"
   },
   {
    "duration": 1402,
    "start_time": "2022-05-27T13:56:08.175Z"
   },
   {
    "duration": 1447,
    "start_time": "2022-05-27T13:57:11.401Z"
   },
   {
    "duration": 1248,
    "start_time": "2022-05-27T13:57:22.122Z"
   },
   {
    "duration": 1618,
    "start_time": "2022-05-27T13:58:00.425Z"
   },
   {
    "duration": 1374,
    "start_time": "2022-05-27T13:58:56.109Z"
   },
   {
    "duration": 1624,
    "start_time": "2022-05-27T13:59:06.679Z"
   },
   {
    "duration": 1260,
    "start_time": "2022-05-27T13:59:14.442Z"
   },
   {
    "duration": 1391,
    "start_time": "2022-05-27T14:01:28.370Z"
   },
   {
    "duration": 1256,
    "start_time": "2022-05-27T14:01:57.298Z"
   },
   {
    "duration": 1255,
    "start_time": "2022-05-27T14:02:32.753Z"
   },
   {
    "duration": 1372,
    "start_time": "2022-05-27T14:02:42.486Z"
   },
   {
    "duration": 1539,
    "start_time": "2022-05-27T14:03:09.296Z"
   },
   {
    "duration": 1378,
    "start_time": "2022-05-27T14:06:30.773Z"
   },
   {
    "duration": 1788,
    "start_time": "2022-05-27T14:06:45.994Z"
   },
   {
    "duration": 1695,
    "start_time": "2022-05-27T14:07:41.261Z"
   },
   {
    "duration": 1947,
    "start_time": "2022-05-27T14:08:48.213Z"
   },
   {
    "duration": 9317,
    "start_time": "2022-05-27T14:11:11.906Z"
   },
   {
    "duration": 1778,
    "start_time": "2022-05-27T14:12:07.210Z"
   },
   {
    "duration": 1878,
    "start_time": "2022-05-27T14:12:41.176Z"
   },
   {
    "duration": 1530,
    "start_time": "2022-05-27T14:13:04.956Z"
   },
   {
    "duration": 1199,
    "start_time": "2022-05-27T14:13:20.448Z"
   },
   {
    "duration": 1249,
    "start_time": "2022-05-27T14:13:50.868Z"
   },
   {
    "duration": 1407,
    "start_time": "2022-05-27T14:17:45.560Z"
   },
   {
    "duration": 1215,
    "start_time": "2022-05-27T14:17:48.502Z"
   },
   {
    "duration": 1384,
    "start_time": "2022-05-27T14:18:07.753Z"
   },
   {
    "duration": 1741,
    "start_time": "2022-05-27T14:18:23.723Z"
   },
   {
    "duration": 1404,
    "start_time": "2022-05-27T14:18:34.014Z"
   },
   {
    "duration": 2267,
    "start_time": "2022-05-27T14:18:39.341Z"
   },
   {
    "duration": 1192,
    "start_time": "2022-05-27T14:20:09.057Z"
   },
   {
    "duration": 43216,
    "start_time": "2022-05-27T14:20:32.522Z"
   },
   {
    "duration": 3331,
    "start_time": "2022-05-27T14:21:46.603Z"
   },
   {
    "duration": 7,
    "start_time": "2022-05-27T14:22:58.616Z"
   },
   {
    "duration": 1289,
    "start_time": "2022-05-27T14:24:24.809Z"
   },
   {
    "duration": 45184,
    "start_time": "2022-05-27T14:25:00.159Z"
   },
   {
    "duration": 3212,
    "start_time": "2022-05-27T14:34:45.979Z"
   },
   {
    "duration": 2242,
    "start_time": "2022-05-27T14:35:40.406Z"
   },
   {
    "duration": 1275,
    "start_time": "2022-05-27T14:36:13.438Z"
   },
   {
    "duration": 2077,
    "start_time": "2022-05-27T14:36:32.325Z"
   },
   {
    "duration": 1899,
    "start_time": "2022-05-27T14:37:58.091Z"
   },
   {
    "duration": 1962,
    "start_time": "2022-05-27T14:39:38.942Z"
   },
   {
    "duration": 2041,
    "start_time": "2022-05-27T14:41:02.260Z"
   },
   {
    "duration": 2162,
    "start_time": "2022-05-27T14:41:47.503Z"
   },
   {
    "duration": 2086,
    "start_time": "2022-05-27T14:42:12.167Z"
   },
   {
    "duration": 1438,
    "start_time": "2022-05-27T14:44:43.457Z"
   },
   {
    "duration": 1483,
    "start_time": "2022-05-27T14:44:59.405Z"
   },
   {
    "duration": 1633,
    "start_time": "2022-05-27T14:45:30.260Z"
   },
   {
    "duration": 30,
    "start_time": "2022-05-27T14:47:08.267Z"
   },
   {
    "duration": 1532,
    "start_time": "2022-05-27T14:47:12.012Z"
   },
   {
    "duration": 1509,
    "start_time": "2022-05-27T14:48:41.060Z"
   },
   {
    "duration": 1562,
    "start_time": "2022-05-27T14:49:54.986Z"
   },
   {
    "duration": 1564,
    "start_time": "2022-05-27T14:50:08.421Z"
   },
   {
    "duration": 1534,
    "start_time": "2022-05-27T14:50:13.433Z"
   },
   {
    "duration": 1595,
    "start_time": "2022-05-27T14:50:19.067Z"
   },
   {
    "duration": 4375,
    "start_time": "2022-05-27T14:52:23.763Z"
   },
   {
    "duration": 2250,
    "start_time": "2022-05-27T14:52:45.571Z"
   },
   {
    "duration": 1505,
    "start_time": "2022-05-27T14:54:31.665Z"
   },
   {
    "duration": 1471,
    "start_time": "2022-05-27T14:58:12.509Z"
   },
   {
    "duration": 2049,
    "start_time": "2022-05-27T15:00:22.869Z"
   },
   {
    "duration": 10,
    "start_time": "2022-05-27T15:03:04.791Z"
   },
   {
    "duration": 241,
    "start_time": "2022-05-27T15:06:09.136Z"
   },
   {
    "duration": 4,
    "start_time": "2022-05-27T15:07:00.150Z"
   },
   {
    "duration": 10,
    "start_time": "2022-05-27T15:10:04.225Z"
   },
   {
    "duration": 13,
    "start_time": "2022-05-27T15:11:52.707Z"
   },
   {
    "duration": 5,
    "start_time": "2022-05-27T15:12:08.242Z"
   },
   {
    "duration": 4,
    "start_time": "2022-05-27T15:12:34.843Z"
   },
   {
    "duration": 4,
    "start_time": "2022-05-27T15:15:49.057Z"
   },
   {
    "duration": 5,
    "start_time": "2022-05-27T15:18:01.892Z"
   },
   {
    "duration": 3,
    "start_time": "2022-05-27T15:19:38.256Z"
   },
   {
    "duration": 4,
    "start_time": "2022-05-27T15:19:39.447Z"
   },
   {
    "duration": 17,
    "start_time": "2022-05-27T15:19:50.173Z"
   },
   {
    "duration": 3,
    "start_time": "2022-05-27T15:20:13.705Z"
   },
   {
    "duration": 4,
    "start_time": "2022-05-27T15:20:18.658Z"
   },
   {
    "duration": 4,
    "start_time": "2022-05-27T15:20:30.201Z"
   },
   {
    "duration": 4,
    "start_time": "2022-05-27T15:20:36.659Z"
   },
   {
    "duration": 4,
    "start_time": "2022-05-27T15:20:46.789Z"
   },
   {
    "duration": 1238,
    "start_time": "2022-05-27T16:13:59.664Z"
   },
   {
    "duration": 42,
    "start_time": "2022-05-27T16:14:00.904Z"
   },
   {
    "duration": 15,
    "start_time": "2022-05-27T16:14:00.948Z"
   },
   {
    "duration": 12,
    "start_time": "2022-05-27T16:14:00.966Z"
   },
   {
    "duration": 12,
    "start_time": "2022-05-27T16:14:00.980Z"
   },
   {
    "duration": 24,
    "start_time": "2022-05-27T16:14:00.994Z"
   },
   {
    "duration": 69,
    "start_time": "2022-05-27T16:14:01.020Z"
   },
   {
    "duration": 24,
    "start_time": "2022-05-27T16:14:01.091Z"
   },
   {
    "duration": 46,
    "start_time": "2022-05-27T16:14:01.117Z"
   },
   {
    "duration": 49,
    "start_time": "2022-05-27T16:14:01.165Z"
   },
   {
    "duration": 72,
    "start_time": "2022-05-27T16:14:01.216Z"
   },
   {
    "duration": 31,
    "start_time": "2022-05-27T16:14:01.290Z"
   },
   {
    "duration": 172,
    "start_time": "2022-05-27T16:14:01.323Z"
   },
   {
    "duration": 2110,
    "start_time": "2022-05-27T16:14:01.497Z"
   },
   {
    "duration": 1562,
    "start_time": "2022-05-27T16:14:03.609Z"
   },
   {
    "duration": 4,
    "start_time": "2022-05-27T16:14:05.173Z"
   },
   {
    "duration": 8,
    "start_time": "2022-05-27T16:14:05.179Z"
   },
   {
    "duration": 12,
    "start_time": "2022-05-27T16:14:05.188Z"
   },
   {
    "duration": 3,
    "start_time": "2022-05-27T16:14:05.202Z"
   },
   {
    "duration": 2,
    "start_time": "2022-05-27T16:15:05.903Z"
   },
   {
    "duration": 138,
    "start_time": "2022-05-27T16:17:42.001Z"
   },
   {
    "duration": 22,
    "start_time": "2022-05-27T16:17:50.114Z"
   },
   {
    "duration": 5,
    "start_time": "2022-05-27T16:17:59.521Z"
   },
   {
    "duration": 14,
    "start_time": "2022-05-27T16:18:35.256Z"
   },
   {
    "duration": 12,
    "start_time": "2022-05-27T16:18:38.326Z"
   },
   {
    "duration": 15,
    "start_time": "2022-05-27T16:28:48.717Z"
   },
   {
    "duration": 29,
    "start_time": "2022-05-27T16:31:09.501Z"
   },
   {
    "duration": 3,
    "start_time": "2022-05-27T16:32:06.624Z"
   },
   {
    "duration": 12,
    "start_time": "2022-05-27T16:33:02.305Z"
   },
   {
    "duration": 10,
    "start_time": "2022-05-27T16:33:09.605Z"
   },
   {
    "duration": 148,
    "start_time": "2022-05-27T16:33:15.378Z"
   },
   {
    "duration": 137,
    "start_time": "2022-05-27T16:33:17.049Z"
   },
   {
    "duration": 37,
    "start_time": "2022-05-27T16:55:20.090Z"
   },
   {
    "duration": 4,
    "start_time": "2022-05-27T16:55:39.224Z"
   },
   {
    "duration": 9,
    "start_time": "2022-05-27T17:05:57.960Z"
   },
   {
    "duration": 6,
    "start_time": "2022-05-27T17:06:01.506Z"
   },
   {
    "duration": 9,
    "start_time": "2022-05-27T17:06:04.169Z"
   },
   {
    "duration": 9,
    "start_time": "2022-05-27T17:06:10.389Z"
   },
   {
    "duration": 9,
    "start_time": "2022-05-27T17:06:19.001Z"
   },
   {
    "duration": 225,
    "start_time": "2022-05-27T17:07:38.503Z"
   },
   {
    "duration": 395,
    "start_time": "2022-05-27T17:09:57.108Z"
   },
   {
    "duration": 312,
    "start_time": "2022-05-27T17:10:32.532Z"
   },
   {
    "duration": 15,
    "start_time": "2022-05-27T17:11:25.300Z"
   },
   {
    "duration": 2566,
    "start_time": "2022-05-27T17:15:53.870Z"
   },
   {
    "duration": 4,
    "start_time": "2022-05-27T17:16:08.705Z"
   },
   {
    "duration": 2064,
    "start_time": "2022-05-27T17:16:10.469Z"
   },
   {
    "duration": 4,
    "start_time": "2022-05-27T17:16:47.594Z"
   },
   {
    "duration": 2265,
    "start_time": "2022-05-27T17:16:49.973Z"
   },
   {
    "duration": 305,
    "start_time": "2022-05-27T17:21:50.542Z"
   },
   {
    "duration": 678,
    "start_time": "2022-05-27T17:22:15.453Z"
   },
   {
    "duration": 393,
    "start_time": "2022-05-27T17:23:46.552Z"
   },
   {
    "duration": 203,
    "start_time": "2022-05-27T17:24:03.138Z"
   },
   {
    "duration": 312,
    "start_time": "2022-05-27T17:24:08.421Z"
   },
   {
    "duration": 7,
    "start_time": "2022-05-27T17:24:15.841Z"
   },
   {
    "duration": 3,
    "start_time": "2022-05-27T17:25:52.142Z"
   },
   {
    "duration": 6,
    "start_time": "2022-05-27T17:26:55.780Z"
   },
   {
    "duration": 4,
    "start_time": "2022-05-27T17:28:30.149Z"
   },
   {
    "duration": 2348,
    "start_time": "2022-05-27T17:28:33.288Z"
   },
   {
    "duration": 12,
    "start_time": "2022-05-27T17:31:35.392Z"
   },
   {
    "duration": 3,
    "start_time": "2022-05-27T17:32:38.473Z"
   },
   {
    "duration": 154,
    "start_time": "2022-05-27T17:32:47.474Z"
   },
   {
    "duration": 14,
    "start_time": "2022-05-27T17:33:54.496Z"
   },
   {
    "duration": 5,
    "start_time": "2022-05-27T17:34:34.074Z"
   },
   {
    "duration": 133,
    "start_time": "2022-05-27T17:34:35.910Z"
   },
   {
    "duration": 4,
    "start_time": "2022-05-27T17:35:08.566Z"
   },
   {
    "duration": 71,
    "start_time": "2022-05-27T17:35:11.668Z"
   },
   {
    "duration": 37,
    "start_time": "2022-05-27T17:36:05.654Z"
   },
   {
    "duration": 4,
    "start_time": "2022-05-27T17:36:13.411Z"
   },
   {
    "duration": 44,
    "start_time": "2022-05-27T17:36:20.794Z"
   },
   {
    "duration": 14,
    "start_time": "2022-05-27T17:36:43.823Z"
   },
   {
    "duration": 118,
    "start_time": "2022-05-27T17:36:45.513Z"
   },
   {
    "duration": 377,
    "start_time": "2022-05-27T17:38:12.864Z"
   },
   {
    "duration": 74,
    "start_time": "2022-05-27T17:38:32.059Z"
   },
   {
    "duration": 377,
    "start_time": "2022-05-27T17:38:38.963Z"
   },
   {
    "duration": 13,
    "start_time": "2022-05-27T17:39:24.624Z"
   },
   {
    "duration": 6,
    "start_time": "2022-05-27T17:39:28.730Z"
   },
   {
    "duration": 32,
    "start_time": "2022-05-27T17:39:30.403Z"
   },
   {
    "duration": 4,
    "start_time": "2022-05-27T17:39:36.758Z"
   },
   {
    "duration": 22,
    "start_time": "2022-05-27T17:39:38.289Z"
   },
   {
    "duration": 4,
    "start_time": "2022-05-27T17:39:47.111Z"
   },
   {
    "duration": 4,
    "start_time": "2022-05-27T17:39:51.666Z"
   },
   {
    "duration": 102,
    "start_time": "2022-05-27T17:39:53.427Z"
   },
   {
    "duration": 378,
    "start_time": "2022-05-27T17:39:58.695Z"
   },
   {
    "duration": 4,
    "start_time": "2022-05-27T17:53:49.330Z"
   },
   {
    "duration": 59,
    "start_time": "2022-05-27T17:53:54.771Z"
   },
   {
    "duration": 357,
    "start_time": "2022-05-27T17:53:58.077Z"
   },
   {
    "duration": 4,
    "start_time": "2022-05-27T17:56:07.271Z"
   },
   {
    "duration": 134,
    "start_time": "2022-05-27T17:56:09.094Z"
   },
   {
    "duration": 5,
    "start_time": "2022-05-27T18:18:47.868Z"
   },
   {
    "duration": 165,
    "start_time": "2022-05-27T18:18:49.862Z"
   },
   {
    "duration": 369,
    "start_time": "2022-05-27T18:18:51.966Z"
   },
   {
    "duration": 47,
    "start_time": "2022-05-27T18:43:39.888Z"
   },
   {
    "duration": 371,
    "start_time": "2022-05-27T18:43:48.309Z"
   },
   {
    "duration": 10,
    "start_time": "2022-05-27T18:44:12.976Z"
   },
   {
    "duration": 10,
    "start_time": "2022-05-27T19:56:35.357Z"
   },
   {
    "duration": 3,
    "start_time": "2022-05-27T19:58:27.240Z"
   },
   {
    "duration": 509,
    "start_time": "2022-05-27T19:59:24.064Z"
   },
   {
    "duration": 6,
    "start_time": "2022-05-27T19:59:29.486Z"
   },
   {
    "duration": 106527,
    "start_time": "2022-05-27T20:02:13.124Z"
   },
   {
    "duration": 113,
    "start_time": "2022-05-27T20:06:04.340Z"
   },
   {
    "duration": 123,
    "start_time": "2022-05-27T20:06:15.294Z"
   },
   {
    "duration": 137,
    "start_time": "2022-05-27T20:08:00.375Z"
   },
   {
    "duration": 87,
    "start_time": "2022-05-27T20:09:30.044Z"
   },
   {
    "duration": 4632,
    "start_time": "2022-05-27T20:12:14.084Z"
   },
   {
    "duration": 4506,
    "start_time": "2022-05-27T20:12:38.204Z"
   },
   {
    "duration": 329,
    "start_time": "2022-05-27T20:14:34.336Z"
   },
   {
    "duration": 4,
    "start_time": "2022-05-27T20:15:12.792Z"
   },
   {
    "duration": 1201,
    "start_time": "2022-05-27T20:18:45.030Z"
   },
   {
    "duration": 3,
    "start_time": "2022-05-27T20:18:56.555Z"
   },
   {
    "duration": 9,
    "start_time": "2022-05-27T20:19:09.648Z"
   },
   {
    "duration": 9,
    "start_time": "2022-05-27T20:19:17.601Z"
   },
   {
    "duration": 3,
    "start_time": "2022-05-27T20:19:27.647Z"
   },
   {
    "duration": 3,
    "start_time": "2022-05-27T20:20:09.652Z"
   },
   {
    "duration": 7,
    "start_time": "2022-05-27T20:20:20.735Z"
   },
   {
    "duration": 14,
    "start_time": "2022-05-27T20:21:12.378Z"
   },
   {
    "duration": 12,
    "start_time": "2022-05-27T20:23:18.013Z"
   },
   {
    "duration": 55,
    "start_time": "2022-05-27T20:23:38.343Z"
   },
   {
    "duration": 24,
    "start_time": "2022-05-27T20:24:09.967Z"
   },
   {
    "duration": 24,
    "start_time": "2022-05-27T20:24:44.513Z"
   },
   {
    "duration": 29,
    "start_time": "2022-05-27T20:24:51.194Z"
   },
   {
    "duration": 17,
    "start_time": "2022-05-27T20:25:01.169Z"
   },
   {
    "duration": 30,
    "start_time": "2022-05-27T20:26:07.814Z"
   },
   {
    "duration": 19,
    "start_time": "2022-05-27T20:27:02.944Z"
   },
   {
    "duration": 27,
    "start_time": "2022-05-27T20:27:09.144Z"
   },
   {
    "duration": 370,
    "start_time": "2022-05-27T20:28:27.725Z"
   },
   {
    "duration": 13,
    "start_time": "2022-05-27T20:31:12.360Z"
   },
   {
    "duration": 956,
    "start_time": "2022-05-27T20:32:21.158Z"
   },
   {
    "duration": 1238,
    "start_time": "2022-05-27T20:32:47.362Z"
   },
   {
    "duration": 13842,
    "start_time": "2022-05-27T20:34:34.601Z"
   },
   {
    "duration": 810,
    "start_time": "2022-05-27T20:35:35.500Z"
   },
   {
    "duration": 14561,
    "start_time": "2022-05-27T20:35:46.317Z"
   },
   {
    "duration": 27,
    "start_time": "2022-05-27T20:37:07.780Z"
   },
   {
    "duration": 835,
    "start_time": "2022-05-27T20:37:14.297Z"
   },
   {
    "duration": 833,
    "start_time": "2022-05-27T20:37:28.125Z"
   },
   {
    "duration": 842,
    "start_time": "2022-05-27T20:37:35.757Z"
   },
   {
    "duration": 1016,
    "start_time": "2022-05-27T20:37:54.868Z"
   },
   {
    "duration": 1034,
    "start_time": "2022-05-27T20:39:19.227Z"
   },
   {
    "duration": 1492,
    "start_time": "2022-05-27T20:39:27.508Z"
   },
   {
    "duration": 1048,
    "start_time": "2022-05-27T20:39:51.159Z"
   },
   {
    "duration": 1219,
    "start_time": "2022-05-27T20:40:35.067Z"
   },
   {
    "duration": 1436,
    "start_time": "2022-05-27T20:40:40.990Z"
   },
   {
    "duration": 1136,
    "start_time": "2022-05-27T20:42:07.076Z"
   },
   {
    "duration": 1367,
    "start_time": "2022-05-27T20:44:28.733Z"
   },
   {
    "duration": 5,
    "start_time": "2022-05-27T20:44:55.104Z"
   },
   {
    "duration": 13,
    "start_time": "2022-05-27T21:44:03.085Z"
   },
   {
    "duration": 14,
    "start_time": "2022-05-27T21:44:47.242Z"
   },
   {
    "duration": 1278,
    "start_time": "2022-05-27T21:45:01.249Z"
   },
   {
    "duration": 33,
    "start_time": "2022-05-27T21:45:02.529Z"
   },
   {
    "duration": 15,
    "start_time": "2022-05-27T21:45:02.563Z"
   },
   {
    "duration": 11,
    "start_time": "2022-05-27T21:45:02.580Z"
   },
   {
    "duration": 7,
    "start_time": "2022-05-27T21:45:02.593Z"
   },
   {
    "duration": 4,
    "start_time": "2022-05-27T21:45:02.601Z"
   },
   {
    "duration": 49,
    "start_time": "2022-05-27T21:45:02.606Z"
   },
   {
    "duration": 9,
    "start_time": "2022-05-27T21:45:02.656Z"
   },
   {
    "duration": 9,
    "start_time": "2022-05-27T21:45:02.666Z"
   },
   {
    "duration": 4,
    "start_time": "2022-05-27T21:45:02.677Z"
   },
   {
    "duration": 12,
    "start_time": "2022-05-27T21:45:02.683Z"
   },
   {
    "duration": 6,
    "start_time": "2022-05-27T21:45:02.697Z"
   },
   {
    "duration": 142,
    "start_time": "2022-05-27T21:45:02.727Z"
   },
   {
    "duration": 1864,
    "start_time": "2022-05-27T21:45:02.871Z"
   },
   {
    "duration": 1590,
    "start_time": "2022-05-27T21:45:04.737Z"
   },
   {
    "duration": 3,
    "start_time": "2022-05-27T21:45:06.329Z"
   },
   {
    "duration": 10,
    "start_time": "2022-05-27T21:45:06.334Z"
   },
   {
    "duration": 5,
    "start_time": "2022-05-27T21:45:06.346Z"
   },
   {
    "duration": 175,
    "start_time": "2022-05-27T21:45:06.352Z"
   },
   {
    "duration": 393,
    "start_time": "2022-05-27T21:45:06.529Z"
   },
   {
    "duration": 565,
    "start_time": "2022-05-27T21:45:06.924Z"
   },
   {
    "duration": 4608,
    "start_time": "2022-05-27T21:45:07.491Z"
   },
   {
    "duration": 1226,
    "start_time": "2022-05-27T21:45:12.101Z"
   },
   {
    "duration": 98,
    "start_time": "2022-05-27T21:45:13.329Z"
   },
   {
    "duration": 61,
    "start_time": "2022-05-27T21:45:13.428Z"
   },
   {
    "duration": 1183,
    "start_time": "2022-05-27T21:45:13.491Z"
   },
   {
    "duration": 1119,
    "start_time": "2022-05-27T21:45:14.676Z"
   },
   {
    "duration": 0,
    "start_time": "2022-05-27T21:45:15.797Z"
   },
   {
    "duration": 971,
    "start_time": "2022-05-27T21:47:35.449Z"
   },
   {
    "duration": 16056,
    "start_time": "2022-05-27T21:47:52.690Z"
   },
   {
    "duration": 14480,
    "start_time": "2022-05-27T21:48:34.529Z"
   },
   {
    "duration": 1282,
    "start_time": "2022-05-27T21:48:56.453Z"
   },
   {
    "duration": 34,
    "start_time": "2022-05-27T21:48:57.738Z"
   },
   {
    "duration": 13,
    "start_time": "2022-05-27T21:48:57.774Z"
   },
   {
    "duration": 11,
    "start_time": "2022-05-27T21:48:57.788Z"
   },
   {
    "duration": 10,
    "start_time": "2022-05-27T21:48:57.801Z"
   },
   {
    "duration": 2,
    "start_time": "2022-05-27T21:48:57.813Z"
   },
   {
    "duration": 41,
    "start_time": "2022-05-27T21:48:57.817Z"
   },
   {
    "duration": 9,
    "start_time": "2022-05-27T21:48:57.859Z"
   },
   {
    "duration": 6,
    "start_time": "2022-05-27T21:48:57.869Z"
   },
   {
    "duration": 5,
    "start_time": "2022-05-27T21:48:57.876Z"
   },
   {
    "duration": 16,
    "start_time": "2022-05-27T21:48:57.883Z"
   },
   {
    "duration": 6,
    "start_time": "2022-05-27T21:48:57.900Z"
   },
   {
    "duration": 149,
    "start_time": "2022-05-27T21:48:57.927Z"
   },
   {
    "duration": 1933,
    "start_time": "2022-05-27T21:48:58.078Z"
   },
   {
    "duration": 1668,
    "start_time": "2022-05-27T21:49:00.013Z"
   },
   {
    "duration": 4,
    "start_time": "2022-05-27T21:49:01.683Z"
   },
   {
    "duration": 22,
    "start_time": "2022-05-27T21:49:01.688Z"
   },
   {
    "duration": 11,
    "start_time": "2022-05-27T21:49:01.712Z"
   },
   {
    "duration": 103,
    "start_time": "2022-05-27T21:49:01.726Z"
   },
   {
    "duration": 459,
    "start_time": "2022-05-27T21:49:01.831Z"
   },
   {
    "duration": 536,
    "start_time": "2022-05-27T21:49:02.292Z"
   },
   {
    "duration": 4467,
    "start_time": "2022-05-27T21:49:02.830Z"
   },
   {
    "duration": 1029,
    "start_time": "2022-05-27T21:49:07.298Z"
   },
   {
    "duration": 4,
    "start_time": "2022-05-27T21:49:08.329Z"
   },
   {
    "duration": 96,
    "start_time": "2022-05-27T21:49:08.335Z"
   },
   {
    "duration": 1193,
    "start_time": "2022-05-27T21:49:08.433Z"
   },
   {
    "duration": 14148,
    "start_time": "2022-05-27T21:49:09.627Z"
   },
   {
    "duration": 13,
    "start_time": "2022-05-27T21:49:23.777Z"
   },
   {
    "duration": 117,
    "start_time": "2022-05-27T21:50:36.222Z"
   },
   {
    "duration": 15162,
    "start_time": "2022-05-27T21:54:37.157Z"
   },
   {
    "duration": 1277,
    "start_time": "2022-05-27T21:54:58.071Z"
   },
   {
    "duration": 37,
    "start_time": "2022-05-27T21:54:59.350Z"
   },
   {
    "duration": 17,
    "start_time": "2022-05-27T21:54:59.390Z"
   },
   {
    "duration": 11,
    "start_time": "2022-05-27T21:54:59.408Z"
   },
   {
    "duration": 7,
    "start_time": "2022-05-27T21:54:59.421Z"
   },
   {
    "duration": 3,
    "start_time": "2022-05-27T21:54:59.430Z"
   },
   {
    "duration": 55,
    "start_time": "2022-05-27T21:54:59.435Z"
   },
   {
    "duration": 9,
    "start_time": "2022-05-27T21:54:59.492Z"
   },
   {
    "duration": 17,
    "start_time": "2022-05-27T21:54:59.502Z"
   },
   {
    "duration": 13,
    "start_time": "2022-05-27T21:54:59.521Z"
   },
   {
    "duration": 18,
    "start_time": "2022-05-27T21:54:59.536Z"
   },
   {
    "duration": 21,
    "start_time": "2022-05-27T21:54:59.557Z"
   },
   {
    "duration": 145,
    "start_time": "2022-05-27T21:54:59.579Z"
   },
   {
    "duration": 2078,
    "start_time": "2022-05-27T21:54:59.727Z"
   },
   {
    "duration": 1541,
    "start_time": "2022-05-27T21:55:01.807Z"
   },
   {
    "duration": 4,
    "start_time": "2022-05-27T21:55:03.350Z"
   },
   {
    "duration": 10,
    "start_time": "2022-05-27T21:55:03.356Z"
   },
   {
    "duration": 6,
    "start_time": "2022-05-27T21:55:03.367Z"
   },
   {
    "duration": 153,
    "start_time": "2022-05-27T21:55:03.374Z"
   },
   {
    "duration": 465,
    "start_time": "2022-05-27T21:55:03.530Z"
   },
   {
    "duration": 536,
    "start_time": "2022-05-27T21:55:03.997Z"
   },
   {
    "duration": 4866,
    "start_time": "2022-05-27T21:55:04.535Z"
   },
   {
    "duration": 1326,
    "start_time": "2022-05-27T21:55:09.403Z"
   },
   {
    "duration": 5,
    "start_time": "2022-05-27T21:55:10.731Z"
   },
   {
    "duration": 65,
    "start_time": "2022-05-27T21:55:10.827Z"
   },
   {
    "duration": 1150,
    "start_time": "2022-05-27T21:55:10.894Z"
   },
   {
    "duration": 16659,
    "start_time": "2022-05-27T21:55:12.045Z"
   },
   {
    "duration": 22,
    "start_time": "2022-05-27T21:55:28.706Z"
   },
   {
    "duration": 1286,
    "start_time": "2022-05-27T21:55:46.523Z"
   },
   {
    "duration": 33,
    "start_time": "2022-05-27T21:55:47.811Z"
   },
   {
    "duration": 17,
    "start_time": "2022-05-27T21:55:47.846Z"
   },
   {
    "duration": 11,
    "start_time": "2022-05-27T21:55:47.864Z"
   },
   {
    "duration": 6,
    "start_time": "2022-05-27T21:55:47.876Z"
   },
   {
    "duration": 3,
    "start_time": "2022-05-27T21:55:47.883Z"
   },
   {
    "duration": 51,
    "start_time": "2022-05-27T21:55:47.888Z"
   },
   {
    "duration": 9,
    "start_time": "2022-05-27T21:55:47.941Z"
   },
   {
    "duration": 8,
    "start_time": "2022-05-27T21:55:47.951Z"
   },
   {
    "duration": 8,
    "start_time": "2022-05-27T21:55:47.961Z"
   },
   {
    "duration": 13,
    "start_time": "2022-05-27T21:55:47.971Z"
   },
   {
    "duration": 7,
    "start_time": "2022-05-27T21:55:47.985Z"
   },
   {
    "duration": 163,
    "start_time": "2022-05-27T21:55:47.993Z"
   },
   {
    "duration": 2070,
    "start_time": "2022-05-27T21:55:48.158Z"
   },
   {
    "duration": 1534,
    "start_time": "2022-05-27T21:55:50.230Z"
   },
   {
    "duration": 4,
    "start_time": "2022-05-27T21:55:51.765Z"
   },
   {
    "duration": 10,
    "start_time": "2022-05-27T21:55:51.771Z"
   },
   {
    "duration": 5,
    "start_time": "2022-05-27T21:55:51.782Z"
   },
   {
    "duration": 140,
    "start_time": "2022-05-27T21:55:51.789Z"
   },
   {
    "duration": 474,
    "start_time": "2022-05-27T21:55:51.930Z"
   },
   {
    "duration": 535,
    "start_time": "2022-05-27T21:55:52.406Z"
   },
   {
    "duration": 4640,
    "start_time": "2022-05-27T21:55:52.943Z"
   },
   {
    "duration": 1242,
    "start_time": "2022-05-27T21:55:57.585Z"
   },
   {
    "duration": 5,
    "start_time": "2022-05-27T21:55:58.830Z"
   },
   {
    "duration": 145,
    "start_time": "2022-05-27T21:55:58.837Z"
   },
   {
    "duration": 1061,
    "start_time": "2022-05-27T21:55:58.984Z"
   },
   {
    "duration": 14690,
    "start_time": "2022-05-27T21:56:00.047Z"
   },
   {
    "duration": 14,
    "start_time": "2022-05-27T21:56:14.740Z"
   },
   {
    "duration": 11,
    "start_time": "2022-05-27T22:01:22.594Z"
   },
   {
    "duration": 27,
    "start_time": "2022-05-27T22:02:18.684Z"
   },
   {
    "duration": 11,
    "start_time": "2022-05-27T22:02:23.438Z"
   },
   {
    "duration": 6,
    "start_time": "2022-05-27T22:04:55.695Z"
   },
   {
    "duration": 3,
    "start_time": "2022-05-27T22:13:28.137Z"
   },
   {
    "duration": 3,
    "start_time": "2022-05-27T22:15:10.190Z"
   },
   {
    "duration": 11,
    "start_time": "2022-05-27T22:15:12.062Z"
   },
   {
    "duration": 1230,
    "start_time": "2022-05-27T22:15:24.190Z"
   },
   {
    "duration": 36,
    "start_time": "2022-05-27T22:15:25.422Z"
   },
   {
    "duration": 14,
    "start_time": "2022-05-27T22:15:25.459Z"
   },
   {
    "duration": 4,
    "start_time": "2022-05-27T22:15:25.475Z"
   },
   {
    "duration": 13,
    "start_time": "2022-05-27T22:15:25.480Z"
   },
   {
    "duration": 6,
    "start_time": "2022-05-27T22:15:25.494Z"
   },
   {
    "duration": 45,
    "start_time": "2022-05-27T22:15:25.502Z"
   },
   {
    "duration": 5,
    "start_time": "2022-05-27T22:15:25.549Z"
   },
   {
    "duration": 7,
    "start_time": "2022-05-27T22:15:25.555Z"
   },
   {
    "duration": 11,
    "start_time": "2022-05-27T22:15:25.564Z"
   },
   {
    "duration": 8,
    "start_time": "2022-05-27T22:15:25.576Z"
   },
   {
    "duration": 157,
    "start_time": "2022-05-27T22:15:25.585Z"
   },
   {
    "duration": 1942,
    "start_time": "2022-05-27T22:15:25.744Z"
   },
   {
    "duration": 1443,
    "start_time": "2022-05-27T22:15:27.687Z"
   },
   {
    "duration": 4,
    "start_time": "2022-05-27T22:15:29.132Z"
   },
   {
    "duration": 16,
    "start_time": "2022-05-27T22:15:29.137Z"
   },
   {
    "duration": 4,
    "start_time": "2022-05-27T22:15:29.155Z"
   },
   {
    "duration": 166,
    "start_time": "2022-05-27T22:15:29.161Z"
   },
   {
    "duration": 437,
    "start_time": "2022-05-27T22:15:29.329Z"
   },
   {
    "duration": 555,
    "start_time": "2022-05-27T22:15:29.768Z"
   },
   {
    "duration": 4684,
    "start_time": "2022-05-27T22:15:30.327Z"
   },
   {
    "duration": 1214,
    "start_time": "2022-05-27T22:15:35.013Z"
   },
   {
    "duration": 4,
    "start_time": "2022-05-27T22:15:36.230Z"
   },
   {
    "duration": 62,
    "start_time": "2022-05-27T22:15:36.327Z"
   },
   {
    "duration": 1021,
    "start_time": "2022-05-27T22:15:36.391Z"
   },
   {
    "duration": 14249,
    "start_time": "2022-05-27T22:15:37.414Z"
   },
   {
    "duration": 14,
    "start_time": "2022-05-27T22:15:51.664Z"
   },
   {
    "duration": 42,
    "start_time": "2022-05-27T22:42:19.692Z"
   },
   {
    "duration": 65,
    "start_time": "2022-05-27T22:42:51.133Z"
   },
   {
    "duration": 58,
    "start_time": "2022-05-27T22:42:56.988Z"
   },
   {
    "duration": 58,
    "start_time": "2022-05-27T22:43:09.631Z"
   },
   {
    "duration": 39,
    "start_time": "2022-05-27T22:43:21.357Z"
   },
   {
    "duration": 13,
    "start_time": "2022-05-27T23:04:27.271Z"
   },
   {
    "duration": 20,
    "start_time": "2022-05-27T23:06:38.965Z"
   },
   {
    "duration": 13,
    "start_time": "2022-05-27T23:08:29.407Z"
   },
   {
    "duration": 13,
    "start_time": "2022-05-27T23:10:49.454Z"
   },
   {
    "duration": 13,
    "start_time": "2022-05-27T23:11:18.946Z"
   },
   {
    "duration": 14,
    "start_time": "2022-05-27T23:15:12.682Z"
   },
   {
    "duration": 16,
    "start_time": "2022-05-27T23:15:28.620Z"
   },
   {
    "duration": 2167,
    "start_time": "2022-05-27T23:29:41.622Z"
   },
   {
    "duration": 8585,
    "start_time": "2022-05-27T23:33:55.495Z"
   },
   {
    "duration": 1592,
    "start_time": "2022-05-27T23:34:22.875Z"
   },
   {
    "duration": 1946,
    "start_time": "2022-05-27T23:36:33.056Z"
   },
   {
    "duration": 2711,
    "start_time": "2022-05-27T23:38:05.564Z"
   },
   {
    "duration": 2699,
    "start_time": "2022-05-27T23:38:37.199Z"
   },
   {
    "duration": 2174,
    "start_time": "2022-05-27T23:39:37.446Z"
   },
   {
    "duration": 2190,
    "start_time": "2022-05-27T23:40:02.771Z"
   },
   {
    "duration": 2016,
    "start_time": "2022-05-27T23:40:58.927Z"
   },
   {
    "duration": 2203,
    "start_time": "2022-05-27T23:41:15.943Z"
   },
   {
    "duration": 2223,
    "start_time": "2022-05-27T23:41:47.255Z"
   },
   {
    "duration": 2335,
    "start_time": "2022-05-27T23:45:29.592Z"
   },
   {
    "duration": 2240,
    "start_time": "2022-05-27T23:45:41.997Z"
   },
   {
    "duration": 2324,
    "start_time": "2022-05-27T23:45:52.804Z"
   },
   {
    "duration": 2340,
    "start_time": "2022-05-27T23:46:00.074Z"
   },
   {
    "duration": 2286,
    "start_time": "2022-05-27T23:46:14.782Z"
   },
   {
    "duration": 2251,
    "start_time": "2022-05-28T09:33:18.754Z"
   },
   {
    "duration": 101,
    "start_time": "2022-05-28T09:33:21.008Z"
   },
   {
    "duration": 25,
    "start_time": "2022-05-28T09:33:21.113Z"
   },
   {
    "duration": 7,
    "start_time": "2022-05-28T09:33:21.141Z"
   },
   {
    "duration": 28,
    "start_time": "2022-05-28T09:33:21.151Z"
   },
   {
    "duration": 11,
    "start_time": "2022-05-28T09:33:21.182Z"
   },
   {
    "duration": 85,
    "start_time": "2022-05-28T09:33:21.196Z"
   },
   {
    "duration": 10,
    "start_time": "2022-05-28T09:33:21.283Z"
   },
   {
    "duration": 9,
    "start_time": "2022-05-28T09:33:21.296Z"
   },
   {
    "duration": 102,
    "start_time": "2022-05-28T09:33:21.308Z"
   },
   {
    "duration": 97,
    "start_time": "2022-05-28T09:33:21.412Z"
   },
   {
    "duration": 3885,
    "start_time": "2022-05-28T09:33:21.512Z"
   },
   {
    "duration": 2516,
    "start_time": "2022-05-28T09:33:25.404Z"
   },
   {
    "duration": 0,
    "start_time": "2022-05-28T09:33:27.924Z"
   },
   {
    "duration": 0,
    "start_time": "2022-05-28T09:33:27.926Z"
   },
   {
    "duration": 0,
    "start_time": "2022-05-28T09:33:27.927Z"
   },
   {
    "duration": 0,
    "start_time": "2022-05-28T09:33:27.928Z"
   },
   {
    "duration": 0,
    "start_time": "2022-05-28T09:33:27.929Z"
   },
   {
    "duration": 0,
    "start_time": "2022-05-28T09:33:27.931Z"
   },
   {
    "duration": 0,
    "start_time": "2022-05-28T09:33:27.933Z"
   },
   {
    "duration": 0,
    "start_time": "2022-05-28T09:33:27.935Z"
   },
   {
    "duration": 0,
    "start_time": "2022-05-28T09:33:27.937Z"
   },
   {
    "duration": 0,
    "start_time": "2022-05-28T09:33:27.938Z"
   },
   {
    "duration": 0,
    "start_time": "2022-05-28T09:33:27.940Z"
   },
   {
    "duration": 0,
    "start_time": "2022-05-28T09:33:27.942Z"
   },
   {
    "duration": 0,
    "start_time": "2022-05-28T09:33:27.943Z"
   },
   {
    "duration": 0,
    "start_time": "2022-05-28T09:33:27.945Z"
   },
   {
    "duration": 0,
    "start_time": "2022-05-28T09:33:27.966Z"
   },
   {
    "duration": 2870,
    "start_time": "2022-05-28T09:35:01.743Z"
   },
   {
    "duration": 2963,
    "start_time": "2022-05-28T09:36:18.687Z"
   },
   {
    "duration": 3495,
    "start_time": "2022-05-28T09:37:03.291Z"
   },
   {
    "duration": 2701,
    "start_time": "2022-05-28T09:38:56.617Z"
   },
   {
    "duration": 2580,
    "start_time": "2022-05-28T09:41:45.337Z"
   },
   {
    "duration": 3066,
    "start_time": "2022-05-28T09:55:09.954Z"
   },
   {
    "duration": 1859,
    "start_time": "2022-05-28T09:55:21.458Z"
   },
   {
    "duration": 1738,
    "start_time": "2022-05-28T09:55:26.485Z"
   },
   {
    "duration": 5,
    "start_time": "2022-05-28T09:55:28.225Z"
   },
   {
    "duration": 11,
    "start_time": "2022-05-28T09:55:28.233Z"
   },
   {
    "duration": 27,
    "start_time": "2022-05-28T09:55:28.247Z"
   },
   {
    "duration": 223,
    "start_time": "2022-05-28T09:55:28.277Z"
   },
   {
    "duration": 584,
    "start_time": "2022-05-28T09:55:28.504Z"
   },
   {
    "duration": 730,
    "start_time": "2022-05-28T09:55:29.097Z"
   },
   {
    "duration": 5961,
    "start_time": "2022-05-28T09:55:29.830Z"
   },
   {
    "duration": 1379,
    "start_time": "2022-05-28T09:55:35.793Z"
   },
   {
    "duration": 4,
    "start_time": "2022-05-28T09:55:37.179Z"
   },
   {
    "duration": 128,
    "start_time": "2022-05-28T09:55:37.186Z"
   },
   {
    "duration": 1509,
    "start_time": "2022-05-28T09:55:37.316Z"
   },
   {
    "duration": 17374,
    "start_time": "2022-05-28T09:55:38.828Z"
   },
   {
    "duration": 17,
    "start_time": "2022-05-28T09:55:56.204Z"
   },
   {
    "duration": 668,
    "start_time": "2022-05-28T11:31:06.140Z"
   },
   {
    "duration": 35,
    "start_time": "2022-05-28T12:21:07.854Z"
   },
   {
    "duration": 5,
    "start_time": "2022-05-28T12:36:48.555Z"
   },
   {
    "duration": 59,
    "start_time": "2022-05-28T12:37:03.623Z"
   },
   {
    "duration": 30,
    "start_time": "2022-05-28T12:38:17.179Z"
   },
   {
    "duration": 5,
    "start_time": "2022-05-28T12:38:36.029Z"
   },
   {
    "duration": 491,
    "start_time": "2022-05-28T12:40:31.230Z"
   },
   {
    "duration": 492,
    "start_time": "2022-05-28T12:41:43.504Z"
   },
   {
    "duration": 2130,
    "start_time": "2022-05-28T14:18:39.521Z"
   },
   {
    "duration": 101,
    "start_time": "2022-05-28T14:18:41.654Z"
   },
   {
    "duration": 40,
    "start_time": "2022-05-28T14:18:41.757Z"
   },
   {
    "duration": 32,
    "start_time": "2022-05-28T14:18:41.807Z"
   },
   {
    "duration": 30,
    "start_time": "2022-05-28T14:18:41.842Z"
   },
   {
    "duration": 61,
    "start_time": "2022-05-28T14:18:41.881Z"
   },
   {
    "duration": 60,
    "start_time": "2022-05-28T14:18:41.945Z"
   },
   {
    "duration": 33,
    "start_time": "2022-05-28T14:18:42.007Z"
   },
   {
    "duration": 11,
    "start_time": "2022-05-28T14:18:42.042Z"
   },
   {
    "duration": 103,
    "start_time": "2022-05-28T14:18:42.058Z"
   },
   {
    "duration": 87,
    "start_time": "2022-05-28T14:18:42.163Z"
   },
   {
    "duration": 3494,
    "start_time": "2022-05-28T14:18:42.252Z"
   },
   {
    "duration": 2073,
    "start_time": "2022-05-28T14:18:45.753Z"
   },
   {
    "duration": 16,
    "start_time": "2022-05-28T14:18:47.832Z"
   },
   {
    "duration": 73,
    "start_time": "2022-05-28T14:18:47.851Z"
   },
   {
    "duration": 19,
    "start_time": "2022-05-28T14:18:47.929Z"
   },
   {
    "duration": 247,
    "start_time": "2022-05-28T14:18:47.950Z"
   },
   {
    "duration": 649,
    "start_time": "2022-05-28T14:18:48.210Z"
   },
   {
    "duration": 27,
    "start_time": "2022-05-28T14:18:48.874Z"
   },
   {
    "duration": 1175,
    "start_time": "2022-05-28T14:18:48.910Z"
   },
   {
    "duration": 7333,
    "start_time": "2022-05-28T14:18:50.091Z"
   },
   {
    "duration": 1007,
    "start_time": "2022-05-28T14:18:57.426Z"
   },
   {
    "duration": 20,
    "start_time": "2022-05-28T14:18:58.475Z"
   },
   {
    "duration": 78,
    "start_time": "2022-05-28T14:18:58.506Z"
   },
   {
    "duration": 24301,
    "start_time": "2022-05-28T14:18:58.592Z"
   },
   {
    "duration": 26,
    "start_time": "2022-05-28T14:19:22.900Z"
   },
   {
    "duration": 592,
    "start_time": "2022-05-28T14:19:22.929Z"
   },
   {
    "duration": 93,
    "start_time": "2022-05-28T14:19:23.526Z"
   },
   {
    "duration": 1433,
    "start_time": "2022-05-28T14:45:16.940Z"
   },
   {
    "duration": 36,
    "start_time": "2022-05-28T14:45:18.375Z"
   },
   {
    "duration": 21,
    "start_time": "2022-05-28T14:45:18.413Z"
   },
   {
    "duration": 3,
    "start_time": "2022-05-28T14:45:18.437Z"
   },
   {
    "duration": 15,
    "start_time": "2022-05-28T14:45:18.442Z"
   },
   {
    "duration": 11,
    "start_time": "2022-05-28T14:45:18.460Z"
   },
   {
    "duration": 65,
    "start_time": "2022-05-28T14:45:18.473Z"
   },
   {
    "duration": 7,
    "start_time": "2022-05-28T14:45:18.540Z"
   },
   {
    "duration": 13,
    "start_time": "2022-05-28T14:45:18.548Z"
   },
   {
    "duration": 61,
    "start_time": "2022-05-28T14:45:18.576Z"
   },
   {
    "duration": 61,
    "start_time": "2022-05-28T14:45:18.639Z"
   },
   {
    "duration": 2558,
    "start_time": "2022-05-28T14:45:18.701Z"
   },
   {
    "duration": 1627,
    "start_time": "2022-05-28T14:45:21.261Z"
   },
   {
    "duration": 5,
    "start_time": "2022-05-28T14:45:22.890Z"
   },
   {
    "duration": 11,
    "start_time": "2022-05-28T14:45:22.897Z"
   },
   {
    "duration": 9,
    "start_time": "2022-05-28T14:45:22.910Z"
   },
   {
    "duration": 242,
    "start_time": "2022-05-28T14:45:22.925Z"
   },
   {
    "duration": 507,
    "start_time": "2022-05-28T14:45:23.169Z"
   },
   {
    "duration": 12,
    "start_time": "2022-05-28T14:45:23.682Z"
   },
   {
    "duration": 621,
    "start_time": "2022-05-28T14:45:23.696Z"
   },
   {
    "duration": 5766,
    "start_time": "2022-05-28T14:45:24.319Z"
   },
   {
    "duration": 1098,
    "start_time": "2022-05-28T14:45:30.089Z"
   },
   {
    "duration": 5,
    "start_time": "2022-05-28T14:45:31.264Z"
   },
   {
    "duration": 48,
    "start_time": "2022-05-28T14:45:31.271Z"
   },
   {
    "duration": 17103,
    "start_time": "2022-05-28T14:45:31.321Z"
   },
   {
    "duration": 16,
    "start_time": "2022-05-28T14:45:48.425Z"
   },
   {
    "duration": 530,
    "start_time": "2022-05-28T14:45:48.443Z"
   },
   {
    "duration": 2175,
    "start_time": "2022-05-29T08:26:11.997Z"
   },
   {
    "duration": 90,
    "start_time": "2022-05-29T08:26:14.175Z"
   },
   {
    "duration": 15,
    "start_time": "2022-05-29T08:26:14.266Z"
   },
   {
    "duration": 3,
    "start_time": "2022-05-29T08:26:14.283Z"
   },
   {
    "duration": 16,
    "start_time": "2022-05-29T08:26:14.288Z"
   },
   {
    "duration": 7,
    "start_time": "2022-05-29T08:26:14.306Z"
   },
   {
    "duration": 48,
    "start_time": "2022-05-29T08:26:14.315Z"
   },
   {
    "duration": 5,
    "start_time": "2022-05-29T08:26:14.365Z"
   },
   {
    "duration": 9,
    "start_time": "2022-05-29T08:26:14.372Z"
   },
   {
    "duration": 62,
    "start_time": "2022-05-29T08:26:14.384Z"
   },
   {
    "duration": 49,
    "start_time": "2022-05-29T08:26:14.448Z"
   },
   {
    "duration": 2252,
    "start_time": "2022-05-29T08:26:14.499Z"
   },
   {
    "duration": 1577,
    "start_time": "2022-05-29T08:26:16.753Z"
   },
   {
    "duration": 5,
    "start_time": "2022-05-29T08:26:18.339Z"
   },
   {
    "duration": 11,
    "start_time": "2022-05-29T08:26:18.345Z"
   },
   {
    "duration": 6,
    "start_time": "2022-05-29T08:26:18.358Z"
   },
   {
    "duration": 184,
    "start_time": "2022-05-29T08:26:18.365Z"
   },
   {
    "duration": 491,
    "start_time": "2022-05-29T08:26:18.551Z"
   },
   {
    "duration": 9,
    "start_time": "2022-05-29T08:26:19.045Z"
   },
   {
    "duration": 646,
    "start_time": "2022-05-29T08:26:19.056Z"
   },
   {
    "duration": 5321,
    "start_time": "2022-05-29T08:26:19.704Z"
   },
   {
    "duration": 1507,
    "start_time": "2022-05-29T08:26:25.027Z"
   },
   {
    "duration": 10,
    "start_time": "2022-05-29T08:26:26.540Z"
   },
   {
    "duration": 97,
    "start_time": "2022-05-29T08:26:26.557Z"
   },
   {
    "duration": 16095,
    "start_time": "2022-05-29T08:26:26.656Z"
   },
   {
    "duration": 20,
    "start_time": "2022-05-29T08:26:42.753Z"
   },
   {
    "duration": 477,
    "start_time": "2022-05-29T08:26:42.775Z"
   },
   {
    "duration": 1425,
    "start_time": "2022-05-29T15:36:51.574Z"
   },
   {
    "duration": 66,
    "start_time": "2022-05-29T15:36:53.001Z"
   },
   {
    "duration": 15,
    "start_time": "2022-05-29T15:36:53.069Z"
   },
   {
    "duration": 7,
    "start_time": "2022-05-29T15:36:53.086Z"
   },
   {
    "duration": 14,
    "start_time": "2022-05-29T15:36:53.095Z"
   },
   {
    "duration": 7,
    "start_time": "2022-05-29T15:36:53.111Z"
   },
   {
    "duration": 52,
    "start_time": "2022-05-29T15:36:53.120Z"
   },
   {
    "duration": 5,
    "start_time": "2022-05-29T15:36:53.173Z"
   },
   {
    "duration": 8,
    "start_time": "2022-05-29T15:36:53.180Z"
   },
   {
    "duration": 48,
    "start_time": "2022-05-29T15:36:53.191Z"
   },
   {
    "duration": 57,
    "start_time": "2022-05-29T15:36:53.241Z"
   },
   {
    "duration": 2157,
    "start_time": "2022-05-29T15:36:53.299Z"
   },
   {
    "duration": 1419,
    "start_time": "2022-05-29T15:36:55.458Z"
   },
   {
    "duration": 3,
    "start_time": "2022-05-29T15:36:56.879Z"
   },
   {
    "duration": 14,
    "start_time": "2022-05-29T15:36:56.884Z"
   },
   {
    "duration": 4,
    "start_time": "2022-05-29T15:36:56.900Z"
   },
   {
    "duration": 156,
    "start_time": "2022-05-29T15:36:56.906Z"
   },
   {
    "duration": 378,
    "start_time": "2022-05-29T15:36:57.152Z"
   },
   {
    "duration": 7,
    "start_time": "2022-05-29T15:36:57.532Z"
   },
   {
    "duration": 580,
    "start_time": "2022-05-29T15:36:57.540Z"
   },
   {
    "duration": 5157,
    "start_time": "2022-05-29T15:36:58.121Z"
   },
   {
    "duration": 1476,
    "start_time": "2022-05-29T15:37:03.280Z"
   },
   {
    "duration": 3,
    "start_time": "2022-05-29T15:37:04.758Z"
   },
   {
    "duration": 33,
    "start_time": "2022-05-29T15:37:04.763Z"
   },
   {
    "duration": 14947,
    "start_time": "2022-05-29T15:37:04.797Z"
   },
   {
    "duration": 16,
    "start_time": "2022-05-29T15:37:19.746Z"
   },
   {
    "duration": 564,
    "start_time": "2022-05-29T15:37:19.763Z"
   },
   {
    "duration": 1312,
    "start_time": "2022-05-29T15:44:11.925Z"
   },
   {
    "duration": 29,
    "start_time": "2022-05-29T15:44:13.240Z"
   },
   {
    "duration": 14,
    "start_time": "2022-05-29T15:44:13.271Z"
   },
   {
    "duration": 3,
    "start_time": "2022-05-29T15:44:13.286Z"
   },
   {
    "duration": 14,
    "start_time": "2022-05-29T15:44:13.290Z"
   },
   {
    "duration": 6,
    "start_time": "2022-05-29T15:44:13.305Z"
   },
   {
    "duration": 49,
    "start_time": "2022-05-29T15:44:13.312Z"
   },
   {
    "duration": 4,
    "start_time": "2022-05-29T15:44:13.362Z"
   },
   {
    "duration": 5,
    "start_time": "2022-05-29T15:44:13.368Z"
   },
   {
    "duration": 37,
    "start_time": "2022-05-29T15:44:13.375Z"
   },
   {
    "duration": 64,
    "start_time": "2022-05-29T15:44:13.414Z"
   },
   {
    "duration": 2084,
    "start_time": "2022-05-29T15:44:13.480Z"
   },
   {
    "duration": 1323,
    "start_time": "2022-05-29T15:44:15.566Z"
   },
   {
    "duration": 4,
    "start_time": "2022-05-29T15:44:16.890Z"
   },
   {
    "duration": 8,
    "start_time": "2022-05-29T15:44:16.895Z"
   },
   {
    "duration": 5,
    "start_time": "2022-05-29T15:44:16.905Z"
   },
   {
    "duration": 51,
    "start_time": "2022-05-29T15:44:16.911Z"
   },
   {
    "duration": 452,
    "start_time": "2022-05-29T15:44:17.053Z"
   },
   {
    "duration": 7,
    "start_time": "2022-05-29T15:44:17.507Z"
   },
   {
    "duration": 571,
    "start_time": "2022-05-29T15:44:17.516Z"
   },
   {
    "duration": 4737,
    "start_time": "2022-05-29T15:44:18.088Z"
   },
   {
    "duration": 1229,
    "start_time": "2022-05-29T15:44:22.827Z"
   },
   {
    "duration": 4,
    "start_time": "2022-05-29T15:44:24.057Z"
   },
   {
    "duration": 33,
    "start_time": "2022-05-29T15:44:24.063Z"
   },
   {
    "duration": 14538,
    "start_time": "2022-05-29T15:44:24.098Z"
   },
   {
    "duration": 21,
    "start_time": "2022-05-29T15:44:38.637Z"
   },
   {
    "duration": 564,
    "start_time": "2022-05-29T15:44:38.660Z"
   },
   {
    "duration": 2242,
    "start_time": "2022-05-29T16:28:04.080Z"
   },
   {
    "duration": 144,
    "start_time": "2022-05-29T16:28:06.324Z"
   },
   {
    "duration": 18,
    "start_time": "2022-05-29T16:28:06.470Z"
   },
   {
    "duration": 3,
    "start_time": "2022-05-29T16:28:06.490Z"
   },
   {
    "duration": 17,
    "start_time": "2022-05-29T16:28:06.495Z"
   },
   {
    "duration": 7,
    "start_time": "2022-05-29T16:28:06.513Z"
   },
   {
    "duration": 58,
    "start_time": "2022-05-29T16:28:06.526Z"
   },
   {
    "duration": 7,
    "start_time": "2022-05-29T16:28:06.586Z"
   },
   {
    "duration": 23,
    "start_time": "2022-05-29T16:28:06.595Z"
   },
   {
    "duration": 72,
    "start_time": "2022-05-29T16:28:06.620Z"
   },
   {
    "duration": 73,
    "start_time": "2022-05-29T16:28:06.693Z"
   },
   {
    "duration": 2557,
    "start_time": "2022-05-29T16:28:06.768Z"
   },
   {
    "duration": 1563,
    "start_time": "2022-05-29T16:28:09.327Z"
   },
   {
    "duration": 4,
    "start_time": "2022-05-29T16:28:10.892Z"
   },
   {
    "duration": 14,
    "start_time": "2022-05-29T16:28:10.897Z"
   },
   {
    "duration": 5,
    "start_time": "2022-05-29T16:28:10.912Z"
   },
   {
    "duration": 213,
    "start_time": "2022-05-29T16:28:10.918Z"
   },
   {
    "duration": 429,
    "start_time": "2022-05-29T16:28:11.138Z"
   },
   {
    "duration": 7,
    "start_time": "2022-05-29T16:28:14.599Z"
   },
   {
    "duration": 1410,
    "start_time": "2022-05-29T16:28:18.051Z"
   },
   {
    "duration": 1203,
    "start_time": "2022-05-29T16:28:22.838Z"
   },
   {
    "duration": 84,
    "start_time": "2022-05-29T16:28:24.044Z"
   },
   {
    "duration": 35,
    "start_time": "2022-05-29T16:28:25.516Z"
   },
   {
    "duration": 15419,
    "start_time": "2022-05-29T16:28:27.860Z"
   },
   {
    "duration": 154,
    "start_time": "2022-05-29T16:28:57.608Z"
   },
   {
    "duration": 11897,
    "start_time": "2022-05-29T16:29:02.983Z"
   },
   {
    "duration": 12001,
    "start_time": "2022-05-29T16:29:26.088Z"
   },
   {
    "duration": 12699,
    "start_time": "2022-05-29T16:30:06.866Z"
   },
   {
    "duration": 11923,
    "start_time": "2022-05-29T16:31:07.888Z"
   },
   {
    "duration": 8908,
    "start_time": "2022-05-29T16:31:31.284Z"
   },
   {
    "duration": 4612,
    "start_time": "2022-05-29T16:31:49.605Z"
   },
   {
    "duration": 11753,
    "start_time": "2022-05-29T16:32:15.564Z"
   },
   {
    "duration": 12551,
    "start_time": "2022-05-29T16:35:56.751Z"
   },
   {
    "duration": 1516,
    "start_time": "2022-05-30T22:46:16.013Z"
   },
   {
    "duration": 74,
    "start_time": "2022-05-30T22:46:17.531Z"
   },
   {
    "duration": 14,
    "start_time": "2022-05-30T22:46:17.606Z"
   },
   {
    "duration": 3,
    "start_time": "2022-05-30T22:46:17.622Z"
   },
   {
    "duration": 19,
    "start_time": "2022-05-30T22:46:17.627Z"
   },
   {
    "duration": 6,
    "start_time": "2022-05-30T22:46:17.648Z"
   },
   {
    "duration": 44,
    "start_time": "2022-05-30T22:46:17.655Z"
   },
   {
    "duration": 5,
    "start_time": "2022-05-30T22:46:17.700Z"
   },
   {
    "duration": 3,
    "start_time": "2022-05-30T22:46:17.727Z"
   },
   {
    "duration": 54,
    "start_time": "2022-05-30T22:46:17.733Z"
   },
   {
    "duration": 71,
    "start_time": "2022-05-30T22:46:17.788Z"
   },
   {
    "duration": 2174,
    "start_time": "2022-05-30T22:46:17.861Z"
   },
   {
    "duration": 1438,
    "start_time": "2022-05-30T22:46:20.037Z"
   },
   {
    "duration": 4,
    "start_time": "2022-05-30T22:46:21.476Z"
   },
   {
    "duration": 14,
    "start_time": "2022-05-30T22:46:21.482Z"
   },
   {
    "duration": 10,
    "start_time": "2022-05-30T22:46:21.497Z"
   },
   {
    "duration": 119,
    "start_time": "2022-05-30T22:46:21.509Z"
   },
   {
    "duration": 438,
    "start_time": "2022-05-30T22:46:21.630Z"
   },
   {
    "duration": 7,
    "start_time": "2022-05-30T22:46:22.070Z"
   },
   {
    "duration": 549,
    "start_time": "2022-05-30T22:46:22.078Z"
   },
   {
    "duration": 4723,
    "start_time": "2022-05-30T22:46:22.628Z"
   },
   {
    "duration": 1082,
    "start_time": "2022-05-30T22:46:27.354Z"
   },
   {
    "duration": 3,
    "start_time": "2022-05-30T22:46:28.439Z"
   },
   {
    "duration": 35,
    "start_time": "2022-05-30T22:46:28.528Z"
   },
   {
    "duration": 14268,
    "start_time": "2022-05-30T22:46:28.564Z"
   },
   {
    "duration": 12,
    "start_time": "2022-05-30T22:46:42.834Z"
   },
   {
    "duration": 551,
    "start_time": "2022-05-30T22:46:42.848Z"
   }
  ],
  "kernelspec": {
   "display_name": "Python 3 (ipykernel)",
   "language": "python",
   "name": "python3"
  },
  "language_info": {
   "codemirror_mode": {
    "name": "ipython",
    "version": 3
   },
   "file_extension": ".py",
   "mimetype": "text/x-python",
   "name": "python",
   "nbconvert_exporter": "python",
   "pygments_lexer": "ipython3",
   "version": "3.7.8"
  },
  "toc": {
   "base_numbering": 1,
   "nav_menu": {},
   "number_sections": false,
   "sideBar": true,
   "skip_h1_title": true,
   "title_cell": "Table of Contents",
   "title_sidebar": "Contents",
   "toc_cell": true,
   "toc_position": {},
   "toc_section_display": true,
   "toc_window_display": false
  }
 },
 "nbformat": 4,
 "nbformat_minor": 2
}
